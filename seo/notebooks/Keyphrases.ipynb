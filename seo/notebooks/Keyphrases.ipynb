{
  "nbformat": 4,
  "nbformat_minor": 0,
  "metadata": {
    "colab": {
      "name": "Keyphrases",
      "provenance": []
    },
    "kernelspec": {
      "name": "python3",
      "display_name": "Python 3"
    }
  },
  "cells": [
    {
      "cell_type": "code",
      "metadata": {
        "id": "V4u-kGBFM9OF",
        "colab": {
          "base_uri": "https://localhost:8080/"
        },
        "outputId": "8dd224ba-6f0b-4d32-b07e-7e33f8dfa104"
      },
      "source": [
        "!pip install textacy beautifulsoup4 wikipedia --quiet\n",
        "!python --version"
      ],
      "execution_count": null,
      "outputs": [
        {
          "output_type": "stream",
          "text": [
            "Python 3.7.10\n"
          ],
          "name": "stdout"
        }
      ]
    },
    {
      "cell_type": "code",
      "metadata": {
        "id": "YHnNVd9tNFrQ"
      },
      "source": [
        "import re\n",
        "import requests\n",
        "import json\n",
        "import wikipedia\n",
        "import string\n",
        "import numpy as np\n",
        "import nltk\n",
        "from bs4 import BeautifulSoup\n",
        "import multiprocessing\n",
        "from random import randrange\n",
        "from collections import defaultdict\n",
        "from gensim.models.word2vec import Word2Vec\n",
        "from gensim.models.phrases import Phraser, Phrases"
      ],
      "execution_count": null,
      "outputs": []
    },
    {
      "cell_type": "code",
      "metadata": {
        "id": "ZzEeWUlATxqc"
      },
      "source": [
        "PUNCT = list(string.punctuation)\n",
        "STOP_WORDS = set([\"the\"])\n",
        "IGNORE_WORDS = {\"also\", \"not\", \"why\", \"does\", \"how\", \"many\", \"so\", \"much\", \"where\", \"when\", \"which\", \"from\", \"all\", \"am\", \"an\", \"and\", \"another\", \"any\", \"are\", \"as\", \"at\", \"be\",\n",
        "              \"been\", \"being\", \"but\", \"by\", \"came\", \"can\", \"come\", \"did\", \"do\", \"for\", \"get\", \"got\", \"has\", \"had\", \"he\",\n",
        "              \"have\", \"her\", \"here\", \"him\", \"himself\", \"his\", \"if\", \"in\", \"into\", \"is\", \"it\", \"like\", \"me\", \"my\",\n",
        "              \"of\", \"on\", \"or\", \"other\", \"our\", \"out\", \"over\", \"see\", \"still\", \"such\", \"take\", \"than\", \"that\", \"the\",\n",
        "              \"their\", \"them\", \"then\", \"there\", \"these\", \"they\", \"this\", \"those\", \"through\", \"to\", \"too\", \"up\", \"was\",\n",
        "              \"way\", \"we\", \"well\", \"while\", \"with\", \"would\", \"you\", \"your\", \"a\", \"i\", \"will\", \"com\", \"may\", \"every\",\n",
        "              \"using\", \"just\", \"need\", \"want\", \"years\", \"great\", \"good\", \"privacy\", \"next\", \"know\", \"found\", \"add\",\n",
        "              \"even\", \"use\", \"one\", \"something\", \"choice\", \"some\", \"more\", \"away\", \"really\", \"put\", \"instead\", \"start\"}"
      ],
      "execution_count": null,
      "outputs": []
    },
    {
      "cell_type": "code",
      "metadata": {
        "colab": {
          "base_uri": "https://localhost:8080/"
        },
        "id": "fuIXKYjWTjrR",
        "outputId": "9b20484c-90d6-4eb3-896f-87191fd4aeed"
      },
      "source": [
        "nltk.download('punkt', quiet=True)"
      ],
      "execution_count": null,
      "outputs": [
        {
          "output_type": "execute_result",
          "data": {
            "text/plain": [
              "True"
            ]
          },
          "metadata": {
            "tags": []
          },
          "execution_count": 470
        }
      ]
    },
    {
      "cell_type": "code",
      "metadata": {
        "colab": {
          "base_uri": "https://localhost:8080/"
        },
        "id": "wuzMoRnYTauF",
        "outputId": "843be7ca-a5ce-43f5-e1dd-2d02527bae67"
      },
      "source": [
        "cores = multiprocessing.cpu_count()\n",
        "cores"
      ],
      "execution_count": null,
      "outputs": [
        {
          "output_type": "execute_result",
          "data": {
            "text/plain": [
              "2"
            ]
          },
          "metadata": {
            "tags": []
          },
          "execution_count": 471
        }
      ]
    },
    {
      "cell_type": "code",
      "metadata": {
        "id": "4zzIyY6WV5-a"
      },
      "source": [
        "text = \"\"\"how to cook bacon in the oven.\n",
        "how to cook bacon in the oven without a rack.\n",
        "how to cook bacon in the oven without making a mess.\n",
        "how to cook bacon in the oven with foil.\n",
        "how to cook bacon in the oven uk.\n",
        "how to cook bacon in the oven without parchment paper.\n",
        "how to cook bacon in the oven on parchment paper.\n",
        "how to cook bacon in the oven on a rack.\n",
        "how to cook bacon in the oven rachael ray.\n",
        "how to cook bacon in the oven at 350.\n",
        "how to cook spaghetti squash.\n",
        "how to cook spaghetti squash in the oven.\n",
        "how to cook spaghetti squash whole.\n",
        "how to cook spaghetti squash in instant pot.\n",
        "how to cook spaghetti squash in microwave.\n",
        "how to cook spaghetti squash fast.\n",
        "how to cook spaghetti squash in air fryer.\n",
        "how to cook spaghetti squash without an oven.\n",
        "how to cook spaghetti squash in crock pot.\n",
        "how to cook spaghetti squash noodles.\n",
        "how to cook lobster tail.\n",
        "how to cook lobster tail in oven.\n",
        "how to cook lobster tail on the grill.\n",
        "how to cook lobster tail boil.\n",
        "how to cook lobster tail in air fryer.\n",
        "how to cook lobster tail from frozen.\n",
        "how to cook lobster tails from costco.\n",
        "how to cook lobster tail on stove.\n",
        "how to cook lobster tail steam.\n",
        "how to cook lobster tails for lobster rolls.\n",
        "how to cook rice.\n",
        "how to cook rice on stove.\n",
        "how to cook rice in instant pot.\n",
        "how to cook rice in a rice cooker.\n",
        "how to cook rice noodles.\n",
        "how to cook rice in microwave.\n",
        "how to cook rice in a crock pot.\n",
        "how to cook riced cauliflower.\n",
        "how to cook rice in the oven.\n",
        "how to cook rice for fried rice.\n",
        "how to cook salmon.\n",
        "how to cook salmon in the oven.\n",
        "how to cook salmon in a pan.\n",
        "how to cook salmon in air fryer.\n",
        "how to cook salmon on the grill.\n",
        "how to cook salmon with skin.\n",
        "how to cook salmon patties.\n",
        "how to cook salmon fillet in oven.\n",
        "how to cook salmon burgers.\n",
        "how to cook salmon steaks.\n",
        "how to cook scallops.\n",
        "how to cook scallops in oven.\n",
        "how to cook scallops wrapped in bacon.\n",
        "how to cook scallops on the grill.\n",
        "how to cook scallops on stove.\n",
        "how to cook scallops from frozen.\n",
        "how to cook scallops in air fryer.\n",
        "how to cook scallops for pasta.\n",
        "how to cook scallops and shrimp.\n",
        "how to cook scallops in shell.\n",
        "how to cook prime rib.\n",
        "how to cook prime rib steak.\n",
        "how to cook prime rib on the grill.\n",
        "how to cook prime rib steak in oven.\n",
        "how to cook prime rib in crock pot.\n",
        "how to cook prime rib steak on the grill.\n",
        "how to cook prime rib on a pellet grill.\n",
        "how to cook prime rib in air fryer.\n",
        "how to cook prime rib in a roaster.\n",
        "how to cook prime rib roast boneless.\n",
        "how to cook crab legs.\n",
        "how to cook crab legs in the oven.\n",
        "how to cook crab legs on the grill.\n",
        "how to cook crab legs from frozen.\n",
        "how to cook crab legs boil.\n",
        "how to cook crab legs in instant pot.\n",
        "how to cook crab legs in air fryer.\n",
        "how to cook crab legs from costco.\n",
        "how to cook crab legs and lobster tails.\n",
        "how to cook crab legs with old bay.\n",
        "how to cook salmon in the oven with foil.\n",
        "how to cook salmon in the oven at 350.\n",
        "how to cook salmon in the oven with skin.\n",
        "how to cook salmon in the oven at 400.\n",
        "how to cook salmon in the oven without foil.\n",
        "how to cook salmon in the oven from frozen.\n",
        "how to cook salmon in the oven youtube.\n",
        "how to cook salmon in the oven in a cast iron skillet.\n",
        "how to cook salmon in the oven on a cedar plank.\n",
        "how to cook filet mignon.\n",
        "how to cook filet mignon on stove.\n",
        "how to cook filet mignon on the grill.\n",
        "how to cook filet mignon in air fryer.\n",
        "how to cook filet mignon in pan.\n",
        "how to cook filet mignon wrapped in bacon.\n",
        "how to cook filet mignon roast.\n",
        "how to cook filet mignon in ninja foodi.\n",
        "how to cook filet mignon in oven only.\n",
        "how to cook filet mignon on traeger.\n",
        "how long to cook a turkey.\n",
        "how long to cook a turkey at 325.\n",
        "how long to cook a turkey at 350.\n",
        "how long to cook a turkey in the oven.\n",
        "how long to cook a turkey in a bag.\n",
        "how long to cook a turkey breast per pound.\n",
        "how long to cook a turkey breast in the oven.\n",
        "how long to cook a turkey burger.\n",
        "how long to cook a turkey in a roaster.\n",
        "how long to cook a turkey meatloaf.\"\"\""
      ],
      "execution_count": null,
      "outputs": []
    },
    {
      "cell_type": "code",
      "metadata": {
        "id": "mWt8lGbqTfGW"
      },
      "source": [
        "sentences_list = nltk.sent_tokenize(text)"
      ],
      "execution_count": null,
      "outputs": []
    },
    {
      "cell_type": "code",
      "metadata": {
        "id": "hwbTzja_Tr0e"
      },
      "source": [
        "def remove_not_valid_chars(word, include_space=True):\n",
        "  word_lowercase = word.lower()\n",
        "  if include_space:\n",
        "    return re.sub(r'[^a-zA-Z0-9- ]+', '', word_lowercase)\n",
        "  return re.sub(r'[^a-zA-Z0-9-]+', '', word_lowercase)"
      ],
      "execution_count": null,
      "outputs": []
    },
    {
      "cell_type": "code",
      "metadata": {
        "id": "gFoz8_wAT7ge"
      },
      "source": [
        "def most_frequent_words(phraser, sents, num, min_word_len=0, max_word_len=100):\n",
        "    word_freq = defaultdict(int)\n",
        "\n",
        "    for sent in phraser[sents]:\n",
        "        for i in sent:\n",
        "            l = len(i.split(\"_\"))\n",
        "            if i not in STOP_WORDS and l >= min_word_len and l <= max_word_len:\n",
        "              word_freq[i] += 1\n",
        "    \n",
        "    words = []\n",
        "    for k in sorted(word_freq, key=word_freq.get, reverse=True)[:num]:        \n",
        "      words.append(k)\n",
        "        \n",
        "    return words"
      ],
      "execution_count": null,
      "outputs": []
    },
    {
      "cell_type": "code",
      "metadata": {
        "id": "ViAJ6W2IToV4"
      },
      "source": [
        "sentences = []\n",
        "\n",
        "for sent in sentences_list:\n",
        "  clean_words = []\n",
        "  words = nltk.word_tokenize(sent)\n",
        "\n",
        "  for word in words:\n",
        "      w = remove_not_valid_chars(word, False)\n",
        "      if w and len(w) > 1 and not w.isdigit() and w not in PUNCT and w not in STOP_WORDS:\n",
        "          clean_words.append(w)\n",
        "\n",
        "  if len(clean_words) > 2:\n",
        "      sentences.append(clean_words)"
      ],
      "execution_count": null,
      "outputs": []
    },
    {
      "cell_type": "code",
      "metadata": {
        "colab": {
          "base_uri": "https://localhost:8080/"
        },
        "id": "ryEYFzAXU5gJ",
        "outputId": "533494c0-8498-42c3-ca8a-7b778fa80958"
      },
      "source": [
        "sentences[0]"
      ],
      "execution_count": null,
      "outputs": [
        {
          "output_type": "execute_result",
          "data": {
            "text/plain": [
              "['how', 'to', 'cook', 'bacon', 'in', 'oven']"
            ]
          },
          "metadata": {
            "tags": []
          },
          "execution_count": 477
        }
      ]
    },
    {
      "cell_type": "code",
      "metadata": {
        "colab": {
          "base_uri": "https://localhost:8080/"
        },
        "id": "uOJkqe4cT-pm",
        "outputId": "b0b73636-af20-4e7a-f33d-48b174ff4487"
      },
      "source": [
        "bigram = Phrases(sentences, min_count=2, threshold=1, common_terms=STOP_WORDS)\n",
        "bigram_model = Phraser(bigram)\n",
        "trigram = Phrases(bigram[sentences], min_count=2, threshold=10, common_terms=STOP_WORDS)\n",
        "trigram_model = Phraser(trigram)\n",
        "phraser = trigram_model[bigram_model[sentences]]"
      ],
      "execution_count": null,
      "outputs": [
        {
          "output_type": "stream",
          "text": [
            "/usr/local/lib/python3.7/dist-packages/gensim/models/phrases.py:598: UserWarning: For a faster implementation, use the gensim.models.phrases.Phraser class\n",
            "  warnings.warn(\"For a faster implementation, use the gensim.models.phrases.Phraser class\")\n"
          ],
          "name": "stderr"
        }
      ]
    },
    {
      "cell_type": "code",
      "metadata": {
        "colab": {
          "base_uri": "https://localhost:8080/"
        },
        "id": "FpLxQY4vUEMl",
        "outputId": "7e2228bb-de50-489b-812a-3180ce21454f"
      },
      "source": [
        "freq = most_frequent_words(trigram_model, sentences, 1000, 1)\n",
        "len(freq)"
      ],
      "execution_count": null,
      "outputs": [
        {
          "output_type": "execute_result",
          "data": {
            "text/plain": [
              "98"
            ]
          },
          "metadata": {
            "tags": []
          },
          "execution_count": 479
        }
      ]
    },
    {
      "cell_type": "code",
      "metadata": {
        "colab": {
          "base_uri": "https://localhost:8080/",
          "height": 69
        },
        "id": "O8XeOHsvbmGe",
        "outputId": "c02481cb-c7ad-488e-930f-0eae42e290c1"
      },
      "source": [
        "\"\\n\".join(freq)"
      ],
      "execution_count": null,
      "outputs": [
        {
          "output_type": "execute_result",
          "data": {
            "application/vnd.google.colaboratory.intrinsic+json": {
              "type": "string"
            },
            "text/plain": [
              "'how\\nto\\ncook\\nin_oven\\nin\\nsalmon\\ncook_bacon\\nspaghetti\\ncook_lobster\\nscallops\\nprime\\nrib\\ncrab\\nlegs\\nfilet\\nmignon\\nlong\\nturkey\\ncook_rice\\ntail\\nair\\nfryer\\non_grill\\npot\\nfrom\\nwithout\\nwith\\non\\nat\\nsquash\\nsquash_in\\nfrozen\\non_stove\\nfoil\\ninstant\\ncrock\\ntails\\nfor\\nsteak\\nrack\\nparchment\\npaper\\noven\\nmicrowave\\nnoodles\\nboil\\ncostco\\nlobster\\nrice\\npan\\nskin\\nwrapped\\nbacon\\nand\\nroaster\\nroast\\nbreast\\nmaking\\nmess\\nuk\\nrachael\\nray\\nwhole\\nfast\\nan\\nsteam\\nrolls\\ncooker\\nriced\\ncauliflower\\nfried\\npatties\\nfillet\\nburgers\\nsteaks\\npasta\\nshrimp\\nshell\\npellet\\ngrill\\nboneless\\nold\\nbay\\nyoutube\\ncast\\niron\\nskillet\\ncedar\\nplank\\nninja\\nfoodi\\nonly\\ntraeger\\nbag\\nper\\npound\\nburger\\nmeatloaf'"
            ]
          },
          "metadata": {
            "tags": []
          },
          "execution_count": 480
        }
      ]
    },
    {
      "cell_type": "code",
      "metadata": {
        "id": "jEQm-Zn1VRsF"
      },
      "source": [
        "w2v_model = Word2Vec(\n",
        "    size=200,    \n",
        "    min_count=1,\n",
        "    workers=2,    \n",
        ")"
      ],
      "execution_count": null,
      "outputs": []
    },
    {
      "cell_type": "code",
      "metadata": {
        "id": "W_npVHslVTPP"
      },
      "source": [
        "w2v_model.build_vocab(phraser)"
      ],
      "execution_count": null,
      "outputs": []
    },
    {
      "cell_type": "code",
      "metadata": {
        "colab": {
          "base_uri": "https://localhost:8080/"
        },
        "id": "99ftVFODVVHR",
        "outputId": "55af23ab-9b0d-4d8c-ed2e-6b4f01ef4da3"
      },
      "source": [
        "w2v_model.train(sentences, total_examples=w2v_model.corpus_count, epochs=50)"
      ],
      "execution_count": null,
      "outputs": [
        {
          "output_type": "execute_result",
          "data": {
            "text/plain": [
              "(13002, 37250)"
            ]
          },
          "metadata": {
            "tags": []
          },
          "execution_count": 483
        }
      ]
    },
    {
      "cell_type": "code",
      "metadata": {
        "colab": {
          "base_uri": "https://localhost:8080/"
        },
        "id": "pXuruTs1WWW0",
        "outputId": "6cdbea17-62ae-4da7-cf63-45cb1370d89c"
      },
      "source": [
        "len(w2v_model.wv.vocab)"
      ],
      "execution_count": null,
      "outputs": [
        {
          "output_type": "execute_result",
          "data": {
            "text/plain": [
              "107"
            ]
          },
          "metadata": {
            "tags": []
          },
          "execution_count": 484
        }
      ]
    },
    {
      "cell_type": "code",
      "metadata": {
        "colab": {
          "base_uri": "https://localhost:8080/"
        },
        "id": "_3MdBVWCP8B0",
        "outputId": "891d06b9-1ed7-4970-b587-584622b574eb"
      },
      "source": [
        "popular = most_frequent_words(trigram, sentences, 100, 1, 3)\n",
        "\n",
        "all_words = []\n",
        "for pop in popular:\n",
        "    all_words.append(pop)\n",
        "    if pop not in STOP_WORDS and pop not in IGNORE_WORDS and pop in w2v_model.wv:\n",
        "        w2v_words = w2v_model.wv.most_similar(pop, topn=10)\n",
        "        for w in w2v_words:\n",
        "            if w not in STOP_WORDS and w not in IGNORE_WORDS:\n",
        "                all_words.append(w[0])\n",
        "\n",
        "all_words = set(all_words)  "
      ],
      "execution_count": null,
      "outputs": [
        {
          "output_type": "stream",
          "text": [
            "/usr/local/lib/python3.7/dist-packages/gensim/models/phrases.py:598: UserWarning: For a faster implementation, use the gensim.models.phrases.Phraser class\n",
            "  warnings.warn(\"For a faster implementation, use the gensim.models.phrases.Phraser class\")\n"
          ],
          "name": "stderr"
        }
      ]
    },
    {
      "cell_type": "code",
      "metadata": {
        "colab": {
          "base_uri": "https://localhost:8080/"
        },
        "id": "bfxT8o32P8tC",
        "outputId": "2cb096b1-3a7c-4ebe-875a-abbf75b0e46c"
      },
      "source": [
        "all_words"
      ],
      "execution_count": null,
      "outputs": [
        {
          "output_type": "execute_result",
          "data": {
            "text/plain": [
              "{'air',\n",
              " 'air_fryer',\n",
              " 'an',\n",
              " 'and',\n",
              " 'at',\n",
              " 'at_how',\n",
              " 'bacon',\n",
              " 'bag',\n",
              " 'bay',\n",
              " 'boil',\n",
              " 'boneless',\n",
              " 'breast',\n",
              " 'burger',\n",
              " 'burgers',\n",
              " 'cast',\n",
              " 'cauliflower',\n",
              " 'cedar',\n",
              " 'cook',\n",
              " 'cook_bacon',\n",
              " 'cook_crab_legs',\n",
              " 'cook_filet',\n",
              " 'cook_filet_mignon',\n",
              " 'cook_lobster',\n",
              " 'cook_lobster_tail',\n",
              " 'cook_prime',\n",
              " 'cook_rice',\n",
              " 'cook_salmon',\n",
              " 'cook_spaghetti_squash',\n",
              " 'cook_spaghetti_squash_in',\n",
              " 'cooker',\n",
              " 'costco',\n",
              " 'crab',\n",
              " 'crock',\n",
              " 'fast',\n",
              " 'filet',\n",
              " 'fillet',\n",
              " 'foil',\n",
              " 'foodi',\n",
              " 'for',\n",
              " 'fried',\n",
              " 'from',\n",
              " 'from_frozen',\n",
              " 'frozen',\n",
              " 'fryer',\n",
              " 'grill',\n",
              " 'how',\n",
              " 'how_to',\n",
              " 'in',\n",
              " 'in_air_fryer',\n",
              " 'in_crock',\n",
              " 'in_instant',\n",
              " 'in_oven',\n",
              " 'instant',\n",
              " 'instant_pot',\n",
              " 'iron',\n",
              " 'legs',\n",
              " 'lobster',\n",
              " 'lobster_tails',\n",
              " 'long',\n",
              " 'long_to',\n",
              " 'making',\n",
              " 'meatloaf',\n",
              " 'mess',\n",
              " 'microwave',\n",
              " 'mignon',\n",
              " 'mignon_on',\n",
              " 'ninja',\n",
              " 'noodles',\n",
              " 'old',\n",
              " 'on',\n",
              " 'on_grill',\n",
              " 'on_stove',\n",
              " 'only',\n",
              " 'oven',\n",
              " 'oven_with',\n",
              " 'oven_without',\n",
              " 'pan',\n",
              " 'paper',\n",
              " 'parchment',\n",
              " 'pasta',\n",
              " 'patties',\n",
              " 'pellet',\n",
              " 'per',\n",
              " 'plank',\n",
              " 'pot',\n",
              " 'pound',\n",
              " 'prime',\n",
              " 'rachael',\n",
              " 'rack',\n",
              " 'ray',\n",
              " 'rib',\n",
              " 'rib_steak',\n",
              " 'rice',\n",
              " 'riced',\n",
              " 'roast',\n",
              " 'roaster',\n",
              " 'rolls',\n",
              " 'salmon',\n",
              " 'scallops',\n",
              " 'shell',\n",
              " 'shrimp',\n",
              " 'skillet',\n",
              " 'skin',\n",
              " 'spaghetti',\n",
              " 'spaghetti_squash',\n",
              " 'squash',\n",
              " 'squash_in',\n",
              " 'steak',\n",
              " 'steaks',\n",
              " 'steam',\n",
              " 'stove',\n",
              " 'tail',\n",
              " 'tails',\n",
              " 'to',\n",
              " 'to_cook',\n",
              " 'traeger',\n",
              " 'turkey',\n",
              " 'uk',\n",
              " 'whole',\n",
              " 'with',\n",
              " 'without',\n",
              " 'wrapped',\n",
              " 'youtube'}"
            ]
          },
          "metadata": {
            "tags": []
          },
          "execution_count": 486
        }
      ]
    }
  ]
}