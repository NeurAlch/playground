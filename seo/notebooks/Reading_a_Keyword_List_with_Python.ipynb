{
  "nbformat": 4,
  "nbformat_minor": 0,
  "metadata": {
    "colab": {
      "name": "Reading a Keyword List with Python",
      "provenance": []
    },
    "kernelspec": {
      "name": "python3",
      "display_name": "Python 3"
    }
  },
  "cells": [
    {
      "cell_type": "code",
      "metadata": {
        "id": "8RM_o2sLPdII"
      },
      "source": [
        "import pandas as pd"
      ],
      "execution_count": null,
      "outputs": []
    },
    {
      "cell_type": "code",
      "metadata": {
        "colab": {
          "base_uri": "https://localhost:8080/",
          "height": 887
        },
        "id": "P1HLf3DnVOWx",
        "outputId": "7ede62a1-d470-4d4a-c5de-2d685a050b5a"
      },
      "source": [
        "df = pd.read_excel('avocado-questions.xlsx')\n",
        "df.head()"
      ],
      "execution_count": null,
      "outputs": [
        {
          "output_type": "execute_result",
          "data": {
            "text/html": [
              "<div>\n",
              "<style scoped>\n",
              "    .dataframe tbody tr th:only-of-type {\n",
              "        vertical-align: middle;\n",
              "    }\n",
              "\n",
              "    .dataframe tbody tr th {\n",
              "        vertical-align: top;\n",
              "    }\n",
              "\n",
              "    .dataframe thead th {\n",
              "        text-align: right;\n",
              "    }\n",
              "</style>\n",
              "<table border=\"1\" class=\"dataframe\">\n",
              "  <thead>\n",
              "    <tr style=\"text-align: right;\">\n",
              "      <th></th>\n",
              "      <th>keyword</th>\n",
              "      <th>volume</th>\n",
              "      <th>cpc</th>\n",
              "      <th>competition</th>\n",
              "      <th>source</th>\n",
              "      <th>seed</th>\n",
              "      <th>pre</th>\n",
              "      <th>post</th>\n",
              "      <th>trend</th>\n",
              "      <th>level</th>\n",
              "      <th>sourceDomain</th>\n",
              "      <th>location</th>\n",
              "      <th>language</th>\n",
              "      <th>position</th>\n",
              "      <th>clicks</th>\n",
              "      <th>ctr</th>\n",
              "      <th>impressions</th>\n",
              "      <th>domain</th>\n",
              "      <th>currency</th>\n",
              "      <th>volumeSource</th>\n",
              "      <th>country</th>\n",
              "      <th>url</th>\n",
              "    </tr>\n",
              "  </thead>\n",
              "  <tbody>\n",
              "    <tr>\n",
              "      <th>0</th>\n",
              "      <td>how avocado tastes</td>\n",
              "      <td>10</td>\n",
              "      <td>0.000000</td>\n",
              "      <td>0.000000</td>\n",
              "      <td>google</td>\n",
              "      <td>avocado</td>\n",
              "      <td>how</td>\n",
              "      <td>NaN</td>\n",
              "      <td>2020-12: 0, 2020-11: 0, 2020-10: 0, 2020-9: 0,...</td>\n",
              "      <td>NaN</td>\n",
              "      <td>google.com</td>\n",
              "      <td>New York,United States</td>\n",
              "      <td>English</td>\n",
              "      <td>NaN</td>\n",
              "      <td>NaN</td>\n",
              "      <td>NaN</td>\n",
              "      <td>NaN</td>\n",
              "      <td>NaN</td>\n",
              "      <td>NaN</td>\n",
              "      <td>data-for-seo</td>\n",
              "      <td>US</td>\n",
              "      <td>NaN</td>\n",
              "    </tr>\n",
              "    <tr>\n",
              "      <th>1</th>\n",
              "      <td>how avocado oil is made</td>\n",
              "      <td>50</td>\n",
              "      <td>0.000000</td>\n",
              "      <td>0.000000</td>\n",
              "      <td>google</td>\n",
              "      <td>avocado</td>\n",
              "      <td>how</td>\n",
              "      <td>NaN</td>\n",
              "      <td>2020-12: 40, 2020-11: 30, 2020-10: 50, 2020-9:...</td>\n",
              "      <td>NaN</td>\n",
              "      <td>google.com</td>\n",
              "      <td>New York,United States</td>\n",
              "      <td>English</td>\n",
              "      <td>NaN</td>\n",
              "      <td>NaN</td>\n",
              "      <td>NaN</td>\n",
              "      <td>NaN</td>\n",
              "      <td>NaN</td>\n",
              "      <td>NaN</td>\n",
              "      <td>data-for-seo</td>\n",
              "      <td>US</td>\n",
              "      <td>NaN</td>\n",
              "    </tr>\n",
              "    <tr>\n",
              "      <th>2</th>\n",
              "      <td>how avocado is eaten</td>\n",
              "      <td>0</td>\n",
              "      <td>0.000000</td>\n",
              "      <td>0.000000</td>\n",
              "      <td>google</td>\n",
              "      <td>avocado</td>\n",
              "      <td>how</td>\n",
              "      <td>NaN</td>\n",
              "      <td>2020-12: 0, 2020-11: 0, 2020-10: 0, 2020-9: 0,...</td>\n",
              "      <td>NaN</td>\n",
              "      <td>google.com</td>\n",
              "      <td>New York,United States</td>\n",
              "      <td>English</td>\n",
              "      <td>NaN</td>\n",
              "      <td>NaN</td>\n",
              "      <td>NaN</td>\n",
              "      <td>NaN</td>\n",
              "      <td>NaN</td>\n",
              "      <td>NaN</td>\n",
              "      <td>data-for-seo</td>\n",
              "      <td>US</td>\n",
              "      <td>NaN</td>\n",
              "    </tr>\n",
              "    <tr>\n",
              "      <th>3</th>\n",
              "      <td>how avocado ripe</td>\n",
              "      <td>4400</td>\n",
              "      <td>1.510320</td>\n",
              "      <td>0.002188</td>\n",
              "      <td>google</td>\n",
              "      <td>avocado</td>\n",
              "      <td>how</td>\n",
              "      <td>NaN</td>\n",
              "      <td>2020-12: 3600, 2020-11: 2900, 2020-10: 2900, 2...</td>\n",
              "      <td>NaN</td>\n",
              "      <td>google.com</td>\n",
              "      <td>New York,United States</td>\n",
              "      <td>English</td>\n",
              "      <td>NaN</td>\n",
              "      <td>NaN</td>\n",
              "      <td>NaN</td>\n",
              "      <td>NaN</td>\n",
              "      <td>NaN</td>\n",
              "      <td>NaN</td>\n",
              "      <td>data-for-seo</td>\n",
              "      <td>US</td>\n",
              "      <td>NaN</td>\n",
              "    </tr>\n",
              "    <tr>\n",
              "      <th>4</th>\n",
              "      <td>how avocados are grown</td>\n",
              "      <td>1900</td>\n",
              "      <td>0.376823</td>\n",
              "      <td>0.848910</td>\n",
              "      <td>google</td>\n",
              "      <td>avocado</td>\n",
              "      <td>how</td>\n",
              "      <td>NaN</td>\n",
              "      <td>2020-12: 590, 2020-11: 720, 2020-10: 880, 2020...</td>\n",
              "      <td>NaN</td>\n",
              "      <td>google.com</td>\n",
              "      <td>New York,United States</td>\n",
              "      <td>English</td>\n",
              "      <td>NaN</td>\n",
              "      <td>NaN</td>\n",
              "      <td>NaN</td>\n",
              "      <td>NaN</td>\n",
              "      <td>NaN</td>\n",
              "      <td>NaN</td>\n",
              "      <td>data-for-seo</td>\n",
              "      <td>US</td>\n",
              "      <td>NaN</td>\n",
              "    </tr>\n",
              "  </tbody>\n",
              "</table>\n",
              "</div>"
            ],
            "text/plain": [
              "                   keyword  volume       cpc  ...  volumeSource country url\n",
              "0       how avocado tastes      10  0.000000  ...  data-for-seo      US NaN\n",
              "1  how avocado oil is made      50  0.000000  ...  data-for-seo      US NaN\n",
              "2     how avocado is eaten       0  0.000000  ...  data-for-seo      US NaN\n",
              "3         how avocado ripe    4400  1.510320  ...  data-for-seo      US NaN\n",
              "4   how avocados are grown    1900  0.376823  ...  data-for-seo      US NaN\n",
              "\n",
              "[5 rows x 22 columns]"
            ]
          },
          "metadata": {
            "tags": []
          },
          "execution_count": 51
        }
      ]
    },
    {
      "cell_type": "code",
      "metadata": {
        "id": "wQvdOMAhV0sH"
      },
      "source": [
        "df.drop(df.columns.difference(['keyword', 'volume', 'cpc', 'competition']), 1, inplace=True)"
      ],
      "execution_count": null,
      "outputs": []
    },
    {
      "cell_type": "code",
      "metadata": {
        "colab": {
          "base_uri": "https://localhost:8080/",
          "height": 204
        },
        "id": "n6UWCh3zYc8c",
        "outputId": "34c74919-9ffa-42ea-bf20-7e54205e904e"
      },
      "source": [
        "df.head()"
      ],
      "execution_count": null,
      "outputs": [
        {
          "output_type": "execute_result",
          "data": {
            "text/html": [
              "<div>\n",
              "<style scoped>\n",
              "    .dataframe tbody tr th:only-of-type {\n",
              "        vertical-align: middle;\n",
              "    }\n",
              "\n",
              "    .dataframe tbody tr th {\n",
              "        vertical-align: top;\n",
              "    }\n",
              "\n",
              "    .dataframe thead th {\n",
              "        text-align: right;\n",
              "    }\n",
              "</style>\n",
              "<table border=\"1\" class=\"dataframe\">\n",
              "  <thead>\n",
              "    <tr style=\"text-align: right;\">\n",
              "      <th></th>\n",
              "      <th>keyword</th>\n",
              "      <th>volume</th>\n",
              "      <th>cpc</th>\n",
              "      <th>competition</th>\n",
              "    </tr>\n",
              "  </thead>\n",
              "  <tbody>\n",
              "    <tr>\n",
              "      <th>0</th>\n",
              "      <td>how avocado tastes</td>\n",
              "      <td>10</td>\n",
              "      <td>0.000000</td>\n",
              "      <td>0.000000</td>\n",
              "    </tr>\n",
              "    <tr>\n",
              "      <th>1</th>\n",
              "      <td>how avocado oil is made</td>\n",
              "      <td>50</td>\n",
              "      <td>0.000000</td>\n",
              "      <td>0.000000</td>\n",
              "    </tr>\n",
              "    <tr>\n",
              "      <th>2</th>\n",
              "      <td>how avocado is eaten</td>\n",
              "      <td>0</td>\n",
              "      <td>0.000000</td>\n",
              "      <td>0.000000</td>\n",
              "    </tr>\n",
              "    <tr>\n",
              "      <th>3</th>\n",
              "      <td>how avocado ripe</td>\n",
              "      <td>4400</td>\n",
              "      <td>1.510320</td>\n",
              "      <td>0.002188</td>\n",
              "    </tr>\n",
              "    <tr>\n",
              "      <th>4</th>\n",
              "      <td>how avocados are grown</td>\n",
              "      <td>1900</td>\n",
              "      <td>0.376823</td>\n",
              "      <td>0.848910</td>\n",
              "    </tr>\n",
              "  </tbody>\n",
              "</table>\n",
              "</div>"
            ],
            "text/plain": [
              "                   keyword  volume       cpc  competition\n",
              "0       how avocado tastes      10  0.000000     0.000000\n",
              "1  how avocado oil is made      50  0.000000     0.000000\n",
              "2     how avocado is eaten       0  0.000000     0.000000\n",
              "3         how avocado ripe    4400  1.510320     0.002188\n",
              "4   how avocados are grown    1900  0.376823     0.848910"
            ]
          },
          "metadata": {
            "tags": []
          },
          "execution_count": 30
        }
      ]
    },
    {
      "cell_type": "code",
      "metadata": {
        "colab": {
          "base_uri": "https://localhost:8080/",
          "height": 204
        },
        "id": "MMTW5V91YzHM",
        "outputId": "4b3f6c16-bf1a-4d4e-ce17-826ec3b13854"
      },
      "source": [
        "df_non_zero = df[df['volume'] != 0]\n",
        "df_non_zero.head()"
      ],
      "execution_count": null,
      "outputs": [
        {
          "output_type": "execute_result",
          "data": {
            "text/html": [
              "<div>\n",
              "<style scoped>\n",
              "    .dataframe tbody tr th:only-of-type {\n",
              "        vertical-align: middle;\n",
              "    }\n",
              "\n",
              "    .dataframe tbody tr th {\n",
              "        vertical-align: top;\n",
              "    }\n",
              "\n",
              "    .dataframe thead th {\n",
              "        text-align: right;\n",
              "    }\n",
              "</style>\n",
              "<table border=\"1\" class=\"dataframe\">\n",
              "  <thead>\n",
              "    <tr style=\"text-align: right;\">\n",
              "      <th></th>\n",
              "      <th>keyword</th>\n",
              "      <th>volume</th>\n",
              "      <th>cpc</th>\n",
              "      <th>competition</th>\n",
              "    </tr>\n",
              "  </thead>\n",
              "  <tbody>\n",
              "    <tr>\n",
              "      <th>0</th>\n",
              "      <td>how avocado tastes</td>\n",
              "      <td>10</td>\n",
              "      <td>0.000000</td>\n",
              "      <td>0.000000</td>\n",
              "    </tr>\n",
              "    <tr>\n",
              "      <th>1</th>\n",
              "      <td>how avocado oil is made</td>\n",
              "      <td>50</td>\n",
              "      <td>0.000000</td>\n",
              "      <td>0.000000</td>\n",
              "    </tr>\n",
              "    <tr>\n",
              "      <th>3</th>\n",
              "      <td>how avocado ripe</td>\n",
              "      <td>4400</td>\n",
              "      <td>1.510320</td>\n",
              "      <td>0.002188</td>\n",
              "    </tr>\n",
              "    <tr>\n",
              "      <th>4</th>\n",
              "      <td>how avocados are grown</td>\n",
              "      <td>1900</td>\n",
              "      <td>0.376823</td>\n",
              "      <td>0.848910</td>\n",
              "    </tr>\n",
              "    <tr>\n",
              "      <th>6</th>\n",
              "      <td>how avocado looks like</td>\n",
              "      <td>10</td>\n",
              "      <td>0.000000</td>\n",
              "      <td>0.000000</td>\n",
              "    </tr>\n",
              "  </tbody>\n",
              "</table>\n",
              "</div>"
            ],
            "text/plain": [
              "                   keyword  volume       cpc  competition\n",
              "0       how avocado tastes      10  0.000000     0.000000\n",
              "1  how avocado oil is made      50  0.000000     0.000000\n",
              "3         how avocado ripe    4400  1.510320     0.002188\n",
              "4   how avocados are grown    1900  0.376823     0.848910\n",
              "6   how avocado looks like      10  0.000000     0.000000"
            ]
          },
          "metadata": {
            "tags": []
          },
          "execution_count": 31
        }
      ]
    },
    {
      "cell_type": "code",
      "metadata": {
        "colab": {
          "base_uri": "https://localhost:8080/",
          "height": 235
        },
        "id": "y42CXN_vZ7-y",
        "outputId": "4175316c-d568-48e4-efed-bb1cc37599cf"
      },
      "source": [
        "df.set_index('keyword', inplace=True)\n",
        "df_non_zero.set_index('keyword', inplace=True)\n",
        "df.head()"
      ],
      "execution_count": null,
      "outputs": [
        {
          "output_type": "execute_result",
          "data": {
            "text/html": [
              "<div>\n",
              "<style scoped>\n",
              "    .dataframe tbody tr th:only-of-type {\n",
              "        vertical-align: middle;\n",
              "    }\n",
              "\n",
              "    .dataframe tbody tr th {\n",
              "        vertical-align: top;\n",
              "    }\n",
              "\n",
              "    .dataframe thead th {\n",
              "        text-align: right;\n",
              "    }\n",
              "</style>\n",
              "<table border=\"1\" class=\"dataframe\">\n",
              "  <thead>\n",
              "    <tr style=\"text-align: right;\">\n",
              "      <th></th>\n",
              "      <th>volume</th>\n",
              "      <th>cpc</th>\n",
              "      <th>competition</th>\n",
              "    </tr>\n",
              "    <tr>\n",
              "      <th>keyword</th>\n",
              "      <th></th>\n",
              "      <th></th>\n",
              "      <th></th>\n",
              "    </tr>\n",
              "  </thead>\n",
              "  <tbody>\n",
              "    <tr>\n",
              "      <th>how avocado tastes</th>\n",
              "      <td>10</td>\n",
              "      <td>0.000000</td>\n",
              "      <td>0.000000</td>\n",
              "    </tr>\n",
              "    <tr>\n",
              "      <th>how avocado oil is made</th>\n",
              "      <td>50</td>\n",
              "      <td>0.000000</td>\n",
              "      <td>0.000000</td>\n",
              "    </tr>\n",
              "    <tr>\n",
              "      <th>how avocado is eaten</th>\n",
              "      <td>0</td>\n",
              "      <td>0.000000</td>\n",
              "      <td>0.000000</td>\n",
              "    </tr>\n",
              "    <tr>\n",
              "      <th>how avocado ripe</th>\n",
              "      <td>4400</td>\n",
              "      <td>1.510320</td>\n",
              "      <td>0.002188</td>\n",
              "    </tr>\n",
              "    <tr>\n",
              "      <th>how avocados are grown</th>\n",
              "      <td>1900</td>\n",
              "      <td>0.376823</td>\n",
              "      <td>0.848910</td>\n",
              "    </tr>\n",
              "  </tbody>\n",
              "</table>\n",
              "</div>"
            ],
            "text/plain": [
              "                         volume       cpc  competition\n",
              "keyword                                               \n",
              "how avocado tastes           10  0.000000     0.000000\n",
              "how avocado oil is made      50  0.000000     0.000000\n",
              "how avocado is eaten          0  0.000000     0.000000\n",
              "how avocado ripe           4400  1.510320     0.002188\n",
              "how avocados are grown     1900  0.376823     0.848910"
            ]
          },
          "metadata": {
            "tags": []
          },
          "execution_count": 32
        }
      ]
    },
    {
      "cell_type": "code",
      "metadata": {
        "colab": {
          "base_uri": "https://localhost:8080/",
          "height": 297
        },
        "id": "GpeHuv_fbNs5",
        "outputId": "9d22e570-f1b2-4a32-f350-caf658910371"
      },
      "source": [
        "df.describe()"
      ],
      "execution_count": null,
      "outputs": [
        {
          "output_type": "execute_result",
          "data": {
            "text/html": [
              "<div>\n",
              "<style scoped>\n",
              "    .dataframe tbody tr th:only-of-type {\n",
              "        vertical-align: middle;\n",
              "    }\n",
              "\n",
              "    .dataframe tbody tr th {\n",
              "        vertical-align: top;\n",
              "    }\n",
              "\n",
              "    .dataframe thead th {\n",
              "        text-align: right;\n",
              "    }\n",
              "</style>\n",
              "<table border=\"1\" class=\"dataframe\">\n",
              "  <thead>\n",
              "    <tr style=\"text-align: right;\">\n",
              "      <th></th>\n",
              "      <th>volume</th>\n",
              "      <th>cpc</th>\n",
              "      <th>competition</th>\n",
              "    </tr>\n",
              "  </thead>\n",
              "  <tbody>\n",
              "    <tr>\n",
              "      <th>count</th>\n",
              "      <td>133.000000</td>\n",
              "      <td>133.000000</td>\n",
              "      <td>133.000000</td>\n",
              "    </tr>\n",
              "    <tr>\n",
              "      <th>mean</th>\n",
              "      <td>698.045113</td>\n",
              "      <td>0.323234</td>\n",
              "      <td>0.061727</td>\n",
              "    </tr>\n",
              "    <tr>\n",
              "      <th>std</th>\n",
              "      <td>2115.622431</td>\n",
              "      <td>1.003522</td>\n",
              "      <td>0.208994</td>\n",
              "    </tr>\n",
              "    <tr>\n",
              "      <th>min</th>\n",
              "      <td>0.000000</td>\n",
              "      <td>0.000000</td>\n",
              "      <td>0.000000</td>\n",
              "    </tr>\n",
              "    <tr>\n",
              "      <th>25%</th>\n",
              "      <td>10.000000</td>\n",
              "      <td>0.000000</td>\n",
              "      <td>0.000000</td>\n",
              "    </tr>\n",
              "    <tr>\n",
              "      <th>50%</th>\n",
              "      <td>10.000000</td>\n",
              "      <td>0.000000</td>\n",
              "      <td>0.000000</td>\n",
              "    </tr>\n",
              "    <tr>\n",
              "      <th>75%</th>\n",
              "      <td>320.000000</td>\n",
              "      <td>0.000000</td>\n",
              "      <td>0.005580</td>\n",
              "    </tr>\n",
              "    <tr>\n",
              "      <th>max</th>\n",
              "      <td>18100.000000</td>\n",
              "      <td>7.824035</td>\n",
              "      <td>1.000000</td>\n",
              "    </tr>\n",
              "  </tbody>\n",
              "</table>\n",
              "</div>"
            ],
            "text/plain": [
              "             volume         cpc  competition\n",
              "count    133.000000  133.000000   133.000000\n",
              "mean     698.045113    0.323234     0.061727\n",
              "std     2115.622431    1.003522     0.208994\n",
              "min        0.000000    0.000000     0.000000\n",
              "25%       10.000000    0.000000     0.000000\n",
              "50%       10.000000    0.000000     0.000000\n",
              "75%      320.000000    0.000000     0.005580\n",
              "max    18100.000000    7.824035     1.000000"
            ]
          },
          "metadata": {
            "tags": []
          },
          "execution_count": 33
        }
      ]
    },
    {
      "cell_type": "code",
      "metadata": {
        "colab": {
          "base_uri": "https://localhost:8080/",
          "height": 297
        },
        "id": "fOucNuWdbUh7",
        "outputId": "aaca2684-8309-4edf-987a-0f12d991aabf"
      },
      "source": [
        "df_non_zero.describe()"
      ],
      "execution_count": null,
      "outputs": [
        {
          "output_type": "execute_result",
          "data": {
            "text/html": [
              "<div>\n",
              "<style scoped>\n",
              "    .dataframe tbody tr th:only-of-type {\n",
              "        vertical-align: middle;\n",
              "    }\n",
              "\n",
              "    .dataframe tbody tr th {\n",
              "        vertical-align: top;\n",
              "    }\n",
              "\n",
              "    .dataframe thead th {\n",
              "        text-align: right;\n",
              "    }\n",
              "</style>\n",
              "<table border=\"1\" class=\"dataframe\">\n",
              "  <thead>\n",
              "    <tr style=\"text-align: right;\">\n",
              "      <th></th>\n",
              "      <th>volume</th>\n",
              "      <th>cpc</th>\n",
              "      <th>competition</th>\n",
              "    </tr>\n",
              "  </thead>\n",
              "  <tbody>\n",
              "    <tr>\n",
              "      <th>count</th>\n",
              "      <td>113.000000</td>\n",
              "      <td>113.000000</td>\n",
              "      <td>113.000000</td>\n",
              "    </tr>\n",
              "    <tr>\n",
              "      <th>mean</th>\n",
              "      <td>821.592920</td>\n",
              "      <td>0.380443</td>\n",
              "      <td>0.072653</td>\n",
              "    </tr>\n",
              "    <tr>\n",
              "      <th>std</th>\n",
              "      <td>2274.358452</td>\n",
              "      <td>1.079318</td>\n",
              "      <td>0.225116</td>\n",
              "    </tr>\n",
              "    <tr>\n",
              "      <th>min</th>\n",
              "      <td>10.000000</td>\n",
              "      <td>0.000000</td>\n",
              "      <td>0.000000</td>\n",
              "    </tr>\n",
              "    <tr>\n",
              "      <th>25%</th>\n",
              "      <td>10.000000</td>\n",
              "      <td>0.000000</td>\n",
              "      <td>0.000000</td>\n",
              "    </tr>\n",
              "    <tr>\n",
              "      <th>50%</th>\n",
              "      <td>30.000000</td>\n",
              "      <td>0.000000</td>\n",
              "      <td>0.000000</td>\n",
              "    </tr>\n",
              "    <tr>\n",
              "      <th>75%</th>\n",
              "      <td>390.000000</td>\n",
              "      <td>0.059890</td>\n",
              "      <td>0.012012</td>\n",
              "    </tr>\n",
              "    <tr>\n",
              "      <th>max</th>\n",
              "      <td>18100.000000</td>\n",
              "      <td>7.824035</td>\n",
              "      <td>1.000000</td>\n",
              "    </tr>\n",
              "  </tbody>\n",
              "</table>\n",
              "</div>"
            ],
            "text/plain": [
              "             volume         cpc  competition\n",
              "count    113.000000  113.000000   113.000000\n",
              "mean     821.592920    0.380443     0.072653\n",
              "std     2274.358452    1.079318     0.225116\n",
              "min       10.000000    0.000000     0.000000\n",
              "25%       10.000000    0.000000     0.000000\n",
              "50%       30.000000    0.000000     0.000000\n",
              "75%      390.000000    0.059890     0.012012\n",
              "max    18100.000000    7.824035     1.000000"
            ]
          },
          "metadata": {
            "tags": []
          },
          "execution_count": 34
        }
      ]
    },
    {
      "cell_type": "code",
      "metadata": {
        "colab": {
          "base_uri": "https://localhost:8080/",
          "height": 1000
        },
        "id": "10-zceQ5a9Jw",
        "outputId": "3c980068-eda9-4a4f-ad43-4a3d927bdb45"
      },
      "source": [
        "df_non_zero[df['volume'] > 100].sort_values('volume', ascending=False).plot.bar(subplots=True, figsize=(15, 15))"
      ],
      "execution_count": null,
      "outputs": [
        {
          "output_type": "stream",
          "text": [
            "/usr/local/lib/python3.6/dist-packages/ipykernel_launcher.py:1: UserWarning: Boolean Series key will be reindexed to match DataFrame index.\n",
            "  \"\"\"Entry point for launching an IPython kernel.\n"
          ],
          "name": "stderr"
        },
        {
          "output_type": "execute_result",
          "data": {
            "text/plain": [
              "array([<matplotlib.axes._subplots.AxesSubplot object at 0x7fda569a2208>,\n",
              "       <matplotlib.axes._subplots.AxesSubplot object at 0x7fda566058d0>,\n",
              "       <matplotlib.axes._subplots.AxesSubplot object at 0x7fda566328d0>],\n",
              "      dtype=object)"
            ]
          },
          "metadata": {
            "tags": []
          },
          "execution_count": 50
        },
        {
          "output_type": "display_data",
          "data": {
            "image/png": "[encoded data removed]",
            "text/plain": [
              "<Figure size 1080x1080 with 3 Axes>"
            ]
          },
          "metadata": {
            "tags": [],
            "needs_background": "light"
          }
        }
      ]
    }
  ]
}