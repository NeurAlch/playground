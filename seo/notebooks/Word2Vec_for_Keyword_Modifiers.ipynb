{
  "nbformat": 4,
  "nbformat_minor": 0,
  "metadata": {
    "colab": {
      "name": "Word2Vec for Keyword Modifiers",
      "provenance": []
    },
    "kernelspec": {
      "name": "python3",
      "display_name": "Python 3"
    }
  },
  "cells": [
    {
      "cell_type": "code",
      "metadata": {
        "id": "YbUjNSAC_o81"
      },
      "source": [
        "STOP_WORDS = [\n",
        "  # REPLACE WITH YOUR OWN STOP WORDS\n",
        "  \"also\", \"not\", \"all\", \"am\", \"an\", \"and\", \"another\", \"any\", \"are\", \"as\", \"at\", \"be\", \"been\", \"being\", \"but\", \"by\", \"came\", \"can\", \"come\", \"did\", \"do\", \"for\", \"get\", \"got\", \"has\", \"had\", \"he\", \"have\", \"her\", \"here\", \"him\", \"himself\", \"his\", \"how\", \"if\", \"in\", \"into\", \"is\", \"it\", \"like\", \"me\", \"my\", \"of\", \"on\", \"or\", \"other\", \"our\", \"out\", \"over\", \"see\", \"still\", \"such\", \"take\", \"than\", \"that\", \"the\", \"their\", \"them\", \"then\", \"there\", \"these\", \"they\", \"this\", \"those\", \"through\", \"to\", \"too\", \"up\", \"was\", \"way\", \"we\", \"well\", \"while\", \"with\", \"would\", \"you\", \"your\", \"a\", \"i\", \"will\", \"com\", \"may\", \"every\", \"using\", \"just\", \"need\", \"want\", \"years\", \"great\", \"good\", \"next\", \"know\", \"found\", \"add\", \"even\", \"use\", \"one\", \"something\", \"choice\", \"some\", \"more\", \"away\", \"really\", \"put\", \"instead\", \"start\"\n",
        "]\n",
        "\n",
        "MIN_WORD_COUNT = 5\n",
        "W2V_EPOCHS = 50"
      ],
      "execution_count": null,
      "outputs": []
    },
    {
      "cell_type": "code",
      "metadata": {
        "colab": {
          "base_uri": "https://localhost:8080/"
        },
        "id": "esYJ4aYXQ0M6",
        "outputId": "487a008e-2e7c-4fad-9800-8f05f5d78439"
      },
      "source": [
        "import re # REGEX\n",
        "import os\n",
        "import nltk\n",
        "import string\n",
        "import multiprocessing\n",
        "from random import randrange\n",
        "from collections import defaultdict\n",
        "from gensim.models.word2vec import Word2Vec\n",
        "from gensim.models.phrases import Phraser, Phrases\n",
        "\n",
        "nltk.download('punkt', quiet=True)"
      ],
      "execution_count": null,
      "outputs": [
        {
          "output_type": "execute_result",
          "data": {
            "text/plain": [
              "True"
            ]
          },
          "metadata": {
            "tags": []
          },
          "execution_count": 61
        }
      ]
    },
    {
      "cell_type": "code",
      "metadata": {
        "colab": {
          "base_uri": "https://localhost:8080/"
        },
        "id": "LhNkZK1UQ6_V",
        "outputId": "3a0416fd-b143-492c-bb45-e4ca9bd68d88"
      },
      "source": [
        "cores = multiprocessing.cpu_count()\n",
        "cores"
      ],
      "execution_count": null,
      "outputs": [
        {
          "output_type": "execute_result",
          "data": {
            "text/plain": [
              "2"
            ]
          },
          "metadata": {
            "tags": []
          },
          "execution_count": 6
        }
      ]
    },
    {
      "cell_type": "code",
      "metadata": {
        "id": "YboiiRj1R31F"
      },
      "source": [
        "corpus = \"\"\n",
        "files = []\n",
        "\n",
        "for r, d, f in os.walk(\"data\"):\n",
        "  for file in f:\n",
        "    if '.txt' in file:\n",
        "      files.append(os.path.join(r, file))\n",
        "\n",
        "for file in files:\n",
        "  with open(file, \"r\") as f:\n",
        "    corpus += \"\\n\" + f.read()"
      ],
      "execution_count": null,
      "outputs": []
    },
    {
      "cell_type": "code",
      "metadata": {
        "id": "97AMAIQ3SzV7"
      },
      "source": [
        "def remove_not_valid_chars(sent, include_spaces=True):\n",
        "  sent_lowercase = sent.lower()\n",
        "  if include_spaces:\n",
        "      return re.sub(r'[^a-z0-9- ]+', ' ', sent_lowercase)\n",
        "  return re.sub(r'[^a-z0-9-]+', ' ', sent_lowercase)\n",
        "\n",
        "def most_frequent_words(phraser, sents, num, min_word_len=0):\n",
        "    word_freq = defaultdict(int)\n",
        "\n",
        "    for sent in phraser[sents]:\n",
        "        for i in sent:\n",
        "            if i not in STOP_WORDS and len(i.split(\"_\")) >= min_word_len:              \n",
        "              word_freq[i] += 1\n",
        "    \n",
        "    words = []\n",
        "    for k in sorted(word_freq, key=word_freq.get, reverse=True)[:num]:        \n",
        "      words.append(k)\n",
        "        \n",
        "    return words"
      ],
      "execution_count": null,
      "outputs": []
    },
    {
      "cell_type": "code",
      "metadata": {
        "colab": {
          "base_uri": "https://localhost:8080/"
        },
        "id": "WyzDq65ySXju",
        "outputId": "4e550077-213b-4bd4-b2bf-7ece38b57a27"
      },
      "source": [
        "random_sample_size = 100\n",
        "random_sample_start = randrange(0, len(corpus) - random_sample_size)\n",
        "random_sample = corpus[random_sample_start:random_sample_start + random_sample_size]\n",
        "\n",
        "sentence_test = remove_not_valid_chars(random_sample.replace(\"\\n\", \" \"))\n",
        "\n",
        "random_sample, sentence_test"
      ],
      "execution_count": null,
      "outputs": [
        {
          "output_type": "execute_result",
          "data": {
            "text/plain": [
              "('in and push it into place. Easy.\\n\\nStep 5\\n\\nBefore placing the motherboard into the case, make sure th',\n",
              " 'in and push it into place  easy   step 5  before placing the motherboard into the case  make sure th')"
            ]
          },
          "metadata": {
            "tags": []
          },
          "execution_count": 47
        }
      ]
    },
    {
      "cell_type": "code",
      "metadata": {
        "colab": {
          "base_uri": "https://localhost:8080/"
        },
        "id": "zfedeB7sUiTW",
        "outputId": "2b786abf-60f5-452d-d2eb-7525a849150b"
      },
      "source": [
        "sentences_list = nltk.sent_tokenize(corpus)\n",
        "\n",
        "sentences = []\n",
        "\n",
        "for sent in sentences_list:\n",
        "  clean_words = []\n",
        "  words = nltk.word_tokenize(sent)\n",
        "\n",
        "  for word in words:\n",
        "    w = remove_not_valid_chars(word, False)\n",
        "    if w and len(w) > 1 and not w.isdigit() and w not in list(string.punctuation) and w not in STOP_WORDS:\n",
        "      clean_words.append(w)\n",
        "\n",
        "  if len(clean_words) > 2:\n",
        "    sentences.append(clean_words)\n",
        "\n",
        "len(sentences)"
      ],
      "execution_count": null,
      "outputs": [
        {
          "output_type": "execute_result",
          "data": {
            "text/plain": [
              "9089"
            ]
          },
          "metadata": {
            "tags": []
          },
          "execution_count": 50
        }
      ]
    },
    {
      "cell_type": "code",
      "metadata": {
        "colab": {
          "base_uri": "https://localhost:8080/"
        },
        "id": "5f7KtuFlWTcs",
        "outputId": "25c4bf83-304e-45d0-9b3d-f76a645adf55"
      },
      "source": [
        "bigram = Phrases(sentences, min_count=MIN_WORD_COUNT, threshold=MIN_WORD_COUNT, common_terms=STOP_WORDS)\n",
        "bigram_model = Phraser(bigram)\n",
        "trigram = Phrases(bigram[sentences], min_count=MIN_WORD_COUNT/2, threshold=10, common_terms=STOP_WORDS)\n",
        "trigram_model = Phraser(trigram)\n",
        "phraser = trigram_model[bigram_model[sentences]]"
      ],
      "execution_count": null,
      "outputs": [
        {
          "output_type": "stream",
          "text": [
            "/usr/local/lib/python3.6/dist-packages/gensim/models/phrases.py:598: UserWarning: For a faster implementation, use the gensim.models.phrases.Phraser class\n",
            "  warnings.warn(\"For a faster implementation, use the gensim.models.phrases.Phraser class\")\n"
          ],
          "name": "stderr"
        }
      ]
    },
    {
      "cell_type": "code",
      "metadata": {
        "colab": {
          "base_uri": "https://localhost:8080/"
        },
        "id": "jNl67Kq9XBlB",
        "outputId": "1ab4e564-d17d-49ac-e158-2c49a6c27f52"
      },
      "source": [
        "trigram_model[sentence_test.split(\" \")]"
      ],
      "execution_count": null,
      "outputs": [
        {
          "output_type": "execute_result",
          "data": {
            "text/plain": [
              "['in',\n",
              " 'and',\n",
              " 'push',\n",
              " 'it',\n",
              " 'into',\n",
              " 'place',\n",
              " 'easy',\n",
              " 'step',\n",
              " '5',\n",
              " 'before',\n",
              " 'placing',\n",
              " 'the',\n",
              " 'motherboard',\n",
              " 'into',\n",
              " 'the',\n",
              " 'case',\n",
              " 'make_sure',\n",
              " 'th']"
            ]
          },
          "metadata": {
            "tags": []
          },
          "execution_count": 52
        }
      ]
    },
    {
      "cell_type": "code",
      "metadata": {
        "colab": {
          "base_uri": "https://localhost:8080/"
        },
        "id": "sKLRECIDX15P",
        "outputId": "e19defd4-499a-4fe8-bd8b-895f93ec68a8"
      },
      "source": [
        "most_frequent_words(trigram_model, sentences, 25, 1)"
      ],
      "execution_count": null,
      "outputs": [
        {
          "output_type": "execute_result",
          "data": {
            "text/plain": [
              "[' s',\n",
              " 'build',\n",
              " 'pc',\n",
              " 'motherboard',\n",
              " 'case',\n",
              " 'n t',\n",
              " 'so',\n",
              " 'computer',\n",
              " 'from',\n",
              " 'cpu',\n",
              " 'components',\n",
              " 'what',\n",
              " 'best',\n",
              " ' ll',\n",
              " 'which',\n",
              " 'gaming_pc',\n",
              " 'should',\n",
              " 'gaming',\n",
              " 'ram',\n",
              " 'parts',\n",
              " 'power_supply',\n",
              " 'when',\n",
              " 'new',\n",
              " 'laptop',\n",
              " ' re']"
            ]
          },
          "metadata": {
            "tags": []
          },
          "execution_count": 77
        }
      ]
    },
    {
      "cell_type": "code",
      "metadata": {
        "colab": {
          "base_uri": "https://localhost:8080/"
        },
        "id": "ujq8PuA6Yabk",
        "outputId": "99921319-1dfd-430c-dbf7-c53302baff87"
      },
      "source": [
        "w2v_model = Word2Vec(\n",
        "    size=100,\n",
        "    min_count=5,\n",
        "    workers=cores\n",
        ")\n",
        "\n",
        "w2v_model.build_vocab(phraser)\n",
        "\n",
        "w2v_model.train(sentences, total_examples=w2v_model.corpus_count, epochs=W2V_EPOCHS)"
      ],
      "execution_count": null,
      "outputs": [
        {
          "output_type": "execute_result",
          "data": {
            "text/plain": [
              "(4795197, 6190550)"
            ]
          },
          "metadata": {
            "tags": []
          },
          "execution_count": 89
        }
      ]
    },
    {
      "cell_type": "code",
      "metadata": {
        "colab": {
          "base_uri": "https://localhost:8080/"
        },
        "id": "uWMJT_3BY1EH",
        "outputId": "7b0c2d18-e6b0-4086-be80-ea9aa52b86eb"
      },
      "source": [
        "w2v_model.wv.most_similar(\"\", topn=50)"
      ],
      "execution_count": null,
      "outputs": [
        {
          "output_type": "execute_result",
          "data": {
            "text/plain": [
              "[('explained', 0.7875093221664429),\n",
              " ('walk', 0.7133488655090332),\n",
              " ('appreciated', 0.6909220218658447),\n",
              " ('infographic', 0.6788451671600342),\n",
              " ('walkthrough', 0.6617275476455688),\n",
              " ('detailed', 0.6586351990699768),\n",
              " ('beginners', 0.6563247442245483),\n",
              " ('assembly', 0.635240912437439),\n",
              " ('myself', 0.6286596655845642),\n",
              " ('tutorial', 0.6234084367752075),\n",
              " ('all-in-one', 0.61463463306427),\n",
              " ('comprehensive', 0.6136826872825623),\n",
              " ('basics', 0.5867540836334229),\n",
              " ('in-depth', 0.5814931392669678),\n",
              " ('submit', 0.5760713815689087),\n",
              " ('advertisement', 0.572301983833313),\n",
              " ('helping', 0.5702395439147949),\n",
              " ('team', 0.5690051317214966),\n",
              " ('followed', 0.567746639251709),\n",
              " ('topics', 0.5654361248016357),\n",
              " ('congratulations', 0.5641900300979614),\n",
              " ('photos', 0.5575026273727417),\n",
              " ('detail', 0.55533367395401),\n",
              " ('pictures', 0.5552259683609009),\n",
              " ('views', 0.5538419485092163),\n",
              " ('mat', 0.5518805384635925),\n",
              " ('ideas', 0.548680305480957),\n",
              " ('finish', 0.5484687089920044),\n",
              " ('confidence', 0.5467913150787354),\n",
              " ('steps', 0.5462654829025269),\n",
              " ('follow', 0.5406727194786072),\n",
              " ('involved', 0.5357316732406616),\n",
              " ('instructions', 0.5336126089096069),\n",
              " ('how-to', 0.5330276489257812),\n",
              " ('fear', 0.5308637619018555),\n",
              " ('throughout', 0.5277922749519348),\n",
              " ('btw', 0.5270163416862488),\n",
              " ('head', 0.5260892510414124),\n",
              " ('linked', 0.5218324661254883),\n",
              " ('confident', 0.5214865207672119),\n",
              " ('learning', 0.5183798670768738),\n",
              " ('answers', 0.5176031589508057),\n",
              " ('written', 0.5173025727272034),\n",
              " ('guide', 0.5122073888778687),\n",
              " ('complete', 0.5081575512886047),\n",
              " ('outlined', 0.5074374079704285),\n",
              " ('easypcbuilder', 0.5056722164154053),\n",
              " ('age', 0.5039082765579224),\n",
              " ('tips', 0.5025203824043274),\n",
              " ('details', 0.5013324618339539)]"
            ]
          },
          "metadata": {
            "tags": []
          },
          "execution_count": 92
        }
      ]
    }
  ]
}