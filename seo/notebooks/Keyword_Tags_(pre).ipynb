{
  "nbformat": 4,
  "nbformat_minor": 0,
  "metadata": {
    "colab": {
      "name": "Keyword Tags (pre)",
      "provenance": [],
      "collapsed_sections": [
        "g-aqS-QuLrsi"
      ]
    },
    "kernelspec": {
      "name": "python3",
      "display_name": "Python 3"
    },
    "language_info": {
      "name": "python"
    }
  },
  "cells": [
    {
      "cell_type": "markdown",
      "metadata": {
        "id": "EmSWbWgILt5y"
      },
      "source": [
        "# Libraries"
      ]
    },
    {
      "cell_type": "code",
      "metadata": {
        "colab": {
          "base_uri": "https://localhost:8080/"
        },
        "id": "oOfr29Z3dmqL",
        "outputId": "039b3e79-c690-4a9a-b9ee-f184d1ae8ddd"
      },
      "source": [
        "!pip install --upgrade gensim"
      ],
      "execution_count": null,
      "outputs": [
        {
          "output_type": "stream",
          "text": [
            "Collecting gensim\n",
            "\u001b[?25l  Downloading https://files.pythonhosted.org/packages/5c/4e/afe2315e08a38967f8a3036bbe7e38b428e9b7a90e823a83d0d49df1adf5/gensim-3.8.3-cp37-cp37m-manylinux1_x86_64.whl (24.2MB)\n",
            "\u001b[K     |████████████████████████████████| 24.2MB 1.8MB/s \n",
            "\u001b[?25hRequirement already satisfied, skipping upgrade: scipy>=0.18.1 in /usr/local/lib/python3.7/dist-packages (from gensim) (1.4.1)\n",
            "Requirement already satisfied, skipping upgrade: six>=1.5.0 in /usr/local/lib/python3.7/dist-packages (from gensim) (1.15.0)\n",
            "Requirement already satisfied, skipping upgrade: smart-open>=1.8.1 in /usr/local/lib/python3.7/dist-packages (from gensim) (4.2.0)\n",
            "Requirement already satisfied, skipping upgrade: numpy>=1.11.3 in /usr/local/lib/python3.7/dist-packages (from gensim) (1.19.5)\n",
            "Installing collected packages: gensim\n",
            "  Found existing installation: gensim 3.6.0\n",
            "    Uninstalling gensim-3.6.0:\n",
            "      Successfully uninstalled gensim-3.6.0\n",
            "Successfully installed gensim-3.8.3\n"
          ],
          "name": "stdout"
        }
      ]
    },
    {
      "cell_type": "code",
      "metadata": {
        "colab": {
          "base_uri": "https://localhost:8080/"
        },
        "id": "qe2u9Noj_4Ez",
        "outputId": "d5a758e3-d340-4e48-df8e-6d62ef0e29cb"
      },
      "source": [
        "!pip install -U strsimpy"
      ],
      "execution_count": null,
      "outputs": [
        {
          "output_type": "stream",
          "text": [
            "Collecting strsimpy\n",
            "\u001b[?25l  Downloading https://files.pythonhosted.org/packages/1e/03/13717aacea2f5c3c2ccb74fa921b0073476810afc079be3534eb17383639/strsimpy-0.2.0-py3-none-any.whl (45kB)\n",
            "\r\u001b[K     |███████▏                        | 10kB 9.1MB/s eta 0:00:01\r\u001b[K     |██████████████▎                 | 20kB 13.5MB/s eta 0:00:01\r\u001b[K     |█████████████████████▍          | 30kB 11.8MB/s eta 0:00:01\r\u001b[K     |████████████████████████████▋   | 40kB 8.4MB/s eta 0:00:01\r\u001b[K     |████████████████████████████████| 51kB 3.4MB/s \n",
            "\u001b[?25hInstalling collected packages: strsimpy\n",
            "Successfully installed strsimpy-0.2.0\n"
          ],
          "name": "stdout"
        }
      ]
    },
    {
      "cell_type": "code",
      "metadata": {
        "colab": {
          "base_uri": "https://localhost:8080/"
        },
        "id": "f3P5veBjFObP",
        "outputId": "f39d83ef-ead3-4249-9e26-058fa8110e8c"
      },
      "source": [
        "!pip install git+https://github.com/LIAAD/yake"
      ],
      "execution_count": null,
      "outputs": [
        {
          "output_type": "stream",
          "text": [
            "Collecting git+https://github.com/LIAAD/yake\n",
            "  Cloning https://github.com/LIAAD/yake to /tmp/pip-req-build-h4dfchgy\n",
            "  Running command git clone -q https://github.com/LIAAD/yake /tmp/pip-req-build-h4dfchgy\n",
            "Requirement already satisfied: tabulate in /usr/local/lib/python3.7/dist-packages (from yake==0.4.5) (0.8.9)\n",
            "Requirement already satisfied: click>=6.0 in /usr/local/lib/python3.7/dist-packages (from yake==0.4.5) (7.1.2)\n",
            "Requirement already satisfied: numpy in /usr/local/lib/python3.7/dist-packages (from yake==0.4.5) (1.19.5)\n",
            "Collecting segtok\n",
            "  Downloading https://files.pythonhosted.org/packages/41/08/582dab5f4b1d5ca23bc6927b4bb977c8ff7f3a87a3b98844ef833e2f5623/segtok-1.5.10.tar.gz\n",
            "Requirement already satisfied: networkx in /usr/local/lib/python3.7/dist-packages (from yake==0.4.5) (2.5)\n",
            "Collecting jellyfish\n",
            "\u001b[?25l  Downloading https://files.pythonhosted.org/packages/30/a6/4d039bc827a102f62ce7a7910713e38fdfd7c7a40aa39c72fb14938a1473/jellyfish-0.8.2-cp37-cp37m-manylinux2014_x86_64.whl (90kB)\n",
            "\u001b[K     |████████████████████████████████| 92kB 5.4MB/s \n",
            "\u001b[?25hRequirement already satisfied: regex in /usr/local/lib/python3.7/dist-packages (from segtok->yake==0.4.5) (2019.12.20)\n",
            "Requirement already satisfied: decorator>=4.3.0 in /usr/local/lib/python3.7/dist-packages (from networkx->yake==0.4.5) (4.4.2)\n",
            "Building wheels for collected packages: yake, segtok\n",
            "  Building wheel for yake (setup.py) ... \u001b[?25l\u001b[?25hdone\n",
            "  Created wheel for yake: filename=yake-0.4.5-py2.py3-none-any.whl size=60007 sha256=0e9b59c9546e5b7420ef70b116ceb7a3bf223ebb2de2d825e330662c10db6502\n",
            "  Stored in directory: /tmp/pip-ephem-wheel-cache-s93ebx07/wheels/be/35/27/e4ebd54b78c1806ed8b0271ce247fcd91e2bedde35889fbc9b\n",
            "  Building wheel for segtok (setup.py) ... \u001b[?25l\u001b[?25hdone\n",
            "  Created wheel for segtok: filename=segtok-1.5.10-cp37-none-any.whl size=25019 sha256=a8274302a9604a5bf938be7df5576f5accc5c57b813c94152daddcc8955ab519\n",
            "  Stored in directory: /root/.cache/pip/wheels/b4/39/f6/9ca1c5cabde964d728023b5751c3a206a5c8cc40252321fb6b\n",
            "Successfully built yake segtok\n",
            "Installing collected packages: segtok, jellyfish, yake\n",
            "Successfully installed jellyfish-0.8.2 segtok-1.5.10 yake-0.4.5\n"
          ],
          "name": "stdout"
        }
      ]
    },
    {
      "cell_type": "code",
      "metadata": {
        "colab": {
          "base_uri": "https://localhost:8080/"
        },
        "id": "p_jkdC7WXRmJ",
        "outputId": "a29657dd-706c-4ad4-e64b-1592601c057f"
      },
      "source": [
        "!pip install bertopic\n",
        "!pip install bertopic[visualization]\n",
        "!pip install bertopic[flair]"
      ],
      "execution_count": null,
      "outputs": [
        {
          "output_type": "stream",
          "text": [
            "Collecting bertopic\n",
            "  Downloading https://files.pythonhosted.org/packages/5d/d5/a9f440c43505dcb68dac06132607c8589118a8cb1346bea60bd9abcc8d3d/bertopic-0.6.0-py2.py3-none-any.whl\n",
            "Requirement already satisfied: numpy>=1.19.2 in /usr/local/lib/python3.7/dist-packages (from bertopic) (1.19.5)\n",
            "Collecting sentence-transformers>=0.4.1\n",
            "\u001b[?25l  Downloading https://files.pythonhosted.org/packages/6f/4d/9fb1028b0b4645c77401417151d06122d745c7a874fda6a4d5e6bb7bebc6/sentence-transformers-1.0.3.tar.gz (74kB)\n",
            "\u001b[K     |████████████████████████████████| 81kB 4.7MB/s \n",
            "\u001b[?25hCollecting hdbscan>=0.8.27\n",
            "\u001b[?25l  Downloading https://files.pythonhosted.org/packages/32/bb/59a75bc5ac66a9b4f9b8f979e4545af0e98bb1ca4e6ae96b3b956b554223/hdbscan-0.8.27.tar.gz (6.4MB)\n",
            "\u001b[K     |████████████████████████████████| 6.4MB 15.0MB/s \n",
            "\u001b[?25h  Installing build dependencies ... \u001b[?25l\u001b[?25hdone\n",
            "  Getting requirements to build wheel ... \u001b[?25l\u001b[?25hdone\n",
            "    Preparing wheel metadata ... \u001b[?25l\u001b[?25hdone\n",
            "Requirement already satisfied: pandas>=1.1.5 in /usr/local/lib/python3.7/dist-packages (from bertopic) (1.1.5)\n",
            "Requirement already satisfied: torch>=1.4.0 in /usr/local/lib/python3.7/dist-packages (from bertopic) (1.8.0+cu101)\n",
            "Requirement already satisfied: scikit-learn>=0.22.2.post1 in /usr/local/lib/python3.7/dist-packages (from bertopic) (0.22.2.post1)\n",
            "Requirement already satisfied: tqdm>=4.41.1 in /usr/local/lib/python3.7/dist-packages (from bertopic) (4.41.1)\n",
            "Requirement already satisfied: umap-learn>=0.5.0 in /usr/local/lib/python3.7/dist-packages (from bertopic) (0.5.1)\n",
            "Collecting transformers<5.0.0,>=3.1.0\n",
            "\u001b[?25l  Downloading https://files.pythonhosted.org/packages/ed/d5/f4157a376b8a79489a76ce6cfe147f4f3be1e029b7144fa7b8432e8acb26/transformers-4.4.2-py3-none-any.whl (2.0MB)\n",
            "\u001b[K     |████████████████████████████████| 2.0MB 45.6MB/s \n",
            "\u001b[?25hRequirement already satisfied: scipy in /usr/local/lib/python3.7/dist-packages (from sentence-transformers>=0.4.1->bertopic) (1.4.1)\n",
            "Requirement already satisfied: nltk in /usr/local/lib/python3.7/dist-packages (from sentence-transformers>=0.4.1->bertopic) (3.2.5)\n",
            "Collecting sentencepiece\n",
            "\u001b[?25l  Downloading https://files.pythonhosted.org/packages/f5/99/e0808cb947ba10f575839c43e8fafc9cc44e4a7a2c8f79c60db48220a577/sentencepiece-0.1.95-cp37-cp37m-manylinux2014_x86_64.whl (1.2MB)\n",
            "\u001b[K     |████████████████████████████████| 1.2MB 45.8MB/s \n",
            "\u001b[?25hRequirement already satisfied: cython>=0.27 in /usr/local/lib/python3.7/dist-packages (from hdbscan>=0.8.27->bertopic) (0.29.22)\n",
            "Requirement already satisfied: joblib>=1.0 in /usr/local/lib/python3.7/dist-packages (from hdbscan>=0.8.27->bertopic) (1.0.1)\n",
            "Requirement already satisfied: six in /usr/local/lib/python3.7/dist-packages (from hdbscan>=0.8.27->bertopic) (1.15.0)\n",
            "Requirement already satisfied: python-dateutil>=2.7.3 in /usr/local/lib/python3.7/dist-packages (from pandas>=1.1.5->bertopic) (2.8.1)\n",
            "Requirement already satisfied: pytz>=2017.2 in /usr/local/lib/python3.7/dist-packages (from pandas>=1.1.5->bertopic) (2018.9)\n",
            "Requirement already satisfied: typing-extensions in /usr/local/lib/python3.7/dist-packages (from torch>=1.4.0->bertopic) (3.7.4.3)\n",
            "Requirement already satisfied: numba>=0.49 in /usr/local/lib/python3.7/dist-packages (from umap-learn>=0.5.0->bertopic) (0.51.2)\n",
            "Requirement already satisfied: pynndescent>=0.5 in /usr/local/lib/python3.7/dist-packages (from umap-learn>=0.5.0->bertopic) (0.5.2)\n",
            "Requirement already satisfied: requests in /usr/local/lib/python3.7/dist-packages (from transformers<5.0.0,>=3.1.0->sentence-transformers>=0.4.1->bertopic) (2.23.0)\n",
            "Collecting tokenizers<0.11,>=0.10.1\n",
            "\u001b[?25l  Downloading https://files.pythonhosted.org/packages/71/23/2ddc317b2121117bf34dd00f5b0de194158f2a44ee2bf5e47c7166878a97/tokenizers-0.10.1-cp37-cp37m-manylinux2010_x86_64.whl (3.2MB)\n",
            "\u001b[K     |████████████████████████████████| 3.2MB 49.2MB/s \n",
            "\u001b[?25hRequirement already satisfied: filelock in /usr/local/lib/python3.7/dist-packages (from transformers<5.0.0,>=3.1.0->sentence-transformers>=0.4.1->bertopic) (3.0.12)\n",
            "Requirement already satisfied: packaging in /usr/local/lib/python3.7/dist-packages (from transformers<5.0.0,>=3.1.0->sentence-transformers>=0.4.1->bertopic) (20.9)\n",
            "Collecting sacremoses\n",
            "\u001b[?25l  Downloading https://files.pythonhosted.org/packages/7d/34/09d19aff26edcc8eb2a01bed8e98f13a1537005d31e95233fd48216eed10/sacremoses-0.0.43.tar.gz (883kB)\n",
            "\u001b[K     |████████████████████████████████| 890kB 48.9MB/s \n",
            "\u001b[?25hRequirement already satisfied: regex!=2019.12.17 in /usr/local/lib/python3.7/dist-packages (from transformers<5.0.0,>=3.1.0->sentence-transformers>=0.4.1->bertopic) (2019.12.20)\n",
            "Requirement already satisfied: importlib-metadata; python_version < \"3.8\" in /usr/local/lib/python3.7/dist-packages (from transformers<5.0.0,>=3.1.0->sentence-transformers>=0.4.1->bertopic) (3.7.2)\n",
            "Requirement already satisfied: setuptools in /usr/local/lib/python3.7/dist-packages (from numba>=0.49->umap-learn>=0.5.0->bertopic) (54.1.2)\n",
            "Requirement already satisfied: llvmlite<0.35,>=0.34.0.dev0 in /usr/local/lib/python3.7/dist-packages (from numba>=0.49->umap-learn>=0.5.0->bertopic) (0.34.0)\n",
            "Requirement already satisfied: idna<3,>=2.5 in /usr/local/lib/python3.7/dist-packages (from requests->transformers<5.0.0,>=3.1.0->sentence-transformers>=0.4.1->bertopic) (2.10)\n",
            "Requirement already satisfied: certifi>=2017.4.17 in /usr/local/lib/python3.7/dist-packages (from requests->transformers<5.0.0,>=3.1.0->sentence-transformers>=0.4.1->bertopic) (2020.12.5)\n",
            "Requirement already satisfied: urllib3!=1.25.0,!=1.25.1,<1.26,>=1.21.1 in /usr/local/lib/python3.7/dist-packages (from requests->transformers<5.0.0,>=3.1.0->sentence-transformers>=0.4.1->bertopic) (1.24.3)\n",
            "Requirement already satisfied: chardet<4,>=3.0.2 in /usr/local/lib/python3.7/dist-packages (from requests->transformers<5.0.0,>=3.1.0->sentence-transformers>=0.4.1->bertopic) (3.0.4)\n",
            "Requirement already satisfied: pyparsing>=2.0.2 in /usr/local/lib/python3.7/dist-packages (from packaging->transformers<5.0.0,>=3.1.0->sentence-transformers>=0.4.1->bertopic) (2.4.7)\n",
            "Requirement already satisfied: click in /usr/local/lib/python3.7/dist-packages (from sacremoses->transformers<5.0.0,>=3.1.0->sentence-transformers>=0.4.1->bertopic) (7.1.2)\n",
            "Requirement already satisfied: zipp>=0.5 in /usr/local/lib/python3.7/dist-packages (from importlib-metadata; python_version < \"3.8\"->transformers<5.0.0,>=3.1.0->sentence-transformers>=0.4.1->bertopic) (3.4.1)\n",
            "Building wheels for collected packages: hdbscan\n",
            "  Building wheel for hdbscan (PEP 517) ... \u001b[?25l\u001b[?25hdone\n",
            "  Created wheel for hdbscan: filename=hdbscan-0.8.27-cp37-cp37m-linux_x86_64.whl size=2311703 sha256=b1c39c8dcdfb710f1322c83116ce961809f0dcafd0ae5478738f7747dd0a4fba\n",
            "  Stored in directory: /root/.cache/pip/wheels/42/63/fb/314ad6c3b270887a3ecb588b8e5aac50b0fad38ff89bb6dff2\n",
            "Successfully built hdbscan\n",
            "Building wheels for collected packages: sentence-transformers, sacremoses\n",
            "  Building wheel for sentence-transformers (setup.py) ... \u001b[?25l\u001b[?25hdone\n",
            "  Created wheel for sentence-transformers: filename=sentence_transformers-1.0.3-cp37-none-any.whl size=114277 sha256=2d93672f87d905ae7c5fcaa3a7c4f2c23866e11d0504b0b6d32357ab35346bc6\n",
            "  Stored in directory: /root/.cache/pip/wheels/c8/0d/fa/4e28cf045da4781344e7972befb2fdf306051b225bfc290187\n",
            "  Building wheel for sacremoses (setup.py) ... \u001b[?25l\u001b[?25hdone\n",
            "  Created wheel for sacremoses: filename=sacremoses-0.0.43-cp37-none-any.whl size=893262 sha256=a377d9ca0f16107bbeee2a270b53d3eb6601402d4bb14dc1d74645952f9ced88\n",
            "  Stored in directory: /root/.cache/pip/wheels/29/3c/fd/7ce5c3f0666dab31a50123635e6fb5e19ceb42ce38d4e58f45\n",
            "Successfully built sentence-transformers sacremoses\n",
            "Installing collected packages: tokenizers, sacremoses, transformers, sentencepiece, sentence-transformers, hdbscan, bertopic\n",
            "Successfully installed bertopic-0.6.0 hdbscan-0.8.27 sacremoses-0.0.43 sentence-transformers-1.0.3 sentencepiece-0.1.95 tokenizers-0.10.1 transformers-4.4.2\n",
            "Requirement already satisfied: bertopic[visualization] in /usr/local/lib/python3.7/dist-packages (0.6.0)\n",
            "Requirement already satisfied: torch>=1.4.0 in /usr/local/lib/python3.7/dist-packages (from bertopic[visualization]) (1.8.0+cu101)\n",
            "Requirement already satisfied: scikit-learn>=0.22.2.post1 in /usr/local/lib/python3.7/dist-packages (from bertopic[visualization]) (0.22.2.post1)\n",
            "Requirement already satisfied: pandas>=1.1.5 in /usr/local/lib/python3.7/dist-packages (from bertopic[visualization]) (1.1.5)\n",
            "Requirement already satisfied: hdbscan>=0.8.27 in /usr/local/lib/python3.7/dist-packages (from bertopic[visualization]) (0.8.27)\n",
            "Requirement already satisfied: umap-learn>=0.5.0 in /usr/local/lib/python3.7/dist-packages (from bertopic[visualization]) (0.5.1)\n",
            "Requirement already satisfied: tqdm>=4.41.1 in /usr/local/lib/python3.7/dist-packages (from bertopic[visualization]) (4.41.1)\n",
            "Requirement already satisfied: sentence-transformers>=0.4.1 in /usr/local/lib/python3.7/dist-packages (from bertopic[visualization]) (1.0.3)\n",
            "Requirement already satisfied: numpy>=1.19.2 in /usr/local/lib/python3.7/dist-packages (from bertopic[visualization]) (1.19.5)\n",
            "Collecting plotly<4.14.3,>=4.7.0; extra == \"visualization\"\n",
            "\u001b[?25l  Downloading https://files.pythonhosted.org/packages/9d/2e/69579c3db25fa4f85d70a10f8a98d52c2b4a0dcbd153e8f17f425761bef4/plotly-4.14.2-py2.py3-none-any.whl (13.2MB)\n",
            "\u001b[K     |████████████████████████████████| 13.2MB 6.3MB/s \n",
            "\u001b[?25hRequirement already satisfied: matplotlib>=3.2.2; extra == \"visualization\" in /usr/local/lib/python3.7/dist-packages (from bertopic[visualization]) (3.2.2)\n",
            "Requirement already satisfied: typing-extensions in /usr/local/lib/python3.7/dist-packages (from torch>=1.4.0->bertopic[visualization]) (3.7.4.3)\n",
            "Requirement already satisfied: joblib>=0.11 in /usr/local/lib/python3.7/dist-packages (from scikit-learn>=0.22.2.post1->bertopic[visualization]) (1.0.1)\n",
            "Requirement already satisfied: scipy>=0.17.0 in /usr/local/lib/python3.7/dist-packages (from scikit-learn>=0.22.2.post1->bertopic[visualization]) (1.4.1)\n",
            "Requirement already satisfied: pytz>=2017.2 in /usr/local/lib/python3.7/dist-packages (from pandas>=1.1.5->bertopic[visualization]) (2018.9)\n",
            "Requirement already satisfied: python-dateutil>=2.7.3 in /usr/local/lib/python3.7/dist-packages (from pandas>=1.1.5->bertopic[visualization]) (2.8.1)\n",
            "Requirement already satisfied: six in /usr/local/lib/python3.7/dist-packages (from hdbscan>=0.8.27->bertopic[visualization]) (1.15.0)\n",
            "Requirement already satisfied: cython>=0.27 in /usr/local/lib/python3.7/dist-packages (from hdbscan>=0.8.27->bertopic[visualization]) (0.29.22)\n",
            "Requirement already satisfied: numba>=0.49 in /usr/local/lib/python3.7/dist-packages (from umap-learn>=0.5.0->bertopic[visualization]) (0.51.2)\n",
            "Requirement already satisfied: pynndescent>=0.5 in /usr/local/lib/python3.7/dist-packages (from umap-learn>=0.5.0->bertopic[visualization]) (0.5.2)\n",
            "Requirement already satisfied: sentencepiece in /usr/local/lib/python3.7/dist-packages (from sentence-transformers>=0.4.1->bertopic[visualization]) (0.1.95)\n",
            "Requirement already satisfied: transformers<5.0.0,>=3.1.0 in /usr/local/lib/python3.7/dist-packages (from sentence-transformers>=0.4.1->bertopic[visualization]) (4.4.2)\n",
            "Requirement already satisfied: nltk in /usr/local/lib/python3.7/dist-packages (from sentence-transformers>=0.4.1->bertopic[visualization]) (3.2.5)\n",
            "Requirement already satisfied: retrying>=1.3.3 in /usr/local/lib/python3.7/dist-packages (from plotly<4.14.3,>=4.7.0; extra == \"visualization\"->bertopic[visualization]) (1.3.3)\n",
            "Requirement already satisfied: cycler>=0.10 in /usr/local/lib/python3.7/dist-packages (from matplotlib>=3.2.2; extra == \"visualization\"->bertopic[visualization]) (0.10.0)\n",
            "Requirement already satisfied: pyparsing!=2.0.4,!=2.1.2,!=2.1.6,>=2.0.1 in /usr/local/lib/python3.7/dist-packages (from matplotlib>=3.2.2; extra == \"visualization\"->bertopic[visualization]) (2.4.7)\n",
            "Requirement already satisfied: kiwisolver>=1.0.1 in /usr/local/lib/python3.7/dist-packages (from matplotlib>=3.2.2; extra == \"visualization\"->bertopic[visualization]) (1.3.1)\n",
            "Requirement already satisfied: setuptools in /usr/local/lib/python3.7/dist-packages (from numba>=0.49->umap-learn>=0.5.0->bertopic[visualization]) (54.1.2)\n",
            "Requirement already satisfied: llvmlite<0.35,>=0.34.0.dev0 in /usr/local/lib/python3.7/dist-packages (from numba>=0.49->umap-learn>=0.5.0->bertopic[visualization]) (0.34.0)\n",
            "Requirement already satisfied: requests in /usr/local/lib/python3.7/dist-packages (from transformers<5.0.0,>=3.1.0->sentence-transformers>=0.4.1->bertopic[visualization]) (2.23.0)\n",
            "Requirement already satisfied: tokenizers<0.11,>=0.10.1 in /usr/local/lib/python3.7/dist-packages (from transformers<5.0.0,>=3.1.0->sentence-transformers>=0.4.1->bertopic[visualization]) (0.10.1)\n",
            "Requirement already satisfied: importlib-metadata; python_version < \"3.8\" in /usr/local/lib/python3.7/dist-packages (from transformers<5.0.0,>=3.1.0->sentence-transformers>=0.4.1->bertopic[visualization]) (3.7.2)\n",
            "Requirement already satisfied: filelock in /usr/local/lib/python3.7/dist-packages (from transformers<5.0.0,>=3.1.0->sentence-transformers>=0.4.1->bertopic[visualization]) (3.0.12)\n",
            "Requirement already satisfied: regex!=2019.12.17 in /usr/local/lib/python3.7/dist-packages (from transformers<5.0.0,>=3.1.0->sentence-transformers>=0.4.1->bertopic[visualization]) (2019.12.20)\n",
            "Requirement already satisfied: sacremoses in /usr/local/lib/python3.7/dist-packages (from transformers<5.0.0,>=3.1.0->sentence-transformers>=0.4.1->bertopic[visualization]) (0.0.43)\n",
            "Requirement already satisfied: packaging in /usr/local/lib/python3.7/dist-packages (from transformers<5.0.0,>=3.1.0->sentence-transformers>=0.4.1->bertopic[visualization]) (20.9)\n",
            "Requirement already satisfied: chardet<4,>=3.0.2 in /usr/local/lib/python3.7/dist-packages (from requests->transformers<5.0.0,>=3.1.0->sentence-transformers>=0.4.1->bertopic[visualization]) (3.0.4)\n",
            "Requirement already satisfied: urllib3!=1.25.0,!=1.25.1,<1.26,>=1.21.1 in /usr/local/lib/python3.7/dist-packages (from requests->transformers<5.0.0,>=3.1.0->sentence-transformers>=0.4.1->bertopic[visualization]) (1.24.3)\n",
            "Requirement already satisfied: idna<3,>=2.5 in /usr/local/lib/python3.7/dist-packages (from requests->transformers<5.0.0,>=3.1.0->sentence-transformers>=0.4.1->bertopic[visualization]) (2.10)\n",
            "Requirement already satisfied: certifi>=2017.4.17 in /usr/local/lib/python3.7/dist-packages (from requests->transformers<5.0.0,>=3.1.0->sentence-transformers>=0.4.1->bertopic[visualization]) (2020.12.5)\n",
            "Requirement already satisfied: zipp>=0.5 in /usr/local/lib/python3.7/dist-packages (from importlib-metadata; python_version < \"3.8\"->transformers<5.0.0,>=3.1.0->sentence-transformers>=0.4.1->bertopic[visualization]) (3.4.1)\n",
            "Requirement already satisfied: click in /usr/local/lib/python3.7/dist-packages (from sacremoses->transformers<5.0.0,>=3.1.0->sentence-transformers>=0.4.1->bertopic[visualization]) (7.1.2)\n",
            "Installing collected packages: plotly\n",
            "  Found existing installation: plotly 4.4.1\n",
            "    Uninstalling plotly-4.4.1:\n",
            "      Successfully uninstalled plotly-4.4.1\n",
            "Successfully installed plotly-4.14.2\n",
            "Requirement already satisfied: bertopic[flair] in /usr/local/lib/python3.7/dist-packages (0.6.0)\n",
            "Requirement already satisfied: tqdm>=4.41.1 in /usr/local/lib/python3.7/dist-packages (from bertopic[flair]) (4.41.1)\n",
            "Requirement already satisfied: pandas>=1.1.5 in /usr/local/lib/python3.7/dist-packages (from bertopic[flair]) (1.1.5)\n",
            "Requirement already satisfied: torch>=1.4.0 in /usr/local/lib/python3.7/dist-packages (from bertopic[flair]) (1.8.0+cu101)\n",
            "Requirement already satisfied: sentence-transformers>=0.4.1 in /usr/local/lib/python3.7/dist-packages (from bertopic[flair]) (1.0.3)\n",
            "Requirement already satisfied: umap-learn>=0.5.0 in /usr/local/lib/python3.7/dist-packages (from bertopic[flair]) (0.5.1)\n",
            "Requirement already satisfied: numpy>=1.19.2 in /usr/local/lib/python3.7/dist-packages (from bertopic[flair]) (1.19.5)\n",
            "Requirement already satisfied: hdbscan>=0.8.27 in /usr/local/lib/python3.7/dist-packages (from bertopic[flair]) (0.8.27)\n",
            "Requirement already satisfied: scikit-learn>=0.22.2.post1 in /usr/local/lib/python3.7/dist-packages (from bertopic[flair]) (0.22.2.post1)\n",
            "Collecting flair==0.7; extra == \"flair\"\n",
            "\u001b[?25l  Downloading https://files.pythonhosted.org/packages/68/a0/a1b41fa2fcb23ff71ba9148af75211dcccc35b256dea821b36e1ee871848/flair-0.7-py3-none-any.whl (448kB)\n",
            "\u001b[K     |████████████████████████████████| 450kB 8.3MB/s \n",
            "\u001b[?25hRequirement already satisfied: pytz>=2017.2 in /usr/local/lib/python3.7/dist-packages (from pandas>=1.1.5->bertopic[flair]) (2018.9)\n",
            "Requirement already satisfied: python-dateutil>=2.7.3 in /usr/local/lib/python3.7/dist-packages (from pandas>=1.1.5->bertopic[flair]) (2.8.1)\n",
            "Requirement already satisfied: typing-extensions in /usr/local/lib/python3.7/dist-packages (from torch>=1.4.0->bertopic[flair]) (3.7.4.3)\n",
            "Requirement already satisfied: scipy in /usr/local/lib/python3.7/dist-packages (from sentence-transformers>=0.4.1->bertopic[flair]) (1.4.1)\n",
            "Requirement already satisfied: nltk in /usr/local/lib/python3.7/dist-packages (from sentence-transformers>=0.4.1->bertopic[flair]) (3.2.5)\n",
            "Requirement already satisfied: sentencepiece in /usr/local/lib/python3.7/dist-packages (from sentence-transformers>=0.4.1->bertopic[flair]) (0.1.95)\n",
            "Requirement already satisfied: transformers<5.0.0,>=3.1.0 in /usr/local/lib/python3.7/dist-packages (from sentence-transformers>=0.4.1->bertopic[flair]) (4.4.2)\n",
            "Requirement already satisfied: numba>=0.49 in /usr/local/lib/python3.7/dist-packages (from umap-learn>=0.5.0->bertopic[flair]) (0.51.2)\n",
            "Requirement already satisfied: pynndescent>=0.5 in /usr/local/lib/python3.7/dist-packages (from umap-learn>=0.5.0->bertopic[flair]) (0.5.2)\n",
            "Requirement already satisfied: joblib>=1.0 in /usr/local/lib/python3.7/dist-packages (from hdbscan>=0.8.27->bertopic[flair]) (1.0.1)\n",
            "Requirement already satisfied: six in /usr/local/lib/python3.7/dist-packages (from hdbscan>=0.8.27->bertopic[flair]) (1.15.0)\n",
            "Requirement already satisfied: cython>=0.27 in /usr/local/lib/python3.7/dist-packages (from hdbscan>=0.8.27->bertopic[flair]) (0.29.22)\n",
            "Requirement already satisfied: gensim<=3.8.3,>=3.4.0 in /usr/local/lib/python3.7/dist-packages (from flair==0.7; extra == \"flair\"->bertopic[flair]) (3.8.3)\n",
            "Requirement already satisfied: gdown in /usr/local/lib/python3.7/dist-packages (from flair==0.7; extra == \"flair\"->bertopic[flair]) (3.6.4)\n",
            "Collecting ftfy\n",
            "\u001b[?25l  Downloading https://files.pythonhosted.org/packages/04/06/e5c80e2e0f979628d47345efba51f7ba386fe95963b11c594209085f5a9b/ftfy-5.9.tar.gz (66kB)\n",
            "\u001b[K     |████████████████████████████████| 71kB 6.1MB/s \n",
            "\u001b[?25hRequirement already satisfied: regex in /usr/local/lib/python3.7/dist-packages (from flair==0.7; extra == \"flair\"->bertopic[flair]) (2019.12.20)\n",
            "Collecting janome\n",
            "\u001b[?25l  Downloading https://files.pythonhosted.org/packages/a8/63/98858cbead27df7536c7e300c169da0999e9704d02220dc6700b804eeff0/Janome-0.4.1-py2.py3-none-any.whl (19.7MB)\n",
            "\u001b[K     |████████████████████████████████| 19.7MB 1.5MB/s \n",
            "\u001b[?25hCollecting bpemb>=0.3.2\n",
            "  Downloading https://files.pythonhosted.org/packages/91/77/3f0f53856e86af32b1d3c86652815277f7b5f880002584eb30db115b6df5/bpemb-0.3.2-py3-none-any.whl\n",
            "Collecting langdetect\n",
            "\u001b[?25l  Downloading https://files.pythonhosted.org/packages/56/a3/8407c1e62d5980188b4acc45ef3d94b933d14a2ebc9ef3505f22cf772570/langdetect-1.0.8.tar.gz (981kB)\n",
            "\u001b[K     |████████████████████████████████| 983kB 39.3MB/s \n",
            "\u001b[?25hRequirement already satisfied: tabulate in /usr/local/lib/python3.7/dist-packages (from flair==0.7; extra == \"flair\"->bertopic[flair]) (0.8.9)\n",
            "Requirement already satisfied: lxml in /usr/local/lib/python3.7/dist-packages (from flair==0.7; extra == \"flair\"->bertopic[flair]) (4.2.6)\n",
            "Collecting konoha<5.0.0,>=4.0.0\n",
            "  Downloading https://files.pythonhosted.org/packages/02/be/4dd30d56a0a19619deb9bf41ba8202709fa83b1b301b876572cd6dc38117/konoha-4.6.4-py3-none-any.whl\n",
            "Collecting sqlitedict>=1.6.0\n",
            "  Downloading https://files.pythonhosted.org/packages/5c/2d/b1d99e9ad157dd7de9cd0d36a8a5876b13b55e4b75f7498bc96035fb4e96/sqlitedict-1.7.0.tar.gz\n",
            "Requirement already satisfied: hyperopt>=0.1.1 in /usr/local/lib/python3.7/dist-packages (from flair==0.7; extra == \"flair\"->bertopic[flair]) (0.1.2)\n",
            "Requirement already satisfied: segtok>=1.5.7 in /usr/local/lib/python3.7/dist-packages (from flair==0.7; extra == \"flair\"->bertopic[flair]) (1.5.10)\n",
            "Collecting mpld3==0.3\n",
            "\u001b[?25l  Downloading https://files.pythonhosted.org/packages/91/95/a52d3a83d0a29ba0d6898f6727e9858fe7a43f6c2ce81a5fe7e05f0f4912/mpld3-0.3.tar.gz (788kB)\n",
            "\u001b[K     |████████████████████████████████| 798kB 37.0MB/s \n",
            "\u001b[?25hCollecting deprecated>=1.2.4\n",
            "  Downloading https://files.pythonhosted.org/packages/fb/73/994edfcba74443146c84b91921fcc269374354118d4f452fb0c54c1cbb12/Deprecated-1.2.12-py2.py3-none-any.whl\n",
            "Requirement already satisfied: matplotlib>=2.2.3 in /usr/local/lib/python3.7/dist-packages (from flair==0.7; extra == \"flair\"->bertopic[flair]) (3.2.2)\n",
            "Requirement already satisfied: filelock in /usr/local/lib/python3.7/dist-packages (from transformers<5.0.0,>=3.1.0->sentence-transformers>=0.4.1->bertopic[flair]) (3.0.12)\n",
            "Requirement already satisfied: tokenizers<0.11,>=0.10.1 in /usr/local/lib/python3.7/dist-packages (from transformers<5.0.0,>=3.1.0->sentence-transformers>=0.4.1->bertopic[flair]) (0.10.1)\n",
            "Requirement already satisfied: requests in /usr/local/lib/python3.7/dist-packages (from transformers<5.0.0,>=3.1.0->sentence-transformers>=0.4.1->bertopic[flair]) (2.23.0)\n",
            "Requirement already satisfied: sacremoses in /usr/local/lib/python3.7/dist-packages (from transformers<5.0.0,>=3.1.0->sentence-transformers>=0.4.1->bertopic[flair]) (0.0.43)\n",
            "Requirement already satisfied: importlib-metadata; python_version < \"3.8\" in /usr/local/lib/python3.7/dist-packages (from transformers<5.0.0,>=3.1.0->sentence-transformers>=0.4.1->bertopic[flair]) (3.7.2)\n",
            "Requirement already satisfied: packaging in /usr/local/lib/python3.7/dist-packages (from transformers<5.0.0,>=3.1.0->sentence-transformers>=0.4.1->bertopic[flair]) (20.9)\n",
            "Requirement already satisfied: llvmlite<0.35,>=0.34.0.dev0 in /usr/local/lib/python3.7/dist-packages (from numba>=0.49->umap-learn>=0.5.0->bertopic[flair]) (0.34.0)\n",
            "Requirement already satisfied: setuptools in /usr/local/lib/python3.7/dist-packages (from numba>=0.49->umap-learn>=0.5.0->bertopic[flair]) (54.1.2)\n",
            "Requirement already satisfied: smart-open>=1.8.1 in /usr/local/lib/python3.7/dist-packages (from gensim<=3.8.3,>=3.4.0->flair==0.7; extra == \"flair\"->bertopic[flair]) (4.2.0)\n",
            "Requirement already satisfied: wcwidth in /usr/local/lib/python3.7/dist-packages (from ftfy->flair==0.7; extra == \"flair\"->bertopic[flair]) (0.2.5)\n",
            "Collecting overrides<4.0.0,>=3.0.0\n",
            "  Downloading https://files.pythonhosted.org/packages/ff/b1/10f69c00947518e6676bbd43e739733048de64b8dd998e9c2d5a71f44c5d/overrides-3.1.0.tar.gz\n",
            "Requirement already satisfied: networkx in /usr/local/lib/python3.7/dist-packages (from hyperopt>=0.1.1->flair==0.7; extra == \"flair\"->bertopic[flair]) (2.5)\n",
            "Requirement already satisfied: future in /usr/local/lib/python3.7/dist-packages (from hyperopt>=0.1.1->flair==0.7; extra == \"flair\"->bertopic[flair]) (0.16.0)\n",
            "Requirement already satisfied: pymongo in /usr/local/lib/python3.7/dist-packages (from hyperopt>=0.1.1->flair==0.7; extra == \"flair\"->bertopic[flair]) (3.11.3)\n",
            "Requirement already satisfied: wrapt<2,>=1.10 in /usr/local/lib/python3.7/dist-packages (from deprecated>=1.2.4->flair==0.7; extra == \"flair\"->bertopic[flair]) (1.12.1)\n",
            "Requirement already satisfied: pyparsing!=2.0.4,!=2.1.2,!=2.1.6,>=2.0.1 in /usr/local/lib/python3.7/dist-packages (from matplotlib>=2.2.3->flair==0.7; extra == \"flair\"->bertopic[flair]) (2.4.7)\n",
            "Requirement already satisfied: kiwisolver>=1.0.1 in /usr/local/lib/python3.7/dist-packages (from matplotlib>=2.2.3->flair==0.7; extra == \"flair\"->bertopic[flair]) (1.3.1)\n",
            "Requirement already satisfied: cycler>=0.10 in /usr/local/lib/python3.7/dist-packages (from matplotlib>=2.2.3->flair==0.7; extra == \"flair\"->bertopic[flair]) (0.10.0)\n",
            "Requirement already satisfied: urllib3!=1.25.0,!=1.25.1,<1.26,>=1.21.1 in /usr/local/lib/python3.7/dist-packages (from requests->transformers<5.0.0,>=3.1.0->sentence-transformers>=0.4.1->bertopic[flair]) (1.24.3)\n",
            "Requirement already satisfied: chardet<4,>=3.0.2 in /usr/local/lib/python3.7/dist-packages (from requests->transformers<5.0.0,>=3.1.0->sentence-transformers>=0.4.1->bertopic[flair]) (3.0.4)\n",
            "Requirement already satisfied: idna<3,>=2.5 in /usr/local/lib/python3.7/dist-packages (from requests->transformers<5.0.0,>=3.1.0->sentence-transformers>=0.4.1->bertopic[flair]) (2.10)\n",
            "Requirement already satisfied: certifi>=2017.4.17 in /usr/local/lib/python3.7/dist-packages (from requests->transformers<5.0.0,>=3.1.0->sentence-transformers>=0.4.1->bertopic[flair]) (2020.12.5)\n",
            "Requirement already satisfied: click in /usr/local/lib/python3.7/dist-packages (from sacremoses->transformers<5.0.0,>=3.1.0->sentence-transformers>=0.4.1->bertopic[flair]) (7.1.2)\n",
            "Requirement already satisfied: zipp>=0.5 in /usr/local/lib/python3.7/dist-packages (from importlib-metadata; python_version < \"3.8\"->transformers<5.0.0,>=3.1.0->sentence-transformers>=0.4.1->bertopic[flair]) (3.4.1)\n",
            "Requirement already satisfied: decorator>=4.3.0 in /usr/local/lib/python3.7/dist-packages (from networkx->hyperopt>=0.1.1->flair==0.7; extra == \"flair\"->bertopic[flair]) (4.4.2)\n",
            "Building wheels for collected packages: ftfy, langdetect, sqlitedict, mpld3, overrides\n",
            "  Building wheel for ftfy (setup.py) ... \u001b[?25l\u001b[?25hdone\n",
            "  Created wheel for ftfy: filename=ftfy-5.9-cp37-none-any.whl size=46451 sha256=30637ac048c737955b8275a25fa961f17bb8ca9385b737bd423589ea25f102a4\n",
            "  Stored in directory: /root/.cache/pip/wheels/5e/2e/f0/b07196e8c929114998f0316894a61c752b63bfa3fdd50d2fc3\n",
            "  Building wheel for langdetect (setup.py) ... \u001b[?25l\u001b[?25hdone\n",
            "  Created wheel for langdetect: filename=langdetect-1.0.8-cp37-none-any.whl size=993193 sha256=5104ed6d38d1ce7e1189744cabe80d870830381805228ee61a619676f74555a0\n",
            "  Stored in directory: /root/.cache/pip/wheels/8d/b3/aa/6d99de9f3841d7d3d40a60ea06e6d669e8e5012e6c8b947a57\n",
            "  Building wheel for sqlitedict (setup.py) ... \u001b[?25l\u001b[?25hdone\n",
            "  Created wheel for sqlitedict: filename=sqlitedict-1.7.0-cp37-none-any.whl size=14376 sha256=85679715f113116a9e53d48ca2346d276846dc8a9bd186d62970cd1239814416\n",
            "  Stored in directory: /root/.cache/pip/wheels/cf/c6/4f/2c64a43f041415eb8b8740bd80e15e92f0d46c5e464d8e4b9b\n",
            "  Building wheel for mpld3 (setup.py) ... \u001b[?25l\u001b[?25hdone\n",
            "  Created wheel for mpld3: filename=mpld3-0.3-cp37-none-any.whl size=116679 sha256=96a9db25ddbd9454a7ddd1fa9986b2c25a6fa355138046e7b06f2d1ccd255759\n",
            "  Stored in directory: /root/.cache/pip/wheels/c0/47/fb/8a64f89aecfe0059830479308ad42d62e898a3e3cefdf6ba28\n",
            "  Building wheel for overrides (setup.py) ... \u001b[?25l\u001b[?25hdone\n",
            "  Created wheel for overrides: filename=overrides-3.1.0-cp37-none-any.whl size=10174 sha256=7b88884348c371a95eb9ee45b52379af96d627fd636a557f0c385eec0dcc0b9a\n",
            "  Stored in directory: /root/.cache/pip/wheels/5c/24/13/6ef8600e6f147c95e595f1289a86a3cc82ed65df57582c65a9\n",
            "Successfully built ftfy langdetect sqlitedict mpld3 overrides\n",
            "\u001b[31mERROR: konoha 4.6.4 has requirement requests<3.0.0,>=2.25.1, but you'll have requests 2.23.0 which is incompatible.\u001b[0m\n",
            "\u001b[31mERROR: flair 0.7 has requirement sentencepiece<=0.1.91, but you'll have sentencepiece 0.1.95 which is incompatible.\u001b[0m\n",
            "\u001b[31mERROR: flair 0.7 has requirement transformers<=3.5.1,>=3.5.0, but you'll have transformers 4.4.2 which is incompatible.\u001b[0m\n",
            "Installing collected packages: ftfy, janome, bpemb, langdetect, overrides, konoha, sqlitedict, mpld3, deprecated, flair\n",
            "Successfully installed bpemb-0.3.2 deprecated-1.2.12 flair-0.7 ftfy-5.9 janome-0.4.1 konoha-4.6.4 langdetect-1.0.8 mpld3-0.3 overrides-3.1.0 sqlitedict-1.7.0\n"
          ],
          "name": "stdout"
        }
      ]
    },
    {
      "cell_type": "code",
      "metadata": {
        "colab": {
          "base_uri": "https://localhost:8080/"
        },
        "id": "mA1kBVWvLwhB",
        "outputId": "6aa19457-5ace-49ba-a09e-2f1be9e7305a"
      },
      "source": [
        "import nltk\n",
        "\n",
        "nltk.download('punkt', quiet=True)\n",
        "nltk.download('wordnet', quiet=True)\n",
        "nltk.download('stopwords', quiet=True)\n",
        "nltk.download('averaged_perceptron_tagger', quiet=True)"
      ],
      "execution_count": null,
      "outputs": [
        {
          "output_type": "execute_result",
          "data": {
            "text/plain": [
              "True"
            ]
          },
          "metadata": {
            "tags": []
          },
          "execution_count": 5
        }
      ]
    },
    {
      "cell_type": "markdown",
      "metadata": {
        "id": "g-aqS-QuLrsi"
      },
      "source": [
        "# Data"
      ]
    },
    {
      "cell_type": "code",
      "metadata": {
        "id": "ojYJCAZ89_y4"
      },
      "source": [
        "text = \"\"\"10 best avocado recipes\n",
        "100 avocado recipes\n",
        "13 avocado recipes tasty\n",
        "20 amazing paleo avocado recipes\n",
        "20 avocado recipes for kids super healthy kids\n",
        "21 day fix avocado recipes\n",
        "50 avocado recipes\n",
        "aip avocado recipes\n",
        "air fryer recipes avocado\n",
        "alkaline avocado recipes\n",
        "all recipes avocado\n",
        "all recipes avocado brownies\n",
        "all recipes avocado fries\n",
        "all recipes avocado salsa\n",
        "all recipes avocado toast\n",
        "all recipes mango avocado salsa\n",
        "amazing avocado recipes\n",
        "artichoke and avocado recipes\n",
        "arugula avocado smoothie recipes\n",
        "asian avocado recipes\n",
        "asian recipes with avocado\n",
        "asparagus avocado recipes\n",
        "asparagus avocado salad recipes\n",
        "atkins avocado recipes\n",
        "atkins induction avocado recipes\n",
        "australian avocado recipes\n",
        "australian avocado toast recipe\n",
        "avocado a day recipes\n",
        "avocado and asparagus recipes\n",
        "avocado and bacon pasta recipes\n",
        "avocado and bacon recipes\n",
        "avocado and bagel recipes\n",
        "avocado and banana recipes\n",
        "avocado and banana recipes for baby\n",
        "avocado and basil recipes\n",
        "avocado and beef recipes\n",
        "avocado and black bean recipes\n",
        "avocado and cheese recipes\n",
        "avocado and chicken recipes\n",
        "avocado and chicken recipes easy\n",
        "avocado and cottage cheese recipes\n",
        "avocado and crab meat recipes\n",
        "avocado and crab recipes\n",
        "avocado and cream cheese recipes\n",
        "avocado and cucumber recipes\n",
        "avocado and egg dinner recipes\n",
        "avocado and egg on toast recipe\n",
        "avocado and egg recipe\n",
        "avocado and egg recipes\n",
        "avocado and egg recipes dinner\n",
        "avocado and egg recipes for babies\n",
        "avocado and egg recipes for breakfast\n",
        "avocado and egg recipes keto\n",
        "avocado and egg recipes uk\n",
        "avocado and fruit recipes\n",
        "avocado and goat cheese recipes\n",
        "avocado and ground beef recipes\n",
        "avocado and halloumi recipes\n",
        "avocado and ham recipes\n",
        "avocado and ham sandwich recipes\n",
        "avocado and hamburger recipes\n",
        "avocado and kale recipes\n",
        "avocado and lemon recipes\n",
        "avocado and lime recipes\n",
        "avocado and mango recipes\n",
        "avocado and meat recipes\n",
        "avocado and mozzarella recipes\n",
        "avocado and nuts recipes\n",
        "avocado and oatmeal recipe\n",
        "avocado and orange salad recipes\n",
        "avocado and pear recipes\n",
        "avocado and potato recipes\n",
        "avocado and prawn recipes\n",
        "avocado and prawn recipes starters\n",
        "avocado and prawn starter recipes\n",
        "avocado and quinoa recipes\n",
        "avocado and rice recipes\n",
        "avocado and salmon recipes\n",
        "avocado and scrambled egg recipes\n",
        "avocado and shrimp appetizer recipes\n",
        "avocado and shrimp recipe\n",
        "avocado and shrimp recipes\n",
        "avocado and smoked salmon recipes\n",
        "avocado and strawberry recipes\n",
        "avocado and toast recipe\n",
        "avocado and tofu recipes\n",
        "avocado and tomato recipes\n",
        "avocado and turkey recipes\n",
        "avocado and zucchini recipes\n",
        "avocado appetizer recipes\n",
        "avocado australia recipes\n",
        "avocado baby food recipes\n",
        "avocado baby food recipes ideas\n",
        "avocado baby recipes\n",
        "avocado bacon and egg recipe\n",
        "avocado bacon appetizer recipes\n",
        "avocado bacon egg toast recipe\n",
        "avocado bacon recipes\n",
        "avocado bagel recipes\n",
        "avocado baguette recipes\n",
        "avocado baked recipes\n",
        "avocado baking recipe\n",
        "avocado baking recipes\n",
        "avocado baking recipes nz\n",
        "avocado baking recipes uk\n",
        "avocado balsamic vinaigrette recipes\n",
        "avocado banana dessert recipes\n",
        "avocado banana smoothie recipe\n",
        "avocado banana spread recipes\n",
        "avocado based recipes\n",
        "avocado based salad dressing recipes\n",
        "avocado based vegan recipes\n",
        "avocado bbq recipes\n",
        "avocado bean salad recipes\n",
        "avocado beauty recipes\n",
        "avocado beef recipes\n",
        "avocado berry smoothie recipe\n",
        "avocado beverage recipes\n",
        "avocado black bean recipes\n",
        "avocado board recipes\n",
        "avocado boat recipes\n",
        "avocado boba smoothie recipe\n",
        "avocado bowl recipes\n",
        "avocado breakfast recipe\n",
        "avocado breakfast recipes\n",
        "avocado breakfast recipes for babies\n",
        "avocado breakfast recipes for toddlers\n",
        "avocado breakfast recipes for weight loss\n",
        "avocado breakfast recipes healthy\n",
        "avocado breakfast recipes keto\n",
        "avocado breakfast recipes no bread\n",
        "avocado breakfast recipes no egg\n",
        "avocado breakfast recipes uk\n",
        "avocado breakfast recipes vegan\n",
        "avocado breakfast recipes without bread\n",
        "avocado breakfast recipes without egg\n",
        "avocado breakfast sandwich recipes\n",
        "avocado brownie recipe\n",
        "avocado brownies recipe\n",
        "avocado brunch recipes\n",
        "avocado bruschetta recipes\n",
        "avocado burger recipes\n",
        "avocado butter for hair recipe\n",
        "avocado butter recipe for hair\n",
        "avocado butter recipe for skin\n",
        "avocado cake recipe\n",
        "avocado cake recipe vegan\n",
        "avocado cake recipes\n",
        "avocado cake recipes easy\n",
        "avocado cake recipes easy uk\n",
        "avocado cake recipes uk\n",
        "avocado canapes recipes\n",
        "avocado casserole recipes\n",
        "avocado caviar recipes\n",
        "avocado cheese cake recipes\n",
        "avocado cheese recipes\n",
        "avocado chicken pasta recipes\n",
        "avocado chicken recipe\n",
        "avocado chicken recipes\n",
        "avocado chicken recipes with rice\n",
        "avocado chicken salad recipe\n",
        "avocado chicken salad recipes\n",
        "avocado chicken salad sandwich recipes\n",
        "avocado chinese recipes\n",
        "avocado chocolate bar recipes\n",
        "avocado chocolate cake recipes\n",
        "avocado chocolate recipes\n",
        "avocado christmas recipes\n",
        "avocado chunks recipes\n",
        "avocado cocktail recipes\n",
        "avocado coffee smoothie recipe\n",
        "avocado condensed milk recipe\n",
        "avocado cottage cheese recipes\n",
        "avocado crab meat recipes\n",
        "avocado cracker recipes\n",
        "avocado crackers recipes\n",
        "avocado cream sauce recipe for fish tacos\n",
        "avocado crema recipe\n",
        "avocado crema recipe for tacos\n",
        "avocado crema recipe vegan\n",
        "avocado cupcake recipes easy\n",
        "avocado desi recipes\n",
        "avocado dessert recipe\n",
        "avocado dessert recipes\n",
        "avocado dessert recipes asian\n",
        "avocado dessert recipes easy\n",
        "avocado dessert recipes filipino\n",
        "avocado dessert recipes healthy\n",
        "avocado dessert recipes indian\n",
        "avocado dessert recipes keto\n",
        "avocado dessert recipes nz\n",
        "avocado dessert recipes uk\n",
        "avocado dessert recipes vegan\n",
        "avocado dessert vegan recipes\n",
        "avocado desserts recipes\n",
        "avocado detox smoothie recipe\n",
        "avocado deviled egg recipe\n",
        "avocado deviled egg recipes\n",
        "avocado deviled eggs recipe\n",
        "avocado deviled eggs recipe with cilantro\n",
        "avocado diet recipes\n",
        "avocado dinner recipe\n",
        "avocado dinner recipes\n",
        "avocado dinner recipes baby\n",
        "avocado dinner recipes easy\n",
        "avocado dinner recipes for babies\n",
        "avocado dinner recipes healthy\n",
        "avocado dinner recipes indian\n",
        "avocado dinner recipes keto\n",
        "avocado dinner recipes vegan\n",
        "avocado dinner recipes vegetarian\n",
        "avocado dip for nachos recipe\n",
        "avocado dip guacamole recipes\n",
        "avocado dip recipe\n",
        "avocado dip recipe guacamole\n",
        "avocado dip recipe vegan\n",
        "avocado dip recipe with mayonnaise\n",
        "avocado dip recipe with sour cream\n",
        "avocado dip recipe youtube\n",
        "avocado dip recipes\n",
        "avocado dip recipes easy\n",
        "avocado dip recipes for chips\n",
        "avocado dip recipes keto\n",
        "avocado dip recipes uk\n",
        "avocado dip recipes vegan\n",
        "avocado dip recipes with cream cheese\n",
        "avocado dip recipes with garlic\n",
        "avocado dip recipes with mayo\n",
        "avocado dip recipes with sour cream\n",
        "avocado dip recipes yogurt\n",
        "avocado dip with sour cream recipes\n",
        "avocado dips recipe\n",
        "avocado dish recipes\n",
        "avocado dress recipe\n",
        "avocado dressing keto recipes\n",
        "avocado dressing recipe\n",
        "avocado dressing recipe dairy free\n",
        "avocado dressing recipe easy\n",
        "avocado dressing recipe healthy\n",
        "avocado dressing recipe keto\n",
        "avocado dressing recipe no cilantro\n",
        "avocado dressing recipe no oil\n",
        "avocado dressing recipe uk\n",
        "avocado dressing recipe vegan\n",
        "avocado dressing recipe without yogurt\n",
        "avocado dressing recipes\n",
        "avocado dressing salad recipe\n",
        "avocado dressing vegan recipe\n",
        "avocado drink recipes\n",
        "avocado easy vegan recipes\n",
        "avocado egg and tuna recipes\n",
        "avocado egg breakfast recipes\n",
        "avocado egg recipe\n",
        "avocado egg recipes breakfast\n",
        "avocado egg roll recipe\n",
        "avocado egg roll recipes\n",
        "avocado egg rolls recipe\n",
        "avocado egg salad recipe\n",
        "avocado egg salad recipe with asparagus\n",
        "avocado egg salad recipe with mayo\n",
        "avocado egg salad sandwiches recipes\n",
        "avocado egg toast recipe\n",
        "avocado eggs recipe\n",
        "avocado entree recipes\n",
        "avocado entree recipes vegetarian\n",
        "avocado feta cheese recipes\n",
        "avocado filling recipes\n",
        "avocado flatbread recipe\n",
        "avocado for weight loss recipes\n",
        "avocado french toast recipe\n",
        "avocado fries recipe\n",
        "avocado fries recipes\n",
        "avocado from mexico recipes\n",
        "avocado fruit recipes\n",
        "avocado fruit recipes in tamil\n",
        "avocado fruit smoothie recipes\n",
        "avocado fudge recipes\n",
        "avocado gluten free recipes\n",
        "avocado greek yogurt recipes\n",
        "avocado green salad recipes\n",
        "avocado green smoothie recipe\n",
        "avocado green smoothie recipes\n",
        "avocado grill recipe\n",
        "avocado grilled cheese recipes\n",
        "avocado growers association recipes\n",
        "avocado guacamole recipe\n",
        "avocado hair mask recipe for curly hair\n",
        "avocado hair mask recipe for hair growth\n",
        "avocado hair mask recipe for natural hair\n",
        "avocado hair treatment recipe for natural hair\n",
        "avocado half recipes\n",
        "avocado half shell recipes\n",
        "avocado halves recipes\n",
        "avocado hater recipes\n",
        "avocado healthy dessert recipes\n",
        "avocado healthy recipes\n",
        "avocado hot recipes\n",
        "avocado hummus recipe\n",
        "avocado hummus recipe vegan\n",
        "avocado ice cream recipe\n",
        "avocado ice cream recipe chocolate\n",
        "avocado ice cream recipe filipino\n",
        "avocado ice cream recipe ice cream maker\n",
        "avocado ice cream recipe keto\n",
        "avocado ice cream recipe no machine\n",
        "avocado ice cream recipe no sugar\n",
        "avocado ice cream recipe tom brady\n",
        "avocado ice cream recipe vegan\n",
        "avocado ice cream recipe with coconut milk\n",
        "avocado ice cream recipe with egg\n",
        "avocado in soup recipes\n",
        "avocado indian recipes\n",
        "avocado indian recipes rice\n",
        "avocado indian recipes vegetarian\n",
        "avocado jain recipes\n",
        "avocado jello mold recipes\n",
        "avocado juice drink recipes\n",
        "avocado juice recipe\n",
        "avocado juice recipe for baby\n",
        "avocado juice recipe for keto diet\n",
        "avocado juice recipes\n",
        "avocado juice recipes for weight loss\n",
        "avocado juice recipes in tamil\n",
        "avocado juice recipes indian\n",
        "avocado juice recipes videos\n",
        "avocado juice recipes without milk\n",
        "avocado kerala recipes\n",
        "avocado keto recipe\n",
        "avocado keto recipes\n",
        "avocado keto recipes indian\n",
        "avocado keto recipes vegetarian\n",
        "avocado layered dip recipes\n",
        "avocado leaf recipes\n",
        "avocado leaves recipes\n",
        "avocado lemon juice recipes\n",
        "avocado lettuce wraps recipes\n",
        "avocado lime jello recipes\n",
        "avocado lime smoothie recipe\n",
        "avocado low carb recipes\n",
        "avocado lunch box recipes\n",
        "avocado lunch recipe\n",
        "avocado lunch recipes\n",
        "avocado lunch recipes easy\n",
        "avocado lunch recipes for baby\n",
        "avocado lunch recipes for toddlers\n",
        "avocado main meal recipes\n",
        "avocado mango recipes\n",
        "avocado mango smoothie recipe\n",
        "avocado mayo recipe\n",
        "avocado mayo recipe for burgers\n",
        "avocado mayonnaise recipe with egg\n",
        "avocado mexican recipes\n",
        "avocado milkshake recipes\n",
        "avocado mousse recipe\n",
        "avocado mousse recipes\n",
        "avocado nibbles recipes\n",
        "avocado ninja recipes\n",
        "avocado nutrition recipes\n",
        "avocado oatmeal smoothie recipe\n",
        "avocado oil baking recipes\n",
        "avocado oil chicken recipes\n",
        "avocado oil cooking recipes\n",
        "avocado oil dressing recipes\n",
        "avocado oil for cooking recipes\n",
        "avocado oil for skin recipes\n",
        "avocado oil indian recipes\n",
        "avocado oil keto recipes\n",
        "avocado oil recipe\n",
        "avocado oil recipe ideas\n",
        "avocado oil recipes\n",
        "avocado oil recipes baking\n",
        "avocado oil recipes for hair\n",
        "avocado oil recipes for skin\n",
        "avocado oil recipes paleo\n",
        "avocado oil salad dressing recipes\n",
        "avocado on burger recipes\n",
        "avocado on toast recipe\n",
        "avocado on toast recipes\n",
        "avocado on toast recipes uk\n",
        "avocado paleo recipes\n",
        "avocado panini recipes\n",
        "avocado panini sandwich recipes\n",
        "avocado parmesan toast recipe\n",
        "avocado party recipes\n",
        "avocado pasta recipe\n",
        "avocado pasta recipe for baby\n",
        "avocado pasta recipe for toddlers\n",
        "avocado pasta recipes\n",
        "avocado peanut butter recipes\n",
        "avocado pear recipes\n",
        "avocado pickles my recipes\n",
        "avocado pie recipe vegan\n",
        "avocado pie recipes\n",
        "avocado pinwheel recipes\n",
        "avocado potluck recipes\n",
        "avocado powder recipes\n",
        "avocado preserve recipes\n",
        "avocado pudding recipe\n",
        "avocado pudding recipe for toddlers\n",
        "avocado pudding recipes\n",
        "avocado pulp recipes\n",
        "avocado puree recipe for adults\n",
        "avocado puree recipe for baby\n",
        "avocado puree recipes\n",
        "avocado puree recipes for babies\n",
        "avocado puree recipes for baby\n",
        "avocado puree soup recipes\n",
        "avocado quesadilla recipes\n",
        "avocado quinoa recipes\n",
        "avocado ranch dip chili's recipes\n",
        "avocado ranch dressing recipe\n",
        "avocado ranch dressing recipe vegan\n",
        "avocado raspberry smoothie recipe\n",
        "avocado recipe\n",
        "avocado recipe book\n",
        "avocado recipe breakfast\n",
        "avocado recipe dessert\n",
        "avocado recipe dinner\n",
        "avocado recipe egg\n",
        "avocado recipe for 1 year old\n",
        "avocado recipe for 6 month baby\n",
        "avocado recipe for 8 month old baby\n",
        "avocado recipe for babies\n",
        "avocado recipe for baby\n",
        "avocado recipe for baby food\n",
        "avocado recipe for bread\n",
        "avocado recipe for breakfast\n",
        "avocado recipe for dinner\n",
        "avocado recipe for dry hair\n",
        "avocado recipe for hair\n",
        "avocado recipe for hair growth\n",
        "avocado recipe for keto diet\n",
        "avocado recipe for kids\n",
        "avocado recipe for lunch\n",
        "avocado recipe for pregnant\n",
        "avocado recipe for tacos\n",
        "avocado recipe for toast\n",
        "avocado recipe for toddler\n",
        "avocado recipe guacamole\n",
        "avocado recipe idea\n",
        "avocado recipe ideas\n",
        "avocado recipe ideas easy\n",
        "avocado recipe ideas vegan\n",
        "avocado recipe indian\n",
        "avocado recipe keto\n",
        "avocado recipe salad\n",
        "avocado recipe uk\n",
        "avocado recipe uk vegan\n",
        "avocado recipe vegan\n",
        "avocado recipe vegetarian\n",
        "avocado recipe with egg\n",
        "avocado recipe with egg and bacon\n",
        "avocado recipes\n",
        "avocado recipes > breakfast\n",
        "avocado recipes allrecipes\n",
        "avocado recipes australia\n",
        "avocado recipes baby\n",
        "avocado recipes baby led weaning\n",
        "avocado recipes baking\n",
        "avocado recipes bbc\n",
        "avocado recipes besides guacamole\n",
        "avocado recipes bodybuilding\n",
        "avocado recipes bon appétit\n",
        "avocado recipes breakfast\n",
        "avocado recipes breakfast keto\n",
        "avocado recipes buzzfeed\n",
        "avocado recipes by vahchef\n",
        "avocado recipes cake\n",
        "avocado recipes cookbook\n",
        "avocado recipes cooked\n",
        "avocado recipes dessert\n",
        "avocado recipes dessert healthy\n",
        "avocado recipes dinner\n",
        "avocado recipes dinner indian\n",
        "avocado recipes dinner vegan\n",
        "avocado recipes dinner vegetarian\n",
        "avocado recipes dip\n",
        "avocado recipes dip easy\n",
        "avocado recipes dip with cream cheese\n",
        "avocado recipes drinks\n",
        "avocado recipes easy\n",
        "avocado recipes easy breakfast\n",
        "avocado recipes easy healthy\n",
        "avocado recipes easy keto\n",
        "avocado recipes easy vegetarian\n",
        "avocado recipes egg\n",
        "avocado recipes egg salad\n",
        "avocado recipes egg toast\n",
        "avocado recipes food network\n",
        "avocado recipes for 1 year old\n",
        "avocado recipes for 1 year old baby\n",
        "avocado recipes for 11 month old baby\n",
        "avocado recipes for 2 year old baby\n",
        "avocado recipes for 6 months baby\n",
        "avocado recipes for 9 month old baby\n",
        "avocado recipes for avocado haters\n",
        "avocado recipes for babies\n",
        "avocado recipes for babies indian style\n",
        "avocado recipes for baby\n",
        "avocado recipes for baby 10 months\n",
        "avocado recipes for baby blw\n",
        "avocado recipes for baby food\n",
        "avocado recipes for baby weaning\n",
        "avocado recipes for breakfast\n",
        "avocado recipes for diabetics\n",
        "avocado recipes for dinner\n",
        "avocado recipes for dips\n",
        "avocado recipes for hair growth\n",
        "avocado recipes for infants\n",
        "avocado recipes for keto diet\n",
        "avocado recipes for kids\n",
        "avocado recipes for lunch\n",
        "avocado recipes for packed lunch\n",
        "avocado recipes for pcos\n",
        "avocado recipes for people that hate avocados\n",
        "avocado recipes for tacos\n",
        "avocado recipes for those who don't like avocados\n",
        "avocado recipes for toddler\n",
        "avocado recipes for toddlers\n",
        "avocado recipes for toddlers indian\n",
        "avocado recipes for weight gain\n",
        "avocado recipes for weight loss\n",
        "avocado recipes fries\n",
        "avocado recipes gordon ramsay\n",
        "avocado recipes guacamole\n",
        "avocado recipes guacamole easy\n",
        "avocado recipes guacamole video\n",
        "avocado recipes healthy\n",
        "avocado recipes healthy easy\n",
        "avocado recipes healthy simple\n",
        "avocado recipes hebbar's kitchen\n",
        "avocado recipes hebbars kitchen\n",
        "avocado recipes in hindi\n",
        "avocado recipes in indian style\n",
        "avocado recipes in south indian style\n",
        "avocado recipes in tamil\n",
        "avocado recipes in telugu\n",
        "avocado recipes in urdu\n",
        "avocado recipes indian\n",
        "avocado recipes indian style\n",
        "avocado recipes indian style youtube\n",
        "avocado recipes jamie oliver\n",
        "avocado recipes keto\n",
        "avocado recipes keto dessert\n",
        "avocado recipes keto diet\n",
        "avocado recipes keto guacamole\n",
        "avocado recipes keto smoothie\n",
        "avocado recipes keto vegetarian\n",
        "avocado recipes kids\n",
        "avocado recipes lunch\n",
        "avocado recipes mexican\n",
        "avocado recipes msn\n",
        "avocado recipes not guacamole\n",
        "avocado recipes nz\n",
        "avocado recipes paleo\n",
        "avocado recipes pdf\n",
        "avocado recipes pinterest\n",
        "avocado recipes plr\n",
        "avocado recipes raw\n",
        "avocado recipes raw vegan\n",
        "avocado recipes ritz\n",
        "avocado recipes salad\n",
        "avocado recipes salad cucumber\n",
        "avocado recipes salad dressing\n",
        "avocado recipes sanjeev kapoor\n",
        "avocado recipes simple\n",
        "avocado recipes singapore\n",
        "avocado recipes south africa\n",
        "avocado recipes tarla dalal\n",
        "avocado recipes tasty\n",
        "avocado recipes that are keto friendly\n",
        "avocado recipes that can be frozen\n",
        "avocado recipes tuna\n",
        "avocado recipes uk\n",
        "avocado recipes veg\n",
        "avocado recipes veg indian\n",
        "avocado recipes vegan\n",
        "avocado recipes vegan cookies\n",
        "avocado recipes vegan desserts\n",
        "avocado recipes vegan dinner\n",
        "avocado recipes vegan indian\n",
        "avocado recipes vegetarian\n",
        "avocado recipes vegetarian dinner\n",
        "avocado recipes vegetarian indian\n",
        "avocado recipes video\n",
        "avocado recipes whole30\n",
        "avocado recipes with bacon\n",
        "avocado recipes with bacon and eggs breakfast\n",
        "avocado recipes with bread\n",
        "avocado recipes with chicken\n",
        "avocado recipes with chicken keto\n",
        "avocado recipes with condensed milk\n",
        "avocado recipes with cream cheese\n",
        "avocado recipes with egg\n",
        "avocado recipes with egg whites\n",
        "avocado recipes with eggs\n",
        "avocado recipes with fish\n",
        "avocado recipes with fruit\n",
        "avocado recipes with lobster\n",
        "avocado recipes with meat\n",
        "avocado recipes with milk\n",
        "avocado recipes with nachos\n",
        "avocado recipes with oats\n",
        "avocado recipes with pasta\n",
        "avocado recipes with rice\n",
        "avocado recipes with salmon\n",
        "avocado recipes with shrimp\n",
        "avocado recipes with tuna\n",
        "avocado recipes without bread\n",
        "avocado recipes without milk\n",
        "avocado recipes youtube\n",
        "avocado relish recipes\n",
        "avocado rice recipes\n",
        "avocado ritz recipes\n",
        "avocado roll up recipes\n",
        "avocado ryvita recipes\n",
        "avocado salad dressing recipe\n",
        "avocado salad dressing recipes\n",
        "avocado salad dressing recipes balsamic vinegar\n",
        "avocado salad dressing recipes yogurt\n",
        "avocado salad dressings recipes\n",
        "avocado salad recipe\n",
        "avocado salad recipe easy\n",
        "avocado salad recipe ideas\n",
        "avocado salad recipe without tomatoes\n",
        "avocado salad recipes\n",
        "avocado salad recipes australia\n",
        "avocado salad recipes easy\n",
        "avocado salad recipes food network\n",
        "avocado salad recipes for weight loss\n",
        "avocado salad recipes healthy\n",
        "avocado salad recipes indian\n",
        "avocado salad recipes keto\n",
        "avocado salad recipes pdf\n",
        "avocado salad recipes tasty\n",
        "avocado salad recipes uk\n",
        "avocado salad recipes vegetarian\n",
        "avocado salad recipes with corn\n",
        "avocado salad recipes with lettuce\n",
        "avocado salads recipes with chicken\n",
        "avocado salsa recipe\n",
        "avocado salsa recipe el pollo loco\n",
        "avocado salsa recipe for fish\n",
        "avocado salsa recipe for salmon\n",
        "avocado salsa recipe for tacos\n",
        "avocado salsa recipe mexican\n",
        "avocado salsa recipe youtube\n",
        "avocado salsa recipes\n",
        "avocado sandwich filling recipes\n",
        "avocado sandwich recipe\n",
        "avocado sandwich recipe for breakfast\n",
        "avocado sandwich recipe for toddler\n",
        "avocado sandwich recipes\n",
        "avocado sandwich recipes easy\n",
        "avocado sandwich recipes healthy\n",
        "avocado sandwich recipes indian\n",
        "avocado sandwich recipes indian style\n",
        "avocado sandwich recipes uk\n",
        "avocado sandwich recipes vegan\n",
        "avocado sandwich recipes vegetarian\n",
        "avocado sauce for fajita recipe\n",
        "avocado sauce for tacos recipe\n",
        "avocado sauce for taquitos recipe\n",
        "avocado sauce recipe\n",
        "avocado sauce recipe for fajitas\n",
        "avocado sauce recipe for fish tacos\n",
        "avocado sauce recipe for pasta\n",
        "avocado sauce recipe for tacos\n",
        "avocado sauce recipe vegan\n",
        "avocado sauce recipes\n",
        "avocado sauces recipes\n",
        "avocado savory recipes\n",
        "avocado savoury recipes\n",
        "avocado seafood recipes\n",
        "avocado seasoning recipes\n",
        "avocado seed recipe for fertility\n",
        "avocado seed recipes\n",
        "avocado shake recipe\n",
        "avocado shake recipes\n",
        "avocado shakes recipes\n",
        "avocado shrimp boats recipes\n",
        "avocado shrimp recipes\n",
        "avocado side dish recipes\n",
        "avocado skin care recipes\n",
        "avocado sliced recipes\n",
        "avocado slices recipes\n",
        "avocado smash toast recipe\n",
        "avocado smoothie bowl recipe\n",
        "avocado smoothie recipe\n",
        "avocado smoothie recipe chocolate\n",
        "avocado smoothie recipe condensed milk\n",
        "avocado smoothie recipe for baby\n",
        "avocado smoothie recipe for hair growth\n",
        "avocado smoothie recipe for toddler\n",
        "avocado smoothie recipe for weight loss\n",
        "avocado smoothie recipe keto\n",
        "avocado smoothie recipe no banana\n",
        "avocado smoothie recipe tropical smoothie\n",
        "avocado smoothie recipe uk\n",
        "avocado smoothie recipe vietnamese\n",
        "avocado smoothie recipes\n",
        "avocado smoothie recipes for breakfast\n",
        "avocado smoothie recipes for diabetics\n",
        "avocado smoothie recipes for toddlers\n",
        "avocado smoothie recipes for weight gain\n",
        "avocado smoothie recipes for weight loss\n",
        "avocado smoothie recipes healthy\n",
        "avocado smoothie recipes keto\n",
        "avocado smoothie recipes uk\n",
        "avocado smoothie recipes vietnamese\n",
        "avocado smoothie recipes without banana\n",
        "avocado smoothie tropical smoothie recipe\n",
        "avocado smoothies recipe\n",
        "avocado snack recipes\n",
        "avocado snack recipes keto\n",
        "avocado sorbet recipes\n",
        "avocado soup recipe\n",
        "avocado soup recipes\n",
        "avocado soup recipes easy\n",
        "avocado soups recipes\n",
        "avocado spicy recipes\n",
        "avocado spinach recipes\n",
        "avocado spinach smoothie recipe\n",
        "avocado spread for toast recipe\n",
        "avocado spread recipe\n",
        "avocado spread recipe for burgers\n",
        "avocado spread recipe for sandwiches\n",
        "avocado spread recipe for tacos\n",
        "avocado spread recipe for toast\n",
        "avocado spread recipe vegan\n",
        "avocado squash recipes\n",
        "avocado starter recipe\n",
        "avocado starter recipes\n",
        "avocado super bowl recipes\n",
        "avocado sweet recipes\n",
        "avocado sweet recipes indian\n",
        "avocado tapas recipes\n",
        "avocado tasty recipes\n",
        "avocado terrine recipes\n",
        "avocado thanksgiving recipes\n",
        "avocado toast all recipes\n",
        "avocado toast appetizer recipe\n",
        "avocado toast brunch recipe\n",
        "avocado toast cheesecake factory recipe\n",
        "avocado toast feta cheese recipe\n",
        "avocado toast first watch recipe\n",
        "avocado toast for lunch recipe\n",
        "avocado toast healthy recipe\n",
        "avocado toast honey recipe\n",
        "avocado toast magnolia table recipe\n",
        "avocado toast pizza recipe\n",
        "avocado toast recipe\n",
        "avocado toast recipe - indian\n",
        "avocado toast recipe best\n",
        "avocado toast recipe buzzfeed\n",
        "avocado toast recipe deliciously ella\n",
        "avocado toast recipe easy\n",
        "avocado toast recipe egg\n",
        "avocado toast recipe for breakfast\n",
        "avocado toast recipe for dinner\n",
        "avocado toast recipe for toddlers\n",
        "avocado toast recipe ideas\n",
        "avocado toast recipe indian\n",
        "avocado toast recipe nytimes\n",
        "avocado toast recipe reddit\n",
        "avocado toast recipe serious eats\n",
        "avocado toast recipe simple\n",
        "avocado toast recipe variations\n",
        "avocado toast recipe vegan\n",
        "avocado toast recipe vegetarian\n",
        "avocado toast recipe weight loss\n",
        "avocado toast recipe with cheese\n",
        "avocado toast recipe with egg\n",
        "avocado toast recipe with egg and arugula\n",
        "avocado toast recipe with egg and bacon\n",
        "avocado toast recipe with egg and cheese\n",
        "avocado toast recipe with egg and salmon\n",
        "avocado toast recipe with egg and tomato\n",
        "avocado toast recipe with egg calories\n",
        "avocado toast recipe with egg healthy\n",
        "avocado toast recipe with egg rend\n",
        "avocado toast recipe with egg white\n",
        "avocado toast recipe with eggs\n",
        "avocado toast recipe with honey\n",
        "avocado toast recipe with scrambled egg\n",
        "avocado toast recipe with tomato\n",
        "avocado toast recipe | indian\n",
        "avocado toast recipes\n",
        "avocado toast recipes buzzfeed\n",
        "avocado toast recipes easy\n",
        "avocado toast recipes food network\n",
        "avocado toast recipes for breakfast\n",
        "avocado toast recipes healthy\n",
        "avocado toast recipes salmon\n",
        "avocado toast recipes toppings\n",
        "avocado toast recipes variations\n",
        "avocado toast recipes vegan\n",
        "avocado toast recipes with bacon\n",
        "avocado toast recipes with egg\n",
        "avocado toast recipes youtube\n",
        "avocado toast spread recipe\n",
        "avocado toast vegan recipe\n",
        "avocado toast vegan recipes\n",
        "avocado toast with bacon and eggs recipe\n",
        "avocado toast with egg and tomato recipe\n",
        "avocado toast with egg recipe\n",
        "avocado toast with fried egg recipe\n",
        "avocado toast with hard boiled egg recipe\n",
        "avocado toast with poached egg recipe\n",
        "avocado toast with poached eggs recipe\n",
        "avocado toast with smoked salmon recipes\n",
        "avocado toast with tomato recipe\n",
        "avocado tomato recipes\n",
        "avocado tuna salad healthy world recipes\n",
        "avocado tuna salad recipes\n",
        "avocado tuna sandwich recipes\n",
        "avocado veg keto recipes\n",
        "avocado veg recipes\n",
        "avocado vegan breakfast recipes\n",
        "avocado vegan dessert recipes\n",
        "avocado vegan dinner recipes\n",
        "avocado vegan keto recipes\n",
        "avocado vegan recipe\n",
        "avocado vegan recipes\n",
        "avocado vegan recipes easy\n",
        "avocado vegan sandwich recipes\n",
        "avocado vegetable recipes\n",
        "avocado vegetarian recipes\n",
        "avocado vegetarian recipes for dinner\n",
        "avocado vinaigrette dressing recipes\n",
        "avocado vinaigrette recipes\n",
        "avocado weaning recipes\n",
        "avocado weight loss recipes\n",
        "avocado with bread recipe\n",
        "avocado with egg baked inside recipe\n",
        "avocado with egg inside recipe\n",
        "avocado with egg recipes\n",
        "avocado with fish recipes\n",
        "avocado with fruit recipes\n",
        "avocado with honey recipe\n",
        "avocado with milk and sugar recipe\n",
        "avocado with milk recipes\n",
        "avocado with pasta recipe\n",
        "avocado with rice recipes\n",
        "avocado with scrambled eggs recipes\n",
        "avocado with shrimp recipes\n",
        "avocado with sugar recipe\n",
        "avocado with tuna recipe\n",
        "avocado with tuna salad recipe\n",
        "avocado with yogurt recipes\n",
        "avocado wrap recipes\n",
        "avocado wrap recipes for breakfast\n",
        "avocado wraps recipes\n",
        "avocado yogurt smoothie recipe\n",
        "avocado zucchini recipes\n",
        "avocados for breakfast recipes\n",
        "award winning avocado recipes\n",
        "awesome avocado recipes\n",
        "baby food recipes with avocado\n",
        "bacon and avocado recipes\n",
        "bacon avocado keto recipes\n",
        "bacon avocado recipes\n",
        "bacon egg and avocado recipes\n",
        "bagel avocado recipes vegan\n",
        "bake avocado recipe\n",
        "baked avocado and egg recipes\n",
        "baked avocado chicken recipes\n",
        "baked avocado recipe\n",
        "baked avocado recipe vegan\n",
        "baked avocado recipes\n",
        "baked avocado recipes cheese\n",
        "baked avocado recipes keto\n",
        "baked avocado recipes uk\n",
        "baked avocado with egg recipe\n",
        "baked chicken avocado recipes\n",
        "baked chicken breast recipes with avocado\n",
        "baked chicken with avocado recipes\n",
        "baked fish and avocado recipes\n",
        "baked salmon and avocado recipes\n",
        "baked salmon recipes with avocado\n",
        "baked stuffed avocado recipes\n",
        "baking recipes with avocado\n",
        "baking with avocado instead of butter recipes\n",
        "banana and avocado recipes\n",
        "banana and avocado smoothie recipe\n",
        "banana avocado recipes\n",
        "banana avocado smoothie recipe\n",
        "banting avocado recipes\n",
        "basic avocado recipe\n",
        "bbc food avocado recipes\n",
        "bbc good food recipes avocado salad\n",
        "bbc recipes avocado cake\n",
        "bbc recipes avocado salad\n",
        "bbcgoodfood avocado recipes\n",
        "beat avocado toast recipe\n",
        "beef and avocado recipes\n",
        "beef tenderloin avocado recipes\n",
        "beet avocado smoothie recipe\n",
        "best avocado and egg toast recipe\n",
        "best avocado breakfast recipes\n",
        "best avocado dessert recipes\n",
        "best avocado dinner recipes\n",
        "best avocado dip recipes\n",
        "best avocado lunch recipes\n",
        "best avocado oil salad dressing recipes\n",
        "best avocado on toast recipe\n",
        "best avocado recipe\n",
        "best avocado recipes\n",
        "best avocado recipes ever\n",
        "best avocado recipes for babies\n",
        "best avocado recipes for breakfast\n",
        "best avocado recipes for dinner\n",
        "best avocado recipes for weight loss\n",
        "best avocado recipes guacamole\n",
        "best avocado recipes keto\n",
        "best avocado salad dressing recipes\n",
        "best avocado salad recipes\n",
        "best avocado sandwich recipes\n",
        "best avocado smoothie recipe\n",
        "best avocado smoothie recipes\n",
        "best avocado toast recipe\n",
        "best avocado toast recipe with egg\n",
        "best avocado toast recipes\n",
        "best avocado toast recipes buzzfeed\n",
        "best avocado toast recipes ever\n",
        "best avocado tomato salad recipes\n",
        "best avocado vegan recipes\n",
        "best baked avocado recipes\n",
        "best breakfast avocado toast recipe\n",
        "best cooked avocado recipes\n",
        "best easy avocado recipes\n",
        "best egg avocado recipes\n",
        "best egg salad recipe with avocado\n",
        "best ever avocado dip recipes\n",
        "best green salad recipes with avocado\n",
        "best green smoothie recipes avocado\n",
        "best healthy avocado recipes\n",
        "best healthy avocado sandwich recipes\n",
        "best hot avocado soup recipes\n",
        "best keto avocado recipes\n",
        "best quick avocado recipes\n",
        "best quinoa salad avocado recipes\n",
        "best raw avocado recipes\n",
        "best recipe avocado toast\n",
        "best recipes with avocado\n",
        "best scrambled eggs recipe with avocado\n",
        "best smashed avocado recipes\n",
        "best smashed avocado toast recipe\n",
        "best spinach salad recipes with avocado\n",
        "best tasting avocado recipes\n",
        "best vegan avocado recipes\n",
        "black bean and avocado recipes\n",
        "black bean avocado recipes\n",
        "blue bottle avocado toast recipe\n",
        "blueberry and avocado smoothie recipe\n",
        "blueberry avocado smoothie recipe\n",
        "blw avocado recipes\n",
        "bodybuilding avocado recipes\n",
        "boiled egg and avocado recipes\n",
        "boiled eggs with avocado recipes\n",
        "bolthouse cilantro avocado dressing recipes\n",
        "bolthouse farms cilantro avocado yogurt dressing recipes\n",
        "boneless chicken and avocado recipes\n",
        "brazilian avocado recipes\n",
        "breakfast avocado recipes uk\n",
        "breakfast avocado toast recipe\n",
        "breakfast recipes using avocado\n",
        "breakfast recipes with avocado\n",
        "breakfast recipes with avocado and bacon\n",
        "breakfast recipes with avocado and eggs\n",
        "breakfast recipes with avocado no bread\n",
        "breakfast recipes with egg and avocado\n",
        "breakfast recipes with eggs and avocado\n",
        "broiled avocado recipes\n",
        "brunch recipes avocado\n",
        "bruschetta recipes avocado\n",
        "bulletproof avocado recipes\n",
        "cafe gitane avocado toast recipe\n",
        "cake recipes using avocado\n",
        "cake recipes using avocado instead of butter\n",
        "california avocado commission recipes\n",
        "california avocado recipes\n",
        "canned avocado recipes\n",
        "canned salmon and avocado recipes\n",
        "canned tuna and avocado recipes\n",
        "canning avocado recipes\n",
        "caprese avocado toast recipe\n",
        "caribbean avocado recipes\n",
        "castor oil coconut oil and avocado oil for hair growth recipe\n",
        "cauliflower and avocado recipes\n",
        "cauliflower rice recipes with avocado\n",
        "ceviche recipes with avocado\n",
        "cheesecake factory avocado toast copycat recipe\n",
        "cheesecake factory avocado toast copycat recipes\n",
        "cheesecake factory avocado toast recipe\n",
        "cherry tomato avocado salad recipes\n",
        "chicken and avocado dinner recipes\n",
        "chicken and avocado healthy recipes\n",
        "chicken and avocado recipe\n",
        "chicken and avocado recipes\n",
        "chicken and avocado recipes easy\n",
        "chicken and avocado recipes food network\n",
        "chicken and avocado recipes for dinner\n",
        "chicken and avocado recipes for toddlers\n",
        "chicken and avocado recipes healthy\n",
        "chicken and avocado recipes keto\n",
        "chicken and avocado recipes nz\n",
        "chicken and avocado recipes uk\n",
        "chicken and avocado salad recipes\n",
        "chicken and avocado sandwich recipes\n",
        "chicken avocado and egg recipes\n",
        "chicken avocado and rice recipes\n",
        "chicken avocado burger recipes\n",
        "chicken avocado cheese panini recipes\n",
        "chicken avocado recipe\n",
        "chicken avocado recipe for baby\n",
        "chicken avocado recipe ideas\n",
        "chicken avocado recipes\n",
        "chicken avocado recipes easy\n",
        "chicken avocado salad recipe\n",
        "chicken avocado sandwich recipes\n",
        "chicken bacon and avocado recipes\n",
        "chicken breast recipes with avocado\n",
        "chicken caesar salad with avocado recipes\n",
        "chicken cheese and avocado recipes\n",
        "chicken egg and avocado recipes\n",
        "chicken mushroom and avocado recipes\n",
        "chicken panini recipes with avocado\n",
        "chicken stuffed avocado recipes\n",
        "chicken with avocado recipes\n",
        "chicken wrap recipes with avocado\n",
        "chickpea avocado recipes\n",
        "chilean avocado recipes\n",
        "chocolate and avocado recipes\n",
        "chocolate avocado cake recipes\n",
        "chocolate avocado dessert recipes\n",
        "chocolate avocado recipes\n",
        "chocolate avocado smoothie recipe\n",
        "chocolate shakeology recipes with avocado\n",
        "choquette avocado recipes\n",
        "chosen foods avocado oil mayo recipes\n",
        "chosen foods avocado oil recipes\n",
        "chunky avocado salad recipes\n",
        "citrus avocado salad recipes\n",
        "cityline avocado recipes\n",
        "clean avocado recipes\n",
        "clean eating avocado recipes\n",
        "clean juice avocado toast recipe\n",
        "coconut flour avocado recipes\n",
        "coconut milk and avocado recipes\n",
        "cod fish and avocado recipes\n",
        "coffee avocado smoothie recipes\n",
        "cold avocado recipes\n",
        "cold avocado soup recipes\n",
        "cooked avocado recipe\n",
        "cooked avocado recipes\n",
        "cooked avocado recipes easy\n",
        "cooked avocado salad recipes\n",
        "cooked avocado vegan recipes\n",
        "cooked chicken and avocado recipes\n",
        "cooked shrimp and avocado recipes\n",
        "cooking avocado recipes\n",
        "cooking with avocado oil recipes\n",
        "costco frozen avocado recipes\n",
        "cottage cheese and avocado recipes\n",
        "courgette and avocado cake recipes\n",
        "crab and avocado recipes\n",
        "crab and avocado recipes uk\n",
        "crab and avocado starter recipes\n",
        "crab stuffed avocado recipes\n",
        "crayfish and avocado recipes\n",
        "creative avocado recipes\n",
        "cuban avocado salad recipes\n",
        "daily harvest avocado cacao smoothie recipe\n",
        "dairy free avocado recipes\n",
        "danny seo recipes avocado key lime pie\n",
        "dash diet avocado recipes\n",
        "dave and busters avocado toast recipe\n",
        "dehydrated avocado recipes\n",
        "delia smith avocado recipes\n",
        "delicious coconut milk avocado recipes\n",
        "delish avocado recipes\n",
        "delish recipes avocado\n",
        "dessert bullet recipes with avocado\n",
        "dessert recipes made with avocado\n",
        "dessert recipes using avocado\n",
        "deviled egg recipe with avocado\n",
        "deviled egg recipes with avocado\n",
        "deviled eggs with avocado recipe\n",
        "deviled eggs with avocado recipes\n",
        "deviled eggs with bacon and avocado recipe\n",
        "diced avocado recipes\n",
        "dinner recipe avocado\n",
        "dinner recipe with avocado\n",
        "dinner recipes with avocado\n",
        "dip recipes with avocado\n",
        "dishes with avocado recipes\n",
        "dominican republic avocado recipes\n",
        "dr oz avocado recipes\n",
        "dr oz avocado smoothie recipe\n",
        "dr oz recipes avocado\n",
        "dr sebi avocado recipes\n",
        "earls avocado toast recipe\n",
        "easy avocado dessert recipes\n",
        "easy avocado recipe\n",
        "easy avocado recipes\n",
        "easy avocado recipes breakfast\n",
        "easy avocado recipes dinner\n",
        "easy avocado recipes for dinner\n",
        "easy avocado recipes for lunch\n",
        "easy avocado recipes guacamole\n",
        "easy avocado recipes healthy\n",
        "easy avocado recipes indian\n",
        "easy avocado recipes keto\n",
        "easy avocado recipes lunch\n",
        "easy avocado recipes philippines\n",
        "easy avocado recipes uk\n",
        "easy avocado recipes vegan\n",
        "easy avocado recipes vegetarian\n",
        "easy avocado salad recipes for dinner\n",
        "easy avocado toast recipe\n",
        "easy chicken and avocado recipes\n",
        "easy egg and avocado recipes\n",
        "easy recipe for avocado toast\n",
        "easy recipes with avocado\n",
        "easy recipes with avocado and pasta\n",
        "easy salad recipes with avocado\n",
        "egg and avocado breakfast recipes\n",
        "egg and avocado recipe\n",
        "egg and avocado recipe for baby\n",
        "egg and avocado recipe ideas\n",
        "egg and avocado recipes\n",
        "egg and avocado recipes for breakfast\n",
        "egg avocado recipe\n",
        "egg breakfast recipes with avocado\n",
        "egg in avocado recipe\n",
        "egg in avocado recipes\n",
        "egg roll recipes with avocado\n",
        "egg salad recipe with avocado\n",
        "egg salad recipe with avocado and bacon\n",
        "egg salad recipes with avocado\n",
        "egg salad with avocado and onions recipe\n",
        "egg salad with avocado recipes\n",
        "egg sandwich recipes with avocado\n",
        "egg stuffed avocado recipes\n",
        "egg white and avocado recipes\n",
        "eggs and avocado breakfast recipes\n",
        "eggs and avocado recipe\n",
        "eggs and avocado recipes\n",
        "eggs avocado recipe\n",
        "eggs with avocado breakfast recipes\n",
        "emma chamberlain avocado toast recipe\n",
        "erwan heussaff avocado toast recipe\n",
        "fancy avocado toast recipe\n",
        "favorite avocado recipes\n",
        "first watch avocado toast recipe\n",
        "first watch recipe for avocado toast\n",
        "fish and avocado recipes\n",
        "fish avocado recipes\n",
        "five star avocado recipes\n",
        "florida avocado recipes\n",
        "flower child avocado toast recipe\n",
        "free avocado recipes\n",
        "freeze avocado recipes\n",
        "fresh avocado recipes\n",
        "fried avocado recipe\n",
        "fried avocado recipe vegan\n",
        "fried avocado recipes\n",
        "fried stuffed avocado recipes\n",
        "frozen avocado chunks recipes\n",
        "frozen avocado dessert recipes\n",
        "frozen avocado keto recipes\n",
        "frozen avocado recipe\n",
        "frozen avocado recipes\n",
        "frozen avocado recipes keto\n",
        "frozen avocado recipes nz\n",
        "frozen avocado shake recipes\n",
        "frozen avocado smoothie recipes\n",
        "fruit smoothie recipes with avocado\n",
        "fruit smoothie with avocado recipes\n",
        "fuerte avocado recipes\n",
        "fun easy avocado recipes\n",
        "fun recipes with avocado\n",
        "gluten free avocado dessert recipes\n",
        "gluten free avocado recipes\n",
        "gluten-free avocado dessert recipes\n",
        "gluten-free avocado recipes\n",
        "good avocado recipes\n",
        "good avocado recipes easy\n",
        "good housekeeping avocado recipes\n",
        "good keto avocado recipes\n",
        "goodful avocado recipes\n",
        "gordon ramsay avocado recipes\n",
        "gordon ramsay avocado toast recipe\n",
        "gourmet avocado recipes\n",
        "gourmet avocado toast recipe\n",
        "great avocado recipes\n",
        "greek avocado recipes\n",
        "greek yogurt and avocado recipes\n",
        "green avocado recipes\n",
        "green salad with avocado recipes\n",
        "green skin avocado recipes\n",
        "green smoothie recipe with avocado\n",
        "grilled avocado recipe\n",
        "grilled avocado recipes\n",
        "grilled california avocado chicken homestead recipes\n",
        "grilled cheese avocado sandwich recipes\n",
        "grilled chicken and avocado recipes\n",
        "grilled chicken avocado salad recipes from heaven\n",
        "grilled stuffed avocado recipes\n",
        "ground beef and avocado recipes\n",
        "ground beef avocado recipes\n",
        "ground chicken and avocado recipes\n",
        "ground turkey and avocado recipes\n",
        "ground turkey avocado recipes\n",
        "guardian best avocado recipes\n",
        "guatemalan avocado recipes\n",
        "haddock and avocado recipes\n",
        "hall avocado recipes\n",
        "halloumi avocado toast recipes\n",
        "ham and avocado recipes\n",
        "hamburger and avocado recipes\n",
        "hamburger meat and avocado recipes\n",
        "hard boiled egg and avocado recipes\n",
        "hass avocado recipes\n",
        "hass avocado recipes easy\n",
        "hate avocado recipes\n",
        "hawaiian avocado recipes\n",
        "healthy avocado and egg recipes\n",
        "healthy avocado baking recipes\n",
        "healthy avocado breakfast recipes\n",
        "healthy avocado brownie recipes\n",
        "healthy avocado dessert recipes\n",
        "healthy avocado dip recipes\n",
        "healthy avocado guacamole recipes\n",
        "healthy avocado oil salad dressing recipes\n",
        "healthy avocado recipe\n",
        "healthy avocado recipes\n",
        "healthy avocado recipes breakfast\n",
        "healthy avocado recipes dessert\n",
        "healthy avocado recipes dinner\n",
        "healthy avocado recipes for breakfast\n",
        "healthy avocado recipes for dinner\n",
        "healthy avocado recipes for weight loss\n",
        "healthy avocado recipes lunch\n",
        "healthy avocado recipes on the go\n",
        "healthy avocado recipes snack\n",
        "healthy avocado recipes vegan\n",
        "healthy avocado recipes weight loss\n",
        "healthy avocado salad recipes\n",
        "healthy avocado sandwich recipes\n",
        "healthy avocado smoothie recipes\n",
        "healthy avocado snack recipes\n",
        "healthy avocado toast recipe\n",
        "healthy avocado toast recipes\n",
        "healthy avocado toast recipes for breakfast\n",
        "healthy avocado wraps recipes\n",
        "healthy breakfast recipes with eggs and avocado\n",
        "healthy chicken and avocado recipes\n",
        "healthy chicken avocado wrap recipes\n",
        "healthy egg and avocado recipes\n",
        "healthy egg salad recipe with avocado\n",
        "healthy ground beef and avocado recipes\n",
        "healthy recipes with avocado and egg\n",
        "healthy recipes with chicken and avocado\n",
        "healthy recipes with eggs and avocado\n",
        "healthy salad dressing recipes with avocado oil\n",
        "healthy smoothie recipes for weight loss with avocado\n",
        "healthy smoothie recipes with avocado\n",
        "healthy stuffed avocado recipes\n",
        "healthy world recipes avocado tuna salad\n",
        "heart healthy avocado recipes\n",
        "herdez avocado salsa recipes\n",
        "hidden avocado recipes\n",
        "high protein avocado recipes\n",
        "homemade avocado dessert recipes\n",
        "homestead recipes avocado chicken salad\n",
        "hot avocado prawn recipes\n",
        "hot avocado recipes\n",
        "hot avocado recipes uk\n",
        "hot avocado soup recipes easy\n",
        "houlihan's avocado toast recipe\n",
        "how to make avocado recipes\n",
        "https www 177milkstreet com recipes senegalese avocado and mango salad\n",
        "imitation crab avocado recipes\n",
        "ina garten avocado recipes\n",
        "ina garten avocado toast recipe\n",
        "indian avocado recipes\n",
        "interesting avocado recipes\n",
        "italian avocado recipes\n",
        "italian sausage and avocado recipes\n",
        "jamie oliver avocado recipes\n",
        "jamie oliver avocado smoothie recipe\n",
        "japanese avocado recipes\n",
        "japanese avocado salad recipes\n",
        "joanna gaines recipe for avocado toast\n",
        "joe wicks smashed avocado recipe\n",
        "juice recipes with avocado\n",
        "kale and avocado recipes\n",
        "kale avocado smoothie recipe\n",
        "kale me crazy avocado toast recipe\n",
        "keto avocado bacon recipes\n",
        "keto avocado brownie recipes\n",
        "keto avocado cake recipes\n",
        "keto avocado chicken recipes\n",
        "keto avocado dessert recipes\n",
        "keto avocado dip recipes\n",
        "keto avocado egg recipes\n",
        "keto avocado fries recipes\n",
        "keto avocado ice cream recipes\n",
        "keto avocado oil salad dressing recipes\n",
        "keto avocado recipe ideas\n",
        "keto avocado recipes\n",
        "keto avocado recipes breakfast\n",
        "keto avocado recipes dessert\n",
        "keto avocado recipes dinner\n",
        "keto avocado recipes easy\n",
        "keto avocado recipes egg\n",
        "keto avocado recipes lunch\n",
        "keto avocado salad recipes\n",
        "keto avocado smoothie recipe\n",
        "keto avocado smoothie recipes\n",
        "keto avocado toast recipe\n",
        "keto avocado tuna recipes\n",
        "keto baked avocado recipes\n",
        "keto chicken and avocado recipes\n",
        "keto chicken avocado recipes\n",
        "keto deviled eggs recipe with avocado\n",
        "keto diet avocado recipes\n",
        "keto dinner recipes with avocado\n",
        "keto egg and avocado recipes\n",
        "keto friendly avocado recipes\n",
        "keto recipe for avocado\n",
        "keto recipes avocado\n",
        "keto recipes using avocado\n",
        "keto recipes using frozen avocado\n",
        "keto recipes with avocado\n",
        "keto recipes with avocado and chicken\n",
        "keto recipes with avocado and egg\n",
        "keto recipes with avocado oil\n",
        "keto recipes with bacon and avocado\n",
        "keto recipes with eggs and avocado\n",
        "keto recipes with pork tenderloin and avocado pesto\n",
        "keto recipes with shrimp and avocado\n",
        "keto shrimp and avocado recipes\n",
        "keto stuffed avocado recipes\n",
        "keto vegan avocado recipes\n",
        "kourtney kardashian avocado smoothie recipe\n",
        "kumana avocado sauce recipes\n",
        "kylie jenner avocado toast recipe\n",
        "lamb avocado recipes\n",
        "lchf avocado recipes\n",
        "le pain quotidien avocado toast recipe\n",
        "leftover avocado recipes\n",
        "leftover chicken and avocado recipes\n",
        "lettuce and avocado salad recipes\n",
        "light avocado recipes\n",
        "lobster and avocado recipes\n",
        "low calorie avocado breakfast recipes\n",
        "low calorie avocado recipes\n",
        "low calorie vegan avocado recipes\n",
        "low carb avocado breakfast recipes\n",
        "low carb avocado dessert recipes\n",
        "low carb avocado recipes\n",
        "low carb chicken avocado recipes\n",
        "low carb recipes using avocado\n",
        "low carb vegan avocado recipes\n",
        "low carb vegetarian avocado recipes\n",
        "low fat avocado recipes\n",
        "low sodium avocado recipes\n",
        "low-carb vegetarian avocado recipes\n",
        "mackerel and avocado recipes\n",
        "magnolia avocado toast recipe\n",
        "magnolia table avocado toast recipe\n",
        "make ahead avocado recipes\n",
        "mango and avocado recipes\n",
        "mango and avocado salad best recipes\n",
        "mango and avocado salad recipes\n",
        "mango avocado smoothie recipe\n",
        "mango avocado tomato salad milk street recipes\n",
        "mary berry avocado recipes\n",
        "mashed avocado on toast recipe\n",
        "mashed avocado recipes\n",
        "mashed avocado recipes easy\n",
        "mashed avocado recipes for babies\n",
        "mashed avocado recipes simple\n",
        "matcha avocado smoothie recipe\n",
        "meat and avocado recipes\n",
        "meatloaf recipes with avocado\n",
        "mediterranean avocado recipes\n",
        "mediterranean avocado toast recipe\n",
        "meghan markle avocado toast recipe\n",
        "mexican avocado recipes\n",
        "mexican avocado salad recipes\n",
        "mexican recipes guacamole avocado\n",
        "mexican recipes using avocado\n",
        "mexican recipes with avocado\n",
        "mexico avocado recipes\n",
        "mexicola avocado recipes\n",
        "microwave avocado recipes\n",
        "milk street recipes mango avocado salad\n",
        "mince and avocado recipes\n",
        "mini avocado toast recipe\n",
        "mixed salad with avocado recipes\n",
        "mushroom and avocado recipes\n",
        "mushroom avocado toast recipe\n",
        "myfitnesspal avocado recipes\n",
        "nature's touch avocado recipes\n",
        "nigerian avocado recipes\n",
        "nikocado avocado recipes\n",
        "not ripe avocado recipes\n",
        "nutribullet avocado smoothie recipe\n",
        "nutribullet recipes avocado\n",
        "nutribullet recipes with avocado\n",
        "nutribullet recipes with kale and avocado\n",
        "ok google avocado recipes\n",
        "overly ripe avocado recipes\n",
        "overripe avocado recipes\n",
        "paleo avocado breakfast recipes\n",
        "paleo avocado dessert recipes\n",
        "paleo avocado recipes\n",
        "paleo avocado salad recipes\n",
        "paleo chicken and avocado recipes\n",
        "paleo recipes avocado\n",
        "paleo recipes with avocado\n",
        "pan fried avocado recipes\n",
        "panini recipes avocado\n",
        "panini recipes chicken avocado\n",
        "panini recipes with avocado\n",
        "pasta avocado recipe\n",
        "pasta recipes with avocado and chicken\n",
        "pasta salad recipes with avocado\n",
        "pati's mexican table recipes avocado relish\n",
        "peruvian avocado recipes\n",
        "philz avocado toast recipe\n",
        "philz coffee avocado toast recipe\n",
        "pickled avocado recipes\n",
        "pinterest avocado recipes\n",
        "pita bread and avocado recipes\n",
        "plant based avocado recipes\n",
        "plantain and avocado recipes\n",
        "poached egg and avocado recipes\n",
        "poosh recipes avocado\n",
        "poosh recipes avocado pudding\n",
        "popular avocado recipes\n",
        "pork and avocado recipes\n",
        "pork tenderloin and avocado recipes\n",
        "portabella mushroom avocado recipes\n",
        "portobello mushroom and avocado recipes\n",
        "potato and avocado recipes\n",
        "prawn and avocado recipes\n",
        "prawn and avocado recipes uk\n",
        "primal kitchen avocado oil recipes\n",
        "printable avocado recipes\n",
        "pumpkin and avocado recipes\n",
        "pureed avocado recipes\n",
        "quick and easy avocado dessert recipes\n",
        "quick avocado recipes\n",
        "quick keto avocado recipes\n",
        "quick recipes for avocado\n",
        "quinoa and avocado recipes\n",
        "quinoa avocado recipes\n",
        "quinoa salad recipes avocado\n",
        "quinoa salad recipes with avocado\n",
        "raw avocado dessert recipes\n",
        "raw avocado recipes\n",
        "raw avocado recipes indian\n",
        "raw food recipes avocado\n",
        "raw salmon avocado recipes\n",
        "raw tuna and avocado recipes\n",
        "raw vegan avocado dessert recipes\n",
        "raw vegan avocado recipes\n",
        "raw vegan recipes with avocado\n",
        "recipe avocado\n",
        "recipe avocado ice cream\n",
        "recipe for avocado and egg breakfast\n",
        "recipe for avocado banana bread\n",
        "recipe for avocado chips\n",
        "recipe for avocado cloud bread\n",
        "recipe for avocado deviled eggs\n",
        "recipe for avocado dip\n",
        "recipe for avocado dip with tomatoes\n",
        "recipe for avocado dressing\n",
        "recipe for avocado dressing with lemon\n",
        "recipe for avocado hummus\n",
        "recipe for avocado lime ranch dressing\n",
        "recipe for avocado mousse\n",
        "recipe for avocado on pita bread\n",
        "recipe for avocado salad\n",
        "recipe for avocado sauce\n",
        "recipe for avocado smoothie\n",
        "recipe for avocado spread\n",
        "recipe for avocado toast\n",
        "recipe for avocado toast appetizers\n",
        "recipe for avocado toast with egg\n",
        "recipe for avocado toast with goat cheese\n",
        "recipe for avocado toast with poached egg\n",
        "recipe for avocado with egg\n",
        "recipe for avocado with egg in it cooked\n",
        "recipe for cheesecake factory beet and avocado salad\n",
        "recipe for creamy avocado pasta sauce\n",
        "recipe for fried avocado tacos\n",
        "recipe for homemade avocado salad dressing\n",
        "recipe for hummus with avocado\n",
        "recipe for ripe avocado\n",
        "recipe for salmon tacos with avocado salsa\n",
        "recipe for shrimp avocado salad\n",
        "recipe for shrimp tacos with avocado\n",
        "recipe for smashed avocado on toast\n",
        "recipe go avocado\n",
        "recipe nz recipe avocado\n",
        "recipe of avocado\n",
        "recipe of avocado dip\n",
        "recipe one avocado\n",
        "recipe use avocado\n",
        "recipe using avocado oil\n",
        "recipe with avocado\n",
        "recipe with avocado and chicken\n",
        "recipe with avocado oil\n",
        "recipes for avocado dressing\n",
        "recipes for avocado haters\n",
        "recipes for avocado salad dressing\n",
        "recipes for avocados\n",
        "recipes for baked avocado\n",
        "recipes for baked avocado fries\n",
        "recipes for guacamole with one avocado\n",
        "recipes for shrimp tacos with avocado\n",
        "recipes guacamole avocado dip\n",
        "recipes made with avocado\n",
        "recipes that use avocado oil\n",
        "recipes to hide avocado\n",
        "recipes using avocado\n",
        "recipes using avocado instead of butter\n",
        "recipes using avocado mayo\n",
        "recipes using avocado oil\n",
        "recipes using avocado salsa\n",
        "recipes using avocados\n",
        "recipes using cooked avocado\n",
        "recipes using frozen avocado\n",
        "recipes using kumana avocado sauce\n",
        "recipes using salmon and avocado\n",
        "recipes with avocado\n",
        "recipes with avocado and bell peppers\n",
        "recipes with avocado and brussel sprouts\n",
        "recipes with avocado and chicken\n",
        "recipes with avocado and chickpeas\n",
        "recipes with avocado and cilantro\n",
        "recipes with avocado and coconut milk\n",
        "recipes with avocado and cottage cheese\n",
        "recipes with avocado and crab meat\n",
        "recipes with avocado and cream cheese\n",
        "recipes with avocado and dates\n",
        "recipes with avocado and egg\n",
        "recipes with avocado and eggs\n",
        "recipes with avocado and hard boiled egg\n",
        "recipes with avocado and potato\n",
        "recipes with avocado and rice\n",
        "recipes with avocado and spinach\n",
        "recipes with avocado and tomato\n",
        "recipes with avocado for breakfast\n",
        "recipes with avocado for diabetics\n",
        "recipes with avocado in them\n",
        "recipes with avocado mayo\n",
        "recipes with avocado oil\n",
        "recipes with avocado seed\n",
        "recipes with avocados\n",
        "recipes with bacon and avocado\n",
        "recipes with baked avocado\n",
        "recipes with cherry tomatoes and avocado\n",
        "recipes with chicken and avocado\n",
        "recipes with chicken avocado and bacon\n",
        "recipes with cooked chicken and avocado\n",
        "recipes with crab and avocado\n",
        "recipes with eggplant and avocado\n",
        "recipes with fresh avocado\n",
        "recipes with ground beef and avocado\n",
        "recipes with hamburger and avocado\n",
        "recipes with mango and avocado\n",
        "recipes with one avocado\n",
        "recipes with prawns and avocado\n",
        "recipes with rotisserie chicken and avocado\n",
        "recipes with shrimp and avocado\n",
        "recipes with smoked salmon and avocado\n",
        "recipes with spinach and avocado\n",
        "recipes with sweet potato and avocado\n",
        "recipes with tomato and avocado\n",
        "recipes with tostitos avocado salsa\n",
        "recipes with trader joe's avocado tzatziki\n",
        "recipes with tuna and avocado\n",
        "recipes with zucchini and avocado\n",
        "reed avocado recipes\n",
        "rice and avocado recipes\n",
        "ricotta and avocado recipes\n",
        "ripe avocado keto recipes\n",
        "ripe avocado recipes\n",
        "romaine salad recipes with avocado\n",
        "rotisserie chicken avocado recipes\n",
        "russell avocado recipes\n",
        "salad recipe with avocado\n",
        "salad recipes with avocado and chicken\n",
        "salad recipes with shrimp and avocado\n",
        "salad with avocado dressing recipe\n",
        "salad with avocado recipe\n",
        "salmon and avocado keto recipes\n",
        "salmon and avocado recipes\n",
        "salmon avocado recipe\n",
        "salmon avocado toast recipe\n",
        "salmon recipes with avocado mayo\n",
        "salmon recipes with avocado salsa\n",
        "salmon salad recipes with avocado\n",
        "salmon stuffed avocado recipes\n",
        "salmon with avocado recipe\n",
        "salsa avocado recipe\n",
        "salsa recipes with avocado\n",
        "sandwich with avocado recipe\n",
        "sandwiches with avocado recipes\n",
        "sausage and avocado recipes\n",
        "sauteed avocado recipe\n",
        "savory avocado recipes\n",
        "savoury avocado recipes\n",
        "scrambled egg and avocado recipes\n",
        "scrambled eggs with avocado recipe\n",
        "seafood and avocado recipes\n",
        "seafood avocado recipes\n",
        "seafood stuffed avocado recipes\n",
        "seasons 52 avocado toast recipe\n",
        "shakeology recipes with avocado\n",
        "shepard avocado recipes\n",
        "shrimp and avocado keto recipes\n",
        "shrimp and avocado recipe\n",
        "shrimp and avocado recipes\n",
        "shrimp avocado dinner recipes\n",
        "shrimp avocado pasta recipes\n",
        "shrimp avocado pasta salad recipes\n",
        "shrimp avocado recipe\n",
        "shrimp avocado salad recipes\n",
        "shrimp avocado sandwich recipes\n",
        "shrimp avocado toast recipe\n",
        "shrimp cocktail recipes with avocado\n",
        "shrimp stuffed avocado recipes\n",
        "side dish recipes with avocado\n",
        "silver diner avocado toast recipe\n",
        "simple avocado and egg recipes\n",
        "simple avocado dessert recipes\n",
        "simple avocado dip recipes\n",
        "simple avocado recipe\n",
        "simple avocado recipes\n",
        "simple avocado recipes for breakfast\n",
        "simple avocado salad recipes\n",
        "simple avocado sandwich recipes\n",
        "simple avocado smoothie recipe\n",
        "simple avocado smoothie recipes\n",
        "simple avocado starter recipes\n",
        "simple avocado toast recipe\n",
        "simple avocado toast recipe with egg\n",
        "simple avocado toast recipes\n",
        "simple keto avocado recipes\n",
        "simple quick avocado recipes\n",
        "simple vegan avocado recipes\n",
        "simply recipes avocado chicken salad\n",
        "sir kensington avocado mayo recipes\n",
        "sliced avocado recipes\n",
        "slimming world avocado recipes\n",
        "smash avocado recipe\n",
        "smashed avocado on toast with poached eggs and tomatoes recipe\n",
        "smashed avocado recipe\n",
        "smashed avocado recipe australia\n",
        "smashed avocado recipe feta\n",
        "smashed avocado recipe ideas\n",
        "smashed avocado recipe jamie oliver\n",
        "smashed avocado recipe nz\n",
        "smashed avocado recipe uk\n",
        "smashed avocado recipe vegan\n",
        "smashed avocado recipes uk\n",
        "smashed avocado toast recipe\n",
        "smoked avocado recipes\n",
        "smoked salmon and avocado recipes\n",
        "smoked salmon and avocado salad recipes\n",
        "smoked salmon and avocado starter recipes\n",
        "smoked salmon avocado recipe ideas\n",
        "smoked salmon avocado toast recipe\n",
        "smoked salmon avocado toast recipes\n",
        "smoothie recipe with avocado\n",
        "smoothie recipe with avocado and spinach\n",
        "smoothie recipes with almond milk and avocado\n",
        "smoothie recipes with avocado and fruit\n",
        "smoothie recipes with avocado and spinach\n",
        "soft avocado recipes\n",
        "soup recipes with avocado\n",
        "south beach avocado recipes\n",
        "spanish avocado recipes\n",
        "spicy avocado indian recipes\n",
        "spicy avocado toast recipe\n",
        "spicy smashed avocado recipe\n",
        "spinach and avocado smoothie recipe\n",
        "steak and avocado recipes\n",
        "strawberry avocado smoothie recipe\n",
        "stuffed avocado dinner recipes\n",
        "stuffed avocado recipe\n",
        "stuffed avocado recipe vegan\n",
        "stuffed avocado recipes\n",
        "stuffed avocado recipes crab\n",
        "stuffed avocado recipes delish\n",
        "stuffed avocado recipes egg\n",
        "stuffed avocado recipes keto\n",
        "stuffed avocado recipes tuna\n",
        "stuffed avocado recipes vegan\n",
        "stuffed avocado recipes vegetarian\n",
        "stuffed avocado recipes with egg\n",
        "stuffed avocado recipes with shrimp\n",
        "stuffed avocado salad recipes\n",
        "stuffed avocado starter recipes\n",
        "stuffed baked avocado recipes\n",
        "summer avocado recipes\n",
        "summer squash and avocado recipes\n",
        "sushi recipes with salmon and avocado\n",
        "sweet avocado recipes\n",
        "sweet avocado smoothie recipes\n",
        "sweet avocado toast recipe\n",
        "sweet avocado toast recipes\n",
        "sweet potato and avocado recipes\n",
        "taste of home avocado recipes\n",
        "tasty 7 wholesome avocado recipes\n",
        "tasty avocado brownies recipes\n",
        "tasty avocado keto recipes\n",
        "tasty avocado recipes\n",
        "tasty avocado recipes for babies\n",
        "tasty avocado salad recipes\n",
        "tasty avocado smoothie recipes\n",
        "tasty avocado toast recipe\n",
        "tasty avocado toast recipes\n",
        "tasty recipes chicken avocado salad\n",
        "tasty recipes shrimp and avocado salad\n",
        "tasty recipes with avocado\n",
        "tasty salmon recipes with avocado\n",
        "thanksgiving avocado recipes\n",
        "the avocado book: recipes for the world's most instagrammable fruit\n",
        "the avocado show recipes\n",
        "thermomix avocado recipes\n",
        "thm avocado recipes\n",
        "tilapia with avocado recipes\n",
        "tofu avocado recipes\n",
        "top 10 avocado recipes\n",
        "top avocado recipes\n",
        "top avocado toast recipes\n",
        "top rated avocado recipes\n",
        "tortilla soup with avocado recipes\n",
        "tostitos avocado salsa recipes\n",
        "trader joe's avocado recipes\n",
        "tuna and avocado recipes\n",
        "tuna avocado recipes\n",
        "tuna melt with avocado recipes\n",
        "tuna salad recipe with egg and avocado\n",
        "tuna salad recipes with avocado\n",
        "tuna steak and avocado recipes\n",
        "tuna steak recipes with avocado\n",
        "tuna stuffed avocado recipes\n",
        "turkey and avocado recipes\n",
        "turkey avocado sandwich recipes\n",
        "turkey bacon avocado sandwich recipes\n",
        "unique avocado recipes\n",
        "unripe avocado recipes\n",
        "unripe avocado recipes indian\n",
        "unusual avocado recipes\n",
        "urth caffe avocado toast recipe\n",
        "veg avocado recipes\n",
        "vegan avocado breakfast recipes\n",
        "vegan avocado brownie recipe\n",
        "vegan avocado brownie recipes\n",
        "vegan avocado butter recipe\n",
        "vegan avocado cake recipe\n",
        "vegan avocado cake recipes\n",
        "vegan avocado cheesecake recipe\n",
        "vegan avocado chips recipe\n",
        "vegan avocado crema recipe\n",
        "vegan avocado dessert recipes\n",
        "vegan avocado dinner recipes\n",
        "vegan avocado dip recipe\n",
        "vegan avocado dressing recipe\n",
        "vegan avocado dressing recipes\n",
        "vegan avocado flatbread recipe\n",
        "vegan avocado gelato recipe\n",
        "vegan avocado green goddess dressing recipe\n",
        "vegan avocado ice cream recipe\n",
        "vegan avocado mayo recipe\n",
        "vegan avocado mayonnaise recipe\n",
        "vegan avocado oil mayo recipe\n",
        "vegan avocado pasta recipes\n",
        "vegan avocado pesto pasta recipe\n",
        "vegan avocado pesto recipe\n",
        "vegan avocado pie recipe\n",
        "vegan avocado pizza recipe\n",
        "vegan avocado recipe\n",
        "vegan avocado recipes\n",
        "vegan avocado recipes baked\n",
        "vegan avocado recipes breakfast\n",
        "vegan avocado recipes dessert\n",
        "vegan avocado recipes dinner\n",
        "vegan avocado recipes easy\n",
        "vegan avocado recipes sweet\n",
        "vegan avocado recipes uk\n",
        "vegan avocado salad recipes\n",
        "vegan avocado sandwich recipes\n",
        "vegan avocado sauce recipe\n",
        "vegan avocado soup recipe\n",
        "vegan avocado toast recipe\n",
        "vegan avocado toast recipes\n",
        "vegan breakfast recipes with avocado\n",
        "vegan cake recipes using avocado\n",
        "vegan cauliflower avocado recipes\n",
        "vegan dinner recipes with avocado\n",
        "vegan friendly avocado recipes\n",
        "vegan gluten free avocado recipes\n",
        "vegan keto avocado recipes\n",
        "vegan lunch recipes with avocado\n",
        "vegan recipes with avocado\n",
        "vegan ripe avocado recipes\n",
        "vegan salad recipes with avocado\n",
        "vegan smashed avocado recipe\n",
        "vegan stuffed avocado recipes\n",
        "vegan tofu and avocado recipes\n",
        "vegetarian avocado dinner recipes\n",
        "vegetarian avocado recipes\n",
        "vegetarian avocado sandwich recipes\n",
        "vegetarian avocado starter recipes\n",
        "vegetarian avocado toast recipes\n",
        "vegetarian keto avocado recipes\n",
        "vegetarian recipes with avocado\n",
        "vegetarian recipes with avocado sandwiches\n",
        "vegetarian sandwich recipes with avocado\n",
        "vegetarian wrap recipes avocado\n",
        "verve avocado toast recipe\n",
        "vietnamese avocado smoothie recipe\n",
        "vigo creamy avocado rice recipes\n",
        "vitamix avocado recipes\n",
        "vitamix ice cream recipes with avocado\n",
        "vitamix recipes with avocado\n",
        "warm avocado recipes\n",
        "warm avocado soup recipes\n",
        "watercress salad recipes avocado\n",
        "watermelon avocado salad recipes\n",
        "weaning recipes avocado\n",
        "weight loss avocado smoothie recipe\n",
        "weight watcher avocado recipes\n",
        "weight watchers avocado recipes\n",
        "weight watchers avocado toast recipe\n",
        "weight watchers recipes with avocado\n",
        "welch's frozen avocado recipes\n",
        "whole 30 avocado recipes\n",
        "whole avocado recipes\n",
        "whole30 avocado recipes\n",
        "whole30 recipes with avocado\n",
        "wholly avocado recipes\n",
        "winter avocado recipes\n",
        "wishbone avocado oil dressing recipes\n",
        "ww avocado recipes\n",
        "yard house avocado toast recipe\n",
        "yonanas recipes avocado\n",
        "youtube avocado recipes\n",
        "zucchini and avocado recipes\"\"\""
      ],
      "execution_count": null,
      "outputs": []
    },
    {
      "cell_type": "code",
      "metadata": {
        "colab": {
          "base_uri": "https://localhost:8080/"
        },
        "id": "U842DNXiMBdb",
        "outputId": "3a2f4f3f-184f-475a-98fb-731918203d8b"
      },
      "source": [
        "keywords = text.split(\"\\n\")\n",
        "first_len = len(keywords[0])\n",
        "keywords = \". \".join(keywords)\n",
        "keywords[0:first_len+10]"
      ],
      "execution_count": null,
      "outputs": [
        {
          "output_type": "execute_result",
          "data": {
            "application/vnd.google.colaboratory.intrinsic+json": {
              "type": "string"
            },
            "text/plain": [
              "'10 best avocado recipes. 100 avoc'"
            ]
          },
          "metadata": {
            "tags": []
          },
          "execution_count": 7
        }
      ]
    },
    {
      "cell_type": "markdown",
      "metadata": {
        "id": "2U1rRo28MH_R"
      },
      "source": [
        "# Code"
      ]
    },
    {
      "cell_type": "code",
      "metadata": {
        "id": "pAEiuXTtMNZE"
      },
      "source": [
        "import re\n",
        "import nltk\n",
        "import yake\n",
        "import numpy as np\n",
        "import multiprocessing\n",
        "from scipy import spatial\n",
        "from nltk.corpus import wordnet\n",
        "from nltk.corpus import stopwords\n",
        "from collections import defaultdict\n",
        "from difflib import SequenceMatcher\n",
        "from gensim.models.phrases import Phrases, Phraser\n",
        "from gensim.models import Word2Vec, Phrases, KeyedVectors\n",
        "from sklearn.feature_extraction.text import CountVectorizer\n",
        "from nltk.stem import WordNetLemmatizer, PorterStemmer, LancasterStemmer\n",
        "\n",
        "WIN_SIZE = 5\n",
        "W2V_MIN = 1\n",
        "BIGRAM_MIN = 5\n",
        "BIGRAM_TH = 10\n",
        "TRIGRAM_MIN = 10\n",
        "TRIGRAM_TH = 10\n",
        "EMBEDDINGS_SIZE = 300\n",
        "TAG_SIMILARITY_RATIO = 0.55\n",
        "IGNORE_WORDS = {\"an\", \"also\", \"not\", \"why\", \"does\", \"how\", \"many\", \"so\", \"much\", \"where\", \"when\", \"which\", \"from\", \"all\", \"am\", \"an\", \"and\", \"another\", \"any\", \"are\", \"as\", \"at\", \"be\",\n",
        "                \"been\", \"being\", \"but\", \"by\", \"came\", \"can\", \"come\", \"did\", \"do\", \"for\", \"get\", \"got\", \"has\", \"had\", \"he\",\n",
        "                \"have\", \"her\", \"here\", \"him\", \"himself\", \"his\", \"if\", \"in\", \"into\", \"is\", \"it\", \"like\", \"me\", \"my\",\n",
        "                \"of\", \"on\", \"or\", \"other\", \"our\", \"out\", \"over\", \"see\", \"still\", \"such\", \"take\", \"than\", \"that\", \"the\",\n",
        "                \"their\", \"them\", \"then\", \"there\", \"these\", \"they\", \"this\", \"those\", \"through\", \"to\", \"too\", \"up\", \"was\",\n",
        "                \"way\", \"we\", \"well\", \"while\", \"with\", \"would\", \"you\", \"your\", \"a\", \"i\", \"will\", \"com\", \"may\", \"every\",\n",
        "                \"using\", \"just\", \"need\", \"want\", \"years\", \"great\", \"good\", \"privacy\", \"next\", \"know\", \"found\", \"add\",\n",
        "                \"even\", \"use\", \"one\", \"something\", \"choice\", \"some\", \"more\", \"away\", \"really\", \"put\", \"instead\", \"start\"}\n",
        "\n",
        "wnl = WordNetLemmatizer()\n",
        "ps = PorterStemmer()\n",
        "ls = LancasterStemmer()\n",
        "\n",
        "cores = multiprocessing.cpu_count()\n",
        "if cores > 2:\n",
        "    cores = 2\n",
        "\n",
        "stop_words = set(stopwords.words('english'))\n",
        "\n",
        "\n",
        "def remove_not_valid_chars(word):\n",
        "    return re.sub(r'[^a-z0-9-]+', '', word.lower())\n",
        "\n",
        "\n",
        "def get_pos_tokens(tokens):\n",
        "    new_tokens = []\n",
        "    \n",
        "    tokens = nltk.pos_tag(tokens)\n",
        "\n",
        "    for word, pos in tokens:\n",
        "        _pos = penn_to_wn(pos)\n",
        "        if _pos:\n",
        "          w = wnl.lemmatize(word, _pos)\n",
        "          new_tokens.append(w)\n",
        "        else:\n",
        "          w = wnl.lemmatize(word)\n",
        "          new_tokens.append(w)\n",
        "\n",
        "    return new_tokens\n",
        "\n",
        "\n",
        "def get_wordnet_pos(treebank_tag):\n",
        "    if treebank_tag.startswith('J'):\n",
        "        return wordnet.ADJ\n",
        "    elif treebank_tag.startswith('V'):\n",
        "        return wordnet.VERB\n",
        "    elif treebank_tag.startswith('N'):\n",
        "        return wordnet.NOUN\n",
        "    elif treebank_tag.startswith('R'):\n",
        "        return wordnet.ADV\n",
        "    else:\n",
        "        return ''\n",
        "\n",
        "\n",
        "def penn_to_wn(tag):\n",
        "    return get_wordnet_pos(tag)\n",
        "\n",
        "\n",
        "def get_sentences(text):\n",
        "  sentences = nltk.sent_tokenize(text)\n",
        "\n",
        "  sentences_list = []\n",
        "  for sent in sentences:\n",
        "    words = nltk.word_tokenize(sent)\n",
        "    words = get_pos_tokens(words)\n",
        "    \n",
        "    clean_words = []\n",
        "    for word in words:\n",
        "      w = remove_not_valid_chars(word)     \n",
        "      # w = ps.stem(w)\n",
        "      # w = ls.stem(w)    \n",
        "      if w != \"\" and w not in stop_words and w not in IGNORE_WORDS:\n",
        "        clean_words.append(w)\n",
        "      \n",
        "    sentences_list.append(clean_words)\n",
        "\n",
        "  return sentences_list\n",
        "\n",
        "\n",
        "def get_ngrams(sentences_list):\n",
        "  phrases_bigram = Phrases(sentences_list, min_count=BIGRAM_MIN, threshold=BIGRAM_TH, common_terms=stop_words.union(IGNORE_WORDS))  \n",
        "  phrases_trigram = Phrases(phrases_bigram[sentences_list], min_count=TRIGRAM_MIN, threshold=TRIGRAM_TH, common_terms=stop_words.union(IGNORE_WORDS))  \n",
        "  return Phraser(phrases_trigram)  \n",
        "  \n",
        "\n",
        "def get_documents(sentences_list):\n",
        "  documents = [\" \".join(sent) for sent in sentences_list]\n",
        "  return documents\n",
        "\n",
        "\n",
        "def get_w2v_model(sentences_list, phraser):  \n",
        "  w2v_model = Word2Vec(\n",
        "      window=WIN_SIZE,\n",
        "      size=EMBEDDINGS_SIZE,\n",
        "      min_count=W2V_MIN,\n",
        "      workers=cores,\n",
        "      iter=50\n",
        "  )\n",
        "  training_examples_count = w2v_model.corpus_count\n",
        "  w2v_model.build_vocab(phraser[sentences_list])\n",
        "  w2v_model.train(phraser[sentences_list], total_examples=training_examples_count, epochs=w2v_model.iter)\n",
        "\n",
        "  return w2v_model\n",
        "\n",
        "\n",
        "def most_frequent_words(phraser, sents, num, min_word_len=1, max_word_len=10):\n",
        "    word_freq = defaultdict(int)\n",
        "    for sent in phraser[sents]:\n",
        "        for i in sent:\n",
        "            l = len(i.split(\"_\"))\n",
        "            if i.replace(\" \", \"_\") not in stop_words and l >= min_word_len and l <= max_word_len:\n",
        "                word_freq[i] += 1\n",
        "    words = []\n",
        "    for k in sorted(word_freq, key=word_freq.get, reverse=True)[:num]:\n",
        "        words.append(k.replace(\"_\", \" \"))\n",
        "    return words\n",
        "\n",
        "\n",
        "def get_popular_words(trigram, sentences_list, w2v_model, top_n=20):\n",
        "  popular = most_frequent_words(trigram, sentences_list, top_n, 1, 3)\n",
        "\n",
        "  all_words = []\n",
        "  for pop in popular:\n",
        "      all_words.append(pop)\n",
        "      if pop not in stop_words and pop not in IGNORE_WORDS and pop in w2v_model.wv:\n",
        "          w2v_words = w2v_model.wv.most_similar(pop, topn=3)\n",
        "          for w in w2v_words:\n",
        "              if w not in stop_words and w not in IGNORE_WORDS:\n",
        "                  all_words.append(w[0])\n",
        "\n",
        "  sorted_words = list(set(all_words))\n",
        "  sorted_words.sort()\n",
        "\n",
        "  return sorted_words\n",
        "\n",
        "\n",
        "def calculate_similarity(sentence1, sentence2, model, num_features, index2word_set):    \n",
        "    return model.wv.wmdistance(sentence1.split(\" \"), sentence2.split(\" \"))\n",
        "\n",
        "\n",
        "def get_raw_sentence(sentence, trigrams):\n",
        "  return \" \".join(trigrams[sentence.split(\" \")])\n",
        "\n",
        "\n",
        "def sentence_similarity(s1, s2, sentences_list, ngrams, model):\n",
        "  index2word_set = set(model.wv.index2word)\n",
        "\n",
        "  sent1 = get_raw_sentence(s1, ngrams)\n",
        "  sent2 = get_raw_sentence(s2, ngrams)\n",
        "\n",
        "  sim = calculate_similarity(sent1, sent2, model=model, num_features=EMBEDDINGS_SIZE, index2word_set=index2word_set)\n",
        "\n",
        "  return sim\n",
        "\n",
        "\n",
        "def get_topics(sentences_list, num):\n",
        "  language = \"en\"\n",
        "  max_ngram_size = 3\n",
        "  deduplication_thresold = 0.9\n",
        "  deduplication_algo = 'seqm'\n",
        "  windowSize = WIN_SIZE\n",
        "  numOfKeywords = num\n",
        "\n",
        "  custom_kw_extractor = yake.KeywordExtractor(lan=language, n=max_ngram_size, dedupLim=deduplication_thresold, dedupFunc=deduplication_algo, windowsSize=windowSize, top=numOfKeywords, features=None)\n",
        "  keywords = custom_kw_extractor.extract_keywords(\".\\n\".join([\" \".join(s) for s in sentences_list]))\n",
        "  return keywords\n",
        "\n",
        "\n",
        "def get_top_n_words(corpus, ngrams, n):    \n",
        "    def get_tokens(tokens):      \n",
        "      return ngrams[tokens.split(\" \")]\n",
        "\n",
        "    vec = CountVectorizer(ngram_range=(1, 4), analyzer=\"word\", tokenizer=get_tokens).fit(corpus)\n",
        "    bag_of_words = vec.transform(corpus)\n",
        "    sum_words = bag_of_words.sum(axis=0) \n",
        "    words_freq = [(word, sum_words[0, idx]) for word, idx in vec.vocabulary_.items()]\n",
        "    words_freq = sorted(words_freq, key = lambda x: x[1], reverse=True)\n",
        "    return words_freq[:n]\n",
        "\n",
        "\n",
        "def get_tags_clean(tags, sim_ratio=TAG_SIMILARITY_RATIO):\n",
        "  tags = list(reversed(list(sorted(tags, key=len))))\n",
        "\n",
        "  final = []  \n",
        "\n",
        "  for tag1 in tags:\n",
        "    ignored = []\n",
        "    allow = []\n",
        "\n",
        "    for tag2 in tags:      \n",
        "      if tag1 == tag2:\n",
        "        continue\n",
        "      ratio = SequenceMatcher(None, tag1, tag2).ratio()      \n",
        "      if ratio >= sim_ratio and tag2 not in ignored:\n",
        "        ignored.append(tag2)\n",
        "\n",
        "    if len(ignored) == 0 and tag2 not in final:\n",
        "      final.append(tag1)\n",
        "\n",
        "  return final\n",
        "\n",
        "\n",
        "def get_keyword_tags(keywords):\n",
        "  sentences_list = get_sentences(keywords)\n",
        "  ngrams = get_ngrams(sentences_list)\n",
        "  model = get_w2v_model(sentences_list, ngrams)\n",
        "\n",
        "  popular = most_frequent_words(ngrams, sentences_list, 100, 2, 3)\n",
        "  popular = popular + most_frequent_words(ngrams, sentences_list, 500, 1, 1)\n",
        "  popular = list(set(popular))\n",
        "\n",
        "  topics = get_topics(sentences_list, 100)\n",
        "  topics = [topic[0] for topic in topics]\n",
        "\n",
        "  popular_words = get_top_n_words([\" \".join(sent) for sent in sentences_list], ngrams, 100)\n",
        "  popular_words = [w[0].replace(\"_\", \" \") for w in popular_words if len(w[0].split(\" \")) > 1]\n",
        "  \n",
        "  missing_tags = []\n",
        "\n",
        "  for sent in sentences_list:  \n",
        "    sentence = \" \".join(sent)\n",
        "    tags = []\n",
        "\n",
        "    for pop in popular:       \n",
        "      if pop in sentence:\n",
        "        if pop not in tags:\n",
        "          tags.append(pop)  \n",
        "\n",
        "    for t in topics:    \n",
        "      if t in sentence:      \n",
        "        if t not in tags:\n",
        "          tags.append(t)   \n",
        "\n",
        "    for t in popular_words:    \n",
        "      if t in sentence:                  \n",
        "        tags.append(t)            \n",
        "    \n",
        "    tags = get_tags_clean(tags)\n",
        "\n",
        "    clean_sentence = sentence\n",
        "    for t in tags:    \n",
        "      p = re.compile(f'\\b{t}\\b', re.IGNORECASE)\n",
        "      clean_sentence = re.sub(p, \" \", clean_sentence)\n",
        "\n",
        "    current_tags = []\n",
        "    for n in clean_sentence.strip().split(\" \"):\n",
        "      if n != \"\" and not n.isnumeric() and not n in current_tags:\n",
        "        current_tags.append(n)\n",
        "\n",
        "    if len(current_tags) > 0:\n",
        "      missing_tags.append(\" \".join(current_tags))\n",
        "\n",
        "  missing_tags = list(set(missing_tags))\n",
        "\n",
        "  all_tags = popular + topics + popular_words + missing_tags\n",
        "  all_tags = list(set(all_tags))\n",
        "  all_tags = [t for t in all_tags if len(t) > 1]\n",
        "  \n",
        "  data = dict()\n",
        "\n",
        "  for sent in sentences_list:  \n",
        "    sentence = \" \".join(sent)\n",
        "    tags = []\n",
        "\n",
        "    if sentence not in data:\n",
        "      data[sentence] = []\n",
        "\n",
        "    for tag in all_tags:\n",
        "      if tag in sentence and tag != sentence:\n",
        "        tags.append(tag)\n",
        "\n",
        "    tags = get_tags_clean(tags) \n",
        "\n",
        "    data[sentence] = tags\n",
        "  \n",
        "  groups = dict()\n",
        "  remove_tags = []\n",
        "  stem_sentences = []\n",
        "\n",
        "  for s in sentences_list:\n",
        "    words = []\n",
        "    for w in s:\n",
        "      w = ps.stem(w)\n",
        "      words.append(w)  \n",
        "    stem_sentences.append((\" \".join(s), \" \".join(words)))\n",
        "\n",
        "  for t in all_tags:\n",
        "    words = []\n",
        "    for w in t.split(\" \"):\n",
        "      w = ps.stem(w)\n",
        "      words.append(w)\n",
        "\n",
        "    tag = \" \".join(words)\n",
        "\n",
        "    if t not in groups:\n",
        "      groups[t] = []\n",
        "\n",
        "    for sent in stem_sentences:    \n",
        "      if tag in sent[1]:\n",
        "        groups[t].append(sent[0])\n",
        "\n",
        "    found_keywords = list(set(groups[t]))\n",
        "\n",
        "    if len(found_keywords) > 1:\n",
        "      groups[t] = found_keywords\n",
        "    else:\n",
        "      del groups[t]\n",
        "      remove_tags.append(t)\n",
        "\n",
        "  for tag in list(groups):\n",
        "    if len(tag.split(\" \")) > 3:\n",
        "      del groups[tag]\n",
        "    elif tag.isnumeric():\n",
        "      del groups[tag]\n",
        "\n",
        "  return data, groups"
      ],
      "execution_count": null,
      "outputs": []
    },
    {
      "cell_type": "code",
      "metadata": {
        "colab": {
          "base_uri": "https://localhost:8080/"
        },
        "id": "-nGbTAhhr231",
        "outputId": "eca9120f-b588-44fe-8c32-63ef51fcb861"
      },
      "source": [
        "data, groups = get_keyword_tags(keywords)"
      ],
      "execution_count": null,
      "outputs": [
        {
          "output_type": "stream",
          "text": [
            "/usr/local/lib/python3.7/dist-packages/ipykernel_launcher.py:124: DeprecationWarning: Call to deprecated `iter` (Attribute will be removed in 4.0.0, use self.epochs instead).\n",
            "/usr/local/lib/python3.7/dist-packages/sklearn/feature_extraction/text.py:507: UserWarning: The parameter 'token_pattern' will not be used since 'tokenizer' is not None'\n",
            "  warnings.warn(\"The parameter 'token_pattern' will not be used\"\n"
          ],
          "name": "stderr"
        }
      ]
    },
    {
      "cell_type": "code",
      "metadata": {
        "colab": {
          "base_uri": "https://localhost:8080/"
        },
        "id": "E3KXVDZ0r9Gt",
        "outputId": "daa8c0d7-c5c8-4627-c30a-99b1b6cc9090"
      },
      "source": [
        "groups.keys()"
      ],
      "execution_count": null,
      "outputs": [
        {
          "output_type": "execute_result",
          "data": {
            "text/plain": [
              "dict_keys(['avocado spread recipe', 'shake', 'flatbread', 'recipe vegan', 'recipe salmon avocado', 'avocado recipe dip', 'toddler', 'pudding', 'bagel', 'avocado recipe dinner', 'avocado keto recipe', 'cauliflower', 'summer', 'recipe breakfast', 'burger', 'tom', 'avocado flatbread recipe', 'eat', 'low', 'tenderloin', 'dress', 'mediterranean', 'avocado recipe hair', 'beef', 'pesto', 'simple avocado recipe', 'half', 'pita', 'prawn', 'fish avocado recipe', 'mousse', 'avocado recipe lunch', 'kitchen', 'spinach', 'weaning', 'avocado toast', 'bullet', 'keto avocado', 'cheese', 'vegan avocado', 'chicken', 'main', 'avocado smoothy recipe', 'recipe baby', 'tamil', 'feta', 'avocado juice recipe', 'avocado chicken recipe', 'bar', 'cold', 'meal', 'avocado recipe bake', 'el', 'sausage avocado recipe', 'baby', 'green', 'frozen avocado recipe', 'leftover', 'avocado recipe raw', 'dairy', 'avocado shake recipe', 'smash avocado', 'base', 'sugar', 'fajitas', 'dash', 'cottage', 'strawberry', 'atkins', 'gluten-free', 'hot', 'mayo', 'egg', 'recipe guacamole avocado', 'egg avocado recipe', 'amazing', 'brunch', 'eggs', 'drink', 'oat', 'recipe avocado salsa', 'tasty', 'avocado recipe uk', 'poached', 'make', 'day', 'avocado pie recipe', 'rotisserie', 'bean', 'avocado recipe indian', 'dessert recipe', 'savoury', 'avocado snack recipe', 'recipe avocado salad', 'recipe avocado hater', 'vegan avocado recipe', 'stuffed avocado recipes', 'healthy', 'interest avocado recipe', 'avocado cake recipe', 'tuna', 'bruschetta', 'scramble', 'goat', 'shrimp avocado', 'bacon avocado recipe', 'avocado recipe', 'savory', 'avocado recipe idea', 'fry avocado recipe', 'avocado recipe salad', 'avocado dress recipe', 'asian', 'scrambled', 'blue', 'fill', 'avocado', 'salmon avocado recipe', 'best avocado recipe', 'network', 'avocado sweet recipe', 'avocado recipe vegetarian', 'avocado dessert recipe', 'vietnamese', 'free', 'salmon avocado', 'dish', 'dip recipe', 'recipe avocado toast', 'salsa', 'poosh', 'side', 'smoked', 'entree', 'lemon', 'boat', 'recipe bacon avocado', 'boil', 'yogurt', 'taco', 'salmon', 'recipe avocado chicken', 'easy avocado', 'super', 'trader', 'avocado recipe tuna', 'smoothie', 'california', 'salad recipe avocado', 'australia', 'wrap', 'hummus', 'jello', 'avocado recipe australia', 'avocado fruit recipe', 'turkey', 'arugula', 'avocado recipe dessert', 'avocado pudding recipe', 'ha', 'recipe avocado oil', 'without', 'avocado salsa recipe', 'homestead', 'recipe', 'avocado dip recipe', 'avocado salad', 'honey', 'ha avocado recipe', 'breakfast', 'hebbar', 'beet', 'vegan', 'relish', 'natural', 'vegan recipe avocado', 'ritz', 'philz', 'avocado chunk recipe', 'nz', 'crema', 'hate', 'avocado guacamole recipe', 'dinner recipe', 'style', 'fun', 'factory', 'smoothie recipe', 'smash', 'avocado vegan recipe', 'fresh', 'bread', 'rice', 'egg recipe avocado', 'quick', 'blw', 'poach', 'prawn avocado recipe', 'avocado bake recipe', 'food', 'dinner', 'gourmet', 'poosh recipe avocado', 'choose', 'stuff avocado recipe', 'avocado indian recipe', 'recipe egg', 'bowl', 'shrimp avocado recipe', 'best avocado', 'lunch', 'condensed', 'recipe shrimp avocado', 'milk', 'avocado dinner', 'avocado seed recipe', 'idea', 'bake avocado recipe', 'cooking', 'grill', 'dr', 'avocado entree recipe', 'mash', 'recipe avocado butter', 'easy avocado recipe', 'hot avocado recipe', 'recipe keto', 'quinoa', 'chocolate', 'recipe chicken avocado', 'kid', 'keto recipe avocado', 'uk', 'avocado sauce recipe', 'bon', 'avocado recipe kid', 'salad', 'mexico', 'squash', 'avocado recipe easy', 'delish', 'avocado salad recipe', 'spread', 'crab', 'avocado lunch recipe', 'ella', 'kumana', 'recipe avocado egg', 'avocado recipe bacon', 'avocado rice recipe', 'frozen', 'avocado recipe tasty', 'smoothie recipe avocado', 'dress recipe', 'roll', 'bbc', 'cake recipe avocado', 'vinaigrette', 'cauliflower avocado recipe', 'keto recipe', 'raw avocado recipe', 'dry', 'diet', 'hamburger', 'vegetarian', 'creamy', 'panini recipe avocado', 'avocado hummus recipe', 'avocado crema recipe', 'jamie', 'bacon', 'australian', 'fajita', 'stuff', 'crab avocado recipe', 'dressing', 'recipe avocado', 'chunk', 'magnolia', 'avocado egg', 'raw', 'dinner recipe avocado', 'gordon', 'avocado dress', 'avocado recipes easy', 'tostitos', 'avocado recipe vegan', 'juice', 'veg', 'healthy avocado recipe', 'puree', 'paleo avocado recipe', 'avocado breakfast recipe', 'chicken avocado', 'avocado chicken', 'salad avocado recipe', 'indian', 'recipe frozen avocado', 'nacho', 'bolthouse', 'calorie', 'friendly', 'meat avocado recipe', 'tomato', 'avocado wrap recipe', 'homemade', 'halloumi', 'cherry', 'fish', 'hater', 'panini', 'nuts', 'avocado dinner recipe', 'recipes', 'thanksgiving', 'top', 'avocado pasta recipe', 'avocado fry recipe', 'avocado recipes guacamole', 'growth', 'avocado sandwich recipe', 'kale', 'vegetarian avocado recipe', 'avocado oil', 'smash avocado recipe', 'whole', 'eats', 'smoke', 'condense', 'oz', 'lime', 'watch', 'mushroom avocado recipe', 'lettuce', 'avocado vegetarian recipe', 'bake', 'clean', 'recipe egg avocado', 'easy', 'stuffed', 'salad recipe', 'mushroom', 'toast recipe', 'slice', 'year', 'ham', 'pizza', 'recipe avocado dressing', 'baked', 'oliver', 'avocado brownie recipe', 'dip', 'coffee', 'recipe easy', 'recipe uk', 'cook avocado recipe', 'tropical', 'watcher', 'nutribullet', 'sweet', 'avocado dessert', 'avocado recipe baby', 'avocado burger recipe', 'toast', 'avocado recipe cook', 'cook', 'cream', 'wean', 'chicken avocado recipe', 'shakeology', 'coconut', 'vegetarian recipe avocado', 'ripe', 'pork', 'key', 'vitamix', 'fried', 'taste', 'avocado smoothie', 'avocado recipe breakfast', 'black', 'diabetic', 'topping', 'stuffed avocado', 'tasty avocado recipe', 'sauce', 'avocado egg recipe', 'fruit', 'easy recipe avocado', 'avocado smoothie recipe', 'video', 'tofu', 'nt', 'avocado healthy recipe', 'sandwich', 'mash avocado recipe', 'avocado recipe keto', 'joe', 'ground', 'simple', 'lobster', 'sausage', 'youtube', 'vegetable', 'pasta', 'best recipe avocado', 'egg avocado', 'snack', 'freeze', 'seed', 'avocado sandwich', 'delicious', 'best', 'first', 'steak', 'cocktail', 'breakfast recipe avocado', 'avocado starter recipe', 'sandwich recipe', 'avocado recipes', 'pinterest', 'world', 'pickle', 'breakfast recipe', 'gain', 'meat', 'cheesecake', 'ranch', 'avocado recipe guacamole', 'hebbars', 'hard', 'filipino', 'table', 'shakeology recipe avocado', 'italian', 'amaze', 'deliciously', 'avocado prawn recipe', 'air', 'avocado salsa', 'chickpea', 'asparagus', 'cooked', 'book', 'ever', 'avocado recipes simple', 'tuna avocado recipe', 'brownie', 'pdf', 'mango', 'keto', 'avocado recipe egg', 'avocado mayo recipe', 'ripe avocado recipe', 'avocado soup recipe', 'turkey avocado recipe', 'breast', 'carb', 'unripe', 'go', 'ramsay', 'recipe avocado spinach', 'avocado tuna recipe', 'cake recipe', 'garten', 'soup', 'win', 'oil', 'month', 'baking', 'season', 'recipe avocado dip', 'stuffed avocado recipe', 'avocado recipe nz', 'steak avocado recipe', 'mask', 'mexican', 'seafood', 'avocado recipe shrimp', 'avocado recipe healthy', 'devil', 'old', 'avocado recipe chicken', 'greek', 'balsamic', 'oatmeal', 'shrimp', 'beef avocado recipe', 'berry', 'whole30', 'sour', 'avocado bacon recipe', 'keto avocado recipe', 'weight', 'recipe mango avocado', 'gluten', 'mayonnaise', 'south', 'recipe make avocado', 'potato', 'japanese', 'pie', 'bodybuilding', 'avocado oil recipe', 'avocado puree recipe', 'street', 'banana', 'cake', 'avocado banana recipe', 'zucchini', 'avocado breakfast', 'tofu avocado recipe', 'starter', 'egg recipe', 'fry', 'cucumber', 'avocado toast recipe', 'spicy', 'avocado recipe veg', 'hair', 'potato avocado recipe', 'appetizer', 'recipe avocado mayo', 'avocado dip', 'paleo', 'inside', 'unripe avocado recipe', 'warm', 'recipe baked avocado', 'ice', 'healthy avocado', 'buzzfeed', 'butter', 'guacamole', 'dessert', 'nachos', 'quick avocado recipe', 'loss', 'skin', 'white', 'smoothy', 'cilantro', 'free avocado recipe', 'chip', 'ina', 'avocado recipe toddler', 'recipe dinner'])"
            ]
          },
          "metadata": {
            "tags": []
          },
          "execution_count": 23
        }
      ]
    },
    {
      "cell_type": "code",
      "metadata": {
        "colab": {
          "base_uri": "https://localhost:8080/"
        },
        "id": "vwliKyY8VG2P",
        "outputId": "39858424-4219-4798-a005-681132263d78"
      },
      "source": [
        "sentences_list = get_sentences(keywords)\n",
        "len(sentences_list), sentences_list[:10]"
      ],
      "execution_count": null,
      "outputs": [
        {
          "output_type": "execute_result",
          "data": {
            "text/plain": [
              "(1860,\n",
              " [['10', 'best', 'avocado', 'recipe'],\n",
              "  ['100', 'avocado', 'recipe'],\n",
              "  ['13', 'avocado', 'recipe', 'tasty'],\n",
              "  ['20', 'amazing', 'paleo', 'avocado', 'recipe'],\n",
              "  ['20', 'avocado', 'recipe', 'kid', 'super', 'healthy', 'kid'],\n",
              "  ['21', 'day', 'fix', 'avocado', 'recipe'],\n",
              "  ['50', 'avocado', 'recipe'],\n",
              "  ['aip', 'avocado', 'recipe'],\n",
              "  ['air', 'fryer', 'recipes', 'avocado'],\n",
              "  ['alkaline', 'avocado', 'recipe']])"
            ]
          },
          "metadata": {
            "tags": []
          },
          "execution_count": 381
        }
      ]
    },
    {
      "cell_type": "code",
      "metadata": {
        "colab": {
          "base_uri": "https://localhost:8080/"
        },
        "id": "wM5VlyCfcfQU",
        "outputId": "1516cb92-300c-4c73-b30d-fc0dcf6f4ef6"
      },
      "source": [
        "ngrams = get_ngrams(sentences_list)\n",
        "\n",
        "for sent in sentences_list[:10]:\n",
        "  print(ngrams[sent])"
      ],
      "execution_count": null,
      "outputs": [
        {
          "output_type": "stream",
          "text": [
            "['10', 'best', 'avocado', 'recipe']\n",
            "['100', 'avocado', 'recipe']\n",
            "['13', 'avocado', 'recipe', 'tasty']\n",
            "['20', 'amazing', 'paleo', 'avocado', 'recipe']\n",
            "['20', 'avocado', 'recipe', 'kid', 'super', 'healthy', 'kid']\n",
            "['21', 'day', 'fix', 'avocado', 'recipe']\n",
            "['50', 'avocado', 'recipe']\n",
            "['aip', 'avocado', 'recipe']\n",
            "['air', 'fryer', 'recipes', 'avocado']\n",
            "['alkaline', 'avocado', 'recipe']\n"
          ],
          "name": "stdout"
        }
      ]
    },
    {
      "cell_type": "code",
      "metadata": {
        "colab": {
          "base_uri": "https://localhost:8080/"
        },
        "id": "zsnEH-HSb_tB",
        "outputId": "d928ca81-b101-4aa0-96e5-886c852f2235"
      },
      "source": [
        "model = get_w2v_model(sentences_list, ngrams)"
      ],
      "execution_count": null,
      "outputs": [
        {
          "output_type": "stream",
          "text": [
            "/usr/local/lib/python3.7/dist-packages/ipykernel_launcher.py:124: DeprecationWarning: Call to deprecated `iter` (Attribute will be removed in 4.0.0, use self.epochs instead).\n"
          ],
          "name": "stderr"
        }
      ]
    },
    {
      "cell_type": "code",
      "metadata": {
        "colab": {
          "base_uri": "https://localhost:8080/"
        },
        "id": "G1ouYjoTuNlc",
        "outputId": "b39f5ae9-f7f1-4751-e1d9-a314173af7a4"
      },
      "source": [
        "sentence_similarity('best avocado recipes', 'avocado brownie recipe', sentences_list, ngrams, model) < 0.2"
      ],
      "execution_count": null,
      "outputs": [
        {
          "output_type": "execute_result",
          "data": {
            "text/plain": [
              "True"
            ]
          },
          "metadata": {
            "tags": []
          },
          "execution_count": 384
        }
      ]
    },
    {
      "cell_type": "code",
      "metadata": {
        "colab": {
          "base_uri": "https://localhost:8080/"
        },
        "id": "yFqW2aws1SCY",
        "outputId": "ffab2268-ab58-44b3-a737-15639c14b709"
      },
      "source": [
        "sentence_similarity('best avocado recipes', 'avocado recipes', sentences_list, ngrams, model) < 0.2"
      ],
      "execution_count": null,
      "outputs": [
        {
          "output_type": "execute_result",
          "data": {
            "text/plain": [
              "True"
            ]
          },
          "metadata": {
            "tags": []
          },
          "execution_count": 385
        }
      ]
    },
    {
      "cell_type": "code",
      "metadata": {
        "colab": {
          "base_uri": "https://localhost:8080/"
        },
        "id": "90NEOk6e1UwT",
        "outputId": "d5ddc62a-0866-4bb1-aa12-211720abbd79"
      },
      "source": [
        "sentence_similarity('avocado toast', 'smoothie recipe', sentences_list, ngrams, model) < 0.2"
      ],
      "execution_count": null,
      "outputs": [
        {
          "output_type": "execute_result",
          "data": {
            "text/plain": [
              "False"
            ]
          },
          "metadata": {
            "tags": []
          },
          "execution_count": 386
        }
      ]
    },
    {
      "cell_type": "code",
      "metadata": {
        "colab": {
          "base_uri": "https://localhost:8080/"
        },
        "id": "Gg9XdN_41ecZ",
        "outputId": "d1d1e21a-13a1-4679-c5be-f7d1f9f8467f"
      },
      "source": [
        "sentence_similarity('avocado toast', 'avocado toast breakfast', sentences_list, ngrams, model) < 0.2"
      ],
      "execution_count": null,
      "outputs": [
        {
          "output_type": "execute_result",
          "data": {
            "text/plain": [
              "True"
            ]
          },
          "metadata": {
            "tags": []
          },
          "execution_count": 387
        }
      ]
    },
    {
      "cell_type": "code",
      "metadata": {
        "id": "e_0Y27DPoo7N"
      },
      "source": [
        "# popular = get_popular_words(ngrams, sentences_list, model, 1000)"
      ],
      "execution_count": null,
      "outputs": []
    },
    {
      "cell_type": "code",
      "metadata": {
        "colab": {
          "base_uri": "https://localhost:8080/"
        },
        "id": "TiaPiAksksx3",
        "outputId": "85c7aaec-737d-4fc8-d02c-960079526749"
      },
      "source": [
        "popular = most_frequent_words(ngrams, sentences_list, 100, 2, 3)\n",
        "popular = popular + most_frequent_words(ngrams, sentences_list, 500, 1, 1)\n",
        "popular = list(set(popular))\n",
        "popular[:30]"
      ],
      "execution_count": null,
      "outputs": [
        {
          "output_type": "execute_result",
          "data": {
            "text/plain": [
              "['pork',\n",
              " 'crab',\n",
              " 'boba',\n",
              " 'telugu',\n",
              " '-',\n",
              " 'puree',\n",
              " 'watch',\n",
              " 'baguette',\n",
              " 'tapa',\n",
              " '6',\n",
              " 'dish',\n",
              " 'bread',\n",
              " 'pita',\n",
              " 'alkaline',\n",
              " 'earl',\n",
              " 'fun',\n",
              " 'season',\n",
              " 'bean',\n",
              " 'idea',\n",
              " 'desi',\n",
              " 'gitane',\n",
              " 'jain',\n",
              " 'relish',\n",
              " 'bodybuilding',\n",
              " 'ha',\n",
              " 'aip',\n",
              " 'basil',\n",
              " 'curly',\n",
              " 'creative',\n",
              " 'fruit']"
            ]
          },
          "metadata": {
            "tags": []
          },
          "execution_count": 389
        }
      ]
    },
    {
      "cell_type": "code",
      "metadata": {
        "colab": {
          "base_uri": "https://localhost:8080/"
        },
        "id": "e9ljf9HRFgwU",
        "outputId": "49bfe287-261c-4d1a-e57d-654ca69c0527"
      },
      "source": [
        "topics = get_topics(sentences_list, 100)\n",
        "topics = [topic[0] for topic in topics]\n",
        "topics[:10]"
      ],
      "execution_count": null,
      "outputs": [
        {
          "output_type": "execute_result",
          "data": {
            "text/plain": [
              "['avocado recipe',\n",
              " 'avocado',\n",
              " 'recipe',\n",
              " 'recipe avocado',\n",
              " 'avocado toast recipe',\n",
              " 'avocado smoothie recipe',\n",
              " 'avocado toast',\n",
              " 'avocado salad recipe',\n",
              " 'toast recipe',\n",
              " 'egg avocado recipe']"
            ]
          },
          "metadata": {
            "tags": []
          },
          "execution_count": 390
        }
      ]
    },
    {
      "cell_type": "code",
      "metadata": {
        "colab": {
          "base_uri": "https://localhost:8080/"
        },
        "id": "lzHqwHoZIyJ0",
        "outputId": "794fbe08-a2b6-4c19-9c4a-1410fe1bfd8c"
      },
      "source": [
        "ngrams['10 best avocado recipe'.split(\" \")], ngrams['avocado toast'.split(\" \")]"
      ],
      "execution_count": null,
      "outputs": [
        {
          "output_type": "execute_result",
          "data": {
            "text/plain": [
              "(['10', 'best', 'avocado', 'recipe'], ['avocado', 'toast'])"
            ]
          },
          "metadata": {
            "tags": []
          },
          "execution_count": 391
        }
      ]
    },
    {
      "cell_type": "code",
      "metadata": {
        "colab": {
          "base_uri": "https://localhost:8080/"
        },
        "id": "czZh6Dp_X8b0",
        "outputId": "a239fd21-0de5-46e0-ed82-9cb2e6aae009"
      },
      "source": [
        "popular_words = get_top_n_words([\" \".join(sent) for sent in sentences_list], ngrams, 100)\n",
        "popular_words = [w[0].replace(\"_\", \" \") for w in popular_words if len(w[0].split(\" \")) > 1]\n",
        "popular_words[:20]"
      ],
      "execution_count": null,
      "outputs": [
        {
          "output_type": "stream",
          "text": [
            "/usr/local/lib/python3.7/dist-packages/sklearn/feature_extraction/text.py:507: UserWarning: The parameter 'token_pattern' will not be used since 'tokenizer' is not None'\n",
            "  warnings.warn(\"The parameter 'token_pattern' will not be used\"\n"
          ],
          "name": "stderr"
        },
        {
          "output_type": "execute_result",
          "data": {
            "text/plain": [
              "['avocado recipe',\n",
              " 'recipe avocado',\n",
              " 'avocado toast',\n",
              " 'toast recipe',\n",
              " 'avocado toast recipe',\n",
              " 'smoothie recipe',\n",
              " 'salad recipe',\n",
              " 'avocado salad',\n",
              " 'avocado smoothie',\n",
              " 'chicken avocado',\n",
              " 'avocado smoothie recipe',\n",
              " 'vegan avocado',\n",
              " 'avocado egg',\n",
              " 'avocado salad recipe',\n",
              " 'dress recipe',\n",
              " 'egg avocado',\n",
              " 'egg recipe',\n",
              " 'recipe egg',\n",
              " 'avocado oil',\n",
              " 'breakfast recipe']"
            ]
          },
          "metadata": {
            "tags": []
          },
          "execution_count": 392
        }
      ]
    },
    {
      "cell_type": "code",
      "metadata": {
        "colab": {
          "base_uri": "https://localhost:8080/"
        },
        "id": "a6WXpU654iUI",
        "outputId": "6718c647-dc8c-4a47-a352-11b7f3f1f5d7"
      },
      "source": [
        "ignored = []\n",
        "missing_tags = []\n",
        "\n",
        "for sent in sentences_list:  \n",
        "  sentence = \" \".join(sent)\n",
        "  tags = []\n",
        "\n",
        "  for pop in popular:       \n",
        "    if pop in sentence:\n",
        "      if pop not in tags:\n",
        "        tags.append(pop)  \n",
        "\n",
        "  for t in topics:    \n",
        "    if t in sentence:      \n",
        "      if t not in tags:\n",
        "        tags.append(t)   \n",
        "\n",
        "  for t in popular_words:    \n",
        "    if t in sentence:                  \n",
        "      tags.append(t)            \n",
        "  \n",
        "  tags = get_tags_clean(tags)\n",
        "\n",
        "  clean_sentence = sentence\n",
        "  for t in tags:    \n",
        "    p = re.compile(f'\\b{t}\\b', re.IGNORECASE)\n",
        "    clean_sentence = re.sub(p, \" \", clean_sentence)\n",
        "\n",
        "  current_tags = []\n",
        "  for n in clean_sentence.strip().split(\" \"):\n",
        "    if n != \"\" and not n.isnumeric() and not n in current_tags:\n",
        "      current_tags.append(n)\n",
        "\n",
        "  if len(current_tags) > 0:\n",
        "    missing_tags.append(\" \".join(current_tags))\n",
        "\n",
        "missing_tags = list(set(missing_tags))\n",
        "missing_tags[:20]"
      ],
      "execution_count": null,
      "outputs": [
        {
          "output_type": "execute_result",
          "data": {
            "text/plain": [
              "['keto egg avocado recipe',\n",
              " 'avocado smoothie recipe condense milk',\n",
              " 'recipe spinach avocado',\n",
              " 'avocado lunch box recipe',\n",
              " 'avocado egg salad recipe',\n",
              " 'avocado toast recipe salmon',\n",
              " 'avocado entree recipe vegetarian',\n",
              " 'avocado sandwich recipes vegan',\n",
              " 'avocado beef recipe',\n",
              " 'healthy salad dress recipe avocado oil',\n",
              " 'choquette avocado recipe',\n",
              " 'potato avocado recipe',\n",
              " 'avocado pudding recipe toddler',\n",
              " 'avocado powder recipe',\n",
              " 'recipe tostitos avocado salsa',\n",
              " 'vigo creamy avocado rice recipe',\n",
              " 'vegan breakfast recipe avocado',\n",
              " 'avocado smoothie recipes healthy',\n",
              " 'avocado ham sandwich recipe',\n",
              " 'salmon recipe avocado salsa']"
            ]
          },
          "metadata": {
            "tags": []
          },
          "execution_count": 393
        }
      ]
    },
    {
      "cell_type": "code",
      "metadata": {
        "colab": {
          "base_uri": "https://localhost:8080/"
        },
        "id": "hs00-ZyfF-sR",
        "outputId": "37cf9218-49f0-41de-8fa2-574a47ad0de7"
      },
      "source": [
        "'veg' in topics, 'veg' in popular_words, 'veg' in popular, 'veg' in missing_tags"
      ],
      "execution_count": null,
      "outputs": [
        {
          "output_type": "execute_result",
          "data": {
            "text/plain": [
              "(False, False, True, False)"
            ]
          },
          "metadata": {
            "tags": []
          },
          "execution_count": 394
        }
      ]
    },
    {
      "cell_type": "code",
      "metadata": {
        "colab": {
          "base_uri": "https://localhost:8080/"
        },
        "id": "Q6bmaAGafzuw",
        "outputId": "d9bfcadc-05f8-40bf-f088-79932771a428"
      },
      "source": [
        "ignored[:20]"
      ],
      "execution_count": null,
      "outputs": [
        {
          "output_type": "execute_result",
          "data": {
            "text/plain": [
              "[]"
            ]
          },
          "metadata": {
            "tags": []
          },
          "execution_count": 395
        }
      ]
    },
    {
      "cell_type": "code",
      "metadata": {
        "colab": {
          "base_uri": "https://localhost:8080/"
        },
        "id": "itD2N3UzgFKH",
        "outputId": "859c7092-5499-4077-c983-3cc867c62e73"
      },
      "source": [
        "'avocado oil' in missing_tags, 'avocado oil' in topics, 'avocado oil' in popular, 'avocado oil' in popular_words"
      ],
      "execution_count": null,
      "outputs": [
        {
          "output_type": "execute_result",
          "data": {
            "text/plain": [
              "(False, True, False, True)"
            ]
          },
          "metadata": {
            "tags": []
          },
          "execution_count": 396
        }
      ]
    },
    {
      "cell_type": "code",
      "metadata": {
        "colab": {
          "base_uri": "https://localhost:8080/"
        },
        "id": "_JNeS5rSKq5-",
        "outputId": "d19ba785-7a6c-4b48-ca00-f714e82f0eed"
      },
      "source": [
        "all_tags = popular + topics + popular_words + missing_tags\n",
        "all_tags = list(set(all_tags))\n",
        "all_tags = [t for t in all_tags if len(t) > 1]\n",
        "all_tags[:20]"
      ],
      "execution_count": null,
      "outputs": [
        {
          "output_type": "execute_result",
          "data": {
            "text/plain": [
              "['pork',\n",
              " 'keto egg avocado recipe',\n",
              " 'avocado smoothie recipe condense milk',\n",
              " 'telugu',\n",
              " 'recipe spinach avocado',\n",
              " 'avocado lunch box recipe',\n",
              " 'avocado egg salad recipe',\n",
              " 'watch',\n",
              " 'avocado toast recipe salmon',\n",
              " 'avocado entree recipe vegetarian',\n",
              " 'alkaline',\n",
              " 'avocado sandwich recipes vegan',\n",
              " 'avocado beef recipe',\n",
              " 'healthy salad dress recipe avocado oil',\n",
              " 'choquette avocado recipe',\n",
              " 'potato avocado recipe',\n",
              " 'avocado pudding recipe toddler',\n",
              " 'avocado powder recipe',\n",
              " 'recipe tostitos avocado salsa',\n",
              " 'vigo creamy avocado rice recipe']"
            ]
          },
          "metadata": {
            "tags": []
          },
          "execution_count": 397
        }
      ]
    },
    {
      "cell_type": "code",
      "metadata": {
        "id": "KlLaZiJhK1Sx"
      },
      "source": [
        "ignored = []\n",
        "\n",
        "data = dict()\n",
        "\n",
        "for sent in sentences_list:  \n",
        "  sentence = \" \".join(sent)\n",
        "  tags = []\n",
        "\n",
        "  if sentence not in data:\n",
        "    data[sentence] = []\n",
        "\n",
        "  for tag in all_tags:\n",
        "    if tag in sentence and tag != sentence:\n",
        "      tags.append(tag)\n",
        "\n",
        "  tags = get_tags_clean(tags) \n",
        "\n",
        "  data[sentence] = tags"
      ],
      "execution_count": null,
      "outputs": []
    },
    {
      "cell_type": "code",
      "metadata": {
        "colab": {
          "base_uri": "https://localhost:8080/"
        },
        "id": "YA9YwRwHf39a",
        "outputId": "c727f750-5e17-4358-f1e4-cb549f7466e9"
      },
      "source": [
        "ignored[:20]"
      ],
      "execution_count": null,
      "outputs": [
        {
          "output_type": "execute_result",
          "data": {
            "text/plain": [
              "[]"
            ]
          },
          "metadata": {
            "tags": []
          },
          "execution_count": 399
        }
      ]
    },
    {
      "cell_type": "code",
      "metadata": {
        "colab": {
          "base_uri": "https://localhost:8080/"
        },
        "id": "OXQofaQZgXQO",
        "outputId": "3a4f42ad-efae-4116-cc14-e6e2c7f6c3c7"
      },
      "source": [
        "'juice' in missing_tags, 'juice' in topics, 'juice' in popular, 'juice' in popular_words"
      ],
      "execution_count": null,
      "outputs": [
        {
          "output_type": "execute_result",
          "data": {
            "text/plain": [
              "(False, False, True, False)"
            ]
          },
          "metadata": {
            "tags": []
          },
          "execution_count": 400
        }
      ]
    },
    {
      "cell_type": "code",
      "metadata": {
        "colab": {
          "base_uri": "https://localhost:8080/"
        },
        "id": "Rt9oIfUSLrzl",
        "outputId": "ad6a7f0e-b8a4-47bd-cf57-a1a489684564"
      },
      "source": [
        "sample_tags = data['arugula avocado smoothie recipe']\n",
        "sample_tags"
      ],
      "execution_count": null,
      "outputs": [
        {
          "output_type": "execute_result",
          "data": {
            "text/plain": [
              "['arugula']"
            ]
          },
          "metadata": {
            "tags": []
          },
          "execution_count": 401
        }
      ]
    },
    {
      "cell_type": "code",
      "metadata": {
        "colab": {
          "base_uri": "https://localhost:8080/"
        },
        "id": "aWv064rFL-U6",
        "outputId": "a3b66c05-a55a-4051-872f-a80f9aee72d0"
      },
      "source": [
        "groups = dict()\n",
        "\n",
        "remove_tags = []\n",
        "stem_sentences = []\n",
        "\n",
        "for s in sentences_list:\n",
        "  words = []\n",
        "  for w in s:\n",
        "    w = ps.stem(w)\n",
        "    words.append(w)  \n",
        "  stem_sentences.append((\" \".join(s), \" \".join(words)))\n",
        "\n",
        "for t in all_tags:\n",
        "  words = []\n",
        "  for w in t.split(\" \"):\n",
        "    w = ps.stem(w)\n",
        "    words.append(w)\n",
        "\n",
        "  tag = \" \".join(words)\n",
        "\n",
        "  if t not in groups:\n",
        "    groups[t] = []\n",
        "\n",
        "  for sent in stem_sentences:    \n",
        "    if tag in sent[1]:\n",
        "      groups[t].append(sent[0])\n",
        "\n",
        "  found_keywords = list(set(groups[t]))\n",
        "\n",
        "  if len(found_keywords) > 1:\n",
        "    groups[t] = found_keywords\n",
        "  else:\n",
        "    del groups[t]\n",
        "    remove_tags.append(t)\n",
        "\n",
        "len(groups.keys())"
      ],
      "execution_count": null,
      "outputs": [
        {
          "output_type": "execute_result",
          "data": {
            "text/plain": [
              "618"
            ]
          },
          "metadata": {
            "tags": []
          },
          "execution_count": 402
        }
      ]
    },
    {
      "cell_type": "code",
      "metadata": {
        "colab": {
          "base_uri": "https://localhost:8080/"
        },
        "id": "kRREfWLIOYnn",
        "outputId": "5555bbd5-b077-4914-b7c1-2c8fbaafa50f"
      },
      "source": [
        "final_tags = [t for t in all_tags if t not in remove_tags]\n",
        "final_tags[:10]"
      ],
      "execution_count": null,
      "outputs": [
        {
          "output_type": "execute_result",
          "data": {
            "text/plain": [
              "['pork',\n",
              " 'avocado egg salad recipe',\n",
              " 'watch',\n",
              " 'potato avocado recipe',\n",
              " 'relish',\n",
              " 'ha',\n",
              " 'steak avocado recipe',\n",
              " 'healthy avocado',\n",
              " 'chicken avocado recipe easy',\n",
              " 'avocado recipes easy']"
            ]
          },
          "metadata": {
            "tags": []
          },
          "execution_count": 403
        }
      ]
    },
    {
      "cell_type": "code",
      "metadata": {
        "id": "kwdXkal3Vejn"
      },
      "source": [
        "ID = 3"
      ],
      "execution_count": null,
      "outputs": []
    },
    {
      "cell_type": "code",
      "metadata": {
        "colab": {
          "base_uri": "https://localhost:8080/",
          "height": 36
        },
        "id": "IVadJwl6Ni0u",
        "outputId": "1a8edce0-dff2-417a-984e-0beb832b2967"
      },
      "source": [
        "UNIGRAM_ID = ID\n",
        "unigram_word_tags = [t for t in final_tags if len(t.split(\" \")) == 1]\n",
        "TAG_UNIGRAM = unigram_word_tags[UNIGRAM_ID]\n",
        "TAG_UNIGRAM"
      ],
      "execution_count": null,
      "outputs": [
        {
          "output_type": "execute_result",
          "data": {
            "application/vnd.google.colaboratory.intrinsic+json": {
              "type": "string"
            },
            "text/plain": [
              "'ha'"
            ]
          },
          "metadata": {
            "tags": []
          },
          "execution_count": 422
        }
      ]
    },
    {
      "cell_type": "code",
      "metadata": {
        "colab": {
          "base_uri": "https://localhost:8080/"
        },
        "id": "Qa9hrdoqNaaF",
        "outputId": "0c1655fc-7857-4bd1-f83f-713374959667"
      },
      "source": [
        "if TAG_UNIGRAM in groups:\n",
        "  print(groups[TAG_UNIGRAM])"
      ],
      "execution_count": null,
      "outputs": [
        {
          "output_type": "stream",
          "text": [
            "['avocado recipe people hate avocado', 'avocado half shell recipe', 'avocado ham recipe', 'avocado oil recipe hair', 'daily harvest avocado cacao smoothie recipe', 'hall avocado recipe', 'frozen avocado shake recipe', 'avocado hair mask recipe curly hair', 'ham avocado recipe', 'castor oil coconut oil avocado oil hair growth recipe', 'avocado milkshake recipe', 'thanksgiving avocado recipe', 'avocado halve recipe', 'meghan markle avocado toast recipe', 'avocado butter hair recipe', 'chocolate shakeology recipe avocado', 'matcha avocado smoothie recipe', 'recipe avocado hard boil egg', 'houlihan avocado toast recipe', 'haddock avocado recipe', 'hawaiian avocado recipe', 'halloumi avocado toast recipe', 'avocado ham sandwich recipe', 'avocado hair mask recipe natural hair', 'avocado hater recipe', 'avocado butter recipe hair', 'avocado thanksgiving recipe', 'avocado half recipe', 'avocado recipe avocado hater', 'avocado halloumi recipe', 'avocado smoothie recipe hair growth', 'ha avocado recipes easy', 'hate avocado recipe', 'avocado recipe hair', 'hard boil egg avocado recipe', 'emma chamberlain avocado toast recipe', 'ha avocado recipe', 'recipe hamburger avocado', 'avocado hamburger recipe', 'avocado toast hard boil egg recipe', 'avocado shake recipe', 'hamburger avocado recipe', 'recipe avocado hater', 'avocado recipe hair growth', 'avocado hair treatment recipe natural hair', 'shakeology recipe avocado', 'avocado hair mask recipe hair growth', 'hamburger meat avocado recipe', 'avocado recipe dry hair']\n"
          ],
          "name": "stdout"
        }
      ]
    },
    {
      "cell_type": "code",
      "metadata": {
        "colab": {
          "base_uri": "https://localhost:8080/"
        },
        "id": "B0a_b-hQQcQ3",
        "outputId": "a075284c-b304-46e6-e067-6f728cf76fd8"
      },
      "source": [
        "current_sentence = groups[TAG_UNIGRAM][0]\n",
        "current_sentence, data[current_sentence]"
      ],
      "execution_count": null,
      "outputs": [
        {
          "output_type": "execute_result",
          "data": {
            "text/plain": [
              "('avocado recipe people hate avocado', ['people'])"
            ]
          },
          "metadata": {
            "tags": []
          },
          "execution_count": 424
        }
      ]
    },
    {
      "cell_type": "code",
      "metadata": {
        "colab": {
          "base_uri": "https://localhost:8080/",
          "height": 36
        },
        "id": "OaYAboJBNxPq",
        "outputId": "824f20f8-0730-4311-ebe6-2582cb9978a7"
      },
      "source": [
        "BIGRAM_ID = ID\n",
        "bigram_word_tags = [t for t in final_tags if len(t.split(\" \")) == 2]\n",
        "TAG_BIGRAM = bigram_word_tags[BIGRAM_ID]\n",
        "TAG_BIGRAM"
      ],
      "execution_count": null,
      "outputs": [
        {
          "output_type": "execute_result",
          "data": {
            "application/vnd.google.colaboratory.intrinsic+json": {
              "type": "string"
            },
            "text/plain": [
              "'avocado dip'"
            ]
          },
          "metadata": {
            "tags": []
          },
          "execution_count": 425
        }
      ]
    },
    {
      "cell_type": "code",
      "metadata": {
        "colab": {
          "base_uri": "https://localhost:8080/"
        },
        "id": "eyam31pQN_KH",
        "outputId": "767f5e19-31ba-4a71-85d3-45cff0ab51c5"
      },
      "source": [
        "if TAG_BIGRAM in groups:\n",
        "  print(groups[TAG_BIGRAM])"
      ],
      "execution_count": null,
      "outputs": [
        {
          "output_type": "stream",
          "text": [
            "['recipe avocado dip tomato', 'avocado dip recipe youtube', 'avocado dip sour cream recipe', 'avocado dip recipe', 'best avocado dip recipe', 'avocado dip nachos recipe', 'best ever avocado dip recipe', 'avocado dip recipes keto', 'avocado dip guacamole recipe', 'avocado dip recipe mayo', 'avocado dip recipe guacamole', 'avocado dip recipe mayonnaise', 'healthy avocado dip recipe', 'simple avocado dip recipe', 'vegan avocado dip recipe', 'avocado dip recipe chip', 'avocado dip recipes easy', 'avocado dip recipe cream cheese', 'avocado dip recipes vegan', 'avocado dip recipe garlic', 'recipe avocado dip', 'avocado dip recipes yogurt', 'recipe guacamole avocado dip', 'avocado dip recipe sour cream', 'avocado dip recipes uk', 'avocado dip recipe vegan', 'keto avocado dip recipe']\n"
          ],
          "name": "stdout"
        }
      ]
    },
    {
      "cell_type": "code",
      "metadata": {
        "colab": {
          "base_uri": "https://localhost:8080/"
        },
        "id": "ValRnVpWQII8",
        "outputId": "5666ab81-a9f8-4ec3-bbc6-e148b1c2db9f"
      },
      "source": [
        "current_sentence = groups[TAG_BIGRAM][0]\n",
        "current_sentence, data[current_sentence]"
      ],
      "execution_count": null,
      "outputs": [
        {
          "output_type": "execute_result",
          "data": {
            "text/plain": [
              "('recipe avocado dip tomato', ['dip'])"
            ]
          },
          "metadata": {
            "tags": []
          },
          "execution_count": 427
        }
      ]
    },
    {
      "cell_type": "code",
      "metadata": {
        "colab": {
          "base_uri": "https://localhost:8080/"
        },
        "id": "k26QygdFkdqM",
        "outputId": "23e6415b-f6eb-4ec0-8360-eb648d14fbbd"
      },
      "source": [
        "data[\"avocado hummus recipe vegan\"]"
      ],
      "execution_count": null,
      "outputs": [
        {
          "output_type": "execute_result",
          "data": {
            "text/plain": [
              "['avocado hummus recipe', 'avocado', 'hummus']"
            ]
          },
          "metadata": {
            "tags": []
          },
          "execution_count": 428
        }
      ]
    },
    {
      "cell_type": "code",
      "metadata": {
        "colab": {
          "base_uri": "https://localhost:8080/"
        },
        "id": "L06vVpnSOxnn",
        "outputId": "41af018c-2187-40a0-ee0f-dab652a0be91"
      },
      "source": [
        "groups['avocado hummus recipe']"
      ],
      "execution_count": null,
      "outputs": [
        {
          "output_type": "execute_result",
          "data": {
            "text/plain": [
              "['avocado hummus recipe', 'avocado hummus recipe vegan']"
            ]
          },
          "metadata": {
            "tags": []
          },
          "execution_count": 429
        }
      ]
    },
    {
      "cell_type": "code",
      "metadata": {
        "colab": {
          "base_uri": "https://localhost:8080/"
        },
        "id": "GkRgPZCRMfyj",
        "outputId": "6dacfe5a-a11d-4ed7-f7a5-b5af26fdb2a9"
      },
      "source": [
        "'turkey bacon avocado sandwich recipe' in groups['sandwich']"
      ],
      "execution_count": null,
      "outputs": [
        {
          "output_type": "execute_result",
          "data": {
            "text/plain": [
              "True"
            ]
          },
          "metadata": {
            "tags": []
          },
          "execution_count": 430
        }
      ]
    },
    {
      "cell_type": "code",
      "metadata": {
        "colab": {
          "base_uri": "https://localhost:8080/"
        },
        "id": "Ppqlfgh1N4Ah",
        "outputId": "f4a23507-e518-4615-f9c5-6b9f6f116944"
      },
      "source": [
        "'turkey bacon avocado sandwich recipe' in groups['turkey']"
      ],
      "execution_count": null,
      "outputs": [
        {
          "output_type": "execute_result",
          "data": {
            "text/plain": [
              "True"
            ]
          },
          "metadata": {
            "tags": []
          },
          "execution_count": 431
        }
      ]
    },
    {
      "cell_type": "code",
      "metadata": {
        "colab": {
          "base_uri": "https://localhost:8080/"
        },
        "id": "Spg7tc_xN5pm",
        "outputId": "70dc75ad-8af8-44bb-9fa2-7a79a39983d1"
      },
      "source": [
        "'turkey bacon avocado sandwich recipe' in groups['bacon']"
      ],
      "execution_count": null,
      "outputs": [
        {
          "output_type": "execute_result",
          "data": {
            "text/plain": [
              "True"
            ]
          },
          "metadata": {
            "tags": []
          },
          "execution_count": 432
        }
      ]
    },
    {
      "cell_type": "code",
      "metadata": {
        "colab": {
          "base_uri": "https://localhost:8080/"
        },
        "id": "_4JUElKXN7k8",
        "outputId": "be021d77-0ee7-4443-9288-d21f57f218f3"
      },
      "source": [
        "'turkey bacon avocado sandwich recipe' in groups['avocado']"
      ],
      "execution_count": null,
      "outputs": [
        {
          "output_type": "execute_result",
          "data": {
            "text/plain": [
              "True"
            ]
          },
          "metadata": {
            "tags": []
          },
          "execution_count": 433
        }
      ]
    },
    {
      "cell_type": "code",
      "metadata": {
        "colab": {
          "base_uri": "https://localhost:8080/"
        },
        "id": "gn526gTXN9HU",
        "outputId": "4f947ac7-b5c5-4960-d140-cec3511a1750"
      },
      "source": [
        "'turkey bacon avocado sandwich recipe' in groups['recipe']"
      ],
      "execution_count": null,
      "outputs": [
        {
          "output_type": "execute_result",
          "data": {
            "text/plain": [
              "True"
            ]
          },
          "metadata": {
            "tags": []
          },
          "execution_count": 434
        }
      ]
    },
    {
      "cell_type": "code",
      "metadata": {
        "colab": {
          "base_uri": "https://localhost:8080/"
        },
        "id": "oz_ZZSeErk5-",
        "outputId": "ec9150d2-3a98-4e52-e97e-709269c8de16"
      },
      "source": [
        "test_k2 = data[groups[TAG_UNIGRAM][0]]\n",
        "\n",
        "print(groups[TAG_UNIGRAM][0])\n",
        "\n",
        "get_tags_clean(test_k2, 0.75)"
      ],
      "execution_count": null,
      "outputs": [
        {
          "output_type": "stream",
          "text": [
            "avocado recipe people hate avocado\n"
          ],
          "name": "stdout"
        },
        {
          "output_type": "execute_result",
          "data": {
            "text/plain": [
              "['people']"
            ]
          },
          "metadata": {
            "tags": []
          },
          "execution_count": 435
        }
      ]
    },
    {
      "cell_type": "code",
      "metadata": {
        "colab": {
          "base_uri": "https://localhost:8080/"
        },
        "id": "__OW6XWrmtmr",
        "outputId": "c47f747a-560e-42df-cc08-104dded68df6"
      },
      "source": [
        "'cilangro' in all_tags"
      ],
      "execution_count": null,
      "outputs": [
        {
          "output_type": "execute_result",
          "data": {
            "text/plain": [
              "False"
            ]
          },
          "metadata": {
            "tags": []
          },
          "execution_count": 436
        }
      ]
    }
  ]
}