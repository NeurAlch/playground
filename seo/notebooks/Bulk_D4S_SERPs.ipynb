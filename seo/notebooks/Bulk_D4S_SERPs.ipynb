{
  "nbformat": 4,
  "nbformat_minor": 0,
  "metadata": {
    "colab": {
      "name": "Bulk D4S SERPs",
      "provenance": [],
      "collapsed_sections": []
    },
    "kernelspec": {
      "name": "python3",
      "display_name": "Python 3"
    },
    "language_info": {
      "name": "python"
    }
  },
  "cells": [
    {
      "cell_type": "markdown",
      "metadata": {
        "id": "q-2ay4jTYIXM"
      },
      "source": [
        "# Credentials"
      ]
    },
    {
      "cell_type": "markdown",
      "metadata": {
        "id": "vcY_7nIhYNgN"
      },
      "source": [
        "Please DO NOT share this notebook with your credentials!"
      ]
    },
    {
      "cell_type": "code",
      "metadata": {
        "cellView": "form",
        "id": "poWKKtgKXzwt"
      },
      "source": [
        "D4S_USERNAME = \"\" # @param {type:\"string\"}\n",
        "D4S_PASSWORD = \"\" # @param {type:\"string\"}"
      ],
      "execution_count": null,
      "outputs": []
    },
    {
      "cell_type": "markdown",
      "metadata": {
        "id": "xgC2HiPMYg6U"
      },
      "source": [
        "# Configuration"
      ]
    },
    {
      "cell_type": "code",
      "metadata": {
        "id": "VoUdEsuTYmtm",
        "cellView": "form"
      },
      "source": [
        "location = \"United States\" # @param {type:\"string\"}\n",
        "language = \"en\" # @param {type:\"string\"}"
      ],
      "execution_count": null,
      "outputs": []
    },
    {
      "cell_type": "markdown",
      "metadata": {
        "id": "yYZguf5Okj8u"
      },
      "source": [
        "# Keywords\n",
        "\n",
        "One keyword per line, inside a multi-line string (triple quotes)."
      ]
    },
    {
      "cell_type": "code",
      "metadata": {
        "id": "kGLRqZAmkimD"
      },
      "source": [
        "keywords_text = \"\"\"\n",
        "avocado recipes\n",
        "avocado toast recipes\n",
        "\"\"\""
      ],
      "execution_count": null,
      "outputs": []
    },
    {
      "cell_type": "markdown",
      "metadata": {
        "id": "0sbXbHurkyX7"
      },
      "source": [
        "## We separate our keyword list from text into an unique Python list"
      ]
    },
    {
      "cell_type": "code",
      "metadata": {
        "colab": {
          "base_uri": "https://localhost:8080/"
        },
        "id": "Ur8gmDmjkv0M",
        "outputId": "7ad92021-902c-443f-f770-96417e46fd54"
      },
      "source": [
        "keywords = keywords_text.split(\"\\n\")\n",
        "keywords = [kw for kw in keywords if kw.strip() != \"\"]\n",
        "keywords = list(set(keywords))\n",
        "keywords"
      ],
      "execution_count": null,
      "outputs": [
        {
          "output_type": "execute_result",
          "data": {
            "text/plain": [
              "['avocado recipes', 'avocado toast recipes']"
            ]
          },
          "metadata": {
            "tags": []
          },
          "execution_count": 14
        }
      ]
    },
    {
      "cell_type": "markdown",
      "metadata": {
        "id": "_tSVFgnUZFU3"
      },
      "source": [
        "# Code"
      ]
    },
    {
      "cell_type": "markdown",
      "metadata": {
        "id": "dSNIiDrpnTRd"
      },
      "source": [
        "## Boilerplate code for D4S"
      ]
    },
    {
      "cell_type": "code",
      "metadata": {
        "id": "6g974atlZGlI"
      },
      "source": [
        "from http.client import HTTPSConnection\n",
        "from base64 import b64encode\n",
        "from json import loads, dumps, dump\n",
        "\n",
        "class RestClient:\n",
        "    domain = \"api.dataforseo.com\"\n",
        "\n",
        "    def __init__(self, username, password):\n",
        "        self.username = username\n",
        "        self.password = password\n",
        "\n",
        "    def request(self, path, method, data=None):\n",
        "        connection = HTTPSConnection(self.domain)\n",
        "        try:\n",
        "            base64_bytes = b64encode(\n",
        "                (\"%s:%s\" % (self.username, self.password)).encode(\"ascii\")\n",
        "                ).decode(\"ascii\")\n",
        "            headers = {'Authorization' : 'Basic %s' %  base64_bytes, 'Content-Encoding' : 'gzip'}\n",
        "            connection.request(method, path, headers=headers, body=data)\n",
        "            response = connection.getresponse()\n",
        "            return loads(response.read().decode())\n",
        "        finally:\n",
        "            connection.close()\n",
        "\n",
        "    def get(self, path):\n",
        "        return self.request(path, 'GET')\n",
        "\n",
        "    def post(self, path, data):\n",
        "        if isinstance(data, str):\n",
        "            data_str = data\n",
        "        else:\n",
        "            data_str = dumps(data)\n",
        "        return self.request(path, 'POST', data_str)"
      ],
      "execution_count": null,
      "outputs": []
    },
    {
      "cell_type": "markdown",
      "metadata": {
        "id": "vsJyHsIlaRWc"
      },
      "source": [
        "## Get the current date\n",
        "\n",
        "This will be used on our final Excel file."
      ]
    },
    {
      "cell_type": "code",
      "metadata": {
        "id": "9lqv8sjOaO6V",
        "colab": {
          "base_uri": "https://localhost:8080/",
          "height": 36
        },
        "outputId": "7bd5bd2e-7d6e-4d32-8271-7912a3b163d0"
      },
      "source": [
        "from datetime import datetime\n",
        "today = datetime.today().strftime('%Y-%m-%d')\n",
        "today"
      ],
      "execution_count": null,
      "outputs": [
        {
          "output_type": "execute_result",
          "data": {
            "application/vnd.google.colaboratory.intrinsic+json": {
              "type": "string"
            },
            "text/plain": [
              "'2021-03-29'"
            ]
          },
          "metadata": {
            "tags": []
          },
          "execution_count": 12
        }
      ]
    },
    {
      "cell_type": "markdown",
      "metadata": {
        "id": "CkYDpFrY3dV6"
      },
      "source": [
        "# Get all SERPs for our keywords"
      ]
    },
    {
      "cell_type": "code",
      "metadata": {
        "colab": {
          "base_uri": "https://localhost:8080/"
        },
        "id": "2IeFnFL6ZPVr",
        "outputId": "f8437779-2c02-4f6b-9ee5-69c44dba2c84"
      },
      "source": [
        "client = RestClient(D4S_USERNAME, D4S_PASSWORD)\n",
        "\n",
        "all_results = []\n",
        "\n",
        "for keyword in keywords:  \n",
        "  post_data = dict()\n",
        "\n",
        "  post_data[len(post_data)] = dict(\n",
        "      language_code=language,\n",
        "      location_name=location,\n",
        "      keyword=keyword\n",
        "  )\n",
        "      \n",
        "  try:\n",
        "    response = client.post(\"/v3/serp/google/organic/live/regular\", post_data)\n",
        "  except:\n",
        "    response = None\n",
        "    print(f'Error getting keyword {keyword} SERP')\n",
        "\n",
        "  if response:    \n",
        "    if response[\"status_code\"] == 20000:\n",
        "      data = response['tasks'][0][\"result\"][0][\"items\"]    \n",
        "      \n",
        "      print(f'Got SERP for \"{keyword}\"\"')\n",
        "\n",
        "      for item in data:\n",
        "        item[\"keyword\"] = keyword\n",
        "        item[\"date\"] = today\n",
        "        all_results.append(item)        \n",
        "    else:\n",
        "      print(\"error. Code: %d Message: %s\" % (response[\"status_code\"], response[\"status_message\"]))  "
      ],
      "execution_count": null,
      "outputs": [
        {
          "output_type": "stream",
          "text": [
            "Got SERP for \"avocado recipes\"\"\n",
            "Got SERP for \"avocado toast recipes\"\"\n"
          ],
          "name": "stdout"
        }
      ]
    },
    {
      "cell_type": "code",
      "metadata": {
        "colab": {
          "base_uri": "https://localhost:8080/",
          "height": 36
        },
        "id": "B1PlXxRW_eG6",
        "outputId": "18988cd9-f988-420d-ee7b-be5743c17eb8"
      },
      "source": [
        "f'Got {len(all_results)} results for {len(keywords)} keywords'"
      ],
      "execution_count": null,
      "outputs": [
        {
          "output_type": "execute_result",
          "data": {
            "application/vnd.google.colaboratory.intrinsic+json": {
              "type": "string"
            },
            "text/plain": [
              "'Got 194 results for 2 keywords'"
            ]
          },
          "metadata": {
            "tags": []
          },
          "execution_count": 16
        }
      ]
    },
    {
      "cell_type": "markdown",
      "metadata": {
        "id": "4-ZqyB3ui8xn"
      },
      "source": [
        "## Lets take a look at the first keyword SERP"
      ]
    },
    {
      "cell_type": "code",
      "metadata": {
        "id": "hOnSKCdVc35z"
      },
      "source": [
        "import pandas as pd\n",
        "\n",
        "df = None\n",
        "if len(all_results) > 0:\n",
        "  df = pd.DataFrame.from_dict(all_results)"
      ],
      "execution_count": null,
      "outputs": []
    },
    {
      "cell_type": "code",
      "metadata": {
        "colab": {
          "base_uri": "https://localhost:8080/",
          "height": 206
        },
        "id": "hIVhSfBYODH2",
        "outputId": "3628ecdf-6e75-4671-c15a-454a0e0adb2e"
      },
      "source": [
        "df.head()"
      ],
      "execution_count": null,
      "outputs": [
        {
          "output_type": "execute_result",
          "data": {
            "text/html": [
              "<div>\n",
              "<style scoped>\n",
              "    .dataframe tbody tr th:only-of-type {\n",
              "        vertical-align: middle;\n",
              "    }\n",
              "\n",
              "    .dataframe tbody tr th {\n",
              "        vertical-align: top;\n",
              "    }\n",
              "\n",
              "    .dataframe thead th {\n",
              "        text-align: right;\n",
              "    }\n",
              "</style>\n",
              "<table border=\"1\" class=\"dataframe\">\n",
              "  <thead>\n",
              "    <tr style=\"text-align: right;\">\n",
              "      <th></th>\n",
              "      <th>type</th>\n",
              "      <th>rank_group</th>\n",
              "      <th>rank_absolute</th>\n",
              "      <th>domain</th>\n",
              "      <th>title</th>\n",
              "      <th>description</th>\n",
              "      <th>url</th>\n",
              "      <th>breadcrumb</th>\n",
              "      <th>keyword</th>\n",
              "      <th>date</th>\n",
              "    </tr>\n",
              "  </thead>\n",
              "  <tbody>\n",
              "    <tr>\n",
              "      <th>0</th>\n",
              "      <td>organic</td>\n",
              "      <td>1</td>\n",
              "      <td>3</td>\n",
              "      <td>www.loveandlemons.com</td>\n",
              "      <td>54 Avocado Recipes for Every Meal - Love and L...</td>\n",
              "      <td>Salads with Avocado. Broccoli Pesto Quinoa Sal...</td>\n",
              "      <td>https://www.loveandlemons.com/avocado-recipes/</td>\n",
              "      <td>www.loveandlemons.com › Recipes</td>\n",
              "      <td>avocado recipes</td>\n",
              "      <td>2021-03-29</td>\n",
              "    </tr>\n",
              "    <tr>\n",
              "      <th>1</th>\n",
              "      <td>organic</td>\n",
              "      <td>2</td>\n",
              "      <td>4</td>\n",
              "      <td>www.tasteofhome.com</td>\n",
              "      <td>50 Amazing Avocado Recipes You Need to Try | T...</td>\n",
              "      <td>Sep 24, 2018 — 50 Amazing Avocado Recipes You ...</td>\n",
              "      <td>https://www.tasteofhome.com/collection/recipes...</td>\n",
              "      <td>www.tasteofhome.com › ... › Vegetables › Avocados</td>\n",
              "      <td>avocado recipes</td>\n",
              "      <td>2021-03-29</td>\n",
              "    </tr>\n",
              "    <tr>\n",
              "      <th>2</th>\n",
              "      <td>organic</td>\n",
              "      <td>3</td>\n",
              "      <td>5</td>\n",
              "      <td>www.delish.com</td>\n",
              "      <td>50+ Easy Avocado Recipes - Best Dishes With Av...</td>\n",
              "      <td>Jun 24, 2020 — 51 Avocado Recipes So You Never...</td>\n",
              "      <td>https://www.delish.com/cooking/recipe-ideas/g2...</td>\n",
              "      <td>www.delish.com › cooking › recipe-ideas › thin...</td>\n",
              "      <td>avocado recipes</td>\n",
              "      <td>2021-03-29</td>\n",
              "    </tr>\n",
              "    <tr>\n",
              "      <th>3</th>\n",
              "      <td>organic</td>\n",
              "      <td>4</td>\n",
              "      <td>6</td>\n",
              "      <td>www.bonappetit.com</td>\n",
              "      <td>56 Avocado Recipes, So You Can Eat As Much of ...</td>\n",
              "      <td>Feb 18, 2020 — 56 Avocado Recipes, So You Can ...</td>\n",
              "      <td>https://www.bonappetit.com/recipes/slideshow/4...</td>\n",
              "      <td>www.bonappetit.com › recipes › slideshow › 40-...</td>\n",
              "      <td>avocado recipes</td>\n",
              "      <td>2021-03-29</td>\n",
              "    </tr>\n",
              "    <tr>\n",
              "      <th>4</th>\n",
              "      <td>organic</td>\n",
              "      <td>5</td>\n",
              "      <td>7</td>\n",
              "      <td>www.thespruceeats.com</td>\n",
              "      <td>25 Ways to Use Avocado in Your Next Meal - The...</td>\n",
              "      <td>Sep 13, 2020 — Avocado and Egg Toast · Buffalo...</td>\n",
              "      <td>https://www.thespruceeats.com/avocado-recipes-...</td>\n",
              "      <td>www.thespruceeats.com › avocado-recipes-4164909</td>\n",
              "      <td>avocado recipes</td>\n",
              "      <td>2021-03-29</td>\n",
              "    </tr>\n",
              "  </tbody>\n",
              "</table>\n",
              "</div>"
            ],
            "text/plain": [
              "      type  rank_group  ...          keyword        date\n",
              "0  organic           1  ...  avocado recipes  2021-03-29\n",
              "1  organic           2  ...  avocado recipes  2021-03-29\n",
              "2  organic           3  ...  avocado recipes  2021-03-29\n",
              "3  organic           4  ...  avocado recipes  2021-03-29\n",
              "4  organic           5  ...  avocado recipes  2021-03-29\n",
              "\n",
              "[5 rows x 10 columns]"
            ]
          },
          "metadata": {
            "tags": []
          },
          "execution_count": 21
        }
      ]
    },
    {
      "cell_type": "code",
      "metadata": {
        "colab": {
          "base_uri": "https://localhost:8080/",
          "height": 206
        },
        "id": "suJ8l25GOBGN",
        "outputId": "024a9f0b-f469-4074-9cf5-484c3ed4e9fa"
      },
      "source": [
        "df.tail()"
      ],
      "execution_count": null,
      "outputs": [
        {
          "output_type": "execute_result",
          "data": {
            "text/html": [
              "<div>\n",
              "<style scoped>\n",
              "    .dataframe tbody tr th:only-of-type {\n",
              "        vertical-align: middle;\n",
              "    }\n",
              "\n",
              "    .dataframe tbody tr th {\n",
              "        vertical-align: top;\n",
              "    }\n",
              "\n",
              "    .dataframe thead th {\n",
              "        text-align: right;\n",
              "    }\n",
              "</style>\n",
              "<table border=\"1\" class=\"dataframe\">\n",
              "  <thead>\n",
              "    <tr style=\"text-align: right;\">\n",
              "      <th></th>\n",
              "      <th>type</th>\n",
              "      <th>rank_group</th>\n",
              "      <th>rank_absolute</th>\n",
              "      <th>domain</th>\n",
              "      <th>title</th>\n",
              "      <th>description</th>\n",
              "      <th>url</th>\n",
              "      <th>breadcrumb</th>\n",
              "      <th>keyword</th>\n",
              "      <th>date</th>\n",
              "    </tr>\n",
              "  </thead>\n",
              "  <tbody>\n",
              "    <tr>\n",
              "      <th>189</th>\n",
              "      <td>organic</td>\n",
              "      <td>93</td>\n",
              "      <td>97</td>\n",
              "      <td>teabreakfast.com</td>\n",
              "      <td>20 Tasteful Avocado Toast Recipes for Healthy ...</td>\n",
              "      <td>Feb 21, 2021 — It's a different way of enhanci...</td>\n",
              "      <td>https://teabreakfast.com/avocado-toast-recipe/</td>\n",
              "      <td>teabreakfast.com › Breakfast Recipes</td>\n",
              "      <td>avocado toast recipes</td>\n",
              "      <td>2021-03-29</td>\n",
              "    </tr>\n",
              "    <tr>\n",
              "      <th>190</th>\n",
              "      <td>organic</td>\n",
              "      <td>94</td>\n",
              "      <td>98</td>\n",
              "      <td>chickenofthesea.com</td>\n",
              "      <td>Tuna Avocado Toast with Tomato | Chicken of th...</td>\n",
              "      <td>Step 1. Toast the bread. Slice the avocado and...</td>\n",
              "      <td>https://chickenofthesea.com/recipes/tuna-avoca...</td>\n",
              "      <td>chickenofthesea.com › recipes › tuna-avocado-t...</td>\n",
              "      <td>avocado toast recipes</td>\n",
              "      <td>2021-03-29</td>\n",
              "    </tr>\n",
              "    <tr>\n",
              "      <th>191</th>\n",
              "      <td>organic</td>\n",
              "      <td>95</td>\n",
              "      <td>99</td>\n",
              "      <td>www.americastestkitchen.com</td>\n",
              "      <td>Kid-Friendly Avocado Toast with Fried Eggs | A...</td>\n",
              "      <td>Avocado toast is a healthy and simple snack th...</td>\n",
              "      <td>https://www.americastestkitchen.com/kids/recip...</td>\n",
              "      <td>www.americastestkitchen.com › kids › recipes ›...</td>\n",
              "      <td>avocado toast recipes</td>\n",
              "      <td>2021-03-29</td>\n",
              "    </tr>\n",
              "    <tr>\n",
              "      <th>192</th>\n",
              "      <td>organic</td>\n",
              "      <td>96</td>\n",
              "      <td>100</td>\n",
              "      <td>weelicious.com</td>\n",
              "      <td>Avocado Toast | Weelicious</td>\n",
              "      <td>4 slices favorite bread, toasted · 1 small rip...</td>\n",
              "      <td>https://weelicious.com/avocado-toast-recipe/</td>\n",
              "      <td>weelicious.com › avocado-toast-recipe</td>\n",
              "      <td>avocado toast recipes</td>\n",
              "      <td>2021-03-29</td>\n",
              "    </tr>\n",
              "    <tr>\n",
              "      <th>193</th>\n",
              "      <td>organic</td>\n",
              "      <td>97</td>\n",
              "      <td>101</td>\n",
              "      <td>showmetheyummy.com</td>\n",
              "      <td>Avocado Toast - 15-Minute Breakfast - FOUR Ways!</td>\n",
              "      <td>Sep 8, 2020 — Today's “ recipes ” for avocado ...</td>\n",
              "      <td>https://showmetheyummy.com/avocado-toast/</td>\n",
              "      <td>showmetheyummy.com › Recipes › Breakfast › Savory</td>\n",
              "      <td>avocado toast recipes</td>\n",
              "      <td>2021-03-29</td>\n",
              "    </tr>\n",
              "  </tbody>\n",
              "</table>\n",
              "</div>"
            ],
            "text/plain": [
              "        type  rank_group  ...                keyword        date\n",
              "189  organic          93  ...  avocado toast recipes  2021-03-29\n",
              "190  organic          94  ...  avocado toast recipes  2021-03-29\n",
              "191  organic          95  ...  avocado toast recipes  2021-03-29\n",
              "192  organic          96  ...  avocado toast recipes  2021-03-29\n",
              "193  organic          97  ...  avocado toast recipes  2021-03-29\n",
              "\n",
              "[5 rows x 10 columns]"
            ]
          },
          "metadata": {
            "tags": []
          },
          "execution_count": 22
        }
      ]
    },
    {
      "cell_type": "markdown",
      "metadata": {
        "id": "_4v8bm_XjYQk"
      },
      "source": [
        "## Download as an Excel file"
      ]
    },
    {
      "cell_type": "code",
      "metadata": {
        "id": "Txxz5fLci8jc",
        "colab": {
          "base_uri": "https://localhost:8080/",
          "height": 17
        },
        "outputId": "d45c2c98-f25a-4e20-bbf5-d37b421597ce"
      },
      "source": [
        "from google.colab import files\n",
        "\n",
        "filename = 'serp-results.xlsx'\n",
        "df.to_excel(filename, index=False)\n",
        "files.download(filename)"
      ],
      "execution_count": null,
      "outputs": [
        {
          "output_type": "display_data",
          "data": {
            "application/javascript": [
              "\n",
              "    async function download(id, filename, size) {\n",
              "      if (!google.colab.kernel.accessAllowed) {\n",
              "        return;\n",
              "      }\n",
              "      const div = document.createElement('div');\n",
              "      const label = document.createElement('label');\n",
              "      label.textContent = `Downloading \"${filename}\": `;\n",
              "      div.appendChild(label);\n",
              "      const progress = document.createElement('progress');\n",
              "      progress.max = size;\n",
              "      div.appendChild(progress);\n",
              "      document.body.appendChild(div);\n",
              "\n",
              "      const buffers = [];\n",
              "      let downloaded = 0;\n",
              "\n",
              "      const channel = await google.colab.kernel.comms.open(id);\n",
              "      // Send a message to notify the kernel that we're ready.\n",
              "      channel.send({})\n",
              "\n",
              "      for await (const message of channel.messages) {\n",
              "        // Send a message to notify the kernel that we're ready.\n",
              "        channel.send({})\n",
              "        if (message.buffers) {\n",
              "          for (const buffer of message.buffers) {\n",
              "            buffers.push(buffer);\n",
              "            downloaded += buffer.byteLength;\n",
              "            progress.value = downloaded;\n",
              "          }\n",
              "        }\n",
              "      }\n",
              "      const blob = new Blob(buffers, {type: 'application/binary'});\n",
              "      const a = document.createElement('a');\n",
              "      a.href = window.URL.createObjectURL(blob);\n",
              "      a.download = filename;\n",
              "      div.appendChild(a);\n",
              "      a.click();\n",
              "      div.remove();\n",
              "    }\n",
              "  "
            ],
            "text/plain": [
              "<IPython.core.display.Javascript object>"
            ]
          },
          "metadata": {
            "tags": []
          }
        },
        {
          "output_type": "display_data",
          "data": {
            "application/javascript": [
              "download(\"download_7fb8a8ec-3637-4431-91f3-d35926f72aba\", \"serp-results.xlsx\", 34062)"
            ],
            "text/plain": [
              "<IPython.core.display.Javascript object>"
            ]
          },
          "metadata": {
            "tags": []
          }
        }
      ]
    }
  ]
}