{
  "nbformat": 4,
  "nbformat_minor": 0,
  "metadata": {
    "colab": {
      "name": "MNIST 2",
      "provenance": [],
      "collapsed_sections": []
    },
    "kernelspec": {
      "name": "python3",
      "display_name": "Python 3"
    },
    "language_info": {
      "name": "python"
    },
    "accelerator": "GPU"
  },
  "cells": [
    {
      "cell_type": "markdown",
      "metadata": {
        "id": "myww_fdBu0yM"
      },
      "source": [
        "## Imports, constants"
      ]
    },
    {
      "cell_type": "code",
      "metadata": {
        "id": "AGl1HegGBkul"
      },
      "source": [
        "import numpy as np\n",
        "import tensorflow as tf\n",
        "import matplotlib.pyplot as plt\n",
        "from keras.utils import to_categorical\n",
        "from tensorflow.keras import layers, models"
      ],
      "execution_count": 1,
      "outputs": []
    },
    {
      "cell_type": "code",
      "metadata": {
        "id": "vzCI1u_ZnlcJ"
      },
      "source": [
        "epochs = 5\n",
        "batch_size = 32\n",
        "num_classes = 10\n",
        "input_x_y = (28, 28)\n",
        "input_shape = (28, 28, 1)"
      ],
      "execution_count": 2,
      "outputs": []
    },
    {
      "cell_type": "markdown",
      "metadata": {
        "id": "lx0opm08u80m"
      },
      "source": [
        "## Getting the data"
      ]
    },
    {
      "cell_type": "code",
      "metadata": {
        "id": "CIQDkgh8Brz1",
        "colab": {
          "base_uri": "https://localhost:8080/"
        },
        "outputId": "fbdc8d1b-a6bb-4928-9824-9ab855d7bf66"
      },
      "source": [
        "(train_X, train_Y), (test_X, test_Y) = tf.keras.datasets.mnist.load_data()"
      ],
      "execution_count": 3,
      "outputs": [
        {
          "output_type": "stream",
          "text": [
            "Downloading data from https://storage.googleapis.com/tensorflow/tf-keras-datasets/mnist.npz\n",
            "11493376/11490434 [==============================] - 0s 0us/step\n"
          ],
          "name": "stdout"
        }
      ]
    },
    {
      "cell_type": "code",
      "metadata": {
        "colab": {
          "base_uri": "https://localhost:8080/"
        },
        "id": "4PjMs8HCCE4V",
        "outputId": "63d2044d-0d51-46df-9011-fd07efa3c241"
      },
      "source": [
        "train_X.shape, train_Y.shape"
      ],
      "execution_count": 4,
      "outputs": [
        {
          "output_type": "execute_result",
          "data": {
            "text/plain": [
              "((60000, 28, 28), (60000,))"
            ]
          },
          "metadata": {
            "tags": []
          },
          "execution_count": 4
        }
      ]
    },
    {
      "cell_type": "code",
      "metadata": {
        "colab": {
          "base_uri": "https://localhost:8080/"
        },
        "id": "TZmd6BOWH6LO",
        "outputId": "4a92f9be-69a1-423b-86e7-6188516f16e0"
      },
      "source": [
        "test_X.shape, test_Y.shape"
      ],
      "execution_count": 5,
      "outputs": [
        {
          "output_type": "execute_result",
          "data": {
            "text/plain": [
              "((10000, 28, 28), (10000,))"
            ]
          },
          "metadata": {
            "tags": []
          },
          "execution_count": 5
        }
      ]
    },
    {
      "cell_type": "markdown",
      "metadata": {
        "id": "NZMdZig3uwkh"
      },
      "source": [
        "## Show a few images from the training set"
      ]
    },
    {
      "cell_type": "code",
      "metadata": {
        "colab": {
          "base_uri": "https://localhost:8080/",
          "height": 260
        },
        "id": "SIMBZwIuJfGw",
        "outputId": "6003e522-8740-4358-82a7-bfb4b099803c"
      },
      "source": [
        "w = 10\n",
        "h = 10\n",
        "rows = 2\n",
        "columns = 4\n",
        "fig = plt.figure(figsize=(5, 5))\n",
        "\n",
        "for i in range(1, columns * rows + 1):\n",
        "    digit = train_X[i]\n",
        "    fig.add_subplot(rows, columns, i)\n",
        "    plt.imshow(digit, cmap=plt.cm.binary)\n",
        "\n",
        "plt.show()"
      ],
      "execution_count": 6,
      "outputs": [
        {
          "output_type": "display_data",
          "data": {
            "image/png": "[encoded data removed]",
            "text/plain": [
              "<Figure size 360x360 with 8 Axes>"
            ]
          },
          "metadata": {
            "tags": [],
            "needs_background": "light"
          }
        }
      ]
    },
    {
      "cell_type": "markdown",
      "metadata": {
        "id": "i6NS8tewvMia"
      },
      "source": [
        "## Preparing the data & labels"
      ]
    },
    {
      "cell_type": "code",
      "metadata": {
        "id": "96L2UYA9HsNv"
      },
      "source": [
        "train_X = train_X.astype('float32') / 255\n",
        "train_X = np.expand_dims(train_X, -1)"
      ],
      "execution_count": 7,
      "outputs": []
    },
    {
      "cell_type": "code",
      "metadata": {
        "id": "eWjg036nH0hs"
      },
      "source": [
        "test_X = test_X.astype('float32') / 255\n",
        "test_X = np.expand_dims(test_X, -1)"
      ],
      "execution_count": 8,
      "outputs": []
    },
    {
      "cell_type": "code",
      "metadata": {
        "colab": {
          "base_uri": "https://localhost:8080/"
        },
        "id": "0YCenyZUT5dG",
        "outputId": "056f9e2f-88d6-4db8-91a2-ddca52698f7b"
      },
      "source": [
        "train_X.shape, test_X.shape"
      ],
      "execution_count": 9,
      "outputs": [
        {
          "output_type": "execute_result",
          "data": {
            "text/plain": [
              "((60000, 28, 28, 1), (10000, 28, 28, 1))"
            ]
          },
          "metadata": {
            "tags": []
          },
          "execution_count": 9
        }
      ]
    },
    {
      "cell_type": "code",
      "metadata": {
        "id": "JFHQ65oEIQzX"
      },
      "source": [
        "# to_categorical: converts class vector to binary class matrix, used with categorical_crossentropy\n",
        "\n",
        "train_Y = to_categorical(train_Y)\n",
        "test_Y = to_categorical(test_Y)"
      ],
      "execution_count": 10,
      "outputs": []
    },
    {
      "cell_type": "code",
      "metadata": {
        "colab": {
          "base_uri": "https://localhost:8080/"
        },
        "id": "C9vw-gidIiS4",
        "outputId": "c742788a-6664-4e84-82eb-d1eb62533011"
      },
      "source": [
        "train_Y.shape, test_Y.shape"
      ],
      "execution_count": 11,
      "outputs": [
        {
          "output_type": "execute_result",
          "data": {
            "text/plain": [
              "((60000, 10), (10000, 10))"
            ]
          },
          "metadata": {
            "tags": []
          },
          "execution_count": 11
        }
      ]
    },
    {
      "cell_type": "code",
      "metadata": {
        "colab": {
          "base_uri": "https://localhost:8080/"
        },
        "id": "ok2sP0UWUHLt",
        "outputId": "edb8e7fa-c2df-44b1-ae40-c8b94e04a511"
      },
      "source": [
        "train_Y[0]"
      ],
      "execution_count": 12,
      "outputs": [
        {
          "output_type": "execute_result",
          "data": {
            "text/plain": [
              "array([0., 0., 0., 0., 0., 1., 0., 0., 0., 0.], dtype=float32)"
            ]
          },
          "metadata": {
            "tags": []
          },
          "execution_count": 12
        }
      ]
    },
    {
      "cell_type": "markdown",
      "metadata": {
        "id": "OJDWCLkFvUKx"
      },
      "source": [
        "## Creating our CNN model"
      ]
    },
    {
      "cell_type": "code",
      "metadata": {
        "id": "xVYWnWCsCKwg"
      },
      "source": [
        "model = models.Sequential()\n",
        "\n",
        "model.add(layers.Conv2D(\n",
        "    64, \n",
        "    kernel_size=3,    \n",
        "    activation='relu',\n",
        "    input_shape=input_shape\n",
        "))\n",
        "\n",
        "model.add(layers.Conv2D(\n",
        "    32, \n",
        "    kernel_size=3,    \n",
        "    activation='relu'\n",
        "))\n",
        "\n",
        "model.add(layers.MaxPooling2D(pool_size=(2, 2)))\n",
        "\n",
        "model.add(layers.Flatten())\n",
        "\n",
        "model.add(layers.Dropout(0.25))\n",
        "\n",
        "model.add(layers.Dense(\n",
        "   units=128,\n",
        "   activation='relu'\n",
        "))\n",
        "\n",
        "model.add(layers.Dropout(0.50))\n",
        "\n",
        "model.add(layers.Dense(\n",
        "    units=num_classes, # output units\n",
        "    activation='softmax'\n",
        "))"
      ],
      "execution_count": 13,
      "outputs": []
    },
    {
      "cell_type": "code",
      "metadata": {
        "colab": {
          "base_uri": "https://localhost:8080/"
        },
        "id": "ouaeh8hDI8B6",
        "outputId": "1ab20900-539d-4aec-cc38-3dac34292b4a"
      },
      "source": [
        "model.summary()"
      ],
      "execution_count": 14,
      "outputs": [
        {
          "output_type": "stream",
          "text": [
            "Model: \"sequential\"\n",
            "_________________________________________________________________\n",
            "Layer (type)                 Output Shape              Param #   \n",
            "=================================================================\n",
            "conv2d (Conv2D)              (None, 26, 26, 64)        640       \n",
            "_________________________________________________________________\n",
            "conv2d_1 (Conv2D)            (None, 24, 24, 32)        18464     \n",
            "_________________________________________________________________\n",
            "max_pooling2d (MaxPooling2D) (None, 12, 12, 32)        0         \n",
            "_________________________________________________________________\n",
            "flatten (Flatten)            (None, 4608)              0         \n",
            "_________________________________________________________________\n",
            "dropout (Dropout)            (None, 4608)              0         \n",
            "_________________________________________________________________\n",
            "dense (Dense)                (None, 128)               589952    \n",
            "_________________________________________________________________\n",
            "dropout_1 (Dropout)          (None, 128)               0         \n",
            "_________________________________________________________________\n",
            "dense_1 (Dense)              (None, 10)                1290      \n",
            "=================================================================\n",
            "Total params: 610,346\n",
            "Trainable params: 610,346\n",
            "Non-trainable params: 0\n",
            "_________________________________________________________________\n"
          ],
          "name": "stdout"
        }
      ]
    },
    {
      "cell_type": "code",
      "metadata": {
        "id": "FPyStkdOCl4l"
      },
      "source": [
        "model.compile(\n",
        "    optimizer='adam', # How the network will be able to measure its performance on the training data, and thus how it will be able to steer itself in the right direction. \n",
        "    loss='categorical_crossentropy', # The mechanism through which the network will update itself based on the data it sees and its loss function. \n",
        "    metrics=['accuracy'] # To monitor during training and testing\n",
        ")"
      ],
      "execution_count": 15,
      "outputs": []
    },
    {
      "cell_type": "markdown",
      "metadata": {
        "id": "oi5yQv1Xveyn"
      },
      "source": [
        "## Training the model"
      ]
    },
    {
      "cell_type": "code",
      "metadata": {
        "id": "2TZd88oDIx5J"
      },
      "source": [
        "history = model.fit(train_X, train_Y, validation_data=(test_X, test_Y), epochs=epochs, batch_size=batch_size, verbose=0)"
      ],
      "execution_count": 16,
      "outputs": []
    },
    {
      "cell_type": "code",
      "metadata": {
        "colab": {
          "base_uri": "https://localhost:8080/"
        },
        "id": "ah_NJyrzla3b",
        "outputId": "850e982c-a4c3-4018-b666-5678f66c6f2e"
      },
      "source": [
        "history.history.keys()"
      ],
      "execution_count": 17,
      "outputs": [
        {
          "output_type": "execute_result",
          "data": {
            "text/plain": [
              "dict_keys(['loss', 'accuracy', 'val_loss', 'val_accuracy'])"
            ]
          },
          "metadata": {
            "tags": []
          },
          "execution_count": 17
        }
      ]
    },
    {
      "cell_type": "markdown",
      "metadata": {
        "id": "ub2S5jpTvhN2"
      },
      "source": [
        "## Evaluationg the model"
      ]
    },
    {
      "cell_type": "code",
      "metadata": {
        "colab": {
          "base_uri": "https://localhost:8080/"
        },
        "id": "YXuw6IcBJD_v",
        "outputId": "5a63c2dd-a7e9-434e-8527-5146f30eef93"
      },
      "source": [
        "test_loss, test_acc = model.evaluate(test_X, test_Y)\n",
        "test_acc"
      ],
      "execution_count": 18,
      "outputs": [
        {
          "output_type": "stream",
          "text": [
            "313/313 [==============================] - 1s 2ms/step - loss: 0.0347 - accuracy: 0.9891\n"
          ],
          "name": "stdout"
        },
        {
          "output_type": "execute_result",
          "data": {
            "text/plain": [
              "0.9890999794006348"
            ]
          },
          "metadata": {
            "tags": []
          },
          "execution_count": 18
        }
      ]
    },
    {
      "cell_type": "code",
      "metadata": {
        "colab": {
          "base_uri": "https://localhost:8080/",
          "height": 295
        },
        "id": "Oy0TE6b6h8hV",
        "outputId": "62069ae0-3048-4e4a-f2a9-128f4800baf7"
      },
      "source": [
        "# summarize history for accuracy\n",
        "plt.plot(history.history['accuracy'])\n",
        "plt.plot(history.history['val_accuracy'])\n",
        "plt.title('model accuracy')\n",
        "plt.ylabel('accuracy')\n",
        "plt.xlabel('epoch')\n",
        "plt.legend(['train', 'test'], loc='upper left')\n",
        "plt.show()"
      ],
      "execution_count": 19,
      "outputs": [
        {
          "output_type": "display_data",
          "data": {
            "image/png": "[encoded data removed]",
            "text/plain": [
              "<Figure size 432x288 with 1 Axes>"
            ]
          },
          "metadata": {
            "tags": [],
            "needs_background": "light"
          }
        }
      ]
    },
    {
      "cell_type": "code",
      "metadata": {
        "colab": {
          "base_uri": "https://localhost:8080/",
          "height": 295
        },
        "id": "FY_9TIjBh98n",
        "outputId": "8cf71837-0ff3-4bbc-8807-1718f977e51d"
      },
      "source": [
        "# summarize history for loss\n",
        "plt.plot(history.history['loss'])\n",
        "plt.plot(history.history['val_loss'])\n",
        "plt.title('model loss')\n",
        "plt.ylabel('loss')\n",
        "plt.xlabel('epoch')\n",
        "plt.legend(['train', 'test'], loc='upper left')\n",
        "plt.show()"
      ],
      "execution_count": 20,
      "outputs": [
        {
          "output_type": "display_data",
          "data": {
            "image/png": "[encoded data removed]",
            "text/plain": [
              "<Figure size 432x288 with 1 Axes>"
            ]
          },
          "metadata": {
            "tags": [],
            "needs_background": "light"
          }
        }
      ]
    },
    {
      "cell_type": "markdown",
      "metadata": {
        "id": "UHYnG5oivmQN"
      },
      "source": [
        "## Validate with some test images"
      ]
    },
    {
      "cell_type": "code",
      "metadata": {
        "colab": {
          "base_uri": "https://localhost:8080/",
          "height": 816
        },
        "id": "X79WElgGaSfa",
        "outputId": "520565a6-be57-4eff-d71b-985cae922212"
      },
      "source": [
        "# validate from test images\n",
        "\n",
        "random_test = np.random.randint(test_X.shape[0], size=3)\n",
        "random_test_sample = test_X[random_test, :]\n",
        "random_test_labels = test_Y[random_test, :]\n",
        "\n",
        "predictions = model.predict(random_test_sample)\n",
        "for pred, label, samp in zip(predictions, random_test_labels, random_test):\n",
        "  print('Prediction: %s. Actual: %s. Image: %s' % (str(np.argmax(pred)), list(label).index(1), samp))\n",
        "  digit = np.reshape(test_X[samp], input_x_y)\n",
        "  plt.imshow(digit, cmap=plt.cm.binary)\n",
        "  plt.show()  "
      ],
      "execution_count": 21,
      "outputs": [
        {
          "output_type": "stream",
          "text": [
            "Prediction: 2. Actual: 2. Image: 5983\n"
          ],
          "name": "stdout"
        },
        {
          "output_type": "display_data",
          "data": {
            "image/png": "[encoded data removed]",
            "text/plain": [
              "<Figure size 432x288 with 1 Axes>"
            ]
          },
          "metadata": {
            "tags": [],
            "needs_background": "light"
          }
        },
        {
          "output_type": "stream",
          "text": [
            "Prediction: 3. Actual: 3. Image: 2431\n"
          ],
          "name": "stdout"
        },
        {
          "output_type": "display_data",
          "data": {
            "image/png": "[encoded data removed]",
            "text/plain": [
              "<Figure size 432x288 with 1 Axes>"
            ]
          },
          "metadata": {
            "tags": [],
            "needs_background": "light"
          }
        },
        {
          "output_type": "stream",
          "text": [
            "Prediction: 8. Actual: 8. Image: 6404\n"
          ],
          "name": "stdout"
        },
        {
          "output_type": "display_data",
          "data": {
            "image/png": "[encoded data removed]",
            "text/plain": [
              "<Figure size 432x288 with 1 Axes>"
            ]
          },
          "metadata": {
            "tags": [],
            "needs_background": "light"
          }
        }
      ]
    },
    {
      "cell_type": "markdown",
      "metadata": {
        "id": "vrrHZNjcvsYu"
      },
      "source": [
        "## Saving the model"
      ]
    },
    {
      "cell_type": "code",
      "metadata": {
        "id": "_gfQdp2ipM7_"
      },
      "source": [
        "model.save('mnist.h5')"
      ],
      "execution_count": 22,
      "outputs": []
    }
  ]
}