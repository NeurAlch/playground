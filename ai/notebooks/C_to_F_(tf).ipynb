{
  "nbformat": 4,
  "nbformat_minor": 0,
  "metadata": {
    "colab": {
      "name": "C to F (tf)",
      "provenance": []
    },
    "kernelspec": {
      "name": "python3",
      "display_name": "Python 3"
    },
    "language_info": {
      "name": "python"
    }
  },
  "cells": [
    {
      "cell_type": "code",
      "metadata": {
        "id": "SQpucmP16lON"
      },
      "source": [
        "import tensorflow as tf\n",
        "import numpy as np\n",
        "import matplotlib.pyplot as plt\n",
        "import pandas as pd\n",
        "import seaborn as sb"
      ],
      "execution_count": null,
      "outputs": []
    },
    {
      "cell_type": "code",
      "metadata": {
        "id": "5FJCIepa69IY"
      },
      "source": [
        "df = pd.read_csv('data.csv')"
      ],
      "execution_count": null,
      "outputs": []
    },
    {
      "cell_type": "code",
      "metadata": {
        "colab": {
          "base_uri": "https://localhost:8080/",
          "height": 206
        },
        "id": "oApa3-Xf7OpZ",
        "outputId": "256eee52-2b84-456f-b237-fc519047e26e"
      },
      "source": [
        "df.head()"
      ],
      "execution_count": null,
      "outputs": [
        {
          "output_type": "execute_result",
          "data": {
            "text/html": [
              "<div>\n",
              "<style scoped>\n",
              "    .dataframe tbody tr th:only-of-type {\n",
              "        vertical-align: middle;\n",
              "    }\n",
              "\n",
              "    .dataframe tbody tr th {\n",
              "        vertical-align: top;\n",
              "    }\n",
              "\n",
              "    .dataframe thead th {\n",
              "        text-align: right;\n",
              "    }\n",
              "</style>\n",
              "<table border=\"1\" class=\"dataframe\">\n",
              "  <thead>\n",
              "    <tr style=\"text-align: right;\">\n",
              "      <th></th>\n",
              "      <th>Celsius</th>\n",
              "      <th>Fahrenheit</th>\n",
              "    </tr>\n",
              "  </thead>\n",
              "  <tbody>\n",
              "    <tr>\n",
              "      <th>0</th>\n",
              "      <td>-50</td>\n",
              "      <td>-58.0</td>\n",
              "    </tr>\n",
              "    <tr>\n",
              "      <th>1</th>\n",
              "      <td>-40</td>\n",
              "      <td>-40.0</td>\n",
              "    </tr>\n",
              "    <tr>\n",
              "      <th>2</th>\n",
              "      <td>-30</td>\n",
              "      <td>-22.0</td>\n",
              "    </tr>\n",
              "    <tr>\n",
              "      <th>3</th>\n",
              "      <td>-20</td>\n",
              "      <td>-4.0</td>\n",
              "    </tr>\n",
              "    <tr>\n",
              "      <th>4</th>\n",
              "      <td>-10</td>\n",
              "      <td>14.0</td>\n",
              "    </tr>\n",
              "  </tbody>\n",
              "</table>\n",
              "</div>"
            ],
            "text/plain": [
              "   Celsius  Fahrenheit\n",
              "0      -50       -58.0\n",
              "1      -40       -40.0\n",
              "2      -30       -22.0\n",
              "3      -20        -4.0\n",
              "4      -10        14.0"
            ]
          },
          "metadata": {
            "tags": []
          },
          "execution_count": 6
        }
      ]
    },
    {
      "cell_type": "code",
      "metadata": {
        "colab": {
          "base_uri": "https://localhost:8080/"
        },
        "id": "2Vg_DHfy7P2B",
        "outputId": "fd8d6f53-12b5-457d-d4c0-1f117acb4e63"
      },
      "source": [
        "df.info()"
      ],
      "execution_count": null,
      "outputs": [
        {
          "output_type": "stream",
          "text": [
            "<class 'pandas.core.frame.DataFrame'>\n",
            "RangeIndex: 30 entries, 0 to 29\n",
            "Data columns (total 2 columns):\n",
            " #   Column      Non-Null Count  Dtype  \n",
            "---  ------      --------------  -----  \n",
            " 0   Celsius     30 non-null     int64  \n",
            " 1   Fahrenheit  30 non-null     float64\n",
            "dtypes: float64(1), int64(1)\n",
            "memory usage: 608.0 bytes\n"
          ],
          "name": "stdout"
        }
      ]
    },
    {
      "cell_type": "code",
      "metadata": {
        "colab": {
          "base_uri": "https://localhost:8080/",
          "height": 300
        },
        "id": "TUn-ujHw7Q35",
        "outputId": "9b2c36ed-aee1-4964-c7fb-6e4824c7cb85"
      },
      "source": [
        "df.describe()"
      ],
      "execution_count": null,
      "outputs": [
        {
          "output_type": "execute_result",
          "data": {
            "text/html": [
              "<div>\n",
              "<style scoped>\n",
              "    .dataframe tbody tr th:only-of-type {\n",
              "        vertical-align: middle;\n",
              "    }\n",
              "\n",
              "    .dataframe tbody tr th {\n",
              "        vertical-align: top;\n",
              "    }\n",
              "\n",
              "    .dataframe thead th {\n",
              "        text-align: right;\n",
              "    }\n",
              "</style>\n",
              "<table border=\"1\" class=\"dataframe\">\n",
              "  <thead>\n",
              "    <tr style=\"text-align: right;\">\n",
              "      <th></th>\n",
              "      <th>Celsius</th>\n",
              "      <th>Fahrenheit</th>\n",
              "    </tr>\n",
              "  </thead>\n",
              "  <tbody>\n",
              "    <tr>\n",
              "      <th>count</th>\n",
              "      <td>30.000000</td>\n",
              "      <td>30.000000</td>\n",
              "    </tr>\n",
              "    <tr>\n",
              "      <th>mean</th>\n",
              "      <td>2.000000</td>\n",
              "      <td>35.600000</td>\n",
              "    </tr>\n",
              "    <tr>\n",
              "      <th>std</th>\n",
              "      <td>22.780815</td>\n",
              "      <td>41.005466</td>\n",
              "    </tr>\n",
              "    <tr>\n",
              "      <th>min</th>\n",
              "      <td>-50.000000</td>\n",
              "      <td>-58.000000</td>\n",
              "    </tr>\n",
              "    <tr>\n",
              "      <th>25%</th>\n",
              "      <td>-6.750000</td>\n",
              "      <td>19.850000</td>\n",
              "    </tr>\n",
              "    <tr>\n",
              "      <th>50%</th>\n",
              "      <td>0.500000</td>\n",
              "      <td>32.900000</td>\n",
              "    </tr>\n",
              "    <tr>\n",
              "      <th>75%</th>\n",
              "      <td>7.750000</td>\n",
              "      <td>45.950000</td>\n",
              "    </tr>\n",
              "    <tr>\n",
              "      <th>max</th>\n",
              "      <td>60.000000</td>\n",
              "      <td>140.000000</td>\n",
              "    </tr>\n",
              "  </tbody>\n",
              "</table>\n",
              "</div>"
            ],
            "text/plain": [
              "         Celsius  Fahrenheit\n",
              "count  30.000000   30.000000\n",
              "mean    2.000000   35.600000\n",
              "std    22.780815   41.005466\n",
              "min   -50.000000  -58.000000\n",
              "25%    -6.750000   19.850000\n",
              "50%     0.500000   32.900000\n",
              "75%     7.750000   45.950000\n",
              "max    60.000000  140.000000"
            ]
          },
          "metadata": {
            "tags": []
          },
          "execution_count": 8
        }
      ]
    },
    {
      "cell_type": "code",
      "metadata": {
        "colab": {
          "base_uri": "https://localhost:8080/",
          "height": 297
        },
        "id": "1HXb3OwR7SJw",
        "outputId": "a33e8afb-b260-4a71-80db-98f37f917c3b"
      },
      "source": [
        "sb.scatterplot(x=df['Celsius'], y=df['Fahrenheit'])"
      ],
      "execution_count": null,
      "outputs": [
        {
          "output_type": "execute_result",
          "data": {
            "text/plain": [
              "<matplotlib.axes._subplots.AxesSubplot at 0x7f884ba27f50>"
            ]
          },
          "metadata": {
            "tags": []
          },
          "execution_count": 10
        },
        {
          "output_type": "display_data",
          "data": {
            "image/png": "[encoded data removed]",
            "text/plain": [
              "<Figure size 432x288 with 1 Axes>"
            ]
          },
          "metadata": {
            "tags": [],
            "needs_background": "light"
          }
        }
      ]
    },
    {
      "cell_type": "code",
      "metadata": {
        "id": "SMyUnl1m7eEi"
      },
      "source": [
        "X_train = df['Celsius']\n",
        "Y_train = df['Fahrenheit']"
      ],
      "execution_count": null,
      "outputs": []
    },
    {
      "cell_type": "code",
      "metadata": {
        "colab": {
          "base_uri": "https://localhost:8080/"
        },
        "id": "f2ud3J6r7kNq",
        "outputId": "137e6690-d75e-4b80-aad2-0aa3877874cf"
      },
      "source": [
        "X_train.shape, Y_train.shape"
      ],
      "execution_count": null,
      "outputs": [
        {
          "output_type": "execute_result",
          "data": {
            "text/plain": [
              "((30,), (30,))"
            ]
          },
          "metadata": {
            "tags": []
          },
          "execution_count": 14
        }
      ]
    },
    {
      "cell_type": "code",
      "metadata": {
        "id": "yrY_6_uc7qg4"
      },
      "source": [
        "model = tf.keras.Sequential()"
      ],
      "execution_count": null,
      "outputs": []
    },
    {
      "cell_type": "code",
      "metadata": {
        "id": "8I05dbq68Aty"
      },
      "source": [
        "model.add(tf.keras.layers.Dense(units=1, input_shape=[1]))"
      ],
      "execution_count": null,
      "outputs": []
    },
    {
      "cell_type": "code",
      "metadata": {
        "colab": {
          "base_uri": "https://localhost:8080/"
        },
        "id": "ZWqOhaEg8Ojs",
        "outputId": "92b4a30b-0760-467b-db01-d7cff948f8cb"
      },
      "source": [
        "model.summary()"
      ],
      "execution_count": null,
      "outputs": [
        {
          "output_type": "stream",
          "text": [
            "Model: \"sequential_9\"\n",
            "_________________________________________________________________\n",
            "Layer (type)                 Output Shape              Param #   \n",
            "=================================================================\n",
            "dense_10 (Dense)             (None, 1)                 2         \n",
            "=================================================================\n",
            "Total params: 2\n",
            "Trainable params: 2\n",
            "Non-trainable params: 0\n",
            "_________________________________________________________________\n"
          ],
          "name": "stdout"
        }
      ]
    },
    {
      "cell_type": "code",
      "metadata": {
        "id": "HpEGmA5Z8dzj"
      },
      "source": [
        "model.compile(optimizer=tf.keras.optimizers.Adam(0.5), loss='mean_squared_error')"
      ],
      "execution_count": null,
      "outputs": []
    },
    {
      "cell_type": "code",
      "metadata": {
        "colab": {
          "base_uri": "https://localhost:8080/"
        },
        "id": "Kid02kF-8xKL",
        "outputId": "b2b59e2c-8301-40cc-b27a-cf10c1ed9885"
      },
      "source": [
        "history = model.fit(X_train, Y_train, epochs=150)"
      ],
      "execution_count": null,
      "outputs": [
        {
          "output_type": "stream",
          "text": [
            "Epoch 1/150\n",
            "1/1 [==============================] - 0s 272ms/step - loss: 3677.7368\n",
            "Epoch 2/150\n",
            "1/1 [==============================] - 0s 3ms/step - loss: 2608.8945\n",
            "Epoch 3/150\n",
            "1/1 [==============================] - 0s 5ms/step - loss: 1804.4716\n",
            "Epoch 4/150\n",
            "1/1 [==============================] - 0s 3ms/step - loss: 1260.6702\n",
            "Epoch 5/150\n",
            "1/1 [==============================] - 0s 4ms/step - loss: 960.0477\n",
            "Epoch 6/150\n",
            "1/1 [==============================] - 0s 5ms/step - loss: 865.1898\n",
            "Epoch 7/150\n",
            "1/1 [==============================] - 0s 3ms/step - loss: 915.9160\n",
            "Epoch 8/150\n",
            "1/1 [==============================] - 0s 3ms/step - loss: 1036.6252\n",
            "Epoch 9/150\n",
            "1/1 [==============================] - 0s 4ms/step - loss: 1155.1819\n",
            "Epoch 10/150\n",
            "1/1 [==============================] - 0s 3ms/step - loss: 1222.4857\n",
            "Epoch 11/150\n",
            "1/1 [==============================] - 0s 3ms/step - loss: 1219.7240\n",
            "Epoch 12/150\n",
            "1/1 [==============================] - 0s 4ms/step - loss: 1152.6852\n",
            "Epoch 13/150\n",
            "1/1 [==============================] - 0s 5ms/step - loss: 1041.2120\n",
            "Epoch 14/150\n",
            "1/1 [==============================] - 0s 3ms/step - loss: 909.9665\n",
            "Epoch 15/150\n",
            "1/1 [==============================] - 0s 3ms/step - loss: 782.1667\n",
            "Epoch 16/150\n",
            "1/1 [==============================] - 0s 4ms/step - loss: 675.7845\n",
            "Epoch 17/150\n",
            "1/1 [==============================] - 0s 3ms/step - loss: 601.4623\n",
            "Epoch 18/150\n",
            "1/1 [==============================] - 0s 3ms/step - loss: 561.7869\n",
            "Epoch 19/150\n",
            "1/1 [==============================] - 0s 4ms/step - loss: 551.8994\n",
            "Epoch 20/150\n",
            "1/1 [==============================] - 0s 4ms/step - loss: 561.4607\n",
            "Epoch 21/150\n",
            "1/1 [==============================] - 0s 3ms/step - loss: 577.6788\n",
            "Epoch 22/150\n",
            "1/1 [==============================] - 0s 4ms/step - loss: 588.6620\n",
            "Epoch 23/150\n",
            "1/1 [==============================] - 0s 5ms/step - loss: 586.1360\n",
            "Epoch 24/150\n",
            "1/1 [==============================] - 0s 4ms/step - loss: 566.8134\n",
            "Epoch 25/150\n",
            "1/1 [==============================] - 0s 4ms/step - loss: 532.2635\n",
            "Epoch 26/150\n",
            "1/1 [==============================] - 0s 4ms/step - loss: 487.6364\n",
            "Epoch 27/150\n",
            "1/1 [==============================] - 0s 8ms/step - loss: 439.8123\n",
            "Epoch 28/150\n",
            "1/1 [==============================] - 0s 4ms/step - loss: 395.5137\n",
            "Epoch 29/150\n",
            "1/1 [==============================] - 0s 5ms/step - loss: 359.7719\n",
            "Epoch 30/150\n",
            "1/1 [==============================] - 0s 5ms/step - loss: 334.9962\n",
            "Epoch 31/150\n",
            "1/1 [==============================] - 0s 4ms/step - loss: 320.7605\n",
            "Epoch 32/150\n",
            "1/1 [==============================] - 0s 3ms/step - loss: 314.2889\n",
            "Epoch 33/150\n",
            "1/1 [==============================] - 0s 4ms/step - loss: 311.4695\n",
            "Epoch 34/150\n",
            "1/1 [==============================] - 0s 4ms/step - loss: 308.0920\n",
            "Epoch 35/150\n",
            "1/1 [==============================] - 0s 4ms/step - loss: 300.9546\n",
            "Epoch 36/150\n",
            "1/1 [==============================] - 0s 4ms/step - loss: 288.5487\n",
            "Epoch 37/150\n",
            "1/1 [==============================] - 0s 4ms/step - loss: 271.1887\n",
            "Epoch 38/150\n",
            "1/1 [==============================] - 0s 4ms/step - loss: 250.6343\n",
            "Epoch 39/150\n",
            "1/1 [==============================] - 0s 4ms/step - loss: 229.3867\n",
            "Epoch 40/150\n",
            "1/1 [==============================] - 0s 4ms/step - loss: 209.8956\n",
            "Epoch 41/150\n",
            "1/1 [==============================] - 0s 3ms/step - loss: 193.8967\n",
            "Epoch 42/150\n",
            "1/1 [==============================] - 0s 3ms/step - loss: 182.0371\n",
            "Epoch 43/150\n",
            "1/1 [==============================] - 0s 3ms/step - loss: 173.8498\n",
            "Epoch 44/150\n",
            "1/1 [==============================] - 0s 3ms/step - loss: 168.0442\n",
            "Epoch 45/150\n",
            "1/1 [==============================] - 0s 4ms/step - loss: 162.9927\n",
            "Epoch 46/150\n",
            "1/1 [==============================] - 0s 3ms/step - loss: 157.2479\n",
            "Epoch 47/150\n",
            "1/1 [==============================] - 0s 3ms/step - loss: 149.9350\n",
            "Epoch 48/150\n",
            "1/1 [==============================] - 0s 8ms/step - loss: 140.9167\n",
            "Epoch 49/150\n",
            "1/1 [==============================] - 0s 4ms/step - loss: 130.7148\n",
            "Epoch 50/150\n",
            "1/1 [==============================] - 0s 3ms/step - loss: 120.2454\n",
            "Epoch 51/150\n",
            "1/1 [==============================] - 0s 3ms/step - loss: 110.4751\n",
            "Epoch 52/150\n",
            "1/1 [==============================] - 0s 3ms/step - loss: 102.1139\n",
            "Epoch 53/150\n",
            "1/1 [==============================] - 0s 3ms/step - loss: 95.4310\n",
            "Epoch 54/150\n",
            "1/1 [==============================] - 0s 5ms/step - loss: 90.2347\n",
            "Epoch 55/150\n",
            "1/1 [==============================] - 0s 3ms/step - loss: 86.0000\n",
            "Epoch 56/150\n",
            "1/1 [==============================] - 0s 4ms/step - loss: 82.0829\n",
            "Epoch 57/150\n",
            "1/1 [==============================] - 0s 3ms/step - loss: 77.9413\n",
            "Epoch 58/150\n",
            "1/1 [==============================] - 0s 5ms/step - loss: 73.2907\n",
            "Epoch 59/150\n",
            "1/1 [==============================] - 0s 3ms/step - loss: 68.1519\n",
            "Epoch 60/150\n",
            "1/1 [==============================] - 0s 5ms/step - loss: 62.7916\n",
            "Epoch 61/150\n",
            "1/1 [==============================] - 0s 4ms/step - loss: 57.5909\n",
            "Epoch 62/150\n",
            "1/1 [==============================] - 0s 4ms/step - loss: 52.8962\n",
            "Epoch 63/150\n",
            "1/1 [==============================] - 0s 3ms/step - loss: 48.9041\n",
            "Epoch 64/150\n",
            "1/1 [==============================] - 0s 8ms/step - loss: 45.6153\n",
            "Epoch 65/150\n",
            "1/1 [==============================] - 0s 4ms/step - loss: 42.8621\n",
            "Epoch 66/150\n",
            "1/1 [==============================] - 0s 3ms/step - loss: 40.3900\n",
            "Epoch 67/150\n",
            "1/1 [==============================] - 0s 3ms/step - loss: 37.9568\n",
            "Epoch 68/150\n",
            "1/1 [==============================] - 0s 4ms/step - loss: 35.4122\n",
            "Epoch 69/150\n",
            "1/1 [==============================] - 0s 4ms/step - loss: 32.7329\n",
            "Epoch 70/150\n",
            "1/1 [==============================] - 0s 3ms/step - loss: 30.0069\n",
            "Epoch 71/150\n",
            "1/1 [==============================] - 0s 3ms/step - loss: 27.3811\n",
            "Epoch 72/150\n",
            "1/1 [==============================] - 0s 3ms/step - loss: 24.9956\n",
            "Epoch 73/150\n",
            "1/1 [==============================] - 0s 3ms/step - loss: 22.9310\n",
            "Epoch 74/150\n",
            "1/1 [==============================] - 0s 8ms/step - loss: 21.1861\n",
            "Epoch 75/150\n",
            "1/1 [==============================] - 0s 4ms/step - loss: 19.6890\n",
            "Epoch 76/150\n",
            "1/1 [==============================] - 0s 3ms/step - loss: 18.3329\n",
            "Epoch 77/150\n",
            "1/1 [==============================] - 0s 3ms/step - loss: 17.0191\n",
            "Epoch 78/150\n",
            "1/1 [==============================] - 0s 3ms/step - loss: 15.6904\n",
            "Epoch 79/150\n",
            "1/1 [==============================] - 0s 3ms/step - loss: 14.3436\n",
            "Epoch 80/150\n",
            "1/1 [==============================] - 0s 3ms/step - loss: 13.0196\n",
            "Epoch 81/150\n",
            "1/1 [==============================] - 0s 3ms/step - loss: 11.7780\n",
            "Epoch 82/150\n",
            "1/1 [==============================] - 0s 3ms/step - loss: 10.6691\n",
            "Epoch 83/150\n",
            "1/1 [==============================] - 0s 3ms/step - loss: 9.7138\n",
            "Epoch 84/150\n",
            "1/1 [==============================] - 0s 3ms/step - loss: 8.8985\n",
            "Epoch 85/150\n",
            "1/1 [==============================] - 0s 3ms/step - loss: 8.1846\n",
            "Epoch 86/150\n",
            "1/1 [==============================] - 0s 3ms/step - loss: 7.5255\n",
            "Epoch 87/150\n",
            "1/1 [==============================] - 0s 13ms/step - loss: 6.8857\n",
            "Epoch 88/150\n",
            "1/1 [==============================] - 0s 4ms/step - loss: 6.2509\n",
            "Epoch 89/150\n",
            "1/1 [==============================] - 0s 4ms/step - loss: 5.6287\n",
            "Epoch 90/150\n",
            "1/1 [==============================] - 0s 5ms/step - loss: 5.0407\n",
            "Epoch 91/150\n",
            "1/1 [==============================] - 0s 11ms/step - loss: 4.5096\n",
            "Epoch 92/150\n",
            "1/1 [==============================] - 0s 3ms/step - loss: 4.0486\n",
            "Epoch 93/150\n",
            "1/1 [==============================] - 0s 6ms/step - loss: 3.6562\n",
            "Epoch 94/150\n",
            "1/1 [==============================] - 0s 4ms/step - loss: 3.3182\n",
            "Epoch 95/150\n",
            "1/1 [==============================] - 0s 5ms/step - loss: 3.0145\n",
            "Epoch 96/150\n",
            "1/1 [==============================] - 0s 6ms/step - loss: 2.7277\n",
            "Epoch 97/150\n",
            "1/1 [==============================] - 0s 4ms/step - loss: 2.4486\n",
            "Epoch 98/150\n",
            "1/1 [==============================] - 0s 4ms/step - loss: 2.1780\n",
            "Epoch 99/150\n",
            "1/1 [==============================] - 0s 3ms/step - loss: 1.9236\n",
            "Epoch 100/150\n",
            "1/1 [==============================] - 0s 3ms/step - loss: 1.6950\n",
            "Epoch 101/150\n",
            "1/1 [==============================] - 0s 3ms/step - loss: 1.4978\n",
            "Epoch 102/150\n",
            "1/1 [==============================] - 0s 4ms/step - loss: 1.3318\n",
            "Epoch 103/150\n",
            "1/1 [==============================] - 0s 3ms/step - loss: 1.1911\n",
            "Epoch 104/150\n",
            "1/1 [==============================] - 0s 3ms/step - loss: 1.0668\n",
            "Epoch 105/150\n",
            "1/1 [==============================] - 0s 6ms/step - loss: 0.9511\n",
            "Epoch 106/150\n",
            "1/1 [==============================] - 0s 4ms/step - loss: 0.8399\n",
            "Epoch 107/150\n",
            "1/1 [==============================] - 0s 3ms/step - loss: 0.7334\n",
            "Epoch 108/150\n",
            "1/1 [==============================] - 0s 3ms/step - loss: 0.6346\n",
            "Epoch 109/150\n",
            "1/1 [==============================] - 0s 3ms/step - loss: 0.5474\n",
            "Epoch 110/150\n",
            "1/1 [==============================] - 0s 3ms/step - loss: 0.4739\n",
            "Epoch 111/150\n",
            "1/1 [==============================] - 0s 3ms/step - loss: 0.4136\n",
            "Epoch 112/150\n",
            "1/1 [==============================] - 0s 4ms/step - loss: 0.3636\n",
            "Epoch 113/150\n",
            "1/1 [==============================] - 0s 4ms/step - loss: 0.3199\n",
            "Epoch 114/150\n",
            "1/1 [==============================] - 0s 4ms/step - loss: 0.2794\n",
            "Epoch 115/150\n",
            "1/1 [==============================] - 0s 124ms/step - loss: 0.2406\n",
            "Epoch 116/150\n",
            "1/1 [==============================] - 0s 4ms/step - loss: 0.2037\n",
            "Epoch 117/150\n",
            "1/1 [==============================] - 0s 3ms/step - loss: 0.1704\n",
            "Epoch 118/150\n",
            "1/1 [==============================] - 0s 6ms/step - loss: 0.1421\n",
            "Epoch 119/150\n",
            "1/1 [==============================] - 0s 5ms/step - loss: 0.1194\n",
            "Epoch 120/150\n",
            "1/1 [==============================] - 0s 14ms/step - loss: 0.1017\n",
            "Epoch 121/150\n",
            "1/1 [==============================] - 0s 14ms/step - loss: 0.0875\n",
            "Epoch 122/150\n",
            "1/1 [==============================] - 0s 5ms/step - loss: 0.0751\n",
            "Epoch 123/150\n",
            "1/1 [==============================] - 0s 4ms/step - loss: 0.0634\n",
            "Epoch 124/150\n",
            "1/1 [==============================] - 0s 3ms/step - loss: 0.0520\n",
            "Epoch 125/150\n",
            "1/1 [==============================] - 0s 4ms/step - loss: 0.0414\n",
            "Epoch 126/150\n",
            "1/1 [==============================] - 0s 4ms/step - loss: 0.0323\n",
            "Epoch 127/150\n",
            "1/1 [==============================] - 0s 3ms/step - loss: 0.0252\n",
            "Epoch 128/150\n",
            "1/1 [==============================] - 0s 3ms/step - loss: 0.0202\n",
            "Epoch 129/150\n",
            "1/1 [==============================] - 0s 4ms/step - loss: 0.0167\n",
            "Epoch 130/150\n",
            "1/1 [==============================] - 0s 3ms/step - loss: 0.0140\n",
            "Epoch 131/150\n",
            "1/1 [==============================] - 0s 4ms/step - loss: 0.0116\n",
            "Epoch 132/150\n",
            "1/1 [==============================] - 0s 9ms/step - loss: 0.0090\n",
            "Epoch 133/150\n",
            "1/1 [==============================] - 0s 4ms/step - loss: 0.0065\n",
            "Epoch 134/150\n",
            "1/1 [==============================] - 0s 3ms/step - loss: 0.0042\n",
            "Epoch 135/150\n",
            "1/1 [==============================] - 0s 3ms/step - loss: 0.0026\n",
            "Epoch 136/150\n",
            "1/1 [==============================] - 0s 7ms/step - loss: 0.0016\n",
            "Epoch 137/150\n",
            "1/1 [==============================] - 0s 4ms/step - loss: 0.0013\n",
            "Epoch 138/150\n",
            "1/1 [==============================] - 0s 4ms/step - loss: 0.0012\n",
            "Epoch 139/150\n",
            "1/1 [==============================] - 0s 4ms/step - loss: 0.0012\n",
            "Epoch 140/150\n",
            "1/1 [==============================] - 0s 3ms/step - loss: 0.0010\n",
            "Epoch 141/150\n",
            "1/1 [==============================] - 0s 3ms/step - loss: 7.0741e-04\n",
            "Epoch 142/150\n",
            "1/1 [==============================] - 0s 4ms/step - loss: 3.5232e-04\n",
            "Epoch 143/150\n",
            "1/1 [==============================] - 0s 3ms/step - loss: 1.3299e-04\n",
            "Epoch 144/150\n",
            "1/1 [==============================] - 0s 4ms/step - loss: 1.3725e-04\n",
            "Epoch 145/150\n",
            "1/1 [==============================] - 0s 4ms/step - loss: 3.4240e-04\n",
            "Epoch 146/150\n",
            "1/1 [==============================] - 0s 6ms/step - loss: 6.3966e-04\n",
            "Epoch 147/150\n",
            "1/1 [==============================] - 0s 4ms/step - loss: 9.0121e-04\n",
            "Epoch 148/150\n",
            "1/1 [==============================] - 0s 4ms/step - loss: 0.0010\n",
            "Epoch 149/150\n",
            "1/1 [==============================] - 0s 3ms/step - loss: 0.0011\n",
            "Epoch 150/150\n",
            "1/1 [==============================] - 0s 3ms/step - loss: 0.0010\n"
          ],
          "name": "stdout"
        }
      ]
    },
    {
      "cell_type": "code",
      "metadata": {
        "colab": {
          "base_uri": "https://localhost:8080/"
        },
        "id": "ZTNyGPiq84mu",
        "outputId": "93725caa-de31-4261-b3b4-ef48258e17c4"
      },
      "source": [
        "history.history.keys()"
      ],
      "execution_count": null,
      "outputs": [
        {
          "output_type": "execute_result",
          "data": {
            "text/plain": [
              "dict_keys(['loss'])"
            ]
          },
          "metadata": {
            "tags": []
          },
          "execution_count": 93
        }
      ]
    },
    {
      "cell_type": "code",
      "metadata": {
        "colab": {
          "base_uri": "https://localhost:8080/",
          "height": 313
        },
        "id": "BAVHSgJzOn0Q",
        "outputId": "1d2f7818-875b-4fd7-d0bb-015051e375cf"
      },
      "source": [
        "plt.plot(history.history['loss'])\n",
        "plt.title(\"Model Loss Progress During Training\")\n",
        "plt.xlabel(\"Epochs\")\n",
        "plt.ylabel(\"Training Loss\")\n",
        "plt.legend(\"Training Loss\")"
      ],
      "execution_count": null,
      "outputs": [
        {
          "output_type": "execute_result",
          "data": {
            "text/plain": [
              "<matplotlib.legend.Legend at 0x7f883d150510>"
            ]
          },
          "metadata": {
            "tags": []
          },
          "execution_count": 94
        },
        {
          "output_type": "display_data",
          "data": {
            "image/png": "[encoded data removed]",
            "text/plain": [
              "<Figure size 432x288 with 1 Axes>"
            ]
          },
          "metadata": {
            "tags": [],
            "needs_background": "light"
          }
        }
      ]
    },
    {
      "cell_type": "code",
      "metadata": {
        "colab": {
          "base_uri": "https://localhost:8080/"
        },
        "id": "gH9CbhZZOyIV",
        "outputId": "edb8f5d8-f614-4945-f907-d1b80e012725"
      },
      "source": [
        "model.get_weights()"
      ],
      "execution_count": null,
      "outputs": [
        {
          "output_type": "execute_result",
          "data": {
            "text/plain": [
              "[array([[1.8001648]], dtype=float32), array([32.03128], dtype=float32)]"
            ]
          },
          "metadata": {
            "tags": []
          },
          "execution_count": 95
        }
      ]
    },
    {
      "cell_type": "code",
      "metadata": {
        "id": "dEV-t-LEQhNX"
      },
      "source": [
        "def c_to_f(c):\n",
        "  return 9/5 * c + 32"
      ],
      "execution_count": null,
      "outputs": []
    },
    {
      "cell_type": "code",
      "metadata": {
        "colab": {
          "base_uri": "https://localhost:8080/"
        },
        "id": "dKXhhUbeQNXh",
        "outputId": "b634cd88-535a-49e2-a3e7-63d9e48b872e"
      },
      "source": [
        "Temp_C = [0, 15, 35] # 32, 59, 95\n",
        "\n",
        "for c in Temp_C:\n",
        "  Temp_F = model.predict([c])\n",
        "  print(f'C {c} = F {Temp_F}')"
      ],
      "execution_count": null,
      "outputs": [
        {
          "output_type": "stream",
          "text": [
            "C 0 = F [[32.03128]]\n",
            "C 15 = F [[59.033752]]\n",
            "C 35 = F [[95.03705]]\n"
          ],
          "name": "stdout"
        }
      ]
    },
    {
      "cell_type": "code",
      "metadata": {
        "colab": {
          "base_uri": "https://localhost:8080/"
        },
        "id": "bvPTW5iQQu09",
        "outputId": "1ddd933d-0421-4819-9ea7-d17824c6ac57"
      },
      "source": [
        "for c in Temp_C:\n",
        "  print(f'C {c} = F {c_to_f(c)}')"
      ],
      "execution_count": null,
      "outputs": [
        {
          "output_type": "stream",
          "text": [
            "C 0 = F 32.0\n",
            "C 15 = F 59.0\n",
            "C 35 = F 95.0\n"
          ],
          "name": "stdout"
        }
      ]
    }
  ]
}