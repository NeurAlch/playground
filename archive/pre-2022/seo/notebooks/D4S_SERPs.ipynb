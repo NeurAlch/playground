{
  "nbformat": 4,
  "nbformat_minor": 0,
  "metadata": {
    "colab": {
      "name": "D4S SERPs",
      "provenance": [],
      "collapsed_sections": [
        "dSNIiDrpnTRd",
        "4-ZqyB3ui8xn",
        "_4v8bm_XjYQk"
      ]
    },
    "kernelspec": {
      "name": "python3",
      "display_name": "Python 3"
    },
    "language_info": {
      "name": "python"
    }
  },
  "cells": [
    {
      "cell_type": "markdown",
      "metadata": {
        "id": "q-2ay4jTYIXM"
      },
      "source": [
        "# Credentials"
      ]
    },
    {
      "cell_type": "markdown",
      "metadata": {
        "id": "vcY_7nIhYNgN"
      },
      "source": [
        "Load our credentials from Google Drive."
      ]
    },
    {
      "cell_type": "code",
      "metadata": {
        "id": "poWKKtgKXzwt"
      },
      "source": [
        "import json\n",
        "from google.colab import drive\n",
        "drive.mount('/content/drive')"
      ],
      "execution_count": null,
      "outputs": []
    },
    {
      "cell_type": "code",
      "metadata": {
        "id": "HtwOR1KDNaVk"
      },
      "source": [
        "with open('/content/drive/My Drive/Colab/credentials.json') as f:\n",
        "  credentials = json.loads(f.read())\n",
        "\n",
        "D4S_USERNAME = credentials.get('d4s').get('username')\n",
        "D4S_PASSWORD = credentials.get('d4s').get('password')\n",
        "D4S_USERNAME"
      ],
      "execution_count": null,
      "outputs": []
    },
    {
      "cell_type": "markdown",
      "metadata": {
        "id": "xgC2HiPMYg6U"
      },
      "source": [
        "# Configuration"
      ]
    },
    {
      "cell_type": "code",
      "metadata": {
        "id": "VoUdEsuTYmtm",
        "cellView": "form"
      },
      "source": [
        "keyword = \"avocado recipes\" # @param {type:\"string\"}\n",
        "location = \"United States\" # @param {type:\"string\"}\n",
        "language = \"en\" # @param {type:\"string\"}"
      ],
      "execution_count": null,
      "outputs": []
    },
    {
      "cell_type": "markdown",
      "metadata": {
        "id": "_tSVFgnUZFU3"
      },
      "source": [
        "# Code"
      ]
    },
    {
      "cell_type": "markdown",
      "metadata": {
        "id": "dSNIiDrpnTRd"
      },
      "source": [
        "## Boilerplate code for D4S"
      ]
    },
    {
      "cell_type": "code",
      "metadata": {
        "id": "6g974atlZGlI"
      },
      "source": [
        "from http.client import HTTPSConnection\n",
        "from base64 import b64encode\n",
        "from json import loads\n",
        "from json import dumps\n",
        "\n",
        "class RestClient:\n",
        "    domain = \"api.dataforseo.com\"\n",
        "\n",
        "    def __init__(self, username, password):\n",
        "        self.username = username\n",
        "        self.password = password\n",
        "\n",
        "    def request(self, path, method, data=None):\n",
        "        connection = HTTPSConnection(self.domain)\n",
        "        try:\n",
        "            base64_bytes = b64encode(\n",
        "                (\"%s:%s\" % (self.username, self.password)).encode(\"ascii\")\n",
        "                ).decode(\"ascii\")\n",
        "            headers = {'Authorization' : 'Basic %s' %  base64_bytes, 'Content-Encoding' : 'gzip'}\n",
        "            connection.request(method, path, headers=headers, body=data)\n",
        "            response = connection.getresponse()\n",
        "            return loads(response.read().decode())\n",
        "        finally:\n",
        "            connection.close()\n",
        "\n",
        "    def get(self, path):\n",
        "        return self.request(path, 'GET')\n",
        "\n",
        "    def post(self, path, data):\n",
        "        if isinstance(data, str):\n",
        "            data_str = data\n",
        "        else:\n",
        "            data_str = dumps(data)\n",
        "        return self.request(path, 'POST', data_str)"
      ],
      "execution_count": null,
      "outputs": []
    },
    {
      "cell_type": "code",
      "metadata": {
        "id": "WqaAvw5OP4NJ"
      },
      "source": [
        "from datetime import datetime\n",
        "today = datetime.today().strftime('%Y-%m-%d')\n",
        "today"
      ],
      "execution_count": null,
      "outputs": []
    },
    {
      "cell_type": "code",
      "metadata": {
        "id": "2IeFnFL6ZPVr"
      },
      "source": [
        "client = RestClient(D4S_USERNAME, D4S_PASSWORD)\n",
        "post_data = dict()\n",
        "items = []\n",
        "\n",
        "post_data[len(post_data)] = dict(\n",
        "    language_code=language,\n",
        "    location_name=location,\n",
        "    keyword=keyword\n",
        ")\n",
        "\n",
        "response = client.post(\"/v3/serp/google/organic/live/regular\", post_data)\n",
        "\n",
        "if response[\"status_code\"] == 20000:\n",
        "  items = response['tasks'][0][\"result\"][0][\"items\"]\n",
        "  for item in items:\n",
        "    item['keyword'] = keyword\n",
        "    item['date'] = today\n",
        "  print(response.get('status_message', 'Could not get status, probably an error'))      \n",
        "else:\n",
        "  print(\"error. Code: %d Message: %s\" % (response[\"status_code\"], response[\"status_message\"]))"
      ],
      "execution_count": null,
      "outputs": []
    },
    {
      "cell_type": "markdown",
      "metadata": {
        "id": "4-ZqyB3ui8xn"
      },
      "source": [
        "## Extract results from the D4S API response"
      ]
    },
    {
      "cell_type": "code",
      "metadata": {
        "id": "hOnSKCdVc35z"
      },
      "source": [
        "import pandas as pd\n",
        "\n",
        "df = None\n",
        "if response.get('status_code', 0) == 20000:\n",
        "  df = pd.DataFrame.from_dict(items)\n",
        "\n",
        "df"
      ],
      "execution_count": null,
      "outputs": []
    },
    {
      "cell_type": "markdown",
      "metadata": {
        "id": "_4v8bm_XjYQk"
      },
      "source": [
        "## Download as an Excel file"
      ]
    },
    {
      "cell_type": "code",
      "metadata": {
        "id": "Txxz5fLci8jc"
      },
      "source": [
        "from google.colab import files\n",
        "\n",
        "filename = f'{keyword}.xlsx'\n",
        "df.to_excel(filename, index=False)\n",
        "files.download(filename)"
      ],
      "execution_count": null,
      "outputs": []
    }
  ]
}