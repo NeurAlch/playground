{
  "nbformat": 4,
  "nbformat_minor": 0,
  "metadata": {
    "colab": {
      "name": "Word2Vec SEO",
      "provenance": [],
      "collapsed_sections": [],
      "toc_visible": true
    },
    "kernelspec": {
      "name": "python3",
      "display_name": "Python 3"
    }
  },
  "cells": [
    {
      "cell_type": "code",
      "metadata": {
        "id": "Ai_J4-_23Uik"
      },
      "source": [
        "import re\n",
        "import os\n",
        "import nltk\n",
        "import string\n",
        "import multiprocessing\n",
        "from random import randrange\n",
        "from collections import defaultdict\n",
        "from gensim.models.word2vec import Word2Vec\n",
        "from gensim.models.phrases import Phraser, Phrases"
      ],
      "execution_count": null,
      "outputs": []
    },
    {
      "cell_type": "code",
      "metadata": {
        "colab": {
          "base_uri": "https://localhost:8080/"
        },
        "id": "NBNYb6iT52-9",
        "outputId": "df695ef9-7dd4-457a-ebad-5f8efc99bda1"
      },
      "source": [
        "nltk.download('punkt', quiet=True)"
      ],
      "execution_count": null,
      "outputs": [
        {
          "output_type": "execute_result",
          "data": {
            "text/plain": [
              "True"
            ]
          },
          "metadata": {
            "tags": []
          },
          "execution_count": 30
        }
      ]
    },
    {
      "cell_type": "code",
      "metadata": {
        "colab": {
          "base_uri": "https://localhost:8080/"
        },
        "id": "TOPVdn1s83q1",
        "outputId": "e2fb1752-8357-444e-bacd-792e4462836a"
      },
      "source": [
        "cores = multiprocessing.cpu_count()\n",
        "cores"
      ],
      "execution_count": null,
      "outputs": [
        {
          "output_type": "execute_result",
          "data": {
            "text/plain": [
              "2"
            ]
          },
          "metadata": {
            "tags": []
          },
          "execution_count": 31
        }
      ]
    },
    {
      "cell_type": "code",
      "metadata": {
        "id": "Rn63IAz36LXR"
      },
      "source": [
        "PUNCT = list(string.punctuation)\n",
        "STOP_WORDS = set([\"also\", \"not\", \"all\", \"am\", \"an\", \"and\", \"another\", \"any\", \"are\", \"as\", \"at\", \"be\", \"been\", \"being\", \"but\", \"by\", \"came\", \"can\", \"come\", \"did\", \"do\", \"for\", \"get\", \"got\", \"has\", \"had\", \"he\", \"have\", \"her\", \"here\", \"him\", \"himself\", \"his\", \"how\", \"if\", \"in\", \"into\", \"is\", \"it\", \"like\", \"me\", \"my\", \"of\", \"on\", \"or\", \"other\", \"our\", \"out\", \"over\", \"see\", \"still\", \"such\", \"take\", \"than\", \"that\", \"the\", \"their\", \"them\", \"then\", \"there\", \"these\", \"they\", \"this\", \"those\", \"through\", \"to\", \"too\", \"up\", \"was\", \"way\", \"we\", \"well\", \"while\", \"with\", \"would\", \"you\", \"your\", \"a\", \"i\", \"will\", \"com\", \"may\", \"every\", \"using\", \"just\", \"need\", \"want\", \"years\", \"great\", \"good\", \"privacy\", \"next\", \"know\", \"found\", \"add\", \"even\", \"use\", \"one\", \"something\", \"choice\", \"some\", \"more\", \"away\", \"really\", \"put\", \"instead\", \"start\"])\n",
        "MIN_WORD_COUNT = 5\n",
        "W2V_EPOCHS = 50"
      ],
      "execution_count": null,
      "outputs": []
    },
    {
      "cell_type": "code",
      "metadata": {
        "id": "tN9jFM6y7a4-"
      },
      "source": [
        "def remove_not_valid_chars(word, include_space=True):\n",
        "  word_lowercase = word.lower()\n",
        "  if include_space:\n",
        "    return re.sub(r'[^a-zA-Z0-9- ]+', '', word_lowercase)\n",
        "  return re.sub(r'[^a-zA-Z0-9-]+', '', word_lowercase)"
      ],
      "execution_count": null,
      "outputs": []
    },
    {
      "cell_type": "code",
      "metadata": {
        "id": "PP3zXIlK9Cdv"
      },
      "source": [
        "def most_frequent_words(phraser, sents, num, min_word_len=0):\n",
        "    word_freq = defaultdict(int)\n",
        "\n",
        "    for sent in phraser[sents]:\n",
        "        for i in sent:\n",
        "            if i not in STOP_WORDS and len(i.split(\"_\")) >= min_word_len:\n",
        "              word_freq[i] += 1\n",
        "    \n",
        "    words = []\n",
        "    for k in sorted(word_freq, key=word_freq.get, reverse=True)[:num]:        \n",
        "      words.append(k)\n",
        "        \n",
        "    return words"
      ],
      "execution_count": null,
      "outputs": []
    },
    {
      "cell_type": "code",
      "metadata": {
        "id": "SSW9u8Sb3RI7"
      },
      "source": [
        "files = []\n",
        "\n",
        "for r, d, f in os.walk(\"corpus\"):\n",
        "    for file in f:\n",
        "        if '.txt' in file:\n",
        "            files.append(os.path.join(r, file))\n",
        "\n",
        "corpus = \"\"\n",
        "\n",
        "for file in files:\n",
        "    with open(file, \"r\") as f:\n",
        "        corpus += \"\\n\" + f.read()"
      ],
      "execution_count": null,
      "outputs": []
    },
    {
      "cell_type": "code",
      "metadata": {
        "colab": {
          "base_uri": "https://localhost:8080/"
        },
        "id": "g9SQK5xd3dPK",
        "outputId": "e13dd1c0-10a5-40b4-a618-d4861465223f"
      },
      "source": [
        "random_sample_size = 100\n",
        "random_sample_start = randrange(0, len(corpus) - random_sample_size)\n",
        "random_sample = corpus[random_sample_start:random_sample_start + random_sample_size]\n",
        "sentence_test = remove_not_valid_chars(random_sample.replace(\"\\n\", \" \"))\n",
        "random_sample, sentence_test"
      ],
      "execution_count": null,
      "outputs": [
        {
          "output_type": "execute_result",
          "data": {
            "text/plain": [
              "('pping Business with AliExpress + BONUS: 25 niche ideas for 2021 Get Your Guide Make your start\\n100% ',\n",
              " 'pping business with aliexpress  bonus 25 niche ideas for 2021 get your guide make your start 100 ')"
            ]
          },
          "metadata": {
            "tags": []
          },
          "execution_count": 40
        }
      ]
    },
    {
      "cell_type": "code",
      "metadata": {
        "id": "E0bpM8r25NwT"
      },
      "source": [
        "sentences_list = nltk.sent_tokenize(corpus)"
      ],
      "execution_count": null,
      "outputs": []
    },
    {
      "cell_type": "code",
      "metadata": {
        "id": "j1-FT9xs6PLY"
      },
      "source": [
        "sentences = []\n",
        "\n",
        "for sent in sentences_list:\n",
        "  clean_words = []\n",
        "  words = nltk.word_tokenize(sent)\n",
        "\n",
        "  for word in words:\n",
        "      w = remove_not_valid_chars(word, False)\n",
        "      if w and len(w) > 1 and not w.isdigit() and w not in PUNCT and w not in STOP_WORDS:\n",
        "          clean_words.append(w)\n",
        "\n",
        "  if len(clean_words) > 2:\n",
        "      sentences.append(clean_words)"
      ],
      "execution_count": null,
      "outputs": []
    },
    {
      "cell_type": "code",
      "metadata": {
        "colab": {
          "base_uri": "https://localhost:8080/"
        },
        "id": "j9fIIqFb6piM",
        "outputId": "3dcf016e-5c3d-4a93-e832-08d6cb69bad8"
      },
      "source": [
        "len(sentences)"
      ],
      "execution_count": null,
      "outputs": [
        {
          "output_type": "execute_result",
          "data": {
            "text/plain": [
              "73385"
            ]
          },
          "metadata": {
            "tags": []
          },
          "execution_count": 43
        }
      ]
    },
    {
      "cell_type": "code",
      "metadata": {
        "colab": {
          "base_uri": "https://localhost:8080/"
        },
        "id": "0h5JY61Y6uKx",
        "outputId": "70a34bab-c4c9-4acf-a7b3-aab7f135c218"
      },
      "source": [
        "bigram = Phrases(sentences, min_count=MIN_WORD_COUNT, threshold=MIN_WORD_COUNT, common_terms=STOP_WORDS)\n",
        "bigram_model = Phraser(bigram)\n",
        "trigram = Phrases(bigram[sentences], min_count=MIN_WORD_COUNT, threshold=10, common_terms=STOP_WORDS)\n",
        "trigram_model = Phraser(trigram)\n",
        "phraser = trigram_model[bigram_model[sentences]]"
      ],
      "execution_count": null,
      "outputs": [
        {
          "output_type": "stream",
          "text": [
            "/usr/local/lib/python3.6/dist-packages/gensim/models/phrases.py:598: UserWarning: For a faster implementation, use the gensim.models.phrases.Phraser class\n",
            "  warnings.warn(\"For a faster implementation, use the gensim.models.phrases.Phraser class\")\n"
          ],
          "name": "stderr"
        }
      ]
    },
    {
      "cell_type": "code",
      "metadata": {
        "colab": {
          "base_uri": "https://localhost:8080/"
        },
        "id": "OypFzS6c8eRH",
        "outputId": "4e7883ef-57e5-4582-ed12-7eeaf080b164"
      },
      "source": [
        "trigram_model[sentence_test.split()]"
      ],
      "execution_count": null,
      "outputs": [
        {
          "output_type": "execute_result",
          "data": {
            "text/plain": [
              "['pping',\n",
              " 'business',\n",
              " 'with',\n",
              " 'aliexpress',\n",
              " 'bonus',\n",
              " '25',\n",
              " 'niche',\n",
              " 'ideas',\n",
              " 'for',\n",
              " '2021',\n",
              " 'get',\n",
              " 'your',\n",
              " 'guide',\n",
              " 'make',\n",
              " 'your',\n",
              " 'start',\n",
              " '100']"
            ]
          },
          "metadata": {
            "tags": []
          },
          "execution_count": 45
        }
      ]
    },
    {
      "cell_type": "code",
      "metadata": {
        "colab": {
          "base_uri": "https://localhost:8080/"
        },
        "id": "2sttu1uLGW6f",
        "outputId": "4551c90a-d2b3-4d86-b23b-5df4db3dad16"
      },
      "source": [
        "most_frequent_words(trigram_model, sentences, 50, 2)"
      ],
      "execution_count": null,
      "outputs": [
        {
          "output_type": "execute_result",
          "data": {
            "text/plain": [
              "['social_media',\n",
              " 'blog_post',\n",
              " 'blog_posts',\n",
              " 'make_sure',\n",
              " 'content_marketing',\n",
              " 'does_nt',\n",
              " 'search_engines',\n",
              " 'search_engine',\n",
              " 'google_analytics',\n",
              " 'website_traffic',\n",
              " 'drive_traffic',\n",
              " 'ca_nt',\n",
              " 'people_who',\n",
              " 'make_money',\n",
              " 'promote_blog',\n",
              " 'email_marketing',\n",
              " 'target_audience',\n",
              " 'most_popular',\n",
              " 'page_views',\n",
              " 'google_search',\n",
              " 'email_list',\n",
              " 'guest_post',\n",
              " 'guest_blogging',\n",
              " 'when_comes',\n",
              " 'learn_about',\n",
              " 'traffic_sources',\n",
              " 'keyword_research',\n",
              " 'web_traffic',\n",
              " 'so_much',\n",
              " 'search_results',\n",
              " 'digital_marketing',\n",
              " 'guest_posting',\n",
              " 'organic_traffic',\n",
              " 'thanks_sharing',\n",
              " 'write_about',\n",
              " 'grow_blog',\n",
              " 'landing_page',\n",
              " 'facebook_twitter',\n",
              " 'think_about',\n",
              " 'email_address',\n",
              " 'many_people',\n",
              " 'blogging_platform',\n",
              " 'increase_traffic',\n",
              " 'per_month',\n",
              " 'right_now',\n",
              " 're_going',\n",
              " 'search_traffic',\n",
              " 'most_important',\n",
              " 'says_january',\n",
              " 'content_strategy']"
            ]
          },
          "metadata": {
            "tags": []
          },
          "execution_count": 82
        }
      ]
    },
    {
      "cell_type": "code",
      "metadata": {
        "id": "AJgLnpIB8u5M"
      },
      "source": [
        "w2v_model = Word2Vec(\n",
        "    size=300,    \n",
        "    min_count=25,\n",
        "    workers=2,    \n",
        ")"
      ],
      "execution_count": null,
      "outputs": []
    },
    {
      "cell_type": "code",
      "metadata": {
        "id": "7JEmefOg9TCM"
      },
      "source": [
        "w2v_model.build_vocab(phraser)"
      ],
      "execution_count": null,
      "outputs": []
    },
    {
      "cell_type": "code",
      "metadata": {
        "colab": {
          "base_uri": "https://localhost:8080/"
        },
        "id": "D_W9xc9S-5kt",
        "outputId": "13c11801-7897-4ad3-d3c4-c78d196de7f1"
      },
      "source": [
        "len(w2v_model.wv.vocab)"
      ],
      "execution_count": null,
      "outputs": [
        {
          "output_type": "execute_result",
          "data": {
            "text/plain": [
              "3613"
            ]
          },
          "metadata": {
            "tags": []
          },
          "execution_count": 76
        }
      ]
    },
    {
      "cell_type": "code",
      "metadata": {
        "colab": {
          "base_uri": "https://localhost:8080/"
        },
        "id": "-UgwAdzl-0Gm",
        "outputId": "6aa4ce4b-c5e4-4cc2-a1cc-c578474e029a"
      },
      "source": [
        "w2v_model.train(sentences, total_examples=w2v_model.corpus_count, epochs=W2V_EPOCHS)"
      ],
      "execution_count": null,
      "outputs": [
        {
          "output_type": "execute_result",
          "data": {
            "text/plain": [
              "(30450055, 38997400)"
            ]
          },
          "metadata": {
            "tags": []
          },
          "execution_count": 77
        }
      ]
    },
    {
      "cell_type": "code",
      "metadata": {
        "colab": {
          "base_uri": "https://localhost:8080/"
        },
        "id": "R1edhNRjGETA",
        "outputId": "319f184d-6baa-48c9-ea6f-d022dc6b3683"
      },
      "source": [
        "w2v_model.wv.most_similar('search_engines', topn=25)"
      ],
      "execution_count": null,
      "outputs": [
        {
          "output_type": "execute_result",
          "data": {
            "text/plain": [
              "[('guest', 0.21181611716747284),\n",
              " ('companies', 0.19697968661785126),\n",
              " ('after_reading', 0.18953336775302887),\n",
              " ('email_subscribers', 0.18488603830337524),\n",
              " ('organic_search', 0.1837301254272461),\n",
              " ('website_browser_time_comment', 0.175649493932724),\n",
              " ('box', 0.1734764128923416),\n",
              " ('random', 0.16592027246952057),\n",
              " ('self', 0.16452457010746002),\n",
              " ('alongside', 0.16433827579021454),\n",
              " ('normal', 0.16246196627616882),\n",
              " ('day', 0.16152776777744293),\n",
              " ('single_day', 0.15829706192016602),\n",
              " ('magic', 0.15793749690055847),\n",
              " ('recently', 0.15665170550346375),\n",
              " ('reply_ana_hoffman_says', 0.15605425834655762),\n",
              " ('talked_about', 0.1552238017320633),\n",
              " ('six_months', 0.15298306941986084),\n",
              " ('allows', 0.15270386636257172),\n",
              " ('provide_value', 0.15167124569416046),\n",
              " ('best_motorcycle', 0.15102478861808777),\n",
              " ('everything', 0.1507202833890915),\n",
              " ('craft', 0.1466902792453766),\n",
              " ('comments', 0.14348751306533813),\n",
              " ('evernote', 0.1425704061985016)]"
            ]
          },
          "metadata": {
            "tags": []
          },
          "execution_count": 83
        }
      ]
    },
    {
      "cell_type": "code",
      "metadata": {
        "colab": {
          "base_uri": "https://localhost:8080/"
        },
        "id": "Btz1pa6l9EWv",
        "outputId": "2b3cd76f-cf51-4b9f-9490-69a21c347587"
      },
      "source": [
        "w2v_model.wv.most_similar('content', topn=25)"
      ],
      "execution_count": null,
      "outputs": [
        {
          "output_type": "execute_result",
          "data": {
            "text/plain": [
              "[('posts', 0.47531020641326904),\n",
              " ('post', 0.4056031107902527),\n",
              " ('article', 0.36833250522613525),\n",
              " ('articles', 0.3570299744606018),\n",
              " ('contents', 0.30925291776657104),\n",
              " ('infographics', 0.3048214018344879),\n",
              " ('piece', 0.30464625358581543),\n",
              " ('audience', 0.3031178414821625),\n",
              " ('blog', 0.2964682877063751),\n",
              " ('high-quality', 0.2806640863418579),\n",
              " ('headlines', 0.27288877964019775),\n",
              " ('evergreen', 0.26462656259536743),\n",
              " ('calendar', 0.2541588246822357),\n",
              " ('original', 0.25325798988342285),\n",
              " ('compelling', 0.25311416387557983),\n",
              " ('strategy', 0.2527120113372803),\n",
              " ('consistently', 0.2518334984779358),\n",
              " ('social', 0.2482859343290329),\n",
              " ('headline', 0.24391379952430725),\n",
              " ('readers', 0.24307097494602203),\n",
              " ('e-book', 0.24167749285697937),\n",
              " ('material', 0.24143272638320923),\n",
              " ('what', 0.23813742399215698),\n",
              " ('attracts', 0.2373666763305664),\n",
              " ('constantly', 0.23721443116664886)]"
            ]
          },
          "metadata": {
            "tags": []
          },
          "execution_count": 79
        }
      ]
    },
    {
      "cell_type": "code",
      "metadata": {
        "colab": {
          "base_uri": "https://localhost:8080/"
        },
        "id": "8hKbdg67F_M2",
        "outputId": "2408d35c-ffd6-4176-a69e-4604c5474bb7"
      },
      "source": [
        "w2v_model.wv.most_similar('blog', topn=100)"
      ],
      "execution_count": null,
      "outputs": [
        {
          "output_type": "execute_result",
          "data": {
            "text/plain": [
              "[('blogs', 0.3651251494884491),\n",
              " ('website', 0.3535810112953186),\n",
              " ('site', 0.3122475743293762),\n",
              " ('blogging', 0.3064546585083008),\n",
              " ('readership', 0.3043372929096222),\n",
              " ('content', 0.29646825790405273),\n",
              " ('blogger', 0.28374987840652466),\n",
              " ('post', 0.2831146717071533),\n",
              " ('posts', 0.27177125215530396),\n",
              " ('article', 0.2566870450973511),\n",
              " ('roundup', 0.25163590908050537),\n",
              " ('older', 0.2420521229505539),\n",
              " ('so', 0.23325422406196594),\n",
              " ('guest', 0.233115553855896),\n",
              " ('email', 0.22862011194229126),\n",
              " ('articles', 0.22830119729042053),\n",
              " ('bloggers', 0.22787974774837494),\n",
              " ('consistently', 0.22782768309116364),\n",
              " ('epic', 0.22678285837173462),\n",
              " ('readers', 0.2267823964357376),\n",
              " ('new', 0.2255745530128479),\n",
              " ('proven', 0.2173464000225067),\n",
              " ('guide', 0.21732200682163239),\n",
              " ('after', 0.2095438539981842),\n",
              " ('worthy', 0.20862987637519836),\n",
              " ('tips', 0.20599307119846344),\n",
              " ('list', 0.20420223474502563),\n",
              " ('killer', 0.20370282232761383),\n",
              " ('subscribers', 0.2029207944869995),\n",
              " ('viral', 0.2012309432029724),\n",
              " ('writing', 0.1971268504858017),\n",
              " ('business', 0.19463396072387695),\n",
              " ('help', 0.19423216581344604),\n",
              " ('optimize_images', 0.19161972403526306),\n",
              " ('tribe', 0.1887265145778656),\n",
              " ('habit', 0.18748445808887482),\n",
              " ('contents', 0.18687701225280762),\n",
              " ('re', 0.18249821662902832),\n",
              " ('step-by-step', 0.18039238452911377),\n",
              " ('instantly', 0.17879658937454224),\n",
              " ('engaging', 0.17838284373283386),\n",
              " ('page', 0.17827503383159637),\n",
              " ('conclusion', 0.1773732304573059),\n",
              " ('latest', 0.17498834431171417),\n",
              " ('organically', 0.17489124834537506),\n",
              " ('pinterest', 0.17380847036838531),\n",
              " ('tactics', 0.17356093227863312),\n",
              " ('hacks', 0.17342258989810944),\n",
              " ('community', 0.17204177379608154),\n",
              " ('kindle', 0.17101088166236877),\n",
              " ('when', 0.17090556025505066),\n",
              " ('ways', 0.1706654131412506),\n",
              " ('evergreen', 0.1684344857931137),\n",
              " ('strategies', 0.1683116853237152),\n",
              " ('today', 0.16574588418006897),\n",
              " ('wide_range', 0.16506022214889526),\n",
              " ('strategy', 0.16463452577590942),\n",
              " ('comments', 0.1643209457397461),\n",
              " ('similarly', 0.1617618203163147),\n",
              " ('quickly', 0.16119463741779327),\n",
              " ('social', 0.15766753256320953),\n",
              " ('own', 0.15759065747261047),\n",
              " ('old', 0.15709465742111206),\n",
              " ('ll', 0.15646213293075562),\n",
              " ('definitely', 0.15572375059127808),\n",
              " ('awesome', 0.15506312251091003),\n",
              " ('tons', 0.15463200211524963),\n",
              " ('few', 0.15376517176628113),\n",
              " ('creating_content', 0.15343749523162842),\n",
              " ('newsletter', 0.15310537815093994),\n",
              " ('kevin', 0.15308363735675812),\n",
              " ('last_updated', 0.15265803039073944),\n",
              " ('gain', 0.15242666006088257),\n",
              " ('nt', 0.15234066545963287),\n",
              " ('help_build', 0.15040557086467743),\n",
              " ('wordpress', 0.15021535754203796),\n",
              " ('commit', 0.14907357096672058),\n",
              " ('podcast', 0.14782185852527618),\n",
              " ('further', 0.14737462997436523),\n",
              " ('time', 0.14734628796577454),\n",
              " ('exposure', 0.14687542617321014),\n",
              " ('besides', 0.14658573269844055),\n",
              " ('calendar', 0.14632068574428558),\n",
              " ('strategically', 0.14597877860069275),\n",
              " ('about', 0.14589855074882507),\n",
              " ('whenever', 0.14576740562915802),\n",
              " ('once', 0.1456758677959442),\n",
              " ('publishing', 0.1455092877149582),\n",
              " ('easiest', 0.14524716138839722),\n",
              " ('audience', 0.14518585801124573),\n",
              " ('publish', 0.144892156124115),\n",
              " ('instagram', 0.14473333954811096),\n",
              " ('e-book', 0.14468738436698914),\n",
              " ('hopefully', 0.1446404606103897),\n",
              " ('headlines', 0.14448678493499756),\n",
              " ('brand', 0.14435985684394836),\n",
              " ('secret', 0.1439732164144516),\n",
              " ('bio', 0.14312520623207092),\n",
              " ('sake', 0.1430768370628357),\n",
              " ('art', 0.14176088571548462)]"
            ]
          },
          "metadata": {
            "tags": []
          },
          "execution_count": 81
        }
      ]
    }
  ]
}