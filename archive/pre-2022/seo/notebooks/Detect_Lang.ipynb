{
  "nbformat": 4,
  "nbformat_minor": 0,
  "metadata": {
    "colab": {
      "name": "Detect Lang",
      "provenance": [],
      "collapsed_sections": []
    },
    "kernelspec": {
      "name": "python3",
      "display_name": "Python 3"
    },
    "language_info": {
      "name": "python"
    }
  },
  "cells": [
    {
      "cell_type": "markdown",
      "metadata": {
        "id": "00Pr0cx375F9"
      },
      "source": [
        "# Load credentials.json from Google Drive\n",
        "\n"
      ]
    },
    {
      "cell_type": "markdown",
      "metadata": {
        "id": "Q1LqjBeW7-0G"
      },
      "source": [
        "You first need to enable the Translation API on Google, plus download your credentials.json and save them on Google drive. How to do this is out of the scope of this, but there are a lot of tutorials on that.\n",
        "\n",
        "The default path where this is reading is: `/content/drive/My Drive/Colab/credentials.json`\n",
        "\n"
      ]
    },
    {
      "cell_type": "code",
      "metadata": {
        "id": "Qv-_JKcM707X"
      },
      "source": [
        "import json\n",
        "from google.colab import drive\n",
        "\n",
        "drive.mount('/content/drive')"
      ],
      "execution_count": null,
      "outputs": []
    },
    {
      "cell_type": "code",
      "metadata": {
        "id": "Di-pE0Mj74qM"
      },
      "source": [
        "with open('/content/drive/My Drive/Colab/credentials.json') as f:\n",
        "  credentials = json.loads(f.read())"
      ],
      "execution_count": null,
      "outputs": []
    },
    {
      "cell_type": "markdown",
      "metadata": {
        "id": "XKAoZg2z5s5e"
      },
      "source": [
        "# Your Keywords"
      ]
    },
    {
      "cell_type": "markdown",
      "metadata": {
        "id": "ZM1Aw_59540c"
      },
      "source": [
        "One keyword per line, no commans"
      ]
    },
    {
      "cell_type": "code",
      "metadata": {
        "id": "Mov6g3bI5pEJ"
      },
      "source": [
        "keywords = \"\"\"\n",
        "avocado recipes\n",
        "recetas de aguacate\n",
        "avocado recipes for keto\n",
        "aguacate para keto\n",
        "\"\"\""
      ],
      "execution_count": null,
      "outputs": []
    },
    {
      "cell_type": "markdown",
      "metadata": {
        "id": "fj_0mRTR6Y_2"
      },
      "source": [
        "The language to detect"
      ]
    },
    {
      "cell_type": "code",
      "metadata": {
        "id": "634p1crf5-x-"
      },
      "source": [
        "lang_code = \"en\" #@param {type:\"string\"}"
      ],
      "execution_count": null,
      "outputs": []
    },
    {
      "cell_type": "markdown",
      "metadata": {
        "id": "DS2T5vwH6NRy"
      },
      "source": [
        "# Code"
      ]
    },
    {
      "cell_type": "markdown",
      "metadata": {
        "id": "yHonMGL48bwo"
      },
      "source": [
        "We use "
      ]
    },
    {
      "cell_type": "code",
      "metadata": {
        "id": "6_fnzzW053DD"
      },
      "source": [
        "import pandas as pd\n",
        "from multiprocessing import Pool\n",
        "from googleapiclient.discovery import build\n",
        "\n",
        "service = build('translate', 'v2', developerKey=credentials[\"google\"])\n",
        "\n",
        "def detect_lang(text):\n",
        "    detections = service.detections().list(q=text).execute()\n",
        "    if detections and detections['detections'] and len(detections['detections']) > 0:\n",
        "      return detections['detections'][0][0]['language']\n",
        "    return ''"
      ],
      "execution_count": null,
      "outputs": []
    },
    {
      "cell_type": "code",
      "metadata": {
        "id": "hFc7Yvcq8uEP"
      },
      "source": [
        "# a test to see if it works\n",
        "detect_lang(\"recetas de avocado\")"
      ],
      "execution_count": null,
      "outputs": []
    },
    {
      "cell_type": "code",
      "metadata": {
        "id": "2DdZPBtx6Kx0"
      },
      "source": [
        "keywords_in_lang = []\n",
        "\n",
        "for kw in keywords.split(\"\\n\"):\n",
        "  if kw and detect_lang(kw) == language_code:\n",
        "    keywords_in_lang.append(dict(keyword=kw))"
      ],
      "execution_count": null,
      "outputs": []
    },
    {
      "cell_type": "markdown",
      "metadata": {
        "id": "6Ykbp2nU6Olm"
      },
      "source": [
        "# Results"
      ]
    },
    {
      "cell_type": "code",
      "metadata": {
        "id": "qrSx1BaM9n9N"
      },
      "source": [
        "from google.colab import files\n",
        "\n",
        "df = pd.DataFrame.from_records(keywords_in_lang, columns=['keyword'])\n",
        "\n",
        "filename = 'keywords-%s.xlsx' % lang_code\n",
        "df.to_excel(filename, index=False)\n",
        "files.download(filename)"
      ],
      "execution_count": null,
      "outputs": []
    }
  ]
}