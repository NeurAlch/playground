{
  "nbformat": 4,
  "nbformat_minor": 0,
  "metadata": {
    "colab": {
      "name": "Phrase Lemma",
      "provenance": []
    },
    "kernelspec": {
      "name": "python3",
      "display_name": "Python 3"
    }
  },
  "cells": [
    {
      "cell_type": "code",
      "metadata": {
        "id": "YueulYZXyF7e",
        "colab": {
          "base_uri": "https://localhost:8080/"
        },
        "outputId": "db50c0a5-128c-4a21-dc10-c6e63ed2ee41"
      },
      "source": [
        "import nltk\n",
        "from nltk.stem import WordNetLemmatizer\n",
        "\n",
        "lemmatizer = WordNetLemmatizer()\n",
        "\n",
        "nltk.download('wordnet', quiet=True)\n",
        "\n",
        "words = []\n",
        "kw_original = \"\"\"cooking in oven\"\"\"\n",
        "\n",
        "for word in kw_original.split(\" \"):\n",
        "    w = lemmatizer.lemmatize(word)\n",
        "    words.append(w)\n",
        "\n",
        "print(\" \".join(words))\n"
      ],
      "execution_count": null,
      "outputs": [
        {
          "output_type": "stream",
          "text": [
            "cooking in oven\n"
          ],
          "name": "stdout"
        }
      ]
    },
    {
      "cell_type": "code",
      "metadata": {
        "colab": {
          "base_uri": "https://localhost:8080/"
        },
        "id": "hKU2Lywzbesn",
        "outputId": "b174c409-4d12-4550-b034-6be7e5df1547"
      },
      "source": [
        "from nltk.stem import PorterStemmer \n",
        "from nltk.tokenize import word_tokenize \n",
        "   \n",
        "ps = PorterStemmer() \n",
        "  \n",
        "# choose some words to be stemmed \n",
        "kw_original = \"\"\"cooking in oven\"\"\"\n",
        "\n",
        "words = []\n",
        "for word in kw_original.split(\" \"):\n",
        "    w = ps.stem(word)\n",
        "    words.append(w)\n",
        "\n",
        "print(\" \".join(words))"
      ],
      "execution_count": null,
      "outputs": [
        {
          "output_type": "stream",
          "text": [
            "cook in oven\n"
          ],
          "name": "stdout"
        }
      ]
    }
  ]
}