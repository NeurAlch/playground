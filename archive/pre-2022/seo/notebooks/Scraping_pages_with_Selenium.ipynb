{
  "nbformat": 4,
  "nbformat_minor": 0,
  "metadata": {
    "colab": {
      "name": "Scraping pages with Selenium",
      "provenance": []
    },
    "kernelspec": {
      "name": "python3",
      "display_name": "Python 3"
    },
    "accelerator": "GPU"
  },
  "cells": [
    {
      "cell_type": "code",
      "metadata": {
        "id": "U3Yg5MPQz7mF"
      },
      "source": [
        "# Libraries we need for python\n",
        "import asyncio\n",
        "from bs4 import BeautifulSoup"
      ],
      "execution_count": null,
      "outputs": []
    },
    {
      "cell_type": "code",
      "metadata": {
        "id": "RBMT3h9a0brW",
        "colab": {
          "base_uri": "https://localhost:8080/",
          "height": 139
        },
        "outputId": "116d9bb3-8692-4884-8fa8-a80a19b5962f"
      },
      "source": [
        "# Install selenium to control our headless browser\n",
        "!pip install selenium"
      ],
      "execution_count": null,
      "outputs": [
        {
          "output_type": "stream",
          "text": [
            "Collecting selenium\n",
            "\u001b[?25l  Downloading https://files.pythonhosted.org/packages/80/d6/4294f0b4bce4de0abf13e17190289f9d0613b0a44e5dd6a7f5ca98459853/selenium-3.141.0-py2.py3-none-any.whl (904kB)\n",
            "\r\u001b[K     |▍                               | 10kB 29.4MB/s eta 0:00:01\r\u001b[K     |▊                               | 20kB 6.5MB/s eta 0:00:01\r\u001b[K     |█                               | 30kB 9.3MB/s eta 0:00:01\r\u001b[K     |█▌                              | 40kB 6.0MB/s eta 0:00:01\r\u001b[K     |█▉                              | 51kB 7.2MB/s eta 0:00:01\r\u001b[K     |██▏                             | 61kB 8.5MB/s eta 0:00:01\r\u001b[K     |██▌                             | 71kB 9.7MB/s eta 0:00:01\r\u001b[K     |███                             | 81kB 10.9MB/s eta 0:00:01\r\u001b[K     |███▎                            | 92kB 12.1MB/s eta 0:00:01\r\u001b[K     |███▋                            | 102kB 9.6MB/s eta 0:00:01\r\u001b[K     |████                            | 112kB 9.6MB/s eta 0:00:01\r\u001b[K     |████▍                           | 122kB 9.6MB/s eta 0:00:01\r\u001b[K     |████▊                           | 133kB 9.6MB/s eta 0:00:01\r\u001b[K     |█████                           | 143kB 9.6MB/s eta 0:00:01\r\u001b[K     |█████▍                          | 153kB 9.6MB/s eta 0:00:01\r\u001b[K     |█████▉                          | 163kB 9.6MB/s eta 0:00:01\r\u001b[K     |██████▏                         | 174kB 9.6MB/s eta 0:00:01\r\u001b[K     |██████▌                         | 184kB 9.6MB/s eta 0:00:01\r\u001b[K     |██████▉                         | 194kB 9.6MB/s eta 0:00:01\r\u001b[K     |███████▎                        | 204kB 9.6MB/s eta 0:00:01\r\u001b[K     |███████▋                        | 215kB 9.6MB/s eta 0:00:01\r\u001b[K     |████████                        | 225kB 9.6MB/s eta 0:00:01\r\u001b[K     |████████▎                       | 235kB 9.6MB/s eta 0:00:01\r\u001b[K     |████████▊                       | 245kB 9.6MB/s eta 0:00:01\r\u001b[K     |█████████                       | 256kB 9.6MB/s eta 0:00:01\r\u001b[K     |█████████▍                      | 266kB 9.6MB/s eta 0:00:01\r\u001b[K     |█████████▉                      | 276kB 9.6MB/s eta 0:00:01\r\u001b[K     |██████████▏                     | 286kB 9.6MB/s eta 0:00:01\r\u001b[K     |██████████▌                     | 296kB 9.6MB/s eta 0:00:01\r\u001b[K     |██████████▉                     | 307kB 9.6MB/s eta 0:00:01\r\u001b[K     |███████████▎                    | 317kB 9.6MB/s eta 0:00:01\r\u001b[K     |███████████▋                    | 327kB 9.6MB/s eta 0:00:01\r\u001b[K     |████████████                    | 337kB 9.6MB/s eta 0:00:01\r\u001b[K     |████████████▎                   | 348kB 9.6MB/s eta 0:00:01\r\u001b[K     |████████████▊                   | 358kB 9.6MB/s eta 0:00:01\r\u001b[K     |█████████████                   | 368kB 9.6MB/s eta 0:00:01\r\u001b[K     |█████████████▍                  | 378kB 9.6MB/s eta 0:00:01\r\u001b[K     |█████████████▊                  | 389kB 9.6MB/s eta 0:00:01\r\u001b[K     |██████████████▏                 | 399kB 9.6MB/s eta 0:00:01\r\u001b[K     |██████████████▌                 | 409kB 9.6MB/s eta 0:00:01\r\u001b[K     |██████████████▉                 | 419kB 9.6MB/s eta 0:00:01\r\u001b[K     |███████████████▏                | 430kB 9.6MB/s eta 0:00:01\r\u001b[K     |███████████████▋                | 440kB 9.6MB/s eta 0:00:01\r\u001b[K     |████████████████                | 450kB 9.6MB/s eta 0:00:01\r\u001b[K     |████████████████▎               | 460kB 9.6MB/s eta 0:00:01\r\u001b[K     |████████████████▋               | 471kB 9.6MB/s eta 0:00:01\r\u001b[K     |█████████████████               | 481kB 9.6MB/s eta 0:00:01\r\u001b[K     |█████████████████▍              | 491kB 9.6MB/s eta 0:00:01\r\u001b[K     |█████████████████▊              | 501kB 9.6MB/s eta 0:00:01\r\u001b[K     |██████████████████▏             | 512kB 9.6MB/s eta 0:00:01\r\u001b[K     |██████████████████▌             | 522kB 9.6MB/s eta 0:00:01\r\u001b[K     |██████████████████▉             | 532kB 9.6MB/s eta 0:00:01\r\u001b[K     |███████████████████▏            | 542kB 9.6MB/s eta 0:00:01\r\u001b[K     |███████████████████▋            | 552kB 9.6MB/s eta 0:00:01\r\u001b[K     |████████████████████            | 563kB 9.6MB/s eta 0:00:01\r\u001b[K     |████████████████████▎           | 573kB 9.6MB/s eta 0:00:01\r\u001b[K     |████████████████████▋           | 583kB 9.6MB/s eta 0:00:01\r\u001b[K     |█████████████████████           | 593kB 9.6MB/s eta 0:00:01\r\u001b[K     |█████████████████████▍          | 604kB 9.6MB/s eta 0:00:01\r\u001b[K     |█████████████████████▊          | 614kB 9.6MB/s eta 0:00:01\r\u001b[K     |██████████████████████          | 624kB 9.6MB/s eta 0:00:01\r\u001b[K     |██████████████████████▌         | 634kB 9.6MB/s eta 0:00:01\r\u001b[K     |██████████████████████▉         | 645kB 9.6MB/s eta 0:00:01\r\u001b[K     |███████████████████████▏        | 655kB 9.6MB/s eta 0:00:01\r\u001b[K     |███████████████████████▌        | 665kB 9.6MB/s eta 0:00:01\r\u001b[K     |████████████████████████        | 675kB 9.6MB/s eta 0:00:01\r\u001b[K     |████████████████████████▎       | 686kB 9.6MB/s eta 0:00:01\r\u001b[K     |████████████████████████▋       | 696kB 9.6MB/s eta 0:00:01\r\u001b[K     |█████████████████████████       | 706kB 9.6MB/s eta 0:00:01\r\u001b[K     |█████████████████████████▍      | 716kB 9.6MB/s eta 0:00:01\r\u001b[K     |█████████████████████████▊      | 727kB 9.6MB/s eta 0:00:01\r\u001b[K     |██████████████████████████      | 737kB 9.6MB/s eta 0:00:01\r\u001b[K     |██████████████████████████▍     | 747kB 9.6MB/s eta 0:00:01\r\u001b[K     |██████████████████████████▉     | 757kB 9.6MB/s eta 0:00:01\r\u001b[K     |███████████████████████████▏    | 768kB 9.6MB/s eta 0:00:01\r\u001b[K     |███████████████████████████▌    | 778kB 9.6MB/s eta 0:00:01\r\u001b[K     |████████████████████████████    | 788kB 9.6MB/s eta 0:00:01\r\u001b[K     |████████████████████████████▎   | 798kB 9.6MB/s eta 0:00:01\r\u001b[K     |████████████████████████████▋   | 808kB 9.6MB/s eta 0:00:01\r\u001b[K     |█████████████████████████████   | 819kB 9.6MB/s eta 0:00:01\r\u001b[K     |█████████████████████████████▍  | 829kB 9.6MB/s eta 0:00:01\r\u001b[K     |█████████████████████████████▊  | 839kB 9.6MB/s eta 0:00:01\r\u001b[K     |██████████████████████████████  | 849kB 9.6MB/s eta 0:00:01\r\u001b[K     |██████████████████████████████▍ | 860kB 9.6MB/s eta 0:00:01\r\u001b[K     |██████████████████████████████▉ | 870kB 9.6MB/s eta 0:00:01\r\u001b[K     |███████████████████████████████▏| 880kB 9.6MB/s eta 0:00:01\r\u001b[K     |███████████████████████████████▌| 890kB 9.6MB/s eta 0:00:01\r\u001b[K     |███████████████████████████████▉| 901kB 9.6MB/s eta 0:00:01\r\u001b[K     |████████████████████████████████| 911kB 9.6MB/s \n",
            "\u001b[?25hRequirement already satisfied: urllib3 in /usr/local/lib/python3.6/dist-packages (from selenium) (1.24.3)\n",
            "Installing collected packages: selenium\n",
            "Successfully installed selenium-3.141.0\n"
          ],
          "name": "stdout"
        }
      ]
    },
    {
      "cell_type": "code",
      "metadata": {
        "id": "1zg6j1vI4_3j",
        "colab": {
          "base_uri": "https://localhost:8080/",
          "height": 717
        },
        "outputId": "393adcb3-0c06-43b4-ea1a-e6077b3da29d"
      },
      "source": [
        "# Our chrome driver, default chrome downloaded by pyppeteer does not work as expected\n",
        "!apt install chromium-chromedriver"
      ],
      "execution_count": null,
      "outputs": [
        {
          "output_type": "stream",
          "text": [
            "Reading package lists... Done\n",
            "Building dependency tree       \n",
            "Reading state information... Done\n",
            "The following additional packages will be installed:\n",
            "  chromium-browser chromium-browser-l10n chromium-codecs-ffmpeg-extra\n",
            "Suggested packages:\n",
            "  webaccounts-chromium-extension unity-chromium-extension adobe-flashplugin\n",
            "The following NEW packages will be installed:\n",
            "  chromium-browser chromium-browser-l10n chromium-chromedriver\n",
            "  chromium-codecs-ffmpeg-extra\n",
            "0 upgraded, 4 newly installed, 0 to remove and 35 not upgraded.\n",
            "Need to get 71.9 MB of archives.\n",
            "After this operation, 257 MB of additional disk space will be used.\n",
            "Get:1 http://archive.ubuntu.com/ubuntu bionic-updates/universe amd64 chromium-codecs-ffmpeg-extra amd64 78.0.3904.70-0ubuntu0.18.04.2 [1,078 kB]\n",
            "Get:2 http://archive.ubuntu.com/ubuntu bionic-updates/universe amd64 chromium-browser amd64 78.0.3904.70-0ubuntu0.18.04.2 [63.3 MB]\n",
            "Get:3 http://archive.ubuntu.com/ubuntu bionic-updates/universe amd64 chromium-browser-l10n all 78.0.3904.70-0ubuntu0.18.04.2 [3,073 kB]\n",
            "Get:4 http://archive.ubuntu.com/ubuntu bionic-updates/universe amd64 chromium-chromedriver amd64 78.0.3904.70-0ubuntu0.18.04.2 [4,465 kB]\n",
            "Fetched 71.9 MB in 1s (52.2 MB/s)\n",
            "Selecting previously unselected package chromium-codecs-ffmpeg-extra.\n",
            "(Reading database ... 132684 files and directories currently installed.)\n",
            "Preparing to unpack .../chromium-codecs-ffmpeg-extra_78.0.3904.70-0ubuntu0.18.04.2_amd64.deb ...\n",
            "Unpacking chromium-codecs-ffmpeg-extra (78.0.3904.70-0ubuntu0.18.04.2) ...\n",
            "Selecting previously unselected package chromium-browser.\n",
            "Preparing to unpack .../chromium-browser_78.0.3904.70-0ubuntu0.18.04.2_amd64.deb ...\n",
            "Unpacking chromium-browser (78.0.3904.70-0ubuntu0.18.04.2) ...\n",
            "Selecting previously unselected package chromium-browser-l10n.\n",
            "Preparing to unpack .../chromium-browser-l10n_78.0.3904.70-0ubuntu0.18.04.2_all.deb ...\n",
            "Unpacking chromium-browser-l10n (78.0.3904.70-0ubuntu0.18.04.2) ...\n",
            "Selecting previously unselected package chromium-chromedriver.\n",
            "Preparing to unpack .../chromium-chromedriver_78.0.3904.70-0ubuntu0.18.04.2_amd64.deb ...\n",
            "Unpacking chromium-chromedriver (78.0.3904.70-0ubuntu0.18.04.2) ...\n",
            "Processing triggers for mime-support (3.60ubuntu1) ...\n",
            "Setting up chromium-codecs-ffmpeg-extra (78.0.3904.70-0ubuntu0.18.04.2) ...\n",
            "Processing triggers for man-db (2.8.3-2ubuntu0.1) ...\n",
            "Processing triggers for hicolor-icon-theme (0.17-2) ...\n",
            "Setting up chromium-browser (78.0.3904.70-0ubuntu0.18.04.2) ...\n",
            "update-alternatives: using /usr/bin/chromium-browser to provide /usr/bin/x-www-browser (x-www-browser) in auto mode\n",
            "update-alternatives: using /usr/bin/chromium-browser to provide /usr/bin/gnome-www-browser (gnome-www-browser) in auto mode\n",
            "Setting up chromium-chromedriver (78.0.3904.70-0ubuntu0.18.04.2) ...\n",
            "Setting up chromium-browser-l10n (78.0.3904.70-0ubuntu0.18.04.2) ...\n"
          ],
          "name": "stdout"
        }
      ]
    },
    {
      "cell_type": "code",
      "metadata": {
        "id": "Lmr1l7_V1QMO"
      },
      "source": [
        "from selenium import webdriver"
      ],
      "execution_count": null,
      "outputs": []
    },
    {
      "cell_type": "code",
      "metadata": {
        "id": "FQZpyZ9c0SCX"
      },
      "source": [
        "# The page we want to scrap for analysis\n",
        "# Not a good example for a JS heavy page but useful\n",
        "url = 'http://example.com'"
      ],
      "execution_count": null,
      "outputs": []
    },
    {
      "cell_type": "code",
      "metadata": {
        "id": "EESE6m3FbWtv"
      },
      "source": [
        "options = webdriver.ChromeOptions()\n",
        "options.add_argument('--headless')\n",
        "options.add_argument('--no-sandbox')\n",
        "options.add_argument('--disable-dev-shm-usage')"
      ],
      "execution_count": null,
      "outputs": []
    },
    {
      "cell_type": "code",
      "metadata": {
        "id": "rQUjpTQtbRYT"
      },
      "source": [
        "wd = webdriver.Chrome('chromedriver', options=options)\n",
        "wd.get(url)"
      ],
      "execution_count": null,
      "outputs": []
    },
    {
      "cell_type": "code",
      "metadata": {
        "id": "p7bFxYfp1IWa"
      },
      "source": [
        "# Our HTML parser, that we'll use later for\n",
        "soup = BeautifulSoup(str(wd.page_source), 'html.parser')"
      ],
      "execution_count": null,
      "outputs": []
    },
    {
      "cell_type": "code",
      "metadata": {
        "id": "OZzZlSmu5lE8",
        "colab": {
          "base_uri": "https://localhost:8080/",
          "height": 34
        },
        "outputId": "ccd42b36-4bb4-49de-9aa1-04522d921864"
      },
      "source": [
        "h1 = soup(\"h1\")\n",
        "print(h1)"
      ],
      "execution_count": null,
      "outputs": [
        {
          "output_type": "stream",
          "text": [
            "[<h1>Example Domain</h1>]\n"
          ],
          "name": "stdout"
        }
      ]
    },
    {
      "cell_type": "code",
      "metadata": {
        "id": "ba4zH-Tw6hdn",
        "colab": {
          "base_uri": "https://localhost:8080/",
          "height": 34
        },
        "outputId": "222242dd-24ab-4d30-f9a0-95b060227860"
      },
      "source": [
        "for h in h1:\n",
        "  # Print each H1 heading and the length\n",
        "  print(f\"{h} ({len(h.text)})\")"
      ],
      "execution_count": null,
      "outputs": [
        {
          "output_type": "stream",
          "text": [
            "<h1>Example Domain</h1> (14)\n"
          ],
          "name": "stdout"
        }
      ]
    },
    {
      "cell_type": "code",
      "metadata": {
        "id": "drkCvTed6UQL",
        "colab": {
          "base_uri": "https://localhost:8080/",
          "height": 68
        },
        "outputId": "cd01d24f-6b6a-495f-f489-7502a65e8faf"
      },
      "source": [
        "paragraphs = soup(\"p\")\n",
        "\n",
        "for p in paragraphs:\n",
        "  print(f\"{p} ({len(p.text)})\")"
      ],
      "execution_count": null,
      "outputs": [
        {
          "output_type": "stream",
          "text": [
            "<p>This domain is for use in illustrative examples in documents. You may use this\n",
            "    domain in literature without prior coordination or asking for permission.</p> (156)\n",
            "<p><a href=\"https://www.iana.org/domains/example\">More information...</a></p> (19)\n"
          ],
          "name": "stdout"
        }
      ]
    }
  ]
}