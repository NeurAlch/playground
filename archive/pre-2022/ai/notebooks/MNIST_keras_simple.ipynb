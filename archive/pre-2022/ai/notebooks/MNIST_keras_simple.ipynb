{
  "nbformat": 4,
  "nbformat_minor": 0,
  "metadata": {
    "colab": {
      "name": "MNIST_keras_simple",
      "provenance": [],
      "collapsed_sections": []
    },
    "kernelspec": {
      "name": "python3",
      "display_name": "Python 3"
    },
    "language_info": {
      "name": "python"
    }
  },
  "cells": [
    {
      "cell_type": "code",
      "metadata": {
        "id": "AGl1HegGBkul"
      },
      "source": [
        "import numpy as np\n",
        "import tensorflow as tf\n",
        "import matplotlib.pyplot as plt\n",
        "from keras.utils import to_categorical\n",
        "from tensorflow.keras import layers, models"
      ],
      "execution_count": null,
      "outputs": []
    },
    {
      "cell_type": "code",
      "metadata": {
        "id": "CIQDkgh8Brz1"
      },
      "source": [
        "(train_images, train_labels), (test_images, test_labels) = tf.keras.datasets.mnist.load_data()"
      ],
      "execution_count": null,
      "outputs": []
    },
    {
      "cell_type": "code",
      "metadata": {
        "colab": {
          "base_uri": "https://localhost:8080/"
        },
        "id": "4PjMs8HCCE4V",
        "outputId": "dfe86611-3cd0-4558-b3c7-e6ef9259a043"
      },
      "source": [
        "train_images.shape, train_labels.shape"
      ],
      "execution_count": null,
      "outputs": [
        {
          "output_type": "execute_result",
          "data": {
            "text/plain": [
              "((60000, 28, 28), (60000,))"
            ]
          },
          "metadata": {
            "tags": []
          },
          "execution_count": 20
        }
      ]
    },
    {
      "cell_type": "code",
      "metadata": {
        "colab": {
          "base_uri": "https://localhost:8080/"
        },
        "id": "TZmd6BOWH6LO",
        "outputId": "7222ddf5-1b57-4b48-d936-8f2bd3e38de0"
      },
      "source": [
        "test_images.shape, test_labels.shape"
      ],
      "execution_count": null,
      "outputs": [
        {
          "output_type": "execute_result",
          "data": {
            "text/plain": [
              "((10000, 28, 28), (10000,))"
            ]
          },
          "metadata": {
            "tags": []
          },
          "execution_count": 21
        }
      ]
    },
    {
      "cell_type": "code",
      "metadata": {
        "colab": {
          "base_uri": "https://localhost:8080/",
          "height": 260
        },
        "id": "SIMBZwIuJfGw",
        "outputId": "dab6c982-4d1f-4f83-dcae-a717d642c9ec"
      },
      "source": [
        "w = 10\n",
        "h = 10\n",
        "rows = 2\n",
        "columns = 4\n",
        "fig = plt.figure(figsize=(5, 5))\n",
        "\n",
        "for i in range(1, columns * rows + 1):\n",
        "    digit = train_images[i]\n",
        "    fig.add_subplot(rows, columns, i)\n",
        "    plt.imshow(digit, cmap=plt.cm.binary)\n",
        "\n",
        "plt.show()"
      ],
      "execution_count": null,
      "outputs": [
        {
          "output_type": "display_data",
          "data": {
            "image/png": "[encoded data removed]",
            "text/plain": [
              "<Figure size 360x360 with 8 Axes>"
            ]
          },
          "metadata": {
            "tags": [],
            "needs_background": "light"
          }
        }
      ]
    },
    {
      "cell_type": "code",
      "metadata": {
        "id": "96L2UYA9HsNv"
      },
      "source": [
        "train_images = train_images.reshape((60000, 28 * 28))\n",
        "train_images = train_images.astype('float32') / 255"
      ],
      "execution_count": null,
      "outputs": []
    },
    {
      "cell_type": "code",
      "metadata": {
        "colab": {
          "base_uri": "https://localhost:8080/"
        },
        "id": "4QRY_kHRSJn4",
        "outputId": "4d4020d8-2da1-430f-c7bc-8ef4f48e53ff"
      },
      "source": [
        "network.summary()"
      ],
      "execution_count": null,
      "outputs": [
        {
          "output_type": "stream",
          "text": [
            "Model: \"sequential_1\"\n",
            "_________________________________________________________________\n",
            "Layer (type)                 Output Shape              Param #   \n",
            "=================================================================\n",
            "dense_2 (Dense)              (None, 512)               401920    \n",
            "_________________________________________________________________\n",
            "dropout_2 (Dropout)          (None, 512)               0         \n",
            "_________________________________________________________________\n",
            "dense_3 (Dense)              (None, 10)                5130      \n",
            "=================================================================\n",
            "Total params: 407,050\n",
            "Trainable params: 407,050\n",
            "Non-trainable params: 0\n",
            "_________________________________________________________________\n"
          ],
          "name": "stdout"
        }
      ]
    },
    {
      "cell_type": "code",
      "metadata": {
        "id": "eWjg036nH0hs"
      },
      "source": [
        "test_images = test_images.reshape((10000, 28 * 28))\n",
        "test_images = test_images.astype('float32') / 255"
      ],
      "execution_count": null,
      "outputs": []
    },
    {
      "cell_type": "code",
      "metadata": {
        "colab": {
          "base_uri": "https://localhost:8080/"
        },
        "id": "0YCenyZUT5dG",
        "outputId": "32c3aeaf-5fb9-4e78-98c1-2669ddbef654"
      },
      "source": [
        "train_images.shape, test_images.shape"
      ],
      "execution_count": null,
      "outputs": [
        {
          "output_type": "execute_result",
          "data": {
            "text/plain": [
              "((60000, 784), (10000, 784))"
            ]
          },
          "metadata": {
            "tags": []
          },
          "execution_count": 40
        }
      ]
    },
    {
      "cell_type": "code",
      "metadata": {
        "id": "JFHQ65oEIQzX"
      },
      "source": [
        "# to_categorical: converts class vector to binary class matrix, used with categorical_crossentropy\n",
        "\n",
        "train_labels = to_categorical(train_labels)\n",
        "test_labels = to_categorical(test_labels)"
      ],
      "execution_count": null,
      "outputs": []
    },
    {
      "cell_type": "code",
      "metadata": {
        "colab": {
          "base_uri": "https://localhost:8080/"
        },
        "id": "C9vw-gidIiS4",
        "outputId": "13873863-6423-470e-ac98-051a644fe1c4"
      },
      "source": [
        "train_labels.shape, test_labels.shape"
      ],
      "execution_count": null,
      "outputs": [
        {
          "output_type": "execute_result",
          "data": {
            "text/plain": [
              "((60000, 10), (10000, 10))"
            ]
          },
          "metadata": {
            "tags": []
          },
          "execution_count": 29
        }
      ]
    },
    {
      "cell_type": "code",
      "metadata": {
        "colab": {
          "base_uri": "https://localhost:8080/"
        },
        "id": "ok2sP0UWUHLt",
        "outputId": "4c5e7e72-995b-4f87-bad5-b5001d965fcd"
      },
      "source": [
        "train_labels[0]"
      ],
      "execution_count": null,
      "outputs": [
        {
          "output_type": "execute_result",
          "data": {
            "text/plain": [
              "array([0., 0., 0., 0., 0., 1., 0., 0., 0., 0.], dtype=float32)"
            ]
          },
          "metadata": {
            "tags": []
          },
          "execution_count": 41
        }
      ]
    },
    {
      "cell_type": "code",
      "metadata": {
        "id": "xVYWnWCsCKwg"
      },
      "source": [
        "network = models.Sequential()\n",
        "\n",
        "network.add(layers.Dense(\n",
        "    units=512, \n",
        "    # Output units, connected to the to the previous layer.\n",
        "    # Every unit in the layer is connected to every unit in the previous layer, \n",
        "    # through a single connection that carries a weight (which can be positive or negative).\n",
        "    # The output from a given unit is the weighted sum of the input it receives from the previous layer, \n",
        "    # which is then passed through a nonlinear activation function before being sent to the following layer. \n",
        "    # The activation function is critical to ensure the neural network is able to learn complex functions and doesn’t just output a linear combination of its input.\n",
        "    activation='relu', \n",
        "    input_shape=(28 * 28,) # weight matrix (28*28, 512)\n",
        "))\n",
        "\n",
        "# network.add(layers.Dropout(0.5))\n",
        "# network.add(layers.Dense(\n",
        "#    units=512/4, # output units    \n",
        "#    activation='relu'\n",
        "# ))\n",
        "\n",
        "network.add(layers.Dropout(0.1))\n",
        "\n",
        "network.add(layers.Dense(\n",
        "    units=10, # output units\n",
        "    activation='softmax'\n",
        "))"
      ],
      "execution_count": null,
      "outputs": []
    },
    {
      "cell_type": "code",
      "metadata": {
        "id": "FPyStkdOCl4l"
      },
      "source": [
        "network.compile(\n",
        "    optimizer='rmsprop', # How the network will be able to measure its performance on the training data, and thus how it will be able to steer itself in the right direction. \n",
        "    loss='categorical_crossentropy', # The mechanism through which the network will update itself based on the data it sees and its loss function. \n",
        "    metrics=['accuracy'] # To monitor during training and testing\n",
        ")"
      ],
      "execution_count": null,
      "outputs": []
    },
    {
      "cell_type": "code",
      "metadata": {
        "colab": {
          "base_uri": "https://localhost:8080/"
        },
        "id": "2TZd88oDIx5J",
        "outputId": "5d6bc9ac-571c-45bf-ba90-6f6060121e0f"
      },
      "source": [
        "network.fit(train_images, train_labels, epochs=5, batch_size=128)"
      ],
      "execution_count": null,
      "outputs": [
        {
          "output_type": "stream",
          "text": [
            "Epoch 1/5\n",
            "469/469 [==============================] - 5s 11ms/step - loss: 0.0064 - accuracy: 0.9981\n",
            "Epoch 2/5\n",
            "469/469 [==============================] - 5s 12ms/step - loss: 0.0059 - accuracy: 0.9980\n",
            "Epoch 3/5\n",
            "469/469 [==============================] - 5s 11ms/step - loss: 0.0057 - accuracy: 0.9983\n",
            "Epoch 4/5\n",
            "469/469 [==============================] - 5s 12ms/step - loss: 0.0042 - accuracy: 0.9985\n",
            "Epoch 5/5\n",
            "469/469 [==============================] - 6s 12ms/step - loss: 0.0040 - accuracy: 0.9988\n"
          ],
          "name": "stdout"
        },
        {
          "output_type": "execute_result",
          "data": {
            "text/plain": [
              "<tensorflow.python.keras.callbacks.History at 0x7f33de5f1f10>"
            ]
          },
          "metadata": {
            "tags": []
          },
          "execution_count": 35
        }
      ]
    },
    {
      "cell_type": "code",
      "metadata": {
        "colab": {
          "base_uri": "https://localhost:8080/"
        },
        "id": "YXuw6IcBJD_v",
        "outputId": "00ba5ce3-ff85-4d8c-8f4e-41847d6df342"
      },
      "source": [
        "test_loss, test_acc = network.evaluate(test_images, test_labels)\n",
        "test_acc"
      ],
      "execution_count": null,
      "outputs": [
        {
          "output_type": "stream",
          "text": [
            "313/313 [==============================] - 1s 2ms/step - loss: 0.0856 - accuracy: 0.9829\n"
          ],
          "name": "stdout"
        },
        {
          "output_type": "execute_result",
          "data": {
            "text/plain": [
              "0.9829000234603882"
            ]
          },
          "metadata": {
            "tags": []
          },
          "execution_count": 36
        }
      ]
    },
    {
      "cell_type": "code",
      "metadata": {
        "id": "9isg3M3uTBmC"
      },
      "source": [
        "img = test_images[0]\n",
        "img = np.array([img])\n",
        "predictions_single = network.predict(img)"
      ],
      "execution_count": null,
      "outputs": []
    },
    {
      "cell_type": "code",
      "metadata": {
        "colab": {
          "base_uri": "https://localhost:8080/",
          "height": 265
        },
        "id": "Wcm92A5_TePh",
        "outputId": "2aaa2eff-63a6-49ac-9225-79390649b1d3"
      },
      "source": [
        "digit = np.reshape(test_images[0], (28, 28))\n",
        "plt.imshow(digit, cmap=plt.cm.binary)\n",
        "plt.show()"
      ],
      "execution_count": null,
      "outputs": [
        {
          "output_type": "display_data",
          "data": {
            "image/png": "[encoded data removed]",
            "text/plain": [
              "<Figure size 432x288 with 1 Axes>"
            ]
          },
          "metadata": {
            "tags": [],
            "needs_background": "light"
          }
        }
      ]
    },
    {
      "cell_type": "code",
      "metadata": {
        "colab": {
          "base_uri": "https://localhost:8080/"
        },
        "id": "1mpgq2IeTPL1",
        "outputId": "de252a4f-88aa-47d0-cf8f-4e0e8d21dd96"
      },
      "source": [
        "np.argmax(predictions_single[0])"
      ],
      "execution_count": null,
      "outputs": [
        {
          "output_type": "execute_result",
          "data": {
            "text/plain": [
              "7"
            ]
          },
          "metadata": {
            "tags": []
          },
          "execution_count": 39
        }
      ]
    }
  ]
}