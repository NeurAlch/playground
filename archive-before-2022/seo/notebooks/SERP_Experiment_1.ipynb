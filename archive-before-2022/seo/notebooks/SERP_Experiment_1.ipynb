{
  "nbformat": 4,
  "nbformat_minor": 0,
  "metadata": {
    "colab": {
      "name": "SERP Experiment 1",
      "provenance": [],
      "collapsed_sections": [],
      "machine_shape": "hm"
    },
    "kernelspec": {
      "name": "python3",
      "display_name": "Python 3"
    },
    "language_info": {
      "name": "python"
    }
  },
  "cells": [
    {
      "cell_type": "markdown",
      "metadata": {
        "id": "EfFzkeyx7wrm"
      },
      "source": [
        "# Simple word correlation for SERPs\n",
        "\n",
        "By Pablo Rosales"
      ]
    },
    {
      "cell_type": "markdown",
      "metadata": {
        "id": "JGHipLx226CY"
      },
      "source": [
        "Set project name for Google Drive directory"
      ]
    },
    {
      "cell_type": "code",
      "metadata": {
        "id": "MMjC06gc29Ai"
      },
      "source": [
        "PROJECT_NAME = 'coffee machine'"
      ],
      "execution_count": null,
      "outputs": []
    },
    {
      "cell_type": "markdown",
      "metadata": {
        "id": "-jcyjBFfPhpA"
      },
      "source": [
        "# Configurations for D4S"
      ]
    },
    {
      "cell_type": "markdown",
      "metadata": {
        "id": "HzKMOVP0C5rZ"
      },
      "source": [
        "Set your D4S email in this variable."
      ]
    },
    {
      "cell_type": "code",
      "metadata": {
        "id": "vHtZzqSLNUOl"
      },
      "source": [
        "D4S_API_EMAIL = 'code@pablorosales.xyz'\n",
        "LANGUAGE = 'English'\n",
        "LOCATION = 'United States'"
      ],
      "execution_count": null,
      "outputs": []
    },
    {
      "cell_type": "markdown",
      "metadata": {
        "id": "K7yusaXQSjXP"
      },
      "source": [
        "Run this cell and enter your D4S API password:"
      ]
    },
    {
      "cell_type": "code",
      "metadata": {
        "id": "YLId1rvTScyB",
        "colab": {
          "base_uri": "https://localhost:8080/"
        },
        "outputId": "c4eac9f4-ee82-46e0-e7a4-4b678b7fc3c9"
      },
      "source": [
        "from getpass import getpass\n",
        "D4S_API_PASSWORD = getpass()"
      ],
      "execution_count": null,
      "outputs": [
        {
          "name": "stdout",
          "output_type": "stream",
          "text": [
            "··········\n"
          ]
        }
      ]
    },
    {
      "cell_type": "markdown",
      "metadata": {
        "id": "kfS7j9IG0nNV"
      },
      "source": [
        "# Google Drive mount"
      ]
    },
    {
      "cell_type": "code",
      "metadata": {
        "colab": {
          "base_uri": "https://localhost:8080/"
        },
        "id": "gK57EqVA0oxO",
        "outputId": "98b6df44-01bc-47a2-d323-82b8be662632"
      },
      "source": [
        "from google.colab import drive\n",
        "\n",
        "drive.mount('/content/drive')"
      ],
      "execution_count": null,
      "outputs": [
        {
          "output_type": "stream",
          "name": "stdout",
          "text": [
            "Mounted at /content/drive\n"
          ]
        }
      ]
    },
    {
      "cell_type": "markdown",
      "metadata": {
        "id": "SL8cL0jOPD1h"
      },
      "source": [
        "# Installs"
      ]
    },
    {
      "cell_type": "code",
      "metadata": {
        "id": "qE2cURgHJNdu",
        "colab": {
          "base_uri": "https://localhost:8080/"
        },
        "outputId": "b205d3d7-db23-48a7-dc45-7390aab04a98"
      },
      "source": [
        "!apt -qq install chromium-chromedriver"
      ],
      "execution_count": null,
      "outputs": [
        {
          "output_type": "stream",
          "name": "stdout",
          "text": [
            "The following additional packages will be installed:\n",
            "  chromium-browser chromium-browser-l10n chromium-codecs-ffmpeg-extra\n",
            "Suggested packages:\n",
            "  webaccounts-chromium-extension unity-chromium-extension\n",
            "The following NEW packages will be installed:\n",
            "  chromium-browser chromium-browser-l10n chromium-chromedriver\n",
            "  chromium-codecs-ffmpeg-extra\n",
            "0 upgraded, 4 newly installed, 0 to remove and 40 not upgraded.\n",
            "Need to get 91.8 MB of archives.\n",
            "After this operation, 315 MB of additional disk space will be used.\n",
            "Selecting previously unselected package chromium-codecs-ffmpeg-extra.\n",
            "(Reading database ... 148492 files and directories currently installed.)\n",
            "Preparing to unpack .../chromium-codecs-ffmpeg-extra_92.0.4515.159-0ubuntu0.18.04.1_amd64.deb ...\n",
            "Unpacking chromium-codecs-ffmpeg-extra (92.0.4515.159-0ubuntu0.18.04.1) ...\n",
            "Selecting previously unselected package chromium-browser.\n",
            "Preparing to unpack .../chromium-browser_92.0.4515.159-0ubuntu0.18.04.1_amd64.deb ...\n",
            "Unpacking chromium-browser (92.0.4515.159-0ubuntu0.18.04.1) ...\n",
            "Selecting previously unselected package chromium-browser-l10n.\n",
            "Preparing to unpack .../chromium-browser-l10n_92.0.4515.159-0ubuntu0.18.04.1_all.deb ...\n",
            "Unpacking chromium-browser-l10n (92.0.4515.159-0ubuntu0.18.04.1) ...\n",
            "Selecting previously unselected package chromium-chromedriver.\n",
            "Preparing to unpack .../chromium-chromedriver_92.0.4515.159-0ubuntu0.18.04.1_amd64.deb ...\n",
            "Unpacking chromium-chromedriver (92.0.4515.159-0ubuntu0.18.04.1) ...\n",
            "Setting up chromium-codecs-ffmpeg-extra (92.0.4515.159-0ubuntu0.18.04.1) ...\n",
            "Setting up chromium-browser (92.0.4515.159-0ubuntu0.18.04.1) ...\n",
            "update-alternatives: using /usr/bin/chromium-browser to provide /usr/bin/x-www-browser (x-www-browser) in auto mode\n",
            "update-alternatives: using /usr/bin/chromium-browser to provide /usr/bin/gnome-www-browser (gnome-www-browser) in auto mode\n",
            "Setting up chromium-chromedriver (92.0.4515.159-0ubuntu0.18.04.1) ...\n",
            "Setting up chromium-browser-l10n (92.0.4515.159-0ubuntu0.18.04.1) ...\n",
            "Processing triggers for man-db (2.8.3-2ubuntu0.1) ...\n",
            "Processing triggers for hicolor-icon-theme (0.17-2) ...\n",
            "Processing triggers for mime-support (3.60ubuntu1) ...\n",
            "Processing triggers for libc-bin (2.27-3ubuntu1.2) ...\n",
            "/sbin/ldconfig.real: /usr/local/lib/python3.7/dist-packages/ideep4py/lib/libmkldnn.so.0 is not a symbolic link\n",
            "\n"
          ]
        }
      ]
    },
    {
      "cell_type": "code",
      "metadata": {
        "id": "NA_FOwHmPGfT",
        "colab": {
          "base_uri": "https://localhost:8080/"
        },
        "outputId": "77f5617b-280d-43d4-d397-0f69f8cf0708"
      },
      "source": [
        "!pip install pyppeteer --quiet"
      ],
      "execution_count": null,
      "outputs": [
        {
          "output_type": "stream",
          "name": "stdout",
          "text": [
            "\u001b[K     |████████████████████████████████| 83 kB 1.7 MB/s \n",
            "\u001b[K     |████████████████████████████████| 103 kB 20.4 MB/s \n",
            "\u001b[K     |████████████████████████████████| 138 kB 27.3 MB/s \n",
            "\u001b[31mERROR: pip's dependency resolver does not currently take into account all the packages that are installed. This behaviour is the source of the following dependency conflicts.\n",
            "requests 2.23.0 requires urllib3!=1.25.0,!=1.25.1,<1.26,>=1.21.1, but you have urllib3 1.26.6 which is incompatible.\n",
            "datascience 0.10.6 requires folium==0.2.1, but you have folium 0.8.3 which is incompatible.\u001b[0m\n",
            "\u001b[?25h"
          ]
        }
      ]
    },
    {
      "cell_type": "code",
      "metadata": {
        "id": "wgFlEm3dQBm8"
      },
      "source": [
        "!pip install nest-asyncio --quiet"
      ],
      "execution_count": null,
      "outputs": []
    },
    {
      "cell_type": "markdown",
      "metadata": {
        "id": "ijeQGo_cB8O4"
      },
      "source": [
        "# Imports"
      ]
    },
    {
      "cell_type": "code",
      "metadata": {
        "id": "9sUgEys2QFAo"
      },
      "source": [
        "import re\n",
        "import os\n",
        "import json\n",
        "import nltk\n",
        "import asyncio\n",
        "import hashlib\n",
        "import string\n",
        "import scipy\n",
        "import random\n",
        "import multiprocessing\n",
        "from collections import Counter\n",
        "from pyppeteer import launch\n",
        "from bs4 import BeautifulSoup\n",
        "import nest_asyncio\n",
        "from collections import defaultdict\n",
        "from http.client import HTTPSConnection\n",
        "from base64 import b64encode\n",
        "from json import loads, dumps, dump\n",
        "from datetime import datetime\n",
        "from pathlib import Path\n",
        "from gensim.models.word2vec import Word2Vec\n",
        "from gensim.models.phrases import Phraser, Phrases\n",
        "from sklearn.manifold import TSNE\n",
        "import matplotlib.pyplot as plt\n",
        "import pandas as pd\n",
        "import numpy as np\n",
        "import spacy\n",
        "\n",
        "import nest_asyncio\n",
        "nest_asyncio.apply()"
      ],
      "execution_count": null,
      "outputs": []
    },
    {
      "cell_type": "code",
      "metadata": {
        "colab": {
          "base_uri": "https://localhost:8080/"
        },
        "id": "p_jfocRaM3yB",
        "outputId": "6a565ee2-e16d-4979-9254-116913aeee50"
      },
      "source": [
        "nltk.download('punkt', quiet=True)"
      ],
      "execution_count": null,
      "outputs": [
        {
          "output_type": "execute_result",
          "data": {
            "text/plain": [
              "True"
            ]
          },
          "metadata": {},
          "execution_count": 38
        }
      ]
    },
    {
      "cell_type": "code",
      "metadata": {
        "colab": {
          "base_uri": "https://localhost:8080/"
        },
        "id": "JJ7ubqnHM7r2",
        "outputId": "ac18fa7b-8f83-4380-cb8b-44e34b23ee8e"
      },
      "source": [
        "cores = multiprocessing.cpu_count()\n",
        "cores"
      ],
      "execution_count": null,
      "outputs": [
        {
          "output_type": "execute_result",
          "data": {
            "text/plain": [
              "4"
            ]
          },
          "metadata": {},
          "execution_count": 41
        }
      ]
    },
    {
      "cell_type": "markdown",
      "metadata": {
        "id": "N9Bd-FCu4jzv"
      },
      "source": [
        "# Create project Dir"
      ]
    },
    {
      "cell_type": "code",
      "metadata": {
        "id": "l-5gtvas4dhZ"
      },
      "source": [
        "BASE_PATH = f'/content/drive/MyDrive/seosecretlab/{PROJECT_NAME}'\n",
        "\n",
        "if os.path.exists(BASE_PATH) == False:\n",
        "  os.mkdir(BASE_PATH)"
      ],
      "execution_count": null,
      "outputs": []
    },
    {
      "cell_type": "markdown",
      "metadata": {
        "id": "oRz9sAGxQw5A"
      },
      "source": [
        "# Keywords"
      ]
    },
    {
      "cell_type": "markdown",
      "metadata": {
        "id": "gFAMTS54TNQp"
      },
      "source": [
        "Enter one keyword per line."
      ]
    },
    {
      "cell_type": "code",
      "metadata": {
        "id": "C-3NM2o4QyNW"
      },
      "source": [
        "base_keywords = \"\"\"\n",
        "coffee machine recommendations\n",
        "coffee machine reviews\n",
        "best coffee machines\n",
        "\"\"\""
      ],
      "execution_count": null,
      "outputs": []
    },
    {
      "cell_type": "markdown",
      "metadata": {
        "id": "MPkvG0nwTRmJ"
      },
      "source": [
        "we'll cleanup our keywords now:"
      ]
    },
    {
      "cell_type": "code",
      "metadata": {
        "id": "AiUjyzFYTTaD",
        "colab": {
          "base_uri": "https://localhost:8080/"
        },
        "outputId": "9fd58824-4008-4d01-c0cb-ff579a4383fb"
      },
      "source": [
        "keywords = [kw for kw in base_keywords.split('\\n') if kw.strip() != \"\"]\n",
        "keywords"
      ],
      "execution_count": null,
      "outputs": [
        {
          "output_type": "execute_result",
          "data": {
            "text/plain": [
              "['coffee machine recommendations',\n",
              " 'coffee machine reviews',\n",
              " 'best coffee machines']"
            ]
          },
          "metadata": {},
          "execution_count": 11
        }
      ]
    },
    {
      "cell_type": "markdown",
      "metadata": {
        "id": "24aPOi7QDYe0"
      },
      "source": [
        "# Boilerplate for D4S"
      ]
    },
    {
      "cell_type": "code",
      "metadata": {
        "id": "IopfXIwkDaC6"
      },
      "source": [
        "today = datetime.today().strftime('%Y-%m-%d')\n",
        "today\n",
        "\n",
        "class RestClient:\n",
        "    domain = \"api.dataforseo.com\"\n",
        "\n",
        "    def __init__(self, username, password):\n",
        "        self.username = username\n",
        "        self.password = password\n",
        "\n",
        "    def request(self, path, method, data=None):\n",
        "        connection = HTTPSConnection(self.domain)\n",
        "        try:\n",
        "            base64_bytes = b64encode((\"%s:%s\" % (self.username, self.password)).encode(\"ascii\")).decode(\"ascii\")\n",
        "            headers = {'Authorization' : 'Basic %s' %  base64_bytes, 'Content-Encoding' : 'gzip'}\n",
        "            connection.request(method, path, headers=headers, body=data)\n",
        "            response = connection.getresponse()\n",
        "            return loads(response.read().decode())\n",
        "        finally:\n",
        "            connection.close()\n",
        "\n",
        "    def get(self, path):\n",
        "        return self.request(path, 'GET')\n",
        "\n",
        "    def post(self, path, data):\n",
        "        if isinstance(data, str):\n",
        "            data_str = data\n",
        "        else:\n",
        "            data_str = dumps(data)\n",
        "        return self.request(path, 'POST', data_str)\n",
        "\n",
        "\n",
        "async def get_serp(kw):\n",
        "    client = RestClient(D4S_API_EMAIL, D4S_API_PASSWORD)\n",
        "\n",
        "    post_data = dict()\n",
        "    post_data[len(post_data)] = dict(\n",
        "        language_name=LANGUAGE,\n",
        "        location_name=LOCATION,\n",
        "        keyword=kw\n",
        "    )\n",
        "        \n",
        "    try:\n",
        "        response = client.post(\"/v3/serp/google/organic/live/regular\", post_data)\n",
        "    except:\n",
        "        response = None\n",
        "        print(f'Error getting keyword {kw} SERP')\n",
        "\n",
        "    data = None\n",
        "\n",
        "    if response:    \n",
        "        if response[\"status_code\"] == 20000:\n",
        "            data = response['tasks'][0][\"result\"][0][\"items\"]    \n",
        "            for item in data:\n",
        "                item[\"keyword\"] = kw\n",
        "                item[\"date\"] = today   \n",
        "        else:\n",
        "            print(f\"error. Code: {response['status_code']} Message: {response['status_message']}\")\n",
        "    \n",
        "    return data\n",
        "\n",
        "\n",
        "async def get_multiple_serp(keywords):\n",
        "    limit = 0\n",
        "    tasks = []\n",
        "    results = []\n",
        "\n",
        "    for kw in keywords:\n",
        "        task = asyncio.create_task(get_serp(kw))\n",
        "        tasks.append(task)\n",
        "\n",
        "        if limit % 10:\n",
        "            current_results = await asyncio.gather(*tasks)\n",
        "\n",
        "            for current in current_results:\n",
        "                results.append(current)\n",
        "\n",
        "            tasks = []\n",
        "\n",
        "        limit += 1\n",
        "\n",
        "    if len(tasks) > 0:\n",
        "        current_results = await asyncio.gather(*tasks)\n",
        "        for current in current_results:\n",
        "            results.append(current)\n",
        "\n",
        "    return results"
      ],
      "execution_count": null,
      "outputs": []
    },
    {
      "cell_type": "markdown",
      "metadata": {
        "id": "7-rLZtxNQyzG"
      },
      "source": [
        "# Grab SERPs using D4S"
      ]
    },
    {
      "cell_type": "code",
      "metadata": {
        "id": "0qLn2j7MQ4-2"
      },
      "source": [
        "loop = asyncio.get_running_loop()\n",
        "results = loop.run_until_complete(get_multiple_serp(keywords))"
      ],
      "execution_count": null,
      "outputs": []
    },
    {
      "cell_type": "code",
      "metadata": {
        "id": "NMkCtsbVGwVx",
        "colab": {
          "base_uri": "https://localhost:8080/"
        },
        "outputId": "fb8b3e55-1a52-4e39-b076-bd54f4d9eefb"
      },
      "source": [
        "len(results)"
      ],
      "execution_count": null,
      "outputs": [
        {
          "output_type": "execute_result",
          "data": {
            "text/plain": [
              "3"
            ]
          },
          "metadata": {},
          "execution_count": 14
        }
      ]
    },
    {
      "cell_type": "code",
      "metadata": {
        "id": "_wM8kFv3HY23",
        "colab": {
          "base_uri": "https://localhost:8080/"
        },
        "outputId": "b91e0888-8787-4da4-a212-1fbb9218b9c9"
      },
      "source": [
        "len(results[0])"
      ],
      "execution_count": null,
      "outputs": [
        {
          "output_type": "execute_result",
          "data": {
            "text/plain": [
              "99"
            ]
          },
          "metadata": {},
          "execution_count": 15
        }
      ]
    },
    {
      "cell_type": "code",
      "metadata": {
        "id": "INq59Gv2RCl3",
        "colab": {
          "base_uri": "https://localhost:8080/"
        },
        "outputId": "68a5917d-1c71-4fcb-8999-08cf2fa6b4a0"
      },
      "source": [
        "{\n",
        "    'keyword': results[0][0]['keyword'], \n",
        "    'position': results[0][0]['rank_absolute'], \n",
        "    'url': results[0][0]['url'], \n",
        "    'title': results[0][0]['title'],\n",
        "    'description': results[0][0]['description'],\n",
        "}"
      ],
      "execution_count": null,
      "outputs": [
        {
          "output_type": "execute_result",
          "data": {
            "text/plain": [
              "{'description': \"Breville the Barista Express Espresso – Best overall.\\nKeurig K-Cafe – Best premium.\\nDe'Longhi Dedica Style – Best value.\\nMinimal Precision Pour-Over Stand – Best minimalist.\\nDe'Longhi Magnifica Bean-to-Cup – Most popular.\\nBraun Tassimo – Best under $100.\",\n",
              " 'keyword': 'coffee machine recommendations',\n",
              " 'position': 1,\n",
              " 'title': 'Be Your Own Barista With The 15 Best Coffee Makers - Luxe ...',\n",
              " 'url': 'https://luxe.digital/lifestyle/home/best-coffee-makers/'}"
            ]
          },
          "metadata": {},
          "execution_count": 16
        }
      ]
    },
    {
      "cell_type": "markdown",
      "metadata": {
        "id": "OLn7IElRIp9O"
      },
      "source": [
        "# Scraping boilerplate"
      ]
    },
    {
      "cell_type": "code",
      "metadata": {
        "id": "fyHPvvSDIru6"
      },
      "source": [
        "def get_url_pathname(url):\n",
        "    url_hash = hashlib.md5(url.encode('utf-8'))\n",
        "    return f'{BASE_PATH}/{url_hash.hexdigest()}.json'    \n",
        "\n",
        "\n",
        "async def get_html(url):\n",
        "    result = None\n",
        "    pathname = get_url_pathname(url)        \n",
        "    \n",
        "    if os.path.exists(pathname):\n",
        "        with open(pathname, \"r\") as f:\n",
        "            result = f.read()        \n",
        "        print(f'Loaded from cache file for {url}')\n",
        "        return json.loads(result)\n",
        "\n",
        "    print(f'Getting page for {url}')\n",
        "\n",
        "    browser = await launch({'executablePath':\"/usr/lib/chromium-browser/chromium-browser\", 'args': [\"--no-sandbox\"], 'headless': True, 'timeout': 3000})    \n",
        "    page = await browser.newPage()\n",
        "\n",
        "    html = ''\n",
        "\n",
        "    try:\n",
        "        await page.goto(url)\n",
        "        await page.waitFor(2000)\n",
        "        html = await page.content()\n",
        "    except:\n",
        "        html = ''\n",
        "    finally:\n",
        "        await page.close()\n",
        "        await browser.close()    \n",
        "\n",
        "    result = {\n",
        "        'html': html,\n",
        "        'url': url,\n",
        "    }    \n",
        "\n",
        "    with open(pathname, \"w\") as f:\n",
        "        f.write(json.dumps(result))\n",
        "\n",
        "    print(f'Finished with {url}')\n",
        "\n",
        "    return result\n",
        "\n",
        "\n",
        "async def scrap(urls):     \n",
        "    limit = 0\n",
        "    tasks = []\n",
        "    results = []\n",
        "\n",
        "    for url in urls:\n",
        "        task = asyncio.create_task(get_html(url))\n",
        "        tasks.append(task)\n",
        "\n",
        "        if limit % 4:\n",
        "            current_results = await asyncio.gather(*tasks)\n",
        "            for current in current_results:\n",
        "                results.append(current)\n",
        "            tasks = []\n",
        "\n",
        "        limit += 1\n",
        "\n",
        "    if len(tasks) > 0:\n",
        "        current_results = await asyncio.gather(*tasks)\n",
        "        for current in current_results:\n",
        "            results.append(current)\n",
        "\n",
        "    return results"
      ],
      "execution_count": null,
      "outputs": []
    },
    {
      "cell_type": "markdown",
      "metadata": {
        "id": "k47QzaTDQ-X1"
      },
      "source": [
        "# Grab HTML for our URLs\n"
      ]
    },
    {
      "cell_type": "code",
      "metadata": {
        "id": "3hE2KA0-RC4j",
        "colab": {
          "base_uri": "https://localhost:8080/"
        },
        "outputId": "8053189d-bc9f-4754-aa1e-1701c441f8f6"
      },
      "source": [
        "urls = []\n",
        "\n",
        "for serp in results:\n",
        "    for position in serp:\n",
        "        urls.append(position['url'])\n",
        "\n",
        "urls = list(set(urls))\n",
        "len(urls)"
      ],
      "execution_count": null,
      "outputs": [
        {
          "output_type": "execute_result",
          "data": {
            "text/plain": [
              "233"
            ]
          },
          "metadata": {},
          "execution_count": 18
        }
      ]
    },
    {
      "cell_type": "code",
      "metadata": {
        "id": "MbbxMbJfJzvs"
      },
      "source": [
        "new_loop = asyncio.get_event_loop()\n",
        "_htmls = new_loop.run_until_complete(asyncio.gather(scrap(urls)))\n",
        "htmls = _htmls[0]"
      ],
      "execution_count": null,
      "outputs": []
    },
    {
      "cell_type": "code",
      "metadata": {
        "id": "DHjde77xKCKG",
        "colab": {
          "base_uri": "https://localhost:8080/"
        },
        "outputId": "57387fa2-6aca-4c7f-e41f-097dd0e4e004"
      },
      "source": [
        "len(htmls)"
      ],
      "execution_count": null,
      "outputs": [
        {
          "output_type": "execute_result",
          "data": {
            "text/plain": [
              "233"
            ]
          },
          "metadata": {},
          "execution_count": 32
        }
      ]
    },
    {
      "cell_type": "code",
      "metadata": {
        "id": "ZIWbtywGL6vR",
        "colab": {
          "base_uri": "https://localhost:8080/"
        },
        "outputId": "1dd4c86e-5888-4bc4-aafb-60a7fbd5364d"
      },
      "source": [
        "for html in htmls[0:5]:\n",
        "    print(html['html'][:150].replace('\\n', ''))"
      ],
      "execution_count": null,
      "outputs": [
        {
          "output_type": "stream",
          "name": "stdout",
          "text": [
            "<!DOCTYPE html><html lang=\"en-US\" prefix=\"og: https://ogp.me/ns#\"><head><meta charset=\"UTF-8\"><meta name=\"viewport\" content=\"width=device-width, initi\n",
            "<!DOCTYPE html><html lang=\"en-US\" class=\" js_active  vc_desktop  vc_transform  vc_transform \"><head><meta charset=\"UTF-8\"><meta name=\"viewport\" conten\n",
            "<!DOCTYPE html><html lang=\"en\"><head><script src=\"https://pagead2.googlesyndication.com/pagead/show_companion_ad.js\"></script><script async=\"\" src=\"//\n",
            "<!DOCTYPE html><html lang=\"en\"><head><script type=\"text/javascript\" async=\"\" charset=\"utf-8\" id=\"utag_641\" src=\"https://origin.acuityplatform.com/even\n",
            "<!DOCTYPE html><html lang=\"en\" class=\"wf-inactive\"><head>    <meta charset=\"UTF-8\">    <meta http-equiv=\"X-UA-Compatible\" content=\"IE=Edge\">    <me\n"
          ]
        }
      ]
    },
    {
      "cell_type": "markdown",
      "metadata": {
        "id": "TNBS7EGnMpIS"
      },
      "source": [
        "# Boilerplate clean content"
      ]
    },
    {
      "cell_type": "code",
      "metadata": {
        "id": "QPEhDs3VMq6e"
      },
      "source": [
        "def clean_text(text):\n",
        "  text_lowercase = text.lower()\n",
        "  text = re.sub(r'[^a-zA-Z0-9-.,;\\'\"\\n ]+', '', text_lowercase)    \n",
        "  text = re.sub(r'[ ]+', ' ', text)\n",
        "  return re.sub(r'[\\n]+', '\\n', text)\n",
        "\n",
        "def clean_word(word):\n",
        "  word_lowercase = word.lower()\n",
        "  return re.sub(r'[^a-zA-Z0-9-]+', '', word_lowercase)"
      ],
      "execution_count": null,
      "outputs": []
    },
    {
      "cell_type": "markdown",
      "metadata": {
        "id": "1ztr20JzRIYi"
      },
      "source": [
        "# Extract content from our data"
      ]
    },
    {
      "cell_type": "code",
      "metadata": {
        "id": "xkikAPBMRKam"
      },
      "source": [
        "ignored_tags = [\n",
        "    \"nav\",\n",
        "    \"header\",\n",
        "    \"footer\",\n",
        "    \"iframe\",\n",
        "    \"script\",\n",
        "    \"style\",\n",
        "    \"code\",\n",
        "    \"pre\",\n",
        "    \"form\",\n",
        "    \"select\",\n",
        "    \"input\",\n",
        "    \"textarea\",\n",
        "    \"video\",\n",
        "    \"object\",\n",
        "    \"svg\",\n",
        "    \"object\",\n",
        "    \"title\",\n",
        "    \"button\",\n",
        "    \"sup\",\n",
        "    \"noscript\",\n",
        "    \"aside\",\n",
        "    \"img\",\n",
        "    \"var\",\n",
        "    \"link\",\n",
        "]\n",
        "\n",
        "processed_serps = []\n",
        "\n",
        "for html in htmls:\n",
        "    text = ''\n",
        "\n",
        "    if html['html']:\n",
        "        soup = BeautifulSoup(html['html'], \"html.parser\")\n",
        "\n",
        "        for tag in ignored_tags:\n",
        "            x = soup.select(tag)\n",
        "            for xtag in x:\n",
        "                xtag.replace_with(' ')\n",
        "                xtag.extract()\n",
        "         \n",
        "        text = soup.body.get_text(' ')   \n",
        "        text = clean_text(text)\n",
        "\n",
        "    processed_serps.append({\n",
        "        'url': html['url'],\n",
        "        'html': html['html'],        \n",
        "        'text': text.strip()\n",
        "    })"
      ],
      "execution_count": null,
      "outputs": []
    },
    {
      "cell_type": "code",
      "metadata": {
        "id": "ci7Qw38sdBME",
        "colab": {
          "base_uri": "https://localhost:8080/"
        },
        "outputId": "5107694e-62e3-4e4a-8822-0eb79126d5a7"
      },
      "source": [
        "len(processed_serps)"
      ],
      "execution_count": null,
      "outputs": [
        {
          "output_type": "execute_result",
          "data": {
            "text/plain": [
              "233"
            ]
          },
          "metadata": {},
          "execution_count": 130
        }
      ]
    },
    {
      "cell_type": "code",
      "metadata": {
        "id": "9yF3aL0JeUBk",
        "colab": {
          "base_uri": "https://localhost:8080/"
        },
        "outputId": "3d195d5b-278a-473e-88fa-aa119257b3f2"
      },
      "source": [
        "for doc in processed_serps[0:5]:\n",
        "    print(doc['text'][:100])"
      ],
      "execution_count": null,
      "outputs": [
        {
          "output_type": "stream",
          "name": "stdout",
          "text": [
            "skip to content if you are in the market for a new coffee machine, you probably have run across a va\n",
            "sail away with windstar cruises on the ultimate treasure hunt nicole kidmans skincare revolution coc\n",
            "ie 11 is not supported. for an optimal experience visit our site on another browser. create your own\n",
            "skip to content enter \n",
            " \n",
            " \n",
            " \n",
            " skip to main content \n",
            " \n",
            " \n",
            " \n",
            " \n",
            " \n",
            " \n",
            " \n",
            " \n",
            " \n",
            " \n",
            " \n",
            " \n",
            " \n",
            " \n",
            " \n",
            " back \n",
            " \n",
            " \n",
            " \n",
            " \n",
            " \n",
            " \n",
            "we use cookies and similar technologies to run this website and help us understand how you use it.\n",
            " \n"
          ]
        }
      ]
    },
    {
      "cell_type": "markdown",
      "metadata": {
        "id": "-YS5OjCSQd0b"
      },
      "source": [
        "# Build corpus"
      ]
    },
    {
      "cell_type": "code",
      "metadata": {
        "colab": {
          "base_uri": "https://localhost:8080/"
        },
        "id": "aNzJmMcDQfTh",
        "outputId": "61f49efa-7e09-4ad5-c0f1-a4c0a9f1dff3"
      },
      "source": [
        "corpus = \"\"\n",
        "\n",
        "for doc in processed_serps:\n",
        "    corpus += doc['text'] + \"\\n\\n\"\n",
        "\n",
        "len(corpus)"
      ],
      "execution_count": null,
      "outputs": [
        {
          "output_type": "execute_result",
          "data": {
            "text/plain": [
              "3791630"
            ]
          },
          "metadata": {},
          "execution_count": 331
        }
      ]
    },
    {
      "cell_type": "code",
      "metadata": {
        "colab": {
          "base_uri": "https://localhost:8080/",
          "height": 86
        },
        "id": "r9U5TQvgQwNP",
        "outputId": "cec48adf-1ad5-45bf-dc92-90867a661ec4"
      },
      "source": [
        "corpus[:5000]"
      ],
      "execution_count": null,
      "outputs": [
        {
          "output_type": "execute_result",
          "data": {
            "application/vnd.google.colaboratory.intrinsic+json": {
              "type": "string"
            },
            "text/plain": [
              "'skip to content if you are in the market for a new coffee machine, you probably have run across a variety of breville models in your searches. although these coffee makers tend to be on the higher end of the price range, the quality you get with a breville machine usually makes it all worth it. breville coffee makers are known currently for being some of the best machines on the market for household use. even brands like nespresso have sought out collaboration with the breville brand to ensure that their machine will make a great cup of coffee every time. narrowing the list down to the best 7 wasnt an easy task as breville has a wide variety of models available but thats what we attempted to do in this list of top breville coffee makers. we pulled all the research on style of brew, quality, price, and customer reviews we could find into this easy to read guide. if youre looking to make a decision on which breville coffee machine is right for you, keep reading. in a hurry heres the cliff notes brevilles specialty is in espresso makers. our overall best-pick is the breville barista express espresso machine based on quality, popularity, and price. we love that it is a commercial-style espresso maker with a mid-range price tag. perfect for the avid coffee drinker who wants delicious quality at home while saving money from going to the coffee shop. table of contents whats so good about breville coffee makers how to choose the right breville coffee maker how we determined the best breville coffee makers 1. breville barista express espresso machine best overall machine 2. breville infuser espresso machine best value 3. breville precision brewer thermal coffee maker best drip machine 4. breville cafe roma espresso maker best simple espresso machine 5. breville vertuo coffee and espresso machine best pod machine 6. breville nespresso creatista plus coffee espresso machine best quick brew coffee maker 7. breville oracle touch fully automatic espresso machine the dream machine final verdict the best breville coffee maker final thoughts whats so good about breville coffee makers breville has a wide following in the gourmet coffee niche. the company began as the brain-child of bill obrien, a radio salesman, and harry norville, an engineer. together they founded breville in sydney in 1932, as a radio company in a time of national economic depression. the company quickly became a success through their cutting edge technology. as television began to replace radios in homes in the 1950s breville began to focus on expanding their household and kitchen appliances, including a line of coffee machines. breville continues to incorporate new and innovative ideas into their coffee makers today. they currently deliver to more than 70 countries worldwide and are well known for their quality coffee makers. i love me a nice rich tasting cup every morningsometimes with a little c8 octane to give it that bulletproof energy boost how to choose the right breville coffee maker the breville brand makes three main types of coffee makers to fit different types of lifestyles. while they are most well-known for their espresso machines, they also make drip machines and have paired with nespresso to add coffee pod machines to their line. when choosing which model is best for you, you should take into consideration the following criteria 1 size how many people will be using this breville coffee maker on a regular basis if you have several members in your household who drink coffee every morning, a drip machine that brews one pot for everyone may be the way to go. if you are looking for a quick cup that will get you started before you head to work each morning, you may be interested in an espresso machine or pod machine to make a quick individual cup. criteria 2 quality before investing in a machine from any brand, it can be a great idea to read review articles and customer reviews. this can help you to weigh the pros and cons of different coffee makers and be able to make the right choice for your needs. after pouring through reviews, its clear breville is widely-known for its quality machines that make a great-tasting cup of coffee. quality materials like stainless steel, and performance metrics temperature, water pressure, time of brew, etc. are also top notch in most breville coffee makers as you will see in our list below. criteria 3 taste what type of taste are you looking for in your perfect cup of coffee do you enjoy an american-style long coffee, a rich espresso, or enjoy a pod machine that offers both if you love the taste of an espresso, you may not be happy with a drip method even though it might fit easier in the budget. inversely, if you enjoy an american-style brew, it may not be worth spending the extra money for a higher performing espresso machine.decisions decisions criteria 4 price although many breville coffee makers can be at the top end of most budgets, the quality they offer may pay off in the end. prioritize which features '"
            ]
          },
          "metadata": {},
          "execution_count": 332
        }
      ]
    },
    {
      "cell_type": "markdown",
      "metadata": {
        "id": "I6Bys8BvRMoP"
      },
      "source": [
        "# Find top terms using Word2Vec"
      ]
    },
    {
      "cell_type": "code",
      "metadata": {
        "id": "tO0-wcicRW5E"
      },
      "source": [
        "sentences_list = nltk.sent_tokenize(corpus)"
      ],
      "execution_count": null,
      "outputs": []
    },
    {
      "cell_type": "code",
      "metadata": {
        "id": "ZznYoQiEUTXs"
      },
      "source": [
        "sentences = []\n",
        "PUNCT = list(string.punctuation)\n",
        "STOP_WORDS = set([\"its\", \"from\", \"also\", \"not\", \"all\", \"am\", \"an\", \"and\", \"another\", \"any\", \"are\", \"as\", \"at\", \"be\", \"been\", \"being\", \"but\", \"by\", \"came\", \"can\", \"come\", \"did\", \"do\", \"for\", \"get\", \"got\", \"has\", \"had\", \"he\", \"have\", \"her\", \"here\", \"him\", \"himself\", \"his\", \"how\", \"if\", \"in\", \"into\", \"is\", \"it\", \"like\", \"me\", \"my\", \"of\", \"on\", \"or\", \"other\", \"our\", \"out\", \"over\", \"see\", \"still\", \"such\", \"take\", \"than\", \"that\", \"the\", \"their\", \"them\", \"then\", \"there\", \"these\", \"they\", \"this\", \"those\", \"through\", \"to\", \"too\", \"up\", \"was\", \"way\", \"we\", \"well\", \"while\", \"with\", \"would\", \"you\", \"your\", \"a\", \"i\", \"will\", \"com\", \"may\", \"every\", \"using\", \"just\", \"need\", \"want\", \"years\", \"great\", \"good\", \"privacy\", \"next\", \"know\", \"found\", \"add\", \"even\", \"use\", \"one\", \"something\", \"choice\", \"some\", \"more\", \"away\", \"really\", \"put\", \"instead\", \"start\"])\n",
        "\n",
        "for sent in sentences_list:\n",
        "  clean_words = []\n",
        "  words = nltk.word_tokenize(sent)\n",
        "\n",
        "  for word in words:\n",
        "      w = clean_word(word)\n",
        "      if w and len(w) > 1 and not w.isdigit() and w not in PUNCT and w not in STOP_WORDS:\n",
        "          clean_words.append(w)\n",
        "\n",
        "  if len(clean_words) > 2:\n",
        "      sentences.append(clean_words)"
      ],
      "execution_count": null,
      "outputs": []
    },
    {
      "cell_type": "code",
      "metadata": {
        "colab": {
          "base_uri": "https://localhost:8080/"
        },
        "id": "xEzUGRYdUtCk",
        "outputId": "2f597a57-76b6-4c8e-e30b-b4fc4b4220ae"
      },
      "source": [
        "len(sentences)"
      ],
      "execution_count": null,
      "outputs": [
        {
          "output_type": "execute_result",
          "data": {
            "text/plain": [
              "23758"
            ]
          },
          "metadata": {},
          "execution_count": 335
        }
      ]
    },
    {
      "cell_type": "code",
      "metadata": {
        "colab": {
          "base_uri": "https://localhost:8080/"
        },
        "id": "pwZIWEV9UuFV",
        "outputId": "d3ef3e05-02c5-466d-c057-d5ae3b37a449"
      },
      "source": [
        "[\" \".join(sent) for sent in sentences[0:10]]"
      ],
      "execution_count": null,
      "outputs": [
        {
          "output_type": "execute_result",
          "data": {
            "text/plain": [
              "['skip content market new coffee machine probably run across variety breville models searches',\n",
              " 'although coffee makers tend higher end price range quality breville machine usually makes worth',\n",
              " 'breville coffee makers known currently best machines market household',\n",
              " 'brands nespresso sought collaboration breville brand ensure machine make cup coffee time',\n",
              " 'narrowing list down best wasnt easy task breville wide variety models available thats what attempted list top breville coffee makers',\n",
              " 'pulled research style brew quality price customer reviews could find easy read guide',\n",
              " 'youre looking make decision which breville coffee machine right keep reading',\n",
              " 'hurry heres cliff notes brevilles specialty espresso makers',\n",
              " 'overall best-pick breville barista express espresso machine based quality popularity price',\n",
              " 'love commercial-style espresso maker mid-range price tag']"
            ]
          },
          "metadata": {},
          "execution_count": 336
        }
      ]
    },
    {
      "cell_type": "code",
      "metadata": {
        "colab": {
          "base_uri": "https://localhost:8080/"
        },
        "id": "u9RBAKBzVWvg",
        "outputId": "e98b5fa0-9f93-465d-b36c-f71fc1487d2c"
      },
      "source": [
        "MIN_WORD_COUNT = 5\n",
        "bigram = Phrases(sentences, min_count=MIN_WORD_COUNT, threshold=MIN_WORD_COUNT, common_terms=STOP_WORDS)\n",
        "bigram_model = Phraser(bigram)\n",
        "trigram = Phrases(bigram[sentences], min_count=MIN_WORD_COUNT, threshold=10, common_terms=STOP_WORDS)\n",
        "trigram_model = Phraser(trigram)\n",
        "phraser = trigram_model[bigram_model[sentences]]"
      ],
      "execution_count": null,
      "outputs": [
        {
          "output_type": "stream",
          "name": "stderr",
          "text": [
            "/usr/local/lib/python3.7/dist-packages/gensim/models/phrases.py:598: UserWarning: For a faster implementation, use the gensim.models.phrases.Phraser class\n",
            "  warnings.warn(\"For a faster implementation, use the gensim.models.phrases.Phraser class\")\n"
          ]
        }
      ]
    },
    {
      "cell_type": "code",
      "metadata": {
        "colab": {
          "base_uri": "https://localhost:8080/"
        },
        "id": "b4EaEoBwV7yM",
        "outputId": "bbe5f717-4109-4d24-db91-d5f57a7d79f7"
      },
      "source": [
        "trigram_model['skip content market new coffee machine probably run across variety breville models searches'.split()]"
      ],
      "execution_count": null,
      "outputs": [
        {
          "output_type": "execute_result",
          "data": {
            "text/plain": [
              "['skip_content',\n",
              " 'market',\n",
              " 'new',\n",
              " 'coffee',\n",
              " 'machine',\n",
              " 'probably',\n",
              " 'run',\n",
              " 'across',\n",
              " 'variety',\n",
              " 'breville',\n",
              " 'models',\n",
              " 'searches']"
            ]
          },
          "metadata": {},
          "execution_count": 338
        }
      ]
    },
    {
      "cell_type": "code",
      "metadata": {
        "id": "fuaqF9MHWEMV"
      },
      "source": [
        "def most_frequent_words(phraser, sents, num, min_word_len=1, max_word_len=1):\n",
        "    if max_word_len < min_word_len:\n",
        "        max_word_len = min_word_len\n",
        "\n",
        "    word_freq = defaultdict(int)\n",
        "\n",
        "    for sent in phraser[sents]:\n",
        "        for i in sent:\n",
        "            _len = len(i.split(\"_\"))\n",
        "            if i not in STOP_WORDS and _len >= min_word_len and _len <= max_word_len:\n",
        "              word_freq[i] += 1\n",
        "    \n",
        "    words = []\n",
        "    for k in sorted(word_freq, key=word_freq.get, reverse=True)[:num]:        \n",
        "      words.append(k)\n",
        "        \n",
        "    return words\n",
        "\n",
        "\n",
        "def less_frequent_words(phraser, sents, num, min_word_len=1, max_word_len=1):\n",
        "    if max_word_len < min_word_len:\n",
        "        max_word_len = min_word_len\n",
        "\n",
        "    word_freq = defaultdict(int)\n",
        "\n",
        "    for sent in phraser[sents]:\n",
        "        for i in sent:\n",
        "            _len = len(i.split(\"_\"))\n",
        "            if i not in STOP_WORDS and _len >= min_word_len and _len <= max_word_len:\n",
        "              word_freq[i] += 1\n",
        "    \n",
        "    words = []\n",
        "    for k in sorted(word_freq, key=word_freq.get)[:num]:        \n",
        "      words.append(k)\n",
        "        \n",
        "    return words"
      ],
      "execution_count": null,
      "outputs": []
    },
    {
      "cell_type": "code",
      "metadata": {
        "colab": {
          "base_uri": "https://localhost:8080/"
        },
        "id": "fki-LFoDWRW6",
        "outputId": "5659c211-8825-4695-ba4f-944c68c189eb"
      },
      "source": [
        "most_frequent_words(trigram_model, sentences, 10, 1)"
      ],
      "execution_count": null,
      "outputs": [
        {
          "output_type": "execute_result",
          "data": {
            "text/plain": [
              "['coffee',\n",
              " 'machine',\n",
              " 'best',\n",
              " 'its',\n",
              " 'from',\n",
              " 'machines',\n",
              " 'brew',\n",
              " 'espresso',\n",
              " 'make',\n",
              " 'so']"
            ]
          },
          "metadata": {},
          "execution_count": 340
        }
      ]
    },
    {
      "cell_type": "code",
      "metadata": {
        "colab": {
          "base_uri": "https://localhost:8080/"
        },
        "id": "j_s-qn3PWF9B",
        "outputId": "7c722cf9-f145-492f-bbcc-a48ddbd0bd3b"
      },
      "source": [
        "most_frequent_words(trigram_model, sentences, 10, 2)"
      ],
      "execution_count": null,
      "outputs": [
        {
          "output_type": "execute_result",
          "data": {
            "text/plain": [
              "['coffee_maker',\n",
              " 'coffee_makers',\n",
              " 'espresso_machine',\n",
              " 'drip_coffee',\n",
              " 'espresso_machines',\n",
              " 'stainless_steel',\n",
              " 'cold_brew',\n",
              " 'water_tank',\n",
              " 'french_press',\n",
              " 'mr_coffee']"
            ]
          },
          "metadata": {},
          "execution_count": 341
        }
      ]
    },
    {
      "cell_type": "code",
      "metadata": {
        "colab": {
          "base_uri": "https://localhost:8080/"
        },
        "id": "gR5UxuXThLRr",
        "outputId": "2c3d681c-3a3a-474f-94cb-6a13e2c181de"
      },
      "source": [
        "most_frequent_words(trigram_model, sentences, 10, 1, 3)"
      ],
      "execution_count": null,
      "outputs": [
        {
          "output_type": "execute_result",
          "data": {
            "text/plain": [
              "['coffee',\n",
              " 'machine',\n",
              " 'best',\n",
              " 'coffee_maker',\n",
              " 'its',\n",
              " 'from',\n",
              " 'machines',\n",
              " 'brew',\n",
              " 'espresso',\n",
              " 'make']"
            ]
          },
          "metadata": {},
          "execution_count": 342
        }
      ]
    },
    {
      "cell_type": "code",
      "metadata": {
        "colab": {
          "base_uri": "https://localhost:8080/"
        },
        "id": "DqWMeUI7BsZs",
        "outputId": "58ec2911-d7a0-4c8b-b766-bd3b3865b977"
      },
      "source": [
        "less_frequent_words(trigram_model, sentences, 10, 2, 3)"
      ],
      "execution_count": null,
      "outputs": [
        {
          "output_type": "execute_result",
          "data": {
            "text/plain": [
              "['permanent_weight',\n",
              " 'capacity_15l',\n",
              " 'tank_size',\n",
              " 'lbs_dimensions',\n",
              " 'advertising_partners',\n",
              " 'share_review',\n",
              " 'recipe_taste',\n",
              " 'immediately_after',\n",
              " 'top_notch',\n",
              " 'extra_money']"
            ]
          },
          "metadata": {},
          "execution_count": 713
        }
      ]
    },
    {
      "cell_type": "markdown",
      "metadata": {
        "id": "IkRXZbUZWkVl"
      },
      "source": [
        "# Train word2vec"
      ]
    },
    {
      "cell_type": "code",
      "metadata": {
        "id": "o_s2RjD2WlaZ"
      },
      "source": [
        "workers = cores - 1\n",
        "if cores == 1:\n",
        "    workers = 1\n",
        "\n",
        "w2v_model = Word2Vec(\n",
        "    size=300,    \n",
        "    min_count=10,\n",
        "    workers=workers,    \n",
        ")"
      ],
      "execution_count": null,
      "outputs": []
    },
    {
      "cell_type": "code",
      "metadata": {
        "id": "pX_z4wdWWnVX"
      },
      "source": [
        "w2v_model.build_vocab(phraser)"
      ],
      "execution_count": null,
      "outputs": []
    },
    {
      "cell_type": "code",
      "metadata": {
        "colab": {
          "base_uri": "https://localhost:8080/"
        },
        "id": "kQm_UCvFWouN",
        "outputId": "e0e7c850-f506-4085-f5e8-d58c1d5f8f57"
      },
      "source": [
        "len(w2v_model.wv.vocab)"
      ],
      "execution_count": null,
      "outputs": [
        {
          "output_type": "execute_result",
          "data": {
            "text/plain": [
              "4705"
            ]
          },
          "metadata": {},
          "execution_count": 345
        }
      ]
    },
    {
      "cell_type": "code",
      "metadata": {
        "colab": {
          "base_uri": "https://localhost:8080/"
        },
        "id": "jNc5kU1IWqGT",
        "outputId": "7b702c28-edf5-4030-ce90-eb6db80d3401"
      },
      "source": [
        "W2V_EPOCHS = 100\n",
        "w2v_model.train(sentences, total_examples=w2v_model.corpus_count, epochs=W2V_EPOCHS)"
      ],
      "execution_count": null,
      "outputs": [
        {
          "output_type": "execute_result",
          "data": {
            "text/plain": [
              "(28342339, 36253900)"
            ]
          },
          "metadata": {},
          "execution_count": 346
        }
      ]
    },
    {
      "cell_type": "code",
      "metadata": {
        "colab": {
          "base_uri": "https://localhost:8080/"
        },
        "id": "8bsS8IyrWtyq",
        "outputId": "29433fa9-a075-4bb0-9434-6b4db18259b2"
      },
      "source": [
        "w2v_model.wv.most_similar('cold', topn=25)"
      ],
      "execution_count": null,
      "outputs": [
        {
          "output_type": "execute_result",
          "data": {
            "text/plain": [
              "[('iced', 0.38119179010391235),\n",
              " ('chilled', 0.3725557029247284),\n",
              " ('cold-brew', 0.3573971390724182),\n",
              " ('teas', 0.34585633873939514),\n",
              " ('nitro', 0.33581990003585815),\n",
              " ('ice', 0.3260946571826935),\n",
              " ('takeya', 0.3079642951488495),\n",
              " ('immersion', 0.29491913318634033),\n",
              " ('tea', 0.270686537027359),\n",
              " ('sense', 0.26305004954338074),\n",
              " ('macchiatos', 0.2551197409629822),\n",
              " ('chefman', 0.2483024150133133),\n",
              " ('simultaneously', 0.2434234619140625),\n",
              " ('versatile', 0.23928570747375488),\n",
              " ('tasty', 0.23782579600811005),\n",
              " ('winter', 0.2366950958967209),\n",
              " ('lattes', 0.2361886203289032),\n",
              " ('cocoa', 0.23310387134552002),\n",
              " ('batches', 0.23252655565738678),\n",
              " ('concentrated', 0.22989211976528168),\n",
              " ('concentrate', 0.2296440601348877),\n",
              " ('cocktail', 0.22740352153778076),\n",
              " ('deluxe', 0.22404111921787262),\n",
              " ('mild', 0.22190113365650177),\n",
              " ('overnight', 0.22160758078098297)]"
            ]
          },
          "metadata": {},
          "execution_count": 347
        }
      ]
    },
    {
      "cell_type": "markdown",
      "metadata": {
        "id": "1_UoDit_Xd3Q"
      },
      "source": [
        "# Plot"
      ]
    },
    {
      "cell_type": "code",
      "metadata": {
        "id": "1ugxSpafXfuh"
      },
      "source": [
        "vocab = w2v_model.wv.vocab\n",
        "X = w2v_model.wv[vocab]"
      ],
      "execution_count": null,
      "outputs": []
    },
    {
      "cell_type": "code",
      "metadata": {
        "id": "I62y-xxrX0yU"
      },
      "source": [
        "tsne = TSNE(n_components=2)\n",
        "X_tsne = tsne.fit_transform(X)"
      ],
      "execution_count": null,
      "outputs": []
    },
    {
      "cell_type": "code",
      "metadata": {
        "colab": {
          "base_uri": "https://localhost:8080/",
          "height": 204
        },
        "id": "MlHgr3Y9YqOZ",
        "outputId": "7d454a52-15d1-49b0-e73c-07e9d2a81cd2"
      },
      "source": [
        "df = pd.DataFrame(X_tsne, index=vocab, columns=['x', 'y'])\n",
        "df.head()"
      ],
      "execution_count": null,
      "outputs": [
        {
          "output_type": "execute_result",
          "data": {
            "text/html": [
              "<div>\n",
              "<style scoped>\n",
              "    .dataframe tbody tr th:only-of-type {\n",
              "        vertical-align: middle;\n",
              "    }\n",
              "\n",
              "    .dataframe tbody tr th {\n",
              "        vertical-align: top;\n",
              "    }\n",
              "\n",
              "    .dataframe thead th {\n",
              "        text-align: right;\n",
              "    }\n",
              "</style>\n",
              "<table border=\"1\" class=\"dataframe\">\n",
              "  <thead>\n",
              "    <tr style=\"text-align: right;\">\n",
              "      <th></th>\n",
              "      <th>x</th>\n",
              "      <th>y</th>\n",
              "    </tr>\n",
              "  </thead>\n",
              "  <tbody>\n",
              "    <tr>\n",
              "      <th>skip_content</th>\n",
              "      <td>-0.600650</td>\n",
              "      <td>-0.124410</td>\n",
              "    </tr>\n",
              "    <tr>\n",
              "      <th>market</th>\n",
              "      <td>-1.388200</td>\n",
              "      <td>-1.278297</td>\n",
              "    </tr>\n",
              "    <tr>\n",
              "      <th>new</th>\n",
              "      <td>-0.810552</td>\n",
              "      <td>-1.639891</td>\n",
              "    </tr>\n",
              "    <tr>\n",
              "      <th>coffee</th>\n",
              "      <td>1.542854</td>\n",
              "      <td>-5.186934</td>\n",
              "    </tr>\n",
              "    <tr>\n",
              "      <th>machine</th>\n",
              "      <td>0.355683</td>\n",
              "      <td>-5.251471</td>\n",
              "    </tr>\n",
              "  </tbody>\n",
              "</table>\n",
              "</div>"
            ],
            "text/plain": [
              "                     x         y\n",
              "skip_content -0.600650 -0.124410\n",
              "market       -1.388200 -1.278297\n",
              "new          -0.810552 -1.639891\n",
              "coffee        1.542854 -5.186934\n",
              "machine       0.355683 -5.251471"
            ]
          },
          "metadata": {},
          "execution_count": 216
        }
      ]
    },
    {
      "cell_type": "code",
      "metadata": {
        "colab": {
          "base_uri": "https://localhost:8080/",
          "height": 265
        },
        "id": "dXkLKDc2YD77",
        "outputId": "61e00d89-b7b5-4ce5-ec23-52ab1b2f462e"
      },
      "source": [
        "fig = plt.figure()\n",
        "\n",
        "ax = fig.add_subplot(1, 1, 1)\n",
        "ax.scatter(df['x'], df['y'])\n",
        "\n",
        "for word, pos in df.iterrows():\n",
        "    ax.annotate(word, pos)\n",
        "\n",
        "plt.show()"
      ],
      "execution_count": null,
      "outputs": [
        {
          "output_type": "display_data",
          "data": {
            "image/png": "[encoded data removed]",
            "text/plain": [
              "<Figure size 432x288 with 1 Axes>"
            ]
          },
          "metadata": {
            "needs_background": "light"
          }
        }
      ]
    },
    {
      "cell_type": "code",
      "metadata": {
        "id": "Rm69HvQAaDOH"
      },
      "source": [
        "# https://stackoverflow.com/questions/56076714/gensim-plot-list-of-words-from-a-word2vec-model\n",
        "def display_wordlist(model, wordlist):\n",
        "    vectors = [model[word] for word in wordlist if word in model.wv.vocab.keys()]\n",
        "    word_labels = [word for word in wordlist if word in model.wv.vocab.keys()]\n",
        "    word_vec_zip = zip(word_labels, vectors)\n",
        "\n",
        "    # Convert to a dict and then to a DataFrame\n",
        "    word_vec_dict = dict(word_vec_zip)\n",
        "    df = pd.DataFrame.from_dict(word_vec_dict, orient='index')\n",
        "\n",
        "    # Use tsne to reduce to 2 dimensions\n",
        "    tsne = TSNE(perplexity=65,n_components=2, random_state=0)\n",
        "    np.set_printoptions(suppress=True)\n",
        "    Y = tsne.fit_transform(df)\n",
        "\n",
        "    x_coords = Y[:, 0]\n",
        "    y_coords = Y[:, 1]\n",
        "\n",
        "    # display plot\n",
        "    plt.figure(figsize=(16, 8)) \n",
        "    plt.plot(x_coords, y_coords, 'ro')\n",
        "\n",
        "    for label, x, y in zip(df.index, x_coords, y_coords):\n",
        "        plt.annotate(label, xy=(x, y), xytext=(5, 2), textcoords='offset points')\n",
        "        \n",
        "    plt.xlim(x_coords.min()+0.00005, x_coords.max()+0.00005)\n",
        "    plt.ylim(y_coords.min()+0.00005, y_coords.max()+0.00005)\n",
        "    plt.show()"
      ],
      "execution_count": null,
      "outputs": []
    },
    {
      "cell_type": "code",
      "metadata": {
        "colab": {
          "base_uri": "https://localhost:8080/",
          "height": 527
        },
        "id": "8WXih8_jaES3",
        "outputId": "19c8d084-d00d-4ccb-f9ee-30fd276aea05"
      },
      "source": [
        "words = [word[0] for word in w2v_model.wv.most_similar('cold', topn=15)]\n",
        "display_wordlist(w2v_model, words)"
      ],
      "execution_count": null,
      "outputs": [
        {
          "output_type": "stream",
          "name": "stderr",
          "text": [
            "/usr/local/lib/python3.7/dist-packages/ipykernel_launcher.py:3: DeprecationWarning: Call to deprecated `__getitem__` (Method will be removed in 4.0.0, use self.wv.__getitem__() instead).\n",
            "  This is separate from the ipykernel package so we can avoid doing imports until\n"
          ]
        },
        {
          "output_type": "display_data",
          "data": {
            "image/png": "[encoded data removed]",
            "text/plain": [
              "<Figure size 1152x576 with 1 Axes>"
            ]
          },
          "metadata": {
            "needs_background": "light"
          }
        }
      ]
    },
    {
      "cell_type": "markdown",
      "metadata": {
        "id": "GWvWxgylcgFj"
      },
      "source": [
        "# Save model and load with spacy"
      ]
    },
    {
      "cell_type": "code",
      "metadata": {
        "id": "4lJZQvvvciMh"
      },
      "source": [
        "model_pathname = f'{BASE_PATH}/spacy.word2vec.txt'\n",
        "model_pathname_gzip = f'{BASE_PATH}/spacy.word2vec.txt.gz'\n",
        "model_pathname_spacy = f'{BASE_PATH}/spacy.word2vec.model'\n",
        "w2v_model.wv.save_word2vec_format(model_pathname)"
      ],
      "execution_count": null,
      "outputs": []
    },
    {
      "cell_type": "code",
      "metadata": {
        "colab": {
          "base_uri": "https://localhost:8080/",
          "height": 35
        },
        "id": "3KwuP7XedZAc",
        "outputId": "365d8e18-0f12-4c23-8742-09da7439fc62"
      },
      "source": [
        "model_pathname"
      ],
      "execution_count": null,
      "outputs": [
        {
          "output_type": "execute_result",
          "data": {
            "application/vnd.google.colaboratory.intrinsic+json": {
              "type": "string"
            },
            "text/plain": [
              "'/content/drive/MyDrive/seosecretlab/coffee machine/spacy.word2vec.txt'"
            ]
          },
          "metadata": {},
          "execution_count": 231
        }
      ]
    },
    {
      "cell_type": "code",
      "metadata": {
        "id": "gPeSAeXbcw2q"
      },
      "source": [
        "!gzip \"$model_pathname\""
      ],
      "execution_count": null,
      "outputs": []
    },
    {
      "cell_type": "code",
      "metadata": {
        "colab": {
          "base_uri": "https://localhost:8080/"
        },
        "id": "bx9AwiDTdAWm",
        "outputId": "409b2b97-3e6b-4e83-9b5e-9a2e4ce2a68c"
      },
      "source": [
        "!python3 -m spacy init-model en \"$model_pathname_spacy\" --vectors-loc \"$model_pathname_gzip\""
      ],
      "execution_count": null,
      "outputs": [
        {
          "output_type": "stream",
          "name": "stdout",
          "text": [
            "/usr/local/lib/python3.7/dist-packages/requests/__init__.py:91: RequestsDependencyWarning: urllib3 (1.26.6) or chardet (3.0.4) doesn't match a supported version!\n",
            "  RequestsDependencyWarning)\n",
            "\u001b[2K\u001b[38;5;2m✔ Successfully created model\u001b[0m\n",
            "4705it [00:00, 8744.55it/s]\n",
            "\u001b[2K\u001b[38;5;2m✔ Loaded vectors from /content/drive/MyDrive/seosecretlab/coffee\n",
            "machine/spacy.word2vec.txt.gz\u001b[0m\n",
            "\u001b[38;5;2m✔ Sucessfully compiled vocab\u001b[0m\n",
            "5162 entries, 4705 vectors\n"
          ]
        }
      ]
    },
    {
      "cell_type": "markdown",
      "metadata": {
        "id": "e0wfTwcbdheR"
      },
      "source": [
        "# Plot with Spacy"
      ]
    },
    {
      "cell_type": "code",
      "metadata": {
        "id": "LrrQYIokdjX2"
      },
      "source": [
        "nlp = spacy.load(model_pathname_spacy)"
      ],
      "execution_count": null,
      "outputs": []
    },
    {
      "cell_type": "code",
      "metadata": {
        "id": "FSANVhL5dvGo"
      },
      "source": [
        "spacy_word1 = nlp.vocab['coffee']\n",
        "spacy_word2 = nlp.vocab['brew']\n",
        "spacy_word3 = nlp.vocab['cheese']\n",
        "spacy_word4 = nlp.vocab['cold']\n",
        "spacy_word5 = nlp.vocab['cold-brew']"
      ],
      "execution_count": null,
      "outputs": []
    },
    {
      "cell_type": "code",
      "metadata": {
        "colab": {
          "base_uri": "https://localhost:8080/"
        },
        "id": "cdeAflR_eJtm",
        "outputId": "89206c7b-5ac6-4d08-f29d-2c862f663a7c"
      },
      "source": [
        "spacy_word1.similarity(spacy_word1)"
      ],
      "execution_count": null,
      "outputs": [
        {
          "output_type": "execute_result",
          "data": {
            "text/plain": [
              "1.0"
            ]
          },
          "metadata": {},
          "execution_count": 254
        }
      ]
    },
    {
      "cell_type": "code",
      "metadata": {
        "colab": {
          "base_uri": "https://localhost:8080/"
        },
        "id": "jgaC1oG9eD_o",
        "outputId": "ee5472bb-77c0-4de6-fff9-0ed56454d153"
      },
      "source": [
        "spacy_word1.similarity(spacy_word2)"
      ],
      "execution_count": null,
      "outputs": [
        {
          "output_type": "execute_result",
          "data": {
            "text/plain": [
              "0.45522588"
            ]
          },
          "metadata": {},
          "execution_count": 255
        }
      ]
    },
    {
      "cell_type": "code",
      "metadata": {
        "colab": {
          "base_uri": "https://localhost:8080/"
        },
        "id": "TaNYMqbaeGZW",
        "outputId": "c22330e5-aaa9-407d-82ae-74a12bb703ff"
      },
      "source": [
        "spacy_word1.similarity(spacy_word3)"
      ],
      "execution_count": null,
      "outputs": [
        {
          "output_type": "execute_result",
          "data": {
            "text/plain": [
              "-0.13083689"
            ]
          },
          "metadata": {},
          "execution_count": 256
        }
      ]
    },
    {
      "cell_type": "code",
      "metadata": {
        "id": "8abxxI4AeT6Z"
      },
      "source": [
        "def most_similar_spacy(word, topn=10):\n",
        "    allwords = [w for w in nlp.vocab if w.has_vector and w.is_lower and w.lower_ != word.lower_]\n",
        "    by_similarity = sorted(allwords, key=lambda w: word.similarity(w), reverse=True)\n",
        "    return by_similarity[:topn]"
      ],
      "execution_count": null,
      "outputs": []
    },
    {
      "cell_type": "code",
      "metadata": {
        "colab": {
          "base_uri": "https://localhost:8080/"
        },
        "id": "-SoagsSreWDt",
        "outputId": "4766d5d4-6176-407b-89fe-02ec22dd874f"
      },
      "source": [
        "[w.text for w in most_similar_spacy(spacy_word1)]"
      ],
      "execution_count": null,
      "outputs": [
        {
          "output_type": "execute_result",
          "data": {
            "text/plain": [
              "['espresso',\n",
              " 'brew',\n",
              " 'from',\n",
              " 'cup',\n",
              " 'which',\n",
              " 'so',\n",
              " 'machine',\n",
              " 'best',\n",
              " 'its',\n",
              " 'make']"
            ]
          },
          "metadata": {},
          "execution_count": 260
        }
      ]
    },
    {
      "cell_type": "code",
      "metadata": {
        "colab": {
          "base_uri": "https://localhost:8080/",
          "height": 266
        },
        "id": "D2mMUaFweuur",
        "outputId": "9c90527b-77e2-4325-ae9e-60f518555740"
      },
      "source": [
        "tsne_model = TSNE(n_components=2)\n",
        "data = np.array([spacy_word1.vector, spacy_word2.vector, spacy_word3.vector, spacy_word4.vector, spacy_word5.vector])\n",
        "data_2d = tsne_model.fit_transform(data)\n",
        "\n",
        "labels = ['coffee', 'brew', 'cheese', 'cold', 'cold-brew']\n",
        "\n",
        "plt.scatter(data_2d[:, 0], data_2d[:, 1], s=100)\n",
        "\n",
        "for i, txt in enumerate(labels):\n",
        "    plt.annotate(txt, (data_2d[i,0], data_2d[i,1]), xytext=(2, 3), textcoords='offset points')\n",
        "\n",
        "plt.show()"
      ],
      "execution_count": null,
      "outputs": [
        {
          "output_type": "display_data",
          "data": {
            "image/png": "[encoded data removed]",
            "text/plain": [
              "<Figure size 432x288 with 1 Axes>"
            ]
          },
          "metadata": {
            "needs_background": "light"
          }
        }
      ]
    },
    {
      "cell_type": "markdown",
      "metadata": {
        "id": "tMsSMy87gozw"
      },
      "source": [
        "# Build a list of popular words"
      ]
    },
    {
      "cell_type": "code",
      "metadata": {
        "colab": {
          "base_uri": "https://localhost:8080/"
        },
        "id": "-Q4oA9_Egspw",
        "outputId": "202f91c1-4326-4a2c-a9a6-efe66aa17282"
      },
      "source": [
        "popular = most_frequent_words(trigram_model, sentences, 25, 1, 3)\n",
        "popular[:10]"
      ],
      "execution_count": null,
      "outputs": [
        {
          "output_type": "execute_result",
          "data": {
            "text/plain": [
              "['coffee',\n",
              " 'machine',\n",
              " 'best',\n",
              " 'coffee_maker',\n",
              " 'machines',\n",
              " 'brew',\n",
              " 'espresso',\n",
              " 'make',\n",
              " 'so',\n",
              " 'cup']"
            ]
          },
          "metadata": {},
          "execution_count": 698
        }
      ]
    },
    {
      "cell_type": "code",
      "metadata": {
        "colab": {
          "base_uri": "https://localhost:8080/"
        },
        "id": "AYZvkbEE8st0",
        "outputId": "d2e684bf-859d-462e-8a80-f57eeb0dbca9"
      },
      "source": [
        "unpopular = less_frequent_words(trigram_model, sentences, 25, 1, 3)\n",
        "unpopular[:10]"
      ],
      "execution_count": null,
      "outputs": [
        {
          "output_type": "execute_result",
          "data": {
            "text/plain": [
              "['sought',\n",
              " 'narrowing',\n",
              " 'cliff',\n",
              " 'best-pick',\n",
              " 'brain-child',\n",
              " 'salesman',\n",
              " 'harry',\n",
              " 'norville',\n",
              " 'sydney',\n",
              " 'radios']"
            ]
          },
          "metadata": {},
          "execution_count": 699
        }
      ]
    },
    {
      "cell_type": "markdown",
      "metadata": {
        "id": "tZnZoR6DRXJA"
      },
      "source": [
        "# Calculate word counts (first keyword only)"
      ]
    },
    {
      "cell_type": "code",
      "metadata": {
        "id": "D005VuVflPMG"
      },
      "source": [
        "def count_in_content(word, content):\n",
        "    return sum(1 for _ in re.finditer(r'\\b%s\\b' % re.escape(word.replace('_', ' ')), content))"
      ],
      "execution_count": null,
      "outputs": []
    },
    {
      "cell_type": "code",
      "metadata": {
        "colab": {
          "base_uri": "https://localhost:8080/",
          "height": 35
        },
        "id": "kx93lNZDsINR",
        "outputId": "e471836b-6858-440e-e3b2-4401a1a2dc15"
      },
      "source": [
        "current = results[0]\n",
        "current_keyword = current[0]['keyword']\n",
        "current_keyword"
      ],
      "execution_count": null,
      "outputs": [
        {
          "output_type": "execute_result",
          "data": {
            "application/vnd.google.colaboratory.intrinsic+json": {
              "type": "string"
            },
            "text/plain": [
              "'coffee machine recommendations'"
            ]
          },
          "metadata": {},
          "execution_count": 701
        }
      ]
    },
    {
      "cell_type": "code",
      "metadata": {
        "id": "Gu3muKO_-N77"
      },
      "source": [
        "current_keyword_urls = []\n",
        "\n",
        "for serp in current:\n",
        "    if serp['type'] == 'organic':\n",
        "        current_keyword_urls.append(serp['url'])    "
      ],
      "execution_count": null,
      "outputs": []
    },
    {
      "cell_type": "code",
      "metadata": {
        "id": "h-KyQE_KtpGL"
      },
      "source": [
        "counts_by_url = dict()\n",
        "\n",
        "for serp in processed_serps:    \n",
        "    counts_by_url[serp['url']] = dict()\n",
        "    for word in all_words:\n",
        "        counts_by_url[serp['url']][word] = count_in_content(word, serp['text'])"
      ],
      "execution_count": null,
      "outputs": []
    },
    {
      "cell_type": "code",
      "metadata": {
        "colab": {
          "base_uri": "https://localhost:8080/"
        },
        "id": "pODNKg5suMQt",
        "outputId": "4011ffff-88f8-41df-bc41-52896050f5aa"
      },
      "source": [
        "counts_by_url[processed_serps[0]['url']][all_words[0]]"
      ],
      "execution_count": null,
      "outputs": [
        {
          "output_type": "execute_result",
          "data": {
            "text/plain": [
              "125"
            ]
          },
          "metadata": {},
          "execution_count": 704
        }
      ]
    },
    {
      "cell_type": "markdown",
      "metadata": {
        "id": "4InyDknq0e_4"
      },
      "source": [
        "# Correlation per popular word  (first keyword only)"
      ]
    },
    {
      "cell_type": "code",
      "metadata": {
        "id": "8ac9tvImxOkE"
      },
      "source": [
        "def show_plot(w, kw, i, axs, xlim=None, max_pos=100):\n",
        "    corr_range = [x+1 for x in list(range(0, len(current_keyword_urls)))]\n",
        "\n",
        "    corr_counts = []\n",
        "    for url in current_keyword_urls:\n",
        "        corr_counts.append(counts_by_url[url][w])\n",
        "    \n",
        "    x = pd.Series(corr_range)\n",
        "    y = pd.Series(corr_counts)\n",
        "    xy = np.array([x, y])    \n",
        "\n",
        "    slope, intercept, r, p, stderr = scipy.stats.linregress(x, y)\n",
        "\n",
        "    axs[i].plot(x, y, linewidth=0, marker='s', label=w)\n",
        "    axs[i].plot(x, intercept + slope * x)\n",
        "    axs[i].set_xlabel('x')\n",
        "    axs[i].set_ylabel('y')\n",
        "    axs[i].set_title(f'{w} ({max_pos})')\n",
        "    \n",
        "    if xlim:\n",
        "        axs[i].set_xlim(xlim)\n",
        "    \n",
        "    axs[i].legend(facecolor='white')    "
      ],
      "execution_count": null,
      "outputs": []
    },
    {
      "cell_type": "code",
      "metadata": {
        "id": "GIVENS12zhr4"
      },
      "source": [
        "def plot_words_corr(words, max_pos):\n",
        "    fig, axs = plt.subplots(len(words), figsize=(4, 10))\n",
        "    fig.tight_layout()\n",
        "\n",
        "    for i, w in enumerate(words):\n",
        "        show_plot(w, current_keyword, i, axs, [0, max_pos], max_pos)\n",
        "\n",
        "    for ax in axs.flat:\n",
        "        ax.set(xlabel='position', ylabel='count')\n",
        "\n",
        "    # Hide x labels and tick labels for top plots and y ticks for right plots.\n",
        "    for ax in axs.flat:\n",
        "        ax.label_outer()\n",
        "\n",
        "    plt.show()"
      ],
      "execution_count": null,
      "outputs": []
    },
    {
      "cell_type": "code",
      "metadata": {
        "colab": {
          "base_uri": "https://localhost:8080/"
        },
        "id": "f5yC7Cao51wA",
        "outputId": "65817b60-5b17-4439-bf7b-8fa9725af668"
      },
      "source": [
        "_words = popular[:6] # most popular\n",
        "_words"
      ],
      "execution_count": null,
      "outputs": [
        {
          "output_type": "execute_result",
          "data": {
            "text/plain": [
              "['coffee', 'machine', 'best', 'coffee_maker', 'machines', 'brew']"
            ]
          },
          "metadata": {},
          "execution_count": 707
        }
      ]
    },
    {
      "cell_type": "code",
      "metadata": {
        "colab": {
          "base_uri": "https://localhost:8080/"
        },
        "id": "YlaNYCiY_wPc",
        "outputId": "0d7d5d20-16ce-4307-d897-7a5162c53355"
      },
      "source": [
        "words = []\n",
        "min_count = 50\n",
        "\n",
        "for _word in _words:\n",
        "    word_counts = []\n",
        "\n",
        "    for url in current_keyword_urls:\n",
        "        word_counts.append(counts_by_url[url][_word])\n",
        "    \n",
        "    if sum(word_counts) >= min_count and _word in vocab and _word not in STOP_WORDS:\n",
        "        words.append(_word)\n",
        "\n",
        "words"
      ],
      "execution_count": null,
      "outputs": [
        {
          "output_type": "execute_result",
          "data": {
            "text/plain": [
              "['coffee', 'machine', 'best', 'coffee_maker', 'machines', 'brew']"
            ]
          },
          "metadata": {},
          "execution_count": 708
        }
      ]
    },
    {
      "cell_type": "code",
      "metadata": {
        "colab": {
          "base_uri": "https://localhost:8080/",
          "height": 759
        },
        "id": "NWi6hkIA5pHM",
        "outputId": "b0bd5097-8326-4217-e88a-5b7a7f677219"
      },
      "source": [
        "plot_words_corr(words, 100)"
      ],
      "execution_count": null,
      "outputs": [
        {
          "output_type": "display_data",
          "data": {
            "image/png": "[encoded data removed]",
            "text/plain": [
              "<Figure size 288x720 with 6 Axes>"
            ]
          },
          "metadata": {}
        }
      ]
    },
    {
      "cell_type": "code",
      "metadata": {
        "colab": {
          "base_uri": "https://localhost:8080/",
          "height": 759
        },
        "id": "iHXcDfpy5y2U",
        "outputId": "2ae365c1-1344-4b90-cb48-440e5144bcee"
      },
      "source": [
        "plot_words_corr(words, 50)"
      ],
      "execution_count": null,
      "outputs": [
        {
          "output_type": "display_data",
          "data": {
            "image/png": "[encoded data removed]",
            "text/plain": [
              "<Figure size 288x720 with 6 Axes>"
            ]
          },
          "metadata": {}
        }
      ]
    },
    {
      "cell_type": "code",
      "metadata": {
        "colab": {
          "base_uri": "https://localhost:8080/",
          "height": 759
        },
        "id": "UnE9DATl6GSG",
        "outputId": "d010eb55-87a1-48f0-b6b0-d15597282edb"
      },
      "source": [
        "plot_words_corr(words, 10)"
      ],
      "execution_count": null,
      "outputs": [
        {
          "output_type": "display_data",
          "data": {
            "image/png": "[encoded data removed]",
            "text/plain": [
              "<Figure size 288x720 with 6 Axes>"
            ]
          },
          "metadata": {}
        }
      ]
    }
  ]
}