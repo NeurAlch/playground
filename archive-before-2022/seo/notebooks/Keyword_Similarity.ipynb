{
  "nbformat": 4,
  "nbformat_minor": 0,
  "metadata": {
    "colab": {
      "name": "Keyword Similarity",
      "provenance": []
    },
    "kernelspec": {
      "name": "python3",
      "display_name": "Python 3"
    }
  },
  "cells": [
    {
      "cell_type": "code",
      "metadata": {
        "colab": {
          "base_uri": "https://localhost:8080/"
        },
        "id": "-CXughjbmPZo",
        "outputId": "4f79e95f-6255-4704-a350-51e6f63513c7"
      },
      "source": [
        "!pip install jaro-winkler"
      ],
      "execution_count": null,
      "outputs": [
        {
          "output_type": "stream",
          "text": [
            "Collecting jaro-winkler\n",
            "  Downloading https://files.pythonhosted.org/packages/e1/d0/d5bf8e215501e6270292c101bf3d9736b26b0121c7a56640258605c3421f/jaro_winkler-2.0.0-py3-none-any.whl\n",
            "Installing collected packages: jaro-winkler\n",
            "Successfully installed jaro-winkler-2.0.0\n"
          ],
          "name": "stdout"
        }
      ]
    },
    {
      "cell_type": "code",
      "metadata": {
        "id": "viXSkNbimKYY"
      },
      "source": [
        "import jaro"
      ],
      "execution_count": null,
      "outputs": []
    },
    {
      "cell_type": "code",
      "metadata": {
        "colab": {
          "base_uri": "https://localhost:8080/"
        },
        "id": "FjPc5Wu5me3r",
        "outputId": "9950eb96-ed0d-42da-e603-12f26495f8e5"
      },
      "source": [
        "jaro.jaro_winkler_metric(u'avocado recipes for breakfast', u'avocado recipes for dinner')"
      ],
      "execution_count": null,
      "outputs": [
        {
          "output_type": "execute_result",
          "data": {
            "text/plain": [
              "0.9118639980708946"
            ]
          },
          "metadata": {
            "tags": []
          },
          "execution_count": 6
        }
      ]
    },
    {
      "cell_type": "code",
      "metadata": {
        "id": "lOu4dH2lmkrr",
        "colab": {
          "base_uri": "https://localhost:8080/"
        },
        "outputId": "f9f96b88-d3aa-45b9-d778-89f39b5ab666"
      },
      "source": [
        "jaro.jaro_winkler_metric(u'avocado recipes for breakfast', u'avocado snacks')"
      ],
      "execution_count": null,
      "outputs": [
        {
          "output_type": "execute_result",
          "data": {
            "text/plain": [
              "0.8375205254515599"
            ]
          },
          "metadata": {
            "tags": []
          },
          "execution_count": 7
        }
      ]
    }
  ]
}